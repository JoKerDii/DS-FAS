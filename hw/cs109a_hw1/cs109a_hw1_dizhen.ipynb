{
 "cells": [
  {
   "cell_type": "markdown",
   "metadata": {},
   "source": [
    "<h1 style=\"padding-top: 25px;padding-bottom: 25px;text-align: left; padding-left: 10px; background-color: #DDDDDD; \n",
    "    color: black;\"> <img style=\"float: left; padding-right: 10px; width: 45px\" src=\"https://raw.githubusercontent.com/Harvard-IACS/2018-CS109A/master/content/styles/iacs.png\"> CS109A Introduction to Data Science </h1>\n",
    "\n",
    "## Homework 1: Data Collection, Parsing, and Quick Analyses\n",
    "\n",
    "**Harvard University**<br/>\n",
    "**Fall 2021**<br/>\n",
    "**Instructors**: Pavlos Protopapas and Natesh Pillai<br/>\n",
    "<hr style='height:2px'>"
   ]
  },
  {
   "cell_type": "code",
   "execution_count": 1,
   "metadata": {},
   "outputs": [
    {
     "data": {
      "text/html": [
       "<style>\n",
       "blockquote { background: #AEDE94; }\n",
       "h1 {\n",
       "    padding-top: 25px;\n",
       "    padding-bottom: 25px;\n",
       "    text-align: left;\n",
       "    padding-left: 10px;\n",
       "    background-color: #63ACBE;\n",
       "    color: black;\n",
       "}\n",
       "h2 {\n",
       "    padding-top: 10px;\n",
       "    padding-bottom: 10px;\n",
       "    text-align: left;\n",
       "    padding-left: 5px;\n",
       "    background-color: #EEEEEE;\n",
       "    color: black;\n",
       "}\n",
       "\n",
       "div.exercise {\n",
       "\tbackground-color: #f8b4ab;\n",
       "\tborder-color: #E9967A;\n",
       "\tborder-left: 5px solid #601A4A;\n",
       "\tpadding: 0.5em;\n",
       "}\n",
       "\n",
       "div.exercise-r {\n",
       "\tbackground-color: #ffd0d0;\n",
       "\tborder-color: #E9967A;\n",
       "\tborder-left: 5px solid #601A4A;\n",
       "\tpadding: 0.5em;\n",
       "}\n",
       "\n",
       "\n",
       "span.sub-q {\n",
       "\tfont-weight: bold;\n",
       "}\n",
       "div.theme {\n",
       "\tbackground-color: #63ACBE;\n",
       "\tborder-color: #E9967A;\n",
       "\tborder-left: 5px solid #601A4A;\n",
       "\tpadding: 0.5em;\n",
       "\tfont-size: 18pt;\n",
       "}\n",
       "div.gc {\n",
       "\tbackground-color: #AEDE94;\n",
       "\tborder-color: #E9967A;\n",
       "\tborder-left: 5px solid #601A4A;\n",
       "\tpadding: 0.5em;\n",
       "\tfont-size: 12pt;\n",
       "}\n",
       "p.q1 {\n",
       "    padding-top: 5px;\n",
       "    padding-bottom: 5px;\n",
       "    text-align: left;\n",
       "    padding-left: 5px;\n",
       "    background-color: #EEEEEE;\n",
       "    color: black;\n",
       "}\n",
       "header {\n",
       "   padding-top: 35px;\n",
       "    padding-bottom: 35px;\n",
       "    text-align: left;\n",
       "    padding-left: 10px;\n",
       "    background-color: #DDDDDD;\n",
       "    color: black;\n",
       "}\n",
       "span.emph {\n",
       "\tcolor: #601A4A;\n",
       "\tfont-weight: bold;\n",
       "}\n",
       "\n",
       "</style>\n"
      ],
      "text/plain": [
       "<IPython.core.display.HTML object>"
      ]
     },
     "execution_count": 1,
     "metadata": {},
     "output_type": "execute_result"
    }
   ],
   "source": [
    "## RUN THIS CELL TO GET THE RIGHT FORMATTING \n",
    "import requests\n",
    "from IPython.core.display import HTML\n",
    "styles = requests.get(\"https://raw.githubusercontent.com/Harvard-IACS/2021-CS109A/master/themes/static/css/cs109.css\").text\n",
    "HTML(styles)"
   ]
  },
  {
   "cell_type": "markdown",
   "metadata": {
    "jp-MarkdownHeadingCollapsed": true,
    "tags": []
   },
   "source": [
    "\n",
    "## Overview \n",
    "\n",
    "In this homework, your goal is to learn how to acquire, parse, clean, and analyze data. Toward this goal, we will address certain questions about COVID, and you will scrape data directly from a website. For the remainder of the semester, we will provide you data files directly; however, since real-world problems often require gathering information from a variety of sources, including the Internet, web scraping is a highly useful skill to have.\n",
    "\n",
    "### Instructions\n",
    "- To submit your assignment, follow the instructions given in Canvas.\n",
    "\n",
    "### Learning Objectives\n",
    "- Get started using [Jupyter Notebooks](https://jupyter.org/), which are incredibly popular, powerful, and will be our medium of programming for the duration of CS109A and CS109B.\n",
    "- Become familiar with how to access and use data from various sources (i.e., web scraping and directly from files).\n",
    "- Gain experience with data exploration and simple analysis.\n",
    "- Become comfortable with [pandas](https://pandas.pydata.org/) as a means of storing and working with data.\n",
    "- Reflect on what further analysis you may wish to do with this data. For example, given the material we've covered so far, what *more* do you wish you had the ability to do (e.g., modelling, prediction, etc). That is, think about questions you may have about the data, and try to imagine what types of tools you might need to help answer your questions.\n",
    "\n",
    "### Notes\n",
    "- Exercise **responsible scraping**. Web servers can become slow or unresponsive if they receive too many requests from the same source in a short amount of time. In your code, use a delay of 2 seconds between requests. This helps to not get blocked by the target website -- imagine how frustrating it would be to have this occur. Section 1 of this homework involves saving the scraped web pages to your local machine. Thus, after completing Section 1, you do not need to re-scrape any of the pages, unless you wish to occasionally grab the latest data. \n",
    "\n",
    "- <span style='color:purple'>**Web scraping requests can take several minutes**</span>. This is another reason why you should not wait until the last minute to do this homework.\n",
    "- As you run a Jupyter Notebook, it maintains a running state of memory. Thus, <span style='color:purple'>the order in which you run cells matters</span> and plays a crucial role; it can be easy to make mistakes based on *when* you run different cells as you develop and test your code. Before submitting every Jupyter Notebook homework assignment, be sure to restart your Jupyter Notebook and run the entire notebook from scratch, all at once (i.e., \"Kernel -> Restart & Run All\"). Just make sure to not re-run the time intensive tasks unnecessarily. In this notebook for example, you could declare a variable to act as a 'setting' and use some controll logic to prevent a re-scrap from happening when not desired.\n",
    "\n",
    "- We will be working with COVID data. COVID has impacted everyone in the world, and naturally some people have been greatly more affected than others. We, the teaching staff, are sensitive to this, empathize, and understand that working with COVID data may be unsettling to some. We apologize for any discomfort this may cause. Our intent with this assignment is purely pedagogical, and we'd like to remind students that data science and machine learning can be used to provide insights that can be used for good and invoke change. Toward this goal, parts of the homework are intended to shed light on the unfortunate, widespread inequality that exists. So, while this data may be unsettling, our aim is for the learned skills addressed here -- and in all future assignments -- to provide you with knowledge and confidence to do good work."
   ]
  },
  {
   "cell_type": "markdown",
   "metadata": {
    "tags": []
   },
   "source": [
    "## 1. Obtaining Data (17 points)\n",
    "\n",
    "For any given situation or scenario that we wish to understand, we will rely on having relevant data. Here, we are interested in the degree to which the SARS-CoV-2 virus has affected United States citizens (SARS-CoV-2 is the virus that causes the COVID-19 disease). The Centers for Disease Control and Prevention (CDC) provides relevant data from USAFacts.org that includes the number of confirmed COVID-19 cases on a per-county basis. Visit https://usafacts.org/visualizations/coronavirus-covid-19-spread-map/. At the bottom of the web page, in a blue table, you should see a list of every state, each of which has its own web page.\n",
    "\n",
    "In this exercise, we will focus on automating the downloading of each state's data with [Requests](https://docs.python-requests.org/en/master/) and then manipulating it with [BeautifulSoup](https://www.crummy.com/software/BeautifulSoup/bs4/doc/). \n",
    "\n",
    "But first, as we will do for every Jupyter Notebook, let's import necessary packages that we will use throughout the notebook (i.e., run the cell below). "
   ]
  },
  {
   "cell_type": "code",
   "execution_count": 2,
   "metadata": {},
   "outputs": [],
   "source": [
    "# import the necessary libraries\n",
    "import re\n",
    "import requests\n",
    "import pandas as pd\n",
    "import numpy as np\n",
    "from time import sleep\n",
    "from bs4 import BeautifulSoup\n",
    "import pickle # for loading a dictionary from disk\n",
    "from typing import Optional # typehint that value can also be None\n",
    "\n",
    "# NOTE: files will be saved to this directory, so you need to ensure\n",
    "# that it exists on your system first (it should be visible from the\n",
    "# directory of where you are running this Notebook file)\n",
    "# i.e.,\n",
    "# >> ls\n",
    "# cs109a_hw1_student.ipynb\n",
    "# data/\n",
    "# state_data/\n",
    "state_dir = \"state_data/\""
   ]
  },
  {
   "cell_type": "code",
   "execution_count": 3,
   "metadata": {},
   "outputs": [],
   "source": [
    "# we define this for convenience, as every state's url begins with this prefix\n",
    "base_url = 'https://usafacts.org/visualizations/coronavirus-covid-19-spread-map/'"
   ]
  },
  {
   "cell_type": "markdown",
   "metadata": {},
   "source": [
    "<div class='exercise'><b> Exercise 1.1 [1 pt]: Fetching Website data via Requests</b>\n",
    "\n",
    "Fetch the web page located at `base_url` and save the request's returned object (a Response object) to a variable named `home_page`.\n",
    "</div>"
   ]
  },
  {
   "cell_type": "code",
   "execution_count": 4,
   "metadata": {},
   "outputs": [],
   "source": [
    "# YOUR CODE HERE\n",
    "home_page = requests.get(base_url)\n",
    "# END OF YOUR CODE HERE"
   ]
  },
  {
   "cell_type": "markdown",
   "metadata": {},
   "source": [
    "<div class='exercise'><b>Exercise 1.2 [2 pts]:</b> In the cell below:\n",
    "    \n",
    "- Write a line of code that prints to the screen the status of `home_page` (the web page's returned object). You should receive a code of 200 if the request was successful; then,\n",
    "\n",
    "- **When working with Jupyter Notebooks, avoiding unnecessarily long output in is essential.** Write code that prints the first 10,000 characters from the contents of `home_page` and [enable scolling output for the cell](https://www.youtube.com/watch?v=U4usAUZCv_c&t=1s).</div>\n"
   ]
  },
  {
   "cell_type": "code",
   "execution_count": 5,
   "metadata": {
    "scrolled": true,
    "tags": []
   },
   "outputs": [
    {
     "name": "stdout",
     "output_type": "stream",
     "text": [
      "200\n",
      "<!doctype html><html lang=\"en\"><head><script type=\"text/javascript\">window.NREUM||(NREUM={});NREUM.info = {\"agent\":\"\",\"beacon\":\"bam-cell.nr-data.net\",\"errorBeacon\":\"bam-cell.nr-data.net\",\"licenseKey\":\"NRJS-c11b817f31177e0b4d1\",\"applicationID\":\"1475026924\",\"applicationTime\":2161.554995,\"transactionName\":\"ZwZaNUEFVhZZAkNRWl5Mdg5BCVkJURtSXGBCChdL\",\"queueTime\":0,\"ttGuid\":\"50a3b7d4afb96077\",\"agentToken\":null}; (window.NREUM||(NREUM={})).loader_config={licenseKey:\"NRJS-c11b817f31177e0b4d1\",applicationID:\"1475026924\"};window.NREUM||(NREUM={}),__nr_require=function(t,e,n){function r(n){if(!e[n]){var i=e[n]={exports:{}};t[n][0].call(i.exports,function(e){var i=t[n][1][e];return r(i||e)},i,i.exports)}return e[n].exports}if(\"function\"==typeof __nr_require)return __nr_require;for(var i=0;i<n.length;i++)r(n[i]);return r}({1:[function(t,e,n){function r(){}function i(t,e,n){return function(){return o(t,[u.now()].concat(f(arguments)),e?null:this,n),e?void 0:this}}var o=t(\"handle\"),a=t(8),f=t(9),c=t(\"ee\").get(\"tracer\"),u=t(\"loader\"),s=NREUM;\"undefined\"==typeof window.newrelic&&(newrelic=s);var d=[\"setPageViewName\",\"setCustomAttribute\",\"setErrorHandler\",\"finished\",\"addToTrace\",\"inlineHit\",\"addRelease\"],p=\"api-\",l=p+\"ixn-\";a(d,function(t,e){s[e]=i(p+e,!0,\"api\")}),s.addPageAction=i(p+\"addPageAction\",!0),s.setCurrentRouteName=i(p+\"routeName\",!0),e.exports=newrelic,s.interaction=function(){return(new r).get()};var m=r.prototype={createTracer:function(t,e){var n={},r=this,i=\"function\"==typeof e;return o(l+\"tracer\",[u.now(),t,n],r),function(){if(c.emit((i?\"\":\"no-\")+\"fn-start\",[u.now(),r,i],n),i)try{return e.apply(this,arguments)}catch(t){throw c.emit(\"fn-err\",[arguments,this,t],n),t}finally{c.emit(\"fn-end\",[u.now()],n)}}}};a(\"actionText,setName,setAttribute,save,ignore,onEnd,getContext,end,get\".split(\",\"),function(t,e){m[e]=i(l+e)}),newrelic.noticeError=function(t,e){\"string\"==typeof t&&(t=new Error(t)),o(\"err\",[t,u.now(),!1,e])}},{}],2:[function(t,e,n){function r(t){if(NREUM.init){for(var e=NREUM.init,n=t.split(\".\"),r=0;r<n.length-1;r++)if(e=e[n[r]],\"object\"!=typeof e)return;return e=e[n[n.length-1]]}}e.exports={getConfiguration:r}},{}],3:[function(t,e,n){function r(){return f.exists&&performance.now?Math.round(performance.now()):(o=Math.max((new Date).getTime(),o))-a}function i(){return o}var o=(new Date).getTime(),a=o,f=t(10);e.exports=r,e.exports.offset=a,e.exports.getLastTimestamp=i},{}],4:[function(t,e,n){function r(t){return!(!t||!t.protocol||\"file:\"===t.protocol)}e.exports=r},{}],5:[function(t,e,n){function r(t,e){var n=t.getEntries();n.forEach(function(t){\"first-paint\"===t.name?d(\"timing\",[\"fp\",Math.floor(t.startTime)]):\"first-contentful-paint\"===t.name&&d(\"timing\",[\"fcp\",Math.floor(t.startTime)])})}function i(t,e){var n=t.getEntries();n.length>0&&d(\"lcp\",[n[n.length-1]])}function o(t){t.getEntries().forEach(function(t){t.hadRecentInput||d(\"cls\",[t])})}function a(t){if(t instanceof m&&!g){var e=Math.round(t.timeStamp),n={type:t.type};e<=p.now()?n.fid=p.now()-e:e>p.offset&&e<=Date.now()?(e-=p.offset,n.fid=p.now()-e):e=p.now(),g=!0,d(\"timing\",[\"fi\",e,n])}}function f(t){\"hidden\"===t&&d(\"pageHide\",[p.now()])}if(!(\"init\"in NREUM&&\"page_view_timing\"in NREUM.init&&\"enabled\"in NREUM.init.page_view_timing&&NREUM.init.page_view_timing.enabled===!1)){var c,u,s,d=t(\"handle\"),p=t(\"loader\"),l=t(7),m=NREUM.o.EV;if(\"PerformanceObserver\"in window&&\"function\"==typeof window.PerformanceObserver){c=new PerformanceObserver(r);try{c.observe({entryTypes:[\"paint\"]})}catch(v){}u=new PerformanceObserver(i);try{u.observe({entryTypes:[\"largest-contentful-paint\"]})}catch(v){}s=new PerformanceObserver(o);try{s.observe({type:\"layout-shift\",buffered:!0})}catch(v){}}if(\"addEventListener\"in document){var g=!1,h=[\"click\",\"keydown\",\"mousedown\",\"pointerdown\",\"touchstart\"];h.forEach(function(t){document.addEventListener(t,a,!1)})}l(f)}},{}],6:[function(t,e,n){function r(t,e){if(!i)return!1;if(t!==i)return!1;if(!e)return!0;if(!o)return!1;for(var n=o.split(\".\"),r=e.split(\".\"),a=0;a<r.length;a++)if(r[a]!==n[a])return!1;return!0}var i=null,o=null,a=/Version\\/(\\S+)\\s+Safari/;if(navigator.userAgent){var f=navigator.userAgent,c=f.match(a);c&&f.indexOf(\"Chrome\")===-1&&f.indexOf(\"Chromium\")===-1&&(i=\"Safari\",o=c[1])}e.exports={agent:i,version:o,match:r}},{}],7:[function(t,e,n){function r(t){function e(){t(a&&document[a]?document[a]:document[i]?\"hidden\":\"visible\")}\"addEventListener\"in document&&o&&document.addEventListener(o,e,!1)}e.exports=r;var i,o,a;\"undefined\"!=typeof document.hidden?(i=\"hidden\",o=\"visibilitychange\",a=\"visibilityState\"):\"undefined\"!=typeof document.msHidden?(i=\"msHidden\",o=\"msvisibilitychange\"):\"undefined\"!=typeof document.webkitHidden&&(i=\"webkitHidden\",o=\"webkitvisibilitychange\",a=\"webkitVisibilityState\")},{}],8:[function(t,e,n){function r(t,e){var n=[],r=\"\",o=0;for(r in t)i.call(t,r)&&(n[o]=e(r,t[r]),o+=1);return n}var i=Object.prototype.hasOwnProperty;e.exports=r},{}],9:[function(t,e,n){function r(t,e,n){e||(e=0),\"undefined\"==typeof n&&(n=t?t.length:0);for(var r=-1,i=n-e||0,o=Array(i<0?0:i);++r<i;)o[r]=t[e+r];return o}e.exports=r},{}],10:[function(t,e,n){e.exports={exists:\"undefined\"!=typeof window.performance&&window.performance.timing&&\"undefined\"!=typeof window.performance.timing.navigationStart}},{}],ee:[function(t,e,n){function r(){}function i(t){function e(t){return t&&t instanceof r?t:t?u(t,c,a):a()}function n(n,r,i,o,a){if(a!==!1&&(a=!0),!l.aborted||o){t&&a&&t(n,r,i);for(var f=e(i),c=v(n),u=c.length,s=0;s<u;s++)c[s].apply(f,r);var p=d[w[n]];return p&&p.push([b,n,r,f]),f}}function o(t,e){y[t]=v(t).concat(e)}function m(t,e){var n=y[t];if(n)for(var r=0;r<n.length;r++)n[r]===e&&n.splice(r,1)}function v(t){return y[t]||[]}function g(t){return p[t]=p[t]||i(n)}function h(t,e){l.aborted||s(t,function(t,n){e=e||\"feature\",w[n]=e,e in d||(d[e]=[])})}var y={},w={},b={on:o,addEventListener:o,removeEventListener:m,emit:n,get:g,listeners:v,context:e,buffer:h,abort:f,aborted:!1};return b}function o(t){return u(t,c,a)}function a(){return new r}function f(){(d.api||d.feature)&&(l.aborted=!0,d=l.backlog={})}var c=\"nr@context\",u=t(\"gos\"),s=t(8),d={},p={},l=e.exports=i();e.exports.getOrSetContext=o,l.backlog=d},{}],gos:[function(t,e,n){function r(t,e,n){if(i.call(t,e))return t[e];var r=n();if(Object.defineProperty&&Object.keys)try{return Object.defineProperty(t,e,{value:r,writable:!0,enumerable:!1}),r}catch(o){}return t[e]=r,r}var i=Object.prototype.hasOwnProperty;e.exports=r},{}],handle:[function(t,e,n){function r(t,e,n,r){i.buffer([t],r),i.emit(t,e,n)}var i=t(\"ee\").get(\"handle\");e.exports=r,r.ee=i},{}],id:[function(t,e,n){function r(t){var e=typeof t;return!t||\"object\"!==e&&\"function\"!==e?-1:t===window?0:a(t,o,function(){return i++})}var i=1,o=\"nr@id\",a=t(\"gos\");e.exports=r},{}],loader:[function(t,e,n){function r(){if(!R++){var t=M.info=NREUM.info,e=v.getElementsByTagName(\"script\")[0];if(setTimeout(u.abort,3e4),!(t&&t.licenseKey&&t.applicationID&&e))return u.abort();c(E,function(e,n){t[e]||(t[e]=n)});var n=a();f(\"mark\",[\"onload\",n+M.offset],null,\"api\"),f(\"timing\",[\"load\",n]);var r=v.createElement(\"script\");0===t.agent.indexOf(\"http://\")||0===t.agent.indexOf(\"https://\")?r.src=t.agent:r.src=l+\"://\"+t.agent,e.parentNode.insertBefore(r,e)}}function i(){\"complete\"===v.readyState&&o()}function o(){f(\"mark\",[\"domContent\",a()+M.offset],null,\"api\")}var a=t(3),f=t(\"handle\"),c=t(8),u=t(\"ee\"),s=t(6),d=t(4),p=t(2),l=p.getConfiguration(\"ssl\")===!1?\"http\":\"https\",m=window,v=m.document,g=\"addEventListener\",h=\"attachEvent\",y=m.XMLHttpRequest,w=y&&y.prototype,b=!d(m.location);NREUM.o={ST:setTimeout,SI:m.setImmediate,CT:clearTimeout,XHR:y,REQ:m.Request,EV:m.Event,PR:m.Promise,MO:m.MutationObserver};var x=\"\"+location,E={beacon:\"bam.nr-data.net\",errorBeacon:\"bam.nr-data.net\",agent:\"js-agent.newrelic.com/nr-1210.min.js\"},O=y&&w&&w[g]&&!/CriOS/.test(navigator.userAgent),M=e.exports={offset:a.getLastTimestamp(),now:a,origin:x,features:{},xhrWrappable:O,userAgent:s,disabled:b};if(!b){t(1),t(5),v[g]?(v[g](\"DOMContentLoaded\",o,!1),m[g](\"load\",r,!1)):(v[h](\"onreadystatechange\",i),m[h](\"onload\",r)),f(\"mark\",[\"firstbyte\",a.getLastTimestamp()],null,\"api\");var R=0}},{}],\"wrap-function\":[function(t,e,n){function r(t,e){function n(e,n,r,c,u){function nrWrapper(){var o,a,s,p;try{a=this,o=d(arguments),s=\"function\"==typeof r?r(o,a):r||{}}catch(l){i([l,\"\",[o,a,c],s],t)}f(n+\"start\",[o,a,c],s,u);try{return p=e.apply(a,o)}catch(m){throw f(n+\"err\",[o,a,m],s,u),m}finally{f(n+\"end\",[o,a,p],s,u)}}return a(e)?e:(n||(n=\"\"),nrWrapper[p]=e,o(e,nrWrapper,t),nrWrapper)}function r(t,e,r,i,o){r||(r=\"\");var f,c,u,s=\"-\"===r.charAt(0);for(u=0;u<e.length;u++)c=e[u],f=t[c],a(f)||(t[c]=n(f,s?c+r:r,i,c,o))}function f(n,r,o,a){if(!m||e){var f=m;m=!0;try{t.emit(n,r,o,e,a)}catch(c){i([c,n,r,o],t)}m=f}}return t||(t=s),n.inPlace=r,n.flag=p,n}function i(t,e){e||(e=s);try{e.emit(\"internal-error\",t)}catch(n){}}function o(t,e,n){if(Object.defineProperty&&Object.keys)try{var r=Object.keys(t);return r.forEach(function(n){Object.defineProperty(e,n,{get:function(){return t[n]},set:function(e){return t[n]=e,e}})}),e}catch(o){i([o],n)}for(var a in t)l.call(t,a)&&(e[a]=t[a]);return e}function a(t){return!(t&&t instanceof Function&&t.apply&&!t[p])}function f(t,e){var n=e(t);return n[p]=t,o(t,n,s),n}function c(t,e,n){var r=t[e];t[e]=f(r,n)}function u(){for(var t=arguments.length,e=new Array(t),n=0;n<t;++n)e[n]=arguments[n];return e}var s=t(\"ee\"),d=t(9),p=\"nr@original\",l=Object.prototype.hasOwnProperty,m=!1;e.exports=r,e.exports.wrapFunction=f,e.exports.wrapInPlace=c,e.exports.argsToArray=u},{}]},{},[\"loader\"]);</script><title data-react-helmet=\"true\">US COVID-19 cases and deaths by state | USAFacts</title><meta data-react-helmet=\"true\" http-equiv=\"X-UA-Compatible\" content=\"IE=edge\" /><meta data-react-helmet=\"true\" charSet=\"utf-8\" /><meta data-react-helmet=\"true\" name=\"viewport\" content=\"width=device-width, initial-scale=1\" /><meta data-react-helmet=\"true\" name=\"msapplication-TileColor\" content=\"#E3007D\" /><meta data-react-helmet=\"tru\n"
     ]
    }
   ],
   "source": [
    "# YOUR CODE HERE\n",
    "print(home_page.status_code)\n",
    "print(home_page.text[:10000])\n",
    "# END OF YOUR CODE HERE"
   ]
  },
  {
   "cell_type": "markdown",
   "metadata": {},
   "source": [
    "<div class='exercise'><b> Exercise 1.3 [1 pt]:</b>\n",
    "    \n",
    "In the cell below, create a new BeautifulSoup object that parses the `home_page` as an HTML document (can be done with 1 line of code)</div>"
   ]
  },
  {
   "cell_type": "code",
   "execution_count": 6,
   "metadata": {},
   "outputs": [],
   "source": [
    "# YOUR CODE HERE\n",
    "home_page = BeautifulSoup(home_page.text, 'html.parser')\n",
    "# END OF YOUR CODE HERE"
   ]
  },
  {
   "cell_type": "markdown",
   "metadata": {},
   "source": [
    "<div class='exercise'><b> Exercise 1.4 [8 pts]:</b>\n",
    "    \n",
    "In the cell below, write code that uses the BeautifulSoup object to parse through the home page in order to extract the link for every state. Feel free to use [Regular Expressions]('https://docs.python.org/3/library/re.html'), in conjunction with any BeautifulSoup parsing. Specifically, the goal is to populate a `state_urls` [dictionary]('https://docs.python.org/3/tutorial/datastructures.html#dictionaries') by setting each key to be the state name and the value to be the full URL. When complete, there will be 51 keys (50 states + 1 for DC).\n",
    "\n",
    "### AS A CRITICAL EXAMPLE:\n",
    "Within `state_urls`, one of your <key, value> pairs should be:\n",
    "\n",
    "``\"District of Columbia\" : \"https://usafacts.org/visualizations/coronavirus-covid-19-spread-map/state/district-of-columbia\"``\n",
    "\n",
    "The casing here is **incredibly** important because later, in Exercise 4, you will merge your data with another dataset that has casing of this form. Thus, our key here should be `District of Columbia` and not `District Of Columbia` or `district-of-columbia`.\n",
    "\n",
    "\n",
    "**NOTES:**\n",
    "- There are _many_ solutions, but you may find it easiest to use Regular Expression(s)\n",
    "- Pay attention to the casing example above, so that your later exercises go smoothly.\n",
    "- Some HTML tag attributes may change over time. It your code stops working, make sure you are not targeting such ephemeral elements ('jss' class attributes are a common culprit)\n",
    "</div>"
   ]
  },
  {
   "cell_type": "code",
   "execution_count": 7,
   "metadata": {},
   "outputs": [],
   "source": [
    "state_urls = {}\n",
    "\n",
    "# YOUR CODE HERE\n",
    "list_state_name = [i.text for i in home_page.select(\"tbody a\")]\n",
    "state_url = [\"https://usafacts.org\"+i.get(\"href\") for i in home_page.select(\"tbody a\")]\n",
    "\n",
    "for i,d in enumerate(list_state_name):\n",
    "    state_urls[d] = state_url[i]\n",
    "# END OF YOUR CODE HERE"
   ]
  },
  {
   "cell_type": "markdown",
   "metadata": {},
   "source": [
    "Run the cell below to help ensure your formatting is correct and has 51 <key, value> pairs."
   ]
  },
  {
   "cell_type": "code",
   "execution_count": 8,
   "metadata": {},
   "outputs": [
    {
     "name": "stdout",
     "output_type": "stream",
     "text": [
      "** 1.4 might be correct\n"
     ]
    }
   ],
   "source": [
    "# SANITY CHECK\n",
    "if len(state_urls.keys()) != 51 or \\\n",
    "state_urls[\"District of Columbia\"] != \"https://usafacts.org/visualizations/coronavirus-covid-19-spread-map/state/district-of-columbia\":\n",
    "    print(\"** 1.4 is incorrect\")\n",
    "else:\n",
    "    print(\"** 1.4 might be correct\")"
   ]
  },
  {
   "cell_type": "markdown",
   "metadata": {},
   "source": [
    "We wish to use the data without having to re-download it every time. So, let's save each webpage to our local hard drive. **NOTE: It's probably okay to download all of the state web pages a few times a day, but it's safer to keep it to a minimum.**"
   ]
  },
  {
   "cell_type": "markdown",
   "metadata": {},
   "source": [
    "<div class='exercise'><b> Exercise 1.5 [5 pts]:</b>\n",
    "    \n",
    "In the cell below, we will iterate through all <key, value> items in `state_urls`. Your job is to make a web request for each URL and save the **contents** out to a file on your hard drive (use `state_dir`, defined above, as the prefix to the path.) \n",
    "\n",
    "**NOTES:**\n",
    "- **Leave a 2 second pause between requests**\n",
    "- You should be saving to a file the actual content of the webpage, not a BeautifulSoup object. That is, you should be able to open the saved files in an editor and see the HTML code, just as you could if you were to view the webpage in your browser and click 'View Page Source'.\n",
    "- See [official Python documentation](https://docs.python.org/3/tutorial/inputoutput.html#reading-and-writing-files) for details on how to read/write files to disk\n",
    "- You should have saved 51 different files to your hard drive.\n",
    "- **Once you have written the files you can comment out this cell. This will save time and prevent you from making unnecessary requests when you restart the kernel & re-run all cells in the noteboook before submitting (as you should!)**\n",
    "</div>"
   ]
  },
  {
   "cell_type": "code",
   "execution_count": 9,
   "metadata": {},
   "outputs": [],
   "source": [
    "# 1.5 (5 pts) -- save each webpage to disk\n",
    "for state, url in state_urls.items():\n",
    "    \n",
    "    # YOUR CODE HERE\n",
    "    r = requests.get(url)\n",
    "    with open(state_dir+state+\".txt\", 'w') as file:\n",
    "        file.write(r.text)\n",
    "    # END OF YOUR CODE HERE\n",
    "    \n",
    "    sleep(2) # LEAVE THIS IN"
   ]
  },
  {
   "cell_type": "markdown",
   "metadata": {
    "tags": []
   },
   "source": [
    "## 2. Loading and Exploring Data (22 pts)\n",
    "Now, let's actually use the data! Fortunately, it's saved to our local machine, so we don't need to re-crawl the data every time we wish to access it. We want you to understand that [pandas](https://pandas.pydata.org/) is a library of useful data structures and operations, but we also wish to remind you that it isn't magic and it isn't the _only_ way to do Data Science; it's just a tool to help, and you could do the same operations without pandas. Thus, here we ask you to perform a few operations without using pandas, and then in Exercise 3 we will use pandas.\n",
    "\n",
    "**Terminology Notice:** In the United States, every state is comprised of many **counties.** You can think of a **county** as being a pretty large district. "
   ]
  },
  {
   "cell_type": "markdown",
   "metadata": {},
   "source": [
    "First, run the cell below to construct `state_info`\n",
    "This is an example of a Python [list comprehension](https://docs.python.org/3/tutorial/datastructures.html#list-comprehensions)."
   ]
  },
  {
   "cell_type": "code",
   "execution_count": 10,
   "metadata": {},
   "outputs": [],
   "source": [
    "state_info = [(state, state_dir + state) for state in state_urls.keys()]"
   ]
  },
  {
   "cell_type": "markdown",
   "metadata": {},
   "source": [
    "<div class='exercise'><b> Exercise 2.1 [10 pts]: Parsing and storing data</b>\n",
    "    \n",
    "Complete the `load_covid_data()` function, which:\n",
    "\n",
    "- Takes as input `state_info`, which is a list of [tuples](https://docs.python.org/3.3/library/stdtypes.html?highlight=tuple#tuple): (state name, path to the corresponding file)\n",
    "- Parses the contents of the file and extracts for **each county**:\n",
    "    - 7 day average case\n",
    "    - 7 day average deaths\n",
    "    - \\# of confirmed cases (total)\n",
    "    - \\# of deaths\n",
    "    - Stores the above 4 pieces of data above as well as **population** in a **non-pandas** data structure named `covid_data` **for every county across every state**\n",
    "- Returns `covid_data`\n",
    "    <font color='blue'>\n",
    "\n",
    "\n",
    "**NOTES:**\n",
    "- **Attention: the population variable not in `state_info`. More on info on where to get this value is found in the green block below**\n",
    "- To be clear, as of September 7, 2021, the webpage for Alabama currently lists 67 counties. District of Columbia has 1 county, and Wyoming has 23. Here we are asking you to store in `covid_data` *all counties* across every state. So, later, if we were wished to access just Wyoming's information, you could easily retrieve such for each of its 23 counties, or the info for any of the 67 counties in Alabama.\n",
    "- `covid_data` **must not be a PANDAS data structure;** it must use a combination of lists and/or dictionaries. It's up to you to decide how to organize this, e.g., a lists of lists of lists, or a list of dictionaries, or a dictionary of dictionaries, or a dictionary of lists of lists, etc. A guiding decision should be ease of access for computing basic stats (Exercises 2.2, 2.3, and 2.4)\n",
    "- For the duration of our using this data for the homework, be sure to **properly store the data with the correct data types;** that is, counts should be represented as Integers and rates should be represented as Floats. For example:\n",
    "    - \\# of confirmed cases (total) should be an **Integer**\n",
    "    - \\# of deaths should be an **Integer**\n",
    "    - \\# of confirmed cases (per 100k) should be a **Float** (we haven't created this feature yet!)\n",
    "    - 7 day average cases should be an **Integer** (you'd think an average should be a float but the values you scrapped were rounded to the nearest int)\n",
    "</div>"
   ]
  },
  {
   "cell_type": "markdown",
   "metadata": {
    "tags": []
   },
   "source": [
    "<div style='background-color:lightgreen;padding:15px'>\n",
    "    <strong>Injecting population data</strong>\n",
    "    \n",
    "\n",
    "The table on usafacts.org you've just scrapped originally had additional columns related to county population. But these have recently been removed! We'd like you to be able to utilize the population data in the following section but also use up-to-date COVID data (so the [Internet Archive](https://archive.org/) was not an option). And, though this information is available elsewhere on usafacts.org, we've decided that you've already done enough web scraping for one HW. So below we've provided a [kludge](https://en.wikipedia.org/wiki/Kludge#Computer_science).\n",
    "    \n",
    "`population_dict` is a nested dictionary. The keys are states whose values are _themselves_ dictionaries. Those '_inner_' dictionaries' keys are counties and their values are populations. It looks like this:\n",
    "```python\n",
    "{'Alabama': {'Autauga County': 55869,\n",
    "             'Baldwin County': 223234,\n",
    "           ...\n",
    "'Wyoming': {'Albany County': 38880,\n",
    "            'Big Horn County': 11790,\n",
    "            ...\n",
    "```\n",
    "\n",
    "To get at a population you could use double dictionary indexing like `population_dict['Alabama']['Autauga County']`\n",
    "\n",
    "But not all of the counties you've scrapped have population data in this dictionary. So we've provided a helper function, `get_pop`, that will return `None` if the county data was not found. Use `get_pop` to inject popoulation data into your `covid_data` as you build it up in the `load_covid_data` function you'll implement below.\n",
    "    \n",
    "**Final Note: you should _ignore counties with missing population data or populations of 0_. Simply do not add them to `covid_data` as it is constructed.**\n",
    "</div>"
   ]
  },
  {
   "cell_type": "code",
   "execution_count": 11,
   "metadata": {},
   "outputs": [],
   "source": [
    "# load additional county population data as a nested dictionary\n",
    "# you can read about this strange .pkl 'pickle' file here\n",
    "# https://docs.python.org/3/library/pickle.html\n",
    "with open('population.pkl', 'rb') as f:\n",
    "    population_dict = pickle.load(f)\n",
    "\n",
    "# not sure what's happening with the data types in the function header?\n",
    "# check out: https://docs.python.org/3/library/typing.html#module-typing\n",
    "def get_pop(state: str, county: str) -> Optional[int]:\n",
    "    '''\n",
    "    returns population of country, state (int)\n",
    "    If county or state not found, returns None\n",
    "    Example: get_pop('Alabama', 'Autauga County')\n",
    "    '''\n",
    "    try:\n",
    "        return population_dict.get(state).get(county)\n",
    "    except AttributeError:\n",
    "        print('incorrect state name!')\n",
    "        return None"
   ]
  },
  {
   "cell_type": "code",
   "execution_count": 12,
   "metadata": {
    "scrolled": true,
    "tags": []
   },
   "outputs": [],
   "source": [
    "def load_covid_data(state_info):\n",
    "    covid_data = {}\n",
    "    # YOUR CODE HERE\n",
    "    for (state, state_path) in state_info:\n",
    "        covid_data[state] = []\n",
    "        with open(state_path, 'r') as f:\n",
    "            soup = BeautifulSoup(f.read(), 'html.parser')\n",
    "            counties = soup.find_all('a', href=re.compile('county/'))\n",
    "\n",
    "            for c in counties:\n",
    "                row = c.find_parent('tr')\n",
    "\n",
    "                cols = [col.text.replace(',','') for col in row.find_all('td')]\n",
    "\n",
    "                county_name = c.text\n",
    "                pop = get_pop(state, county_name)\n",
    "                if ((pop := get_pop(state, county_name)) is None) or (pop == 0):\n",
    "                    continue\n",
    "                covid_data[state].append({'county_name': county_name,\n",
    "                                          'population': pop,\n",
    "                                          '7_day_avg_cases': float(cols[0]),\n",
    "                                          '7_date_ave_deaths': float(cols[1]),\n",
    "                                          'cases': int(cols[2]),\n",
    "                                          'deaths': int(cols[3])})\n",
    "    # END OF YOUR CODE HERE\n",
    "    return covid_data"
   ]
  },
  {
   "cell_type": "markdown",
   "metadata": {},
   "source": [
    "Run the cell below (no changes necessary) to execute your code above"
   ]
  },
  {
   "cell_type": "code",
   "execution_count": 13,
   "metadata": {
    "scrolled": false
   },
   "outputs": [],
   "source": [
    "covid_data = load_covid_data(state_info)"
   ]
  },
  {
   "cell_type": "markdown",
   "metadata": {},
   "source": [
    "<div class='exercise'><b> Exercise 2.2 [4 pts]: Simple analytics</b>\n",
    "    \n",
    "Complete the `calculate_county_stats()` function, which calculates:\n",
    "1. The single county (and the state to which it belongs) that has the **lowest rate** of COVID cases per 100k people\n",
    "2. The single county (and the state to which it belongs) that has the **highest rate** of COVID cases per 100k people\n",
    "   \n",
    "**NOTES:**\n",
    "- Place your resulting variables within the blanks of the `print()` statements that we provide\n",
    "- These values you report should be Floating point numbers (e.g., 3.4), not Integers (e.g., 3).\n",
    "- If there are ties, return any one of the tied counties (see if you can do it in an unbiased way!)\n",
    "</div>"
   ]
  },
  {
   "cell_type": "code",
   "execution_count": 14,
   "metadata": {},
   "outputs": [],
   "source": [
    "# QUESTION: what is the output? Any variable should be returned? what do you mean by \"ties\"?\n",
    "\n",
    "def calculate_county_stats(covid_data):\n",
    "    \n",
    "    # YOUR CODE HERE\n",
    "    min_county_count = 999999\n",
    "    min_county_name = \"\"\n",
    "    max_county_count = -1\n",
    "    max_county_name = \"\"\n",
    "    \n",
    "    # looks through every county in every state, while checking\n",
    "    # to see if we have a new low or high\n",
    "    for state in covid_data.keys():\n",
    "        for county in covid_data[state]:\n",
    "            if ((pop := county['population']) is None) or (pop == 0):\n",
    "                continue\n",
    "            covid_rate = round(county['cases'] / (pop/100000),2)\n",
    "            if covid_rate < min_county_count:\n",
    "                min_county_count = covid_rate\n",
    "                min_county_name = county['county_name'] + \" (\" + state + \")\"\n",
    "            if covid_rate > max_county_count:\n",
    "                max_county_count = covid_rate\n",
    "                max_county_name = county['county_name'] + \" (\" + state + \")\"\n",
    "\n",
    "    print(min_county_name + \" has the lowest COVID cases per 100k: \" + str(float(min_county_count)))\n",
    "    print(max_county_name + \" has the highest COVID cases per 100k: \" + str(float(max_county_count)))                \n",
    "                \n",
    "    # END OF YOUR CODE HERE\n",
    "    "
   ]
  },
  {
   "cell_type": "markdown",
   "metadata": {},
   "source": [
    "Run the cell below (no changes necessary) to execute your code above"
   ]
  },
  {
   "cell_type": "code",
   "execution_count": 15,
   "metadata": {},
   "outputs": [
    {
     "name": "stdout",
     "output_type": "stream",
     "text": [
      "Lake and Peninsula Borough (Alaska) has the lowest COVID cases per 100k: 0.0\n",
      "Bristol Bay Borough (Alaska) has the highest COVID cases per 100k: 72727.27\n"
     ]
    }
   ],
   "source": [
    "calculate_county_stats(covid_data)"
   ]
  },
  {
   "cell_type": "markdown",
   "metadata": {},
   "source": [
    "<div class='exercise'><b> Exercise 2.3 [4 pts]: Simple analytics</b>\n",
    "    \n",
    "Complete the `calculate_state_deaths()` function, which calculates:\n",
    "1. The state that has the **lowest number** of deaths\n",
    "2. The state that has the **highest number** of deaths\n",
    "\n",
    "**NOTES:**\n",
    "- Place your resulting variables within the blanks of the `print()` statements that we provide (don't just manually type your textual answers in the blanks)\n",
    "- These values you report should be Integers, not Floating point numbers.\n",
    "- If there are ties, return any of the tied states\n",
    "\n",
    "</div>"
   ]
  },
  {
   "cell_type": "code",
   "execution_count": 16,
   "metadata": {},
   "outputs": [],
   "source": [
    "def calculate_state_deaths(covid_data):\n",
    "    \n",
    "    # YOUR CODE HERE\n",
    "    min_state_deaths = 999999\n",
    "    min_state_name = \"\"\n",
    "    max_state_deaths = -1\n",
    "    max_state_name = \"\"\n",
    "    for state in covid_data.keys():\n",
    "        cur_state_count = 0\n",
    "        for county in covid_data[state]:\n",
    "            cur_state_count += county['deaths']\n",
    "            \n",
    "        if cur_state_count < min_state_deaths:\n",
    "            min_state_deaths = cur_state_count\n",
    "            min_state_name = state\n",
    "        if cur_state_count > max_state_deaths:\n",
    "            max_state_deaths = cur_state_count\n",
    "            max_state_name = state\n",
    "\n",
    "    print(min_state_name + \" has the fewest COVID deaths: \" + str(min_state_deaths))\n",
    "    print(max_state_name + \" has the most COVID deaths: \" + str(max_state_deaths)) \n",
    "    # END OF YOUR CODE HERE\n"
   ]
  },
  {
   "cell_type": "markdown",
   "metadata": {},
   "source": [
    "Run the cell below (no changes necessary) to execute your code above"
   ]
  },
  {
   "cell_type": "code",
   "execution_count": 17,
   "metadata": {},
   "outputs": [
    {
     "name": "stdout",
     "output_type": "stream",
     "text": [
      "Hawaii has the fewest COVID deaths: 185\n",
      "California has the most COVID deaths: 67794\n"
     ]
    }
   ],
   "source": [
    "calculate_state_deaths(covid_data)"
   ]
  },
  {
   "cell_type": "markdown",
   "metadata": {},
   "source": [
    "<div class='exercise'><b> Exercise 2.4 [4 pts]: Simple analytics</b>\n",
    "    \n",
    "Complete the `calculate_state_deathrate()` function, which calculates:\n",
    "1. The state that has the **lowest rate** of deaths based on its entire population\n",
    "2. The state that has the **highest rate** of deaths based on its entire population\n",
    "\n",
    "**NOTES:**\n",
    "- To calculate a state's population, we are asserting that is sufficient to sum the population over all counties, and that each county's population can be calculated simply from the data fields stored within `covid_data`.\n",
    "- **If a county has reported 0 COVID cases,** then we should ignore this county as we estimate its county population. Thus, that county would contribute 0 to its state population total.\n",
    "- Round your results to the a single person (e.g., \"1 out of every 2703 people has died\" not 2703.4)\n",
    "- Place your resulting variables within the blanks of the `print()` statements that we provide (don't just manually type your textual answers in the blanks)\n",
    "</div>"
   ]
  },
  {
   "cell_type": "code",
   "execution_count": 18,
   "metadata": {},
   "outputs": [],
   "source": [
    "def calculate_state_deathrate(covid_data):\n",
    "    \n",
    "    # YOUR CODE HERE\n",
    "    min_state_death_rate = -1\n",
    "    min_state_name = \"\"\n",
    "    max_state_death_rate = 9999999\n",
    "    max_state_name = \"\"\n",
    "    \n",
    "    for state in covid_data.keys():\n",
    "        cur_state_deaths = 0\n",
    "        cur_state_population = 0\n",
    "        for county in covid_data[state]:\n",
    "            if (county['cases'] > 0) and ((pop := county['population']) is not None):\n",
    "                cur_state_population += pop\n",
    "                cur_state_deaths += county['deaths']\n",
    "                \n",
    "        cur_state_deathrate = float(cur_state_population) / cur_state_deaths\n",
    "        \n",
    "        if cur_state_deathrate > min_state_death_rate:\n",
    "            min_state_death_rate = cur_state_deathrate\n",
    "            min_state_name = state\n",
    "        if cur_state_deathrate < max_state_death_rate:\n",
    "            max_state_death_rate = cur_state_deathrate\n",
    "            max_state_name = state\n",
    "            \n",
    "    print(min_state_name + \" has the lowest COVID death rate; 1 out of every \" + str(round(min_state_death_rate)) + \" people has died\")\n",
    "    print(max_state_name + \" has the highest COVID death rate; 1 out of every \" + str(round(max_state_death_rate)) + \" people has died\")\n",
    "            \n",
    "    # END OF YOUR CODE HERE\n",
    "    "
   ]
  },
  {
   "cell_type": "markdown",
   "metadata": {},
   "source": [
    "Run the cell below (no changes necessary) to execute your code above"
   ]
  },
  {
   "cell_type": "code",
   "execution_count": 19,
   "metadata": {},
   "outputs": [
    {
     "name": "stdout",
     "output_type": "stream",
     "text": [
      "Hawaii has the lowest COVID death rate; 1 out of every 2385 people has died\n",
      "Mississippi has the highest COVID death rate; 1 out of every 310 people has died\n"
     ]
    }
   ],
   "source": [
    "calculate_state_deathrate(covid_data)"
   ]
  },
  {
   "cell_type": "markdown",
   "metadata": {},
   "source": [
    "## 3. PANDAS (36 pts)\n",
    "What if we wanted to observe more than just the single-most extreme counties and states? What if we wanted to inspect all states, after having sorted the data by some feature? As you saw in the above exercises, doing the most basic analytics is possible, but it can quickly become cumbersome. As we learned in class, PANDAS is a great library that provides data structures that are highly useful for data analysis."
   ]
  },
  {
   "cell_type": "markdown",
   "metadata": {},
   "source": [
    "<div class='exercise'><b> Exercise 3.1 [10 pts]: Converting to PANDAS</b>\n",
    "\n",
    "In Exercise 2, we worked with `covid_data`, which is comprises of some combination of lists and/or dictionaries.\n",
    "\n",
    "Complete the `convert_to_pandas()` function, which converts `covid_data` to a PANDAS DataFrame, whereby:\n",
    "- Each row corresponds to a unique county\n",
    "- The 4 columns are:\n",
    "    - county\n",
    "    - state\n",
    "    - \\# total covid cases (Integer)\n",
    "    - \\# case per 100k (Integer)\n",
    "    - \\# covid deaths (Integer)\n",
    "- The columns should be titled **exactly** as listed above\n",
    "\n",
    "**NOTE:**\n",
    "- If there exists multiple counties with the same name, each of which belonging to a different state, then there should be a distinct row for each.\n",
    "- The 2 columns that correspond to COVID counts should all be Integers (e.g., 1498), not Floating point digits (e.g., 1498.0)\n",
    "</div>"
   ]
  },
  {
   "cell_type": "code",
   "execution_count": 20,
   "metadata": {},
   "outputs": [],
   "source": [
    "def convert_to_pandas(covid_data):\n",
    "    \n",
    "    # YOUR CODE HERE\n",
    "    covid_data_flipped = []\n",
    "    for state, counties in covid_data.items():\n",
    "        for county in counties: \n",
    "            if ((pop:= county['population']) is None) or (pop == 0):\n",
    "                continue\n",
    "            cases = county['cases']\n",
    "            cur_dict = {\"county\":county['county_name'], \"state\":state,\n",
    "                            \"# total covid cases\": cases,\n",
    "                            \"# covid cases per 100k\": cases/(pop/100000),\n",
    "                           \"# covid deaths\": county['deaths']}\n",
    "            covid_data_flipped.append(cur_dict)\n",
    "    covid_df = pd.json_normalize(covid_data_flipped)\n",
    "    # END OF YOUR CODE HERE\n",
    "    return covid_df\n"
   ]
  },
  {
   "cell_type": "markdown",
   "metadata": {},
   "source": [
    "Run the cell below (no changes necessary) to execute your code above and inspect the results."
   ]
  },
  {
   "cell_type": "code",
   "execution_count": 21,
   "metadata": {},
   "outputs": [],
   "source": [
    "covid_df = convert_to_pandas(covid_data)"
   ]
  },
  {
   "cell_type": "code",
   "execution_count": 22,
   "metadata": {
    "scrolled": true
   },
   "outputs": [
    {
     "data": {
      "text/html": [
       "<div>\n",
       "<style scoped>\n",
       "    .dataframe tbody tr th:only-of-type {\n",
       "        vertical-align: middle;\n",
       "    }\n",
       "\n",
       "    .dataframe tbody tr th {\n",
       "        vertical-align: top;\n",
       "    }\n",
       "\n",
       "    .dataframe thead th {\n",
       "        text-align: right;\n",
       "    }\n",
       "</style>\n",
       "<table border=\"1\" class=\"dataframe\">\n",
       "  <thead>\n",
       "    <tr style=\"text-align: right;\">\n",
       "      <th></th>\n",
       "      <th>county</th>\n",
       "      <th>state</th>\n",
       "      <th># total covid cases</th>\n",
       "      <th># covid cases per 100k</th>\n",
       "      <th># covid deaths</th>\n",
       "    </tr>\n",
       "  </thead>\n",
       "  <tbody>\n",
       "    <tr>\n",
       "      <th>0</th>\n",
       "      <td>Autauga County</td>\n",
       "      <td>Alabama</td>\n",
       "      <td>9744</td>\n",
       "      <td>17440.799012</td>\n",
       "      <td>140</td>\n",
       "    </tr>\n",
       "    <tr>\n",
       "      <th>1</th>\n",
       "      <td>Baldwin County</td>\n",
       "      <td>Alabama</td>\n",
       "      <td>36447</td>\n",
       "      <td>16326.814016</td>\n",
       "      <td>509</td>\n",
       "    </tr>\n",
       "    <tr>\n",
       "      <th>2</th>\n",
       "      <td>Barbour County</td>\n",
       "      <td>Alabama</td>\n",
       "      <td>3490</td>\n",
       "      <td>14137.567852</td>\n",
       "      <td>71</td>\n",
       "    </tr>\n",
       "    <tr>\n",
       "      <th>3</th>\n",
       "      <td>Bibb County</td>\n",
       "      <td>Alabama</td>\n",
       "      <td>4131</td>\n",
       "      <td>18446.905421</td>\n",
       "      <td>83</td>\n",
       "    </tr>\n",
       "    <tr>\n",
       "      <th>4</th>\n",
       "      <td>Blount County</td>\n",
       "      <td>Alabama</td>\n",
       "      <td>9818</td>\n",
       "      <td>16978.521772</td>\n",
       "      <td>160</td>\n",
       "    </tr>\n",
       "  </tbody>\n",
       "</table>\n",
       "</div>"
      ],
      "text/plain": [
       "           county    state  # total covid cases  # covid cases per 100k  \\\n",
       "0  Autauga County  Alabama                 9744            17440.799012   \n",
       "1  Baldwin County  Alabama                36447            16326.814016   \n",
       "2  Barbour County  Alabama                 3490            14137.567852   \n",
       "3     Bibb County  Alabama                 4131            18446.905421   \n",
       "4   Blount County  Alabama                 9818            16978.521772   \n",
       "\n",
       "   # covid deaths  \n",
       "0             140  \n",
       "1             509  \n",
       "2              71  \n",
       "3              83  \n",
       "4             160  "
      ]
     },
     "execution_count": 22,
     "metadata": {},
     "output_type": "execute_result"
    }
   ],
   "source": [
    "covid_df.head()"
   ]
  },
  {
   "cell_type": "code",
   "execution_count": 23,
   "metadata": {},
   "outputs": [
    {
     "data": {
      "text/plain": [
       "(3081, 5)"
      ]
     },
     "execution_count": 23,
     "metadata": {},
     "output_type": "execute_result"
    }
   ],
   "source": [
    "covid_df.shape"
   ]
  },
  {
   "cell_type": "markdown",
   "metadata": {},
   "source": [
    "<div class='exercise'><b> Exercise 3.2 [5 pts]: Simple analytics</b>\n",
    "\n",
    "Complete the `calculate_county_stats2()` function, **which should obtain identical information (other than ties) as problem 2.2, but now using the PANDAS `covid_df` DataFrame.**\n",
    "\n",
    "That is, it should calculates:\n",
    "1. the single county (and the state to which it belongs) that has the **lowest rate** of COVID cases per 100k people\n",
    "2. the single county (and the state to which it belongs) that has the **highest rate** of COVID cases per 100k people\n",
    "\n",
    "**NOTES:**\n",
    "- If there are ties, return any of the tied counties\n",
    "- Place your resulting variables within the `print()` statements that we provide (don't just manually type your textual answers in the blanks)\n",
    "- The values you report should be Floating point numbers (e.g., 3.4), not Integers (e.g., 3).\n",
    "\n",
    "</div>"
   ]
  },
  {
   "cell_type": "code",
   "execution_count": 24,
   "metadata": {},
   "outputs": [],
   "source": [
    "def calculate_county_stats2(covid_df):\n",
    "\n",
    "    # YOUR CODE HERE\n",
    "    sorted_df = covid_df.sort_values(by=['# covid cases per 100k'])\n",
    "    lowest = sorted_df.iloc[0]\n",
    "    highest = sorted_df.iloc[-1]\n",
    "\n",
    "    print(f\"{lowest['county']} ({lowest['state']}) has the lowest rate of confirmed COVID cases per 100k: {lowest['# covid cases per 100k']:,.2f}\")\n",
    "    print(f\"{highest['county']} ({highest['state']}) has the highest rate of confirmed COVID cases per 100k: {highest['# covid cases per 100k']:,.2f}\")\n",
    "    \n",
    "    # END OF YOUR CODE HERE"
   ]
  },
  {
   "cell_type": "markdown",
   "metadata": {},
   "source": [
    "Run the cell below (no changes necessary) to execute your code above"
   ]
  },
  {
   "cell_type": "code",
   "execution_count": 25,
   "metadata": {},
   "outputs": [
    {
     "name": "stdout",
     "output_type": "stream",
     "text": [
      "Kalawao County (Hawaii) has the lowest rate of confirmed COVID cases per 100k: 0.00\n",
      "Bristol Bay Borough (Alaska) has the highest rate of confirmed COVID cases per 100k: 72,727.27\n"
     ]
    }
   ],
   "source": [
    "calculate_county_stats2(covid_df)"
   ]
  },
  {
   "cell_type": "markdown",
   "metadata": {},
   "source": [
    "<div class='exercise'><b> Exercise 3.3 [5 pts]: Simple analytics</b>\n",
    "    \n",
    "Complete the `calculate_state_deaths2()` function, **which should obtain identical information as problem 2.3 (other than ties), but now using the PANDAS `covid_df` DataFrame.**\n",
    "1. the state that has the **lowest number** of deaths\n",
    "2. the state that has the **highest number** of deaths\n",
    "\n",
    "**NOTES:**\n",
    "- If there are ties, return any of the tied states\n",
    "- Place your resulting variables within the `print()` statements that we provide (don't just manually type your textual answers in the blanks)\n",
    "- The values you report should be Integers, not Floating point numbers.\n",
    "</div>"
   ]
  },
  {
   "cell_type": "code",
   "execution_count": 26,
   "metadata": {},
   "outputs": [],
   "source": [
    "def calculate_state_deaths2(covid_df):\n",
    "    \n",
    "    # YOUR CODE HERE\n",
    "    state_deaths = covid_df.groupby('state').sum().sort_values(by=['# covid deaths'])\n",
    "    lowest = state_deaths.iloc[0]\n",
    "    highest = state_deaths.iloc[-1]\n",
    "\n",
    "    print(lowest.name + \" has the fewest COVID deaths: \" + str(lowest['# covid deaths']))\n",
    "    print(highest.name + \" has the most COVID deaths: \" + str(highest['# covid deaths']))\n",
    "    \n",
    "    # END OF YOUR CODE HERE"
   ]
  },
  {
   "cell_type": "markdown",
   "metadata": {},
   "source": [
    "Run the cell below (no changes necessary) to execute your code above"
   ]
  },
  {
   "cell_type": "code",
   "execution_count": 27,
   "metadata": {},
   "outputs": [
    {
     "name": "stdout",
     "output_type": "stream",
     "text": [
      "Hawaii has the fewest COVID deaths: 185.0\n",
      "California has the most COVID deaths: 67794.0\n"
     ]
    }
   ],
   "source": [
    "calculate_state_deaths2(covid_df)"
   ]
  },
  {
   "cell_type": "markdown",
   "metadata": {},
   "source": [
    "<div class='exercise'><b> Exercise 3.4 [5 pts]: Simple analytics</b>\n",
    "    \n",
    "Complete the `calculate_state_deathrate2()` function, **which should obtain identical information as problem 2.4, but now using the PANDAS `covid_df` DataFrame.** That is, return:\n",
    "\n",
    "1. The state that has the **lowest rate** of deaths based on its entire population\n",
    "2. The state that has the **highest rate** of deaths based on its entire population\n",
    "\n",
    "**NOTES:**\n",
    "- Just as in, 2.4, to calculate a state's population, we are asserting that is sufficient to sum the population over all counties -- and that each county's population can be calculated simply from the data fields stored within `covid_data`.\n",
    "- Just as in 2.4, counties with 0 COVID cases should contibute 0 to the total population of the state.\n",
    "- Round your results to the a single person (e.g., \"1 out of every 2703 people has died\" not 2703.4)\n",
    "- Place your resulting variables within the blanks of the `print()` statements that we provide (don't just manually type your textual answers in the blanks)\n",
    "</div>"
   ]
  },
  {
   "cell_type": "code",
   "execution_count": 28,
   "metadata": {},
   "outputs": [],
   "source": [
    "def calculate_state_deathrate2(covid_df):\n",
    "    \n",
    "    # YOUR CODE HERE\n",
    "    covid_df2 = covid_df\n",
    "    covid_df2['population'] = 100000*covid_df2['# total covid cases'] / covid_df2['# covid cases per 100k']\n",
    "    covid_df2 = covid_df2.groupby('state').sum()\n",
    "    covid_df2['death_rate'] = covid_df2['population'] / covid_df2['# covid deaths']\n",
    "    covid_df2 = covid_df2.sort_values(by=['death_rate'])\n",
    "\n",
    "    print(covid_df2.iloc[-1].name + \" has the lowest COVID death rate; 1 out of every \" + str(int(covid_df2.iloc[-1]['death_rate'])) + \" people has died\")\n",
    "    print(covid_df2.iloc[0].name + \" has the highest COVID death rate; 1 out of every \" + str(int(covid_df2.iloc[0]['death_rate'])) + \" people has died\")\n",
    "    "
   ]
  },
  {
   "cell_type": "markdown",
   "metadata": {},
   "source": [
    "Run the cell below (no changes necessary) to execute your code above"
   ]
  },
  {
   "cell_type": "code",
   "execution_count": 29,
   "metadata": {},
   "outputs": [
    {
     "name": "stdout",
     "output_type": "stream",
     "text": [
      "Hawaii has the lowest COVID death rate; 1 out of every 2384 people has died\n",
      "Mississippi has the highest COVID death rate; 1 out of every 310 people has died\n"
     ]
    }
   ],
   "source": [
    "calculate_state_deathrate2(covid_df)"
   ]
  },
  {
   "cell_type": "markdown",
   "metadata": {},
   "source": [
    "These are highly alarming and tragic statistics, and doing calculations like this can really put the severity of the virus into a grounded perspective. In order to perfectly understand the virus and its spread, everyone would be tested and we would have contact tracing. Without getting into socio-political issues, our point is that (1) we wish to better understand the virus' effects; (2) naturally, any real-world data is messy, and thus we will never have _perfect_ data.\n",
    "\n",
    "\n",
    "Let's now attempt to understand _some_ of the uncertainty around our COVID data. It's reasonable to believe that the # of COVID deaths is fairly reliable. That is, there are inevitably some false negatives -- people who died of COVID but were not accounted for, as other conditions were listed as the cause. However, the number of false positives is probably minimal -- if someone was denoted as dying from COVID, it's probably true. It's also the case that every disease has a mortality rate. For example, if 1,000 randomly-selected people contracted COVID, $N\\%$ of them will die. We'd imagine that this percentage should be pretty constant throughout all people in the United States. Of course, we can think of reasons for this rate to not be perfectly consistent, as some people are at higher risk (e.g., older folks, people with pre-existing conditions, etc). Yet, we can imagine that this natural *variance* in the population to be fairly uniform throughout the USA at large. To this end, if all counties were equal in their **testing**, we ought to see a consistent ratio between: (a) the # of people who died from COVID; and (b) the # of people who tested positive for COVID. Within the medical domain, this ratio is referred to as the `case_fatality_rate`. For example, if 750 people tested positive for COVID, and 75 of those people died, then our `case_fatality_rate` would be 0.1 (meaning 10%)."
   ]
  },
  {
   "cell_type": "markdown",
   "metadata": {},
   "source": [
    "<div class='exercise'><b>Exercise 3.5 [5 pts]: Further analytics</b>\n",
    "    \n",
    "Complete the `add_death_stats()` function below, which should add 3 new columns:\n",
    "- `case_fatality_rate`\n",
    "- `# covid deaths per 100k` and\n",
    "- `population`\n",
    "\n",
    "And return the updated DataFrame **sorted by `case_fatality_rate` in ascending order** \n",
    "\n",
    "**NOTES:**\n",
    "\n",
    "- `add_death_stats()` should return a new DataFrame that has 8 columns:\n",
    "    - county\n",
    "    - state\n",
    "    - population\n",
    "    - \\# total covid cases\n",
    "    - \\# covid cases per 100k\n",
    "    - \\# covid deaths\n",
    "    - \\# covid deaths per 100k\n",
    "    - case_fatality_rate\n",
    "- DataFrame should be sorted by `case_fatality_rate` in ascending order\n",
    "- Again, the values for `case_fatality_rate` should be < 1. A value of 1 would mean that 100% of people who tested positive for COVID also died.\n",
    "- `# covid deaths per 100k` is simply defined as the # of COVID deaths for every 100,000 people. We calculate this on a per-county basis.\n",
    "- Make sure you inspect your results thoroughly. You may have to address the results of divisions by zero (or prevent these divisions in the first place). \n",
    "</div>"
   ]
  },
  {
   "cell_type": "code",
   "execution_count": 30,
   "metadata": {},
   "outputs": [],
   "source": [
    "def add_death_stats(covid_df):\n",
    "    \n",
    "    # can add an infintesimal or fillna after the fact to handle nans from divide by 0.\n",
    "    \n",
    "    # YOUR CODE HERE\n",
    "    covid_df['population'] = 100000*covid_df['# total covid cases'] / (covid_df['# covid cases per 100k']+0.0001)\n",
    "#     covid_df.fillna(0, inplace=True)\n",
    "    covid_df[\"population\"] = covid_df[\"population\"].astype('int32')\n",
    "    \n",
    "    covid_df['# covid deaths per 100k'] = 100000*covid_df['# covid deaths'] / (covid_df['population']+0.0001)\n",
    "#     covid_df.fillna(0, inplace=True)\n",
    "    covid_df[\"# covid deaths per 100k\"] = covid_df[\"# covid deaths per 100k\"].astype('int32')\n",
    "    \n",
    "    covid_df['case_fatality_rate'] =  covid_df['# covid deaths'] / (covid_df['# total covid cases']+0.0001)\n",
    "#     covid_df.fillna(0, inplace=True)\n",
    "    covid_df = covid_df.sort_values(by=['case_fatality_rate'])\n",
    "    # END OF YOUR CODE HERE\n",
    "    return covid_df"
   ]
  },
  {
   "cell_type": "markdown",
   "metadata": {},
   "source": [
    "Run the cell below (no changes necessary) to execute your code above"
   ]
  },
  {
   "cell_type": "code",
   "execution_count": 31,
   "metadata": {},
   "outputs": [
    {
     "data": {
      "text/plain": [
       "case_fatality_rate           0.017991\n",
       "# covid deaths per 100k    241.443108\n",
       "dtype: float64"
      ]
     },
     "execution_count": 31,
     "metadata": {},
     "output_type": "execute_result"
    }
   ],
   "source": [
    "covid_updated = add_death_stats(covid_df)\n",
    "covid_updated\n",
    "covid_updated[[\"case_fatality_rate\",\"# covid deaths per 100k\"]][:-5].agg(\"mean\")"
   ]
  },
  {
   "cell_type": "markdown",
   "metadata": {},
   "source": [
    "<div class='exercise'><b>Reflection:</b> Data Analysis allows us to better understand a system or scenario.\n",
    "</div>"
   ]
  },
  {
   "cell_type": "markdown",
   "metadata": {},
   "source": [
    "<div class='exercise'><b>Exercise 3.6.1 [2 pts] Trends</b>\n",
    "    \n",
    "Having looked at the results from Exercises 3.3, 3.4, and 3.5, what are some trends you've noticed and any conclusions you have? (2-3 sentences)?</div>"
   ]
  },
  {
   "cell_type": "markdown",
   "metadata": {},
   "source": [
    "<div style='background-color:#F6FEFA;padding:15px'>\n",
    "\n",
    "**Some counties (e.g. Harding County in New Mexico) have low number or rate of cases but high case fatality rate. While some counties (e.g. Rich County in Utah) have high number or rate of cases but low case fatality rate. This may imply the effectiveness of virus control actions and the performance of local healthcare system.**\n",
    "\n",
    "</div>\n"
   ]
  },
  {
   "cell_type": "markdown",
   "metadata": {},
   "source": [
    "<div class='exercise'><b>Exercise 3.6.2 [2 pts]: Data Reliability</b>\n",
    "    \n",
    "Having looked at the results from Exercise 3.5 (i.e., `covid_updated` DataFrame), do you think the original data is reliable and accurate? Are there any potential biases that you're aware of or concerned about? Please explain (3-5 sentences).</div>"
   ]
  },
  {
   "cell_type": "markdown",
   "metadata": {},
   "source": [
    "<div style='background-color:#F6FEFA;padding:15px'>\n",
    "\n",
    "**The case fatality rate is not constant throughout the country. I doubt the reliability and accuracy of the original data because there may be biases when reporting deaths -- people who died of COVID but were not accounted for. And it is likely that not all the people are tested, so some cases were not accounted for. And there may be variations in the testing availability and capability among the counties.**\n",
    "\n",
    "</div>\n"
   ]
  },
  {
   "cell_type": "markdown",
   "metadata": {},
   "source": [
    "<div class='exercise'><b>Exercise 3.6.3 [1 pt]: Relationships Between Variables</b>\n",
    "    \n",
    "If a county has 15 confirmed deaths, how many cases would you expect? What would you expect its population to be? Explain why (1-2 sentences in total)?\n",
    "\n",
    "**NOTE:** For this question, we aren't evaluating the accuracy of your answer but your thought-process and reasoning.\n",
    "</div>"
   ]
  },
  {
   "cell_type": "markdown",
   "metadata": {},
   "source": [
    "<div style='background-color:#F6FEFA;padding:15px'>\n",
    "\n",
    "**Since the mean case fatality rate is 0.018, if a county has 15 confirmed deaths, it is expected that there are 15/0.018 = 833 cases.**\n",
    "\n",
    "</div>\n"
   ]
  },
  {
   "cell_type": "markdown",
   "metadata": {},
   "source": [
    "<div class='exercise'><b>Exercise 3.6.4 [1 pt]: Further Questions</b>\n",
    "    \n",
    "What further questions do you wish to answer about COVID, including ones that may not be possible to answer from this data alone (e.g., Is there a correlation between the average age of people in a county and the # of COVID deaths)? Write at least 3 of your questions.</div>"
   ]
  },
  {
   "cell_type": "markdown",
   "metadata": {},
   "source": [
    "<div style='background-color:#F6FEFA;padding:15px'>\n",
    "\n",
    "\n",
    "**1. How vaccination rate influences the case rate and the case fatality rate?\n",
    "2. Is keeping social distance effective on reduing the case rate?\n",
    "3. Is there a correlation between the gender and the COVID deaths/cases?**\n",
    "\n",
    "</div>\n"
   ]
  },
  {
   "cell_type": "markdown",
   "metadata": {
    "tags": []
   },
   "source": [
    "## 4. MORE DATA (25 pts)\n",
    "In order to better understand how COVID (and the testing thereof) has impacted our world, we could look at how it relates to demographics, income, education, health, and political voting. For this exercise, we will make use of `election2020_by_county.csv`."
   ]
  },
  {
   "cell_type": "markdown",
   "metadata": {},
   "source": [
    "<div class='exercise'><b>Exercise 4.1 [4 pts]: Load more data</b>\n",
    "\n",
    "Complete the `merge_data()` function, which should:\n",
    "1. First, load `election2020_by_county.csv` as a new DataFrame.\n",
    "2. Then, using the state and county names (case-sensitive) in both DataFrames, merge this new DataFrame with your existing `covid_updated`.\n",
    "3. Return the merged DataFrame\n",
    "\n",
    "The returned `merged` DataFrame should contain all 8 columns from `covid_updated`:\n",
    "- county\n",
    "- state\n",
    "- \\# total covid cases\n",
    "- \\# covid cases per 100k\n",
    "- \\# covid deaths\n",
    "- population\n",
    "- \\# covid deaths per 100k\n",
    "- case_fatality_rate\n",
    "\n",
    "along with these 15 columns from `election2020_by_county.csv`:\n",
    "- hispanic\n",
    "- minority\n",
    "- female\n",
    "- unemployed\n",
    "- income\n",
    "- nodegree\n",
    "- bachelor\n",
    "- inactivity\n",
    "- obesity\n",
    "- density\n",
    "- cancer\n",
    "- voter_turnout\n",
    "- voter_gap\n",
    "- trump\n",
    "- biden\n",
    "\n",
    "**NOTES:**\n",
    "- We are dropping two columns from `election2020_by_county.csv`:\n",
    "    - fipscode\n",
    "    - population\n",
    "- Do not attempt to manually fix any of the state or county names. That is, **our merging should require the state and county names to be identical (case-sensitive) between the two DataFrames.** If there is a discrepancy between the two, do not worry about adjusting these names to find a perfect match.\n",
    "\n",
    "**HINT:** there are many ways to solve this, but you may find the [pandas.merge()](https://pandas.pydata.org/pandas-docs/stable/reference/api/pandas.DataFrame.merge.html) function can be really helpful\n",
    "\n",
    "**EXTRA INFORMATION:** In case you're wondering what the different features/columns are in `election2020_by_county.csv`:\n",
    "\n",
    "- state: the state in which the county lies\n",
    "- fipscode: an ID to identify each county\n",
    "- county: the name of each county\n",
    "- population: total population\n",
    "- hispanic: percent of adults that are hispanic\n",
    "- minority: percent of adults that are nonwhite\n",
    "- female: percent of adults that are female\n",
    "- unemployed: unemployment rate, as a percent\n",
    "- income: median income\n",
    "- nodegree: percent of adults who have not completed high school\n",
    "- bachelor: percent of adults with a bachelor’s degree\n",
    "- inactive: percent of adults who do not exercise in their leisure time\n",
    "- obesity: percent of adults with BMI > 30\n",
    "- density: population density, persons per square mile of land\n",
    "- cancer: prevalence of cancer per 100,000 individuals\n",
    "- voter_turnout: percentage of voting age population that voted\n",
    "- voter_gap: percentage point gap in 2020 presidential voting: trump-briden\n",
    "</div>"
   ]
  },
  {
   "cell_type": "code",
   "execution_count": 32,
   "metadata": {},
   "outputs": [],
   "source": [
    "def merge_data(covid_updated, filepath):\n",
    "    \n",
    "    # YOUR CODE HERE\n",
    "    election_data = pd.read_csv(filepath).drop(columns = [\"population\", \"fipscode\"])\n",
    "    new_df = pd.merge(election_data, covid_updated,  how='inner', on=['state', 'county'])\n",
    "    # END OF YOUR CODE HERE\n",
    "    return new_df"
   ]
  },
  {
   "cell_type": "markdown",
   "metadata": {},
   "source": [
    "Run the cell below (no changes necessary) to execute your code above"
   ]
  },
  {
   "cell_type": "code",
   "execution_count": 33,
   "metadata": {},
   "outputs": [],
   "source": [
    "merged = merge_data(covid_updated, 'election2020_by_county.csv')"
   ]
  },
  {
   "cell_type": "code",
   "execution_count": 34,
   "metadata": {},
   "outputs": [
    {
     "data": {
      "text/html": [
       "<div>\n",
       "<style scoped>\n",
       "    .dataframe tbody tr th:only-of-type {\n",
       "        vertical-align: middle;\n",
       "    }\n",
       "\n",
       "    .dataframe tbody tr th {\n",
       "        vertical-align: top;\n",
       "    }\n",
       "\n",
       "    .dataframe thead th {\n",
       "        text-align: right;\n",
       "    }\n",
       "</style>\n",
       "<table border=\"1\" class=\"dataframe\">\n",
       "  <thead>\n",
       "    <tr style=\"text-align: right;\">\n",
       "      <th></th>\n",
       "      <th>state</th>\n",
       "      <th>county</th>\n",
       "      <th>hispanic</th>\n",
       "      <th>minority</th>\n",
       "      <th>female</th>\n",
       "      <th>unemployed</th>\n",
       "      <th>income</th>\n",
       "      <th>nodegree</th>\n",
       "      <th>bachelor</th>\n",
       "      <th>inactivity</th>\n",
       "      <th>...</th>\n",
       "      <th>voter_turnout</th>\n",
       "      <th>voter_gap</th>\n",
       "      <th>trump</th>\n",
       "      <th>biden</th>\n",
       "      <th># total covid cases</th>\n",
       "      <th># covid cases per 100k</th>\n",
       "      <th># covid deaths</th>\n",
       "      <th>population</th>\n",
       "      <th># covid deaths per 100k</th>\n",
       "      <th>case_fatality_rate</th>\n",
       "    </tr>\n",
       "  </thead>\n",
       "  <tbody>\n",
       "    <tr>\n",
       "      <th>0</th>\n",
       "      <td>Alabama</td>\n",
       "      <td>Autauga County</td>\n",
       "      <td>2.7</td>\n",
       "      <td>24.6</td>\n",
       "      <td>51.124718</td>\n",
       "      <td>5.2</td>\n",
       "      <td>54366</td>\n",
       "      <td>13.8</td>\n",
       "      <td>21.9</td>\n",
       "      <td>28.6</td>\n",
       "      <td>...</td>\n",
       "      <td>32.614102</td>\n",
       "      <td>44.5</td>\n",
       "      <td>71.5</td>\n",
       "      <td>27.0</td>\n",
       "      <td>9744</td>\n",
       "      <td>17440.799012</td>\n",
       "      <td>140</td>\n",
       "      <td>55868</td>\n",
       "      <td>250</td>\n",
       "      <td>0.014368</td>\n",
       "    </tr>\n",
       "    <tr>\n",
       "      <th>1</th>\n",
       "      <td>Alabama</td>\n",
       "      <td>Baldwin County</td>\n",
       "      <td>4.4</td>\n",
       "      <td>16.9</td>\n",
       "      <td>51.058714</td>\n",
       "      <td>5.5</td>\n",
       "      <td>49626</td>\n",
       "      <td>11.0</td>\n",
       "      <td>28.6</td>\n",
       "      <td>22.3</td>\n",
       "      <td>...</td>\n",
       "      <td>29.882994</td>\n",
       "      <td>53.9</td>\n",
       "      <td>76.2</td>\n",
       "      <td>22.3</td>\n",
       "      <td>36447</td>\n",
       "      <td>16326.814016</td>\n",
       "      <td>509</td>\n",
       "      <td>223233</td>\n",
       "      <td>228</td>\n",
       "      <td>0.013965</td>\n",
       "    </tr>\n",
       "    <tr>\n",
       "      <th>2</th>\n",
       "      <td>Alabama</td>\n",
       "      <td>Barbour County</td>\n",
       "      <td>4.2</td>\n",
       "      <td>54.3</td>\n",
       "      <td>46.658524</td>\n",
       "      <td>8.9</td>\n",
       "      <td>34971</td>\n",
       "      <td>25.4</td>\n",
       "      <td>13.6</td>\n",
       "      <td>31.8</td>\n",
       "      <td>...</td>\n",
       "      <td>48.408900</td>\n",
       "      <td>8.0</td>\n",
       "      <td>53.6</td>\n",
       "      <td>45.6</td>\n",
       "      <td>3490</td>\n",
       "      <td>14137.567852</td>\n",
       "      <td>71</td>\n",
       "      <td>24685</td>\n",
       "      <td>287</td>\n",
       "      <td>0.020344</td>\n",
       "    </tr>\n",
       "    <tr>\n",
       "      <th>3</th>\n",
       "      <td>Alabama</td>\n",
       "      <td>Bibb County</td>\n",
       "      <td>2.4</td>\n",
       "      <td>25.4</td>\n",
       "      <td>45.744021</td>\n",
       "      <td>6.6</td>\n",
       "      <td>39546</td>\n",
       "      <td>22.1</td>\n",
       "      <td>10.2</td>\n",
       "      <td>33.9</td>\n",
       "      <td>...</td>\n",
       "      <td>45.798890</td>\n",
       "      <td>57.7</td>\n",
       "      <td>78.4</td>\n",
       "      <td>20.7</td>\n",
       "      <td>4131</td>\n",
       "      <td>18446.905421</td>\n",
       "      <td>83</td>\n",
       "      <td>22393</td>\n",
       "      <td>370</td>\n",
       "      <td>0.020092</td>\n",
       "    </tr>\n",
       "    <tr>\n",
       "      <th>4</th>\n",
       "      <td>Alabama</td>\n",
       "      <td>Blount County</td>\n",
       "      <td>9.0</td>\n",
       "      <td>12.6</td>\n",
       "      <td>50.595661</td>\n",
       "      <td>5.4</td>\n",
       "      <td>45567</td>\n",
       "      <td>21.9</td>\n",
       "      <td>12.3</td>\n",
       "      <td>28.0</td>\n",
       "      <td>...</td>\n",
       "      <td>35.410345</td>\n",
       "      <td>80.0</td>\n",
       "      <td>89.6</td>\n",
       "      <td>9.6</td>\n",
       "      <td>9818</td>\n",
       "      <td>16978.521772</td>\n",
       "      <td>160</td>\n",
       "      <td>57825</td>\n",
       "      <td>276</td>\n",
       "      <td>0.016297</td>\n",
       "    </tr>\n",
       "  </tbody>\n",
       "</table>\n",
       "<p>5 rows × 23 columns</p>\n",
       "</div>"
      ],
      "text/plain": [
       "     state          county  hispanic  minority     female  unemployed  income  \\\n",
       "0  Alabama  Autauga County       2.7      24.6  51.124718         5.2   54366   \n",
       "1  Alabama  Baldwin County       4.4      16.9  51.058714         5.5   49626   \n",
       "2  Alabama  Barbour County       4.2      54.3  46.658524         8.9   34971   \n",
       "3  Alabama     Bibb County       2.4      25.4  45.744021         6.6   39546   \n",
       "4  Alabama   Blount County       9.0      12.6  50.595661         5.4   45567   \n",
       "\n",
       "   nodegree  bachelor  inactivity  ...  voter_turnout  voter_gap  trump  \\\n",
       "0      13.8      21.9        28.6  ...      32.614102       44.5   71.5   \n",
       "1      11.0      28.6        22.3  ...      29.882994       53.9   76.2   \n",
       "2      25.4      13.6        31.8  ...      48.408900        8.0   53.6   \n",
       "3      22.1      10.2        33.9  ...      45.798890       57.7   78.4   \n",
       "4      21.9      12.3        28.0  ...      35.410345       80.0   89.6   \n",
       "\n",
       "   biden  # total covid cases  # covid cases per 100k  # covid deaths  \\\n",
       "0   27.0                 9744            17440.799012             140   \n",
       "1   22.3                36447            16326.814016             509   \n",
       "2   45.6                 3490            14137.567852              71   \n",
       "3   20.7                 4131            18446.905421              83   \n",
       "4    9.6                 9818            16978.521772             160   \n",
       "\n",
       "   population  # covid deaths per 100k  case_fatality_rate  \n",
       "0       55868                      250            0.014368  \n",
       "1      223233                      228            0.013965  \n",
       "2       24685                      287            0.020344  \n",
       "3       22393                      370            0.020092  \n",
       "4       57825                      276            0.016297  \n",
       "\n",
       "[5 rows x 23 columns]"
      ]
     },
     "execution_count": 34,
     "metadata": {},
     "output_type": "execute_result"
    }
   ],
   "source": [
    "merged.head()"
   ]
  },
  {
   "cell_type": "code",
   "execution_count": 35,
   "metadata": {},
   "outputs": [
    {
     "data": {
      "text/plain": [
       "(3012, 23)"
      ]
     },
     "execution_count": 35,
     "metadata": {},
     "output_type": "execute_result"
    }
   ],
   "source": [
    "merged.shape"
   ]
  },
  {
   "cell_type": "markdown",
   "metadata": {},
   "source": [
    "As mentioned above, the merging requires exact matching between the two DataFrames' `state` and `county` columns. Thus, some mismatches will occur, yielding our `merged` DataFrame to have fewer rows than `covid_updated` and `election2016_by_county.csv`."
   ]
  },
  {
   "cell_type": "markdown",
   "metadata": {},
   "source": [
    "<div class='exercise'><b>Data Construction / Understanding</b>\n",
    "</div>"
   ]
  },
  {
   "cell_type": "markdown",
   "metadata": {},
   "source": [
    "<div class='exercise'><b>Exercise 4.2.1 [1 pt]: Lost Rows</b>\n",
    "    \n",
    "Compared to `covid_updated`, how many rows were lost during this merging process to create `merged`? Running the cell below should print to the screen your answer.\n",
    "</div>"
   ]
  },
  {
   "cell_type": "code",
   "execution_count": 36,
   "metadata": {},
   "outputs": [
    {
     "data": {
      "text/plain": [
       "69"
      ]
     },
     "execution_count": 36,
     "metadata": {},
     "output_type": "execute_result"
    }
   ],
   "source": [
    "# YOUR CODE HERE\n",
    "covid_updated.shape[0]-merged.shape[0]\n",
    "# END OF YOUR CODE HERE"
   ]
  },
  {
   "cell_type": "markdown",
   "metadata": {},
   "source": [
    "<div class='exercise'><b>Exercise 4.2.2 [2 pts]: Lost Counties</b>  \n",
    "\n",
    "List the county and state of *at least 3* such rows that exist in `covid_updated` but didn't make it into `merged`. Running the cell below should print to the screen your answer.\n",
    "</div>"
   ]
  },
  {
   "cell_type": "code",
   "execution_count": 37,
   "metadata": {
    "scrolled": true,
    "tags": []
   },
   "outputs": [
    {
     "data": {
      "text/html": [
       "<div>\n",
       "<style scoped>\n",
       "    .dataframe tbody tr th:only-of-type {\n",
       "        vertical-align: middle;\n",
       "    }\n",
       "\n",
       "    .dataframe tbody tr th {\n",
       "        vertical-align: top;\n",
       "    }\n",
       "\n",
       "    .dataframe thead th {\n",
       "        text-align: right;\n",
       "    }\n",
       "</style>\n",
       "<table border=\"1\" class=\"dataframe\">\n",
       "  <thead>\n",
       "    <tr style=\"text-align: right;\">\n",
       "      <th></th>\n",
       "      <th>county</th>\n",
       "      <th>state</th>\n",
       "    </tr>\n",
       "  </thead>\n",
       "  <tbody>\n",
       "    <tr>\n",
       "      <th>1108</th>\n",
       "      <td>Cameron Parish</td>\n",
       "      <td>Louisiana</td>\n",
       "    </tr>\n",
       "    <tr>\n",
       "      <th>1133</th>\n",
       "      <td>Plaquemines Parish</td>\n",
       "      <td>Louisiana</td>\n",
       "    </tr>\n",
       "    <tr>\n",
       "      <th>1124</th>\n",
       "      <td>Lafayette Parish</td>\n",
       "      <td>Louisiana</td>\n",
       "    </tr>\n",
       "  </tbody>\n",
       "</table>\n",
       "</div>"
      ],
      "text/plain": [
       "                  county      state\n",
       "1108      Cameron Parish  Louisiana\n",
       "1133  Plaquemines Parish  Louisiana\n",
       "1124    Lafayette Parish  Louisiana"
      ]
     },
     "execution_count": 37,
     "metadata": {},
     "output_type": "execute_result"
    }
   ],
   "source": [
    "# YOUR CODE HERE\n",
    "covid_updated[(~covid_updated.state.isin(merged.state))&(~covid_updated.county.isin(merged.county))].iloc[:3,:2]\n",
    "# END OF YOUR CODE HERE"
   ]
  },
  {
   "cell_type": "markdown",
   "metadata": {},
   "source": [
    "<div class='exercise'><b>Exercise 4.2.3 [2 pts]: Suggested Fixes</b>\n",
    "   \n",
    "If we needed to be highly thorough and needed comprehensive data coverage, do you have any suggestions on how we could quickly, soundly fix most or all of them? (Write 2-3 sentences.)\n",
    "    \n",
    "<b>NOTE: Please do not actually fix these mismatches; for this Exercise, it's okay that the `merged` DataFrame is smaller than `covid_updated`</b>\n",
    "</div>"
   ]
  },
  {
   "cell_type": "markdown",
   "metadata": {},
   "source": [
    "<div style='background-color:#F6FEFA;padding:15px'>\n",
    "\n",
    "**To soundly fix most or all of them, I would check data state by state. I would check if the number of counties of each state matches between two DataFrame. If not, I would check carefully the names of the counties of that state and see why there is a mismatch, and then try to fix it. This approach may not be efficient or quick.**\n",
    "\n",
    "</div>\n"
   ]
  },
  {
   "cell_type": "markdown",
   "metadata": {},
   "source": [
    "This past example demonstrates how easy it is for data to become messy. It also shows the importance of paying close attention to your data in order to understand what you are working with."
   ]
  },
  {
   "cell_type": "markdown",
   "metadata": {},
   "source": [
    "Our `case_fatality_rate` column can be viewed as an approximation of how effective and thorough *COVID testing* is for a given county.\n",
    "\n",
    "Our `# covid deaths` column can be viewed as an extreme indication of how severe *COVID* has impacted a given county.\n",
    "\n",
    "Our `# covid cases per 100k` column be viewed as middle-ground between the two aforementioned features. That is, it measures the impact of the disease and is influenced by the thoroughness of COVID testing.\n",
    "\n",
    "Using these three informative features, we can inspect how impacted each county is, while correlating this with other features of each county, such as income-level, health metrics, demographics, etc. "
   ]
  },
  {
   "cell_type": "markdown",
   "metadata": {},
   "source": [
    "<div class='exercise'><b>Exercise 4.3 [2 pts]: Cleaning the data</b>\n",
    "\n",
    "Before we do any further analysis, we first notice that some counties haven't encountered a single COVID death (usually ones with very small populations), thus providing us with little information. Write code in the cell below to update the `merged` DataFrame so that all rows with 0 deaths are removed."
   ]
  },
  {
   "cell_type": "code",
   "execution_count": 38,
   "metadata": {},
   "outputs": [],
   "source": [
    "# YOUR CODE HERE\n",
    "merged.drop(merged[merged[\"# covid deaths\"] == 0].index, inplace = True)\n",
    "# END OF YOUR CODE HERE"
   ]
  },
  {
   "cell_type": "markdown",
   "metadata": {},
   "source": [
    "Running `.describe()` allows us to quickly see summary statistics of our DataFrame"
   ]
  },
  {
   "cell_type": "code",
   "execution_count": 39,
   "metadata": {},
   "outputs": [
    {
     "data": {
      "text/html": [
       "<div>\n",
       "<style scoped>\n",
       "    .dataframe tbody tr th:only-of-type {\n",
       "        vertical-align: middle;\n",
       "    }\n",
       "\n",
       "    .dataframe tbody tr th {\n",
       "        vertical-align: top;\n",
       "    }\n",
       "\n",
       "    .dataframe thead th {\n",
       "        text-align: right;\n",
       "    }\n",
       "</style>\n",
       "<table border=\"1\" class=\"dataframe\">\n",
       "  <thead>\n",
       "    <tr style=\"text-align: right;\">\n",
       "      <th></th>\n",
       "      <th>hispanic</th>\n",
       "      <th>minority</th>\n",
       "      <th>female</th>\n",
       "      <th>unemployed</th>\n",
       "      <th>income</th>\n",
       "      <th>nodegree</th>\n",
       "      <th>bachelor</th>\n",
       "      <th>inactivity</th>\n",
       "      <th>obesity</th>\n",
       "      <th>density</th>\n",
       "      <th>...</th>\n",
       "      <th>voter_turnout</th>\n",
       "      <th>voter_gap</th>\n",
       "      <th>trump</th>\n",
       "      <th>biden</th>\n",
       "      <th># total covid cases</th>\n",
       "      <th># covid cases per 100k</th>\n",
       "      <th># covid deaths</th>\n",
       "      <th>population</th>\n",
       "      <th># covid deaths per 100k</th>\n",
       "      <th>case_fatality_rate</th>\n",
       "    </tr>\n",
       "  </thead>\n",
       "  <tbody>\n",
       "    <tr>\n",
       "      <th>count</th>\n",
       "      <td>2979.000000</td>\n",
       "      <td>2979.000000</td>\n",
       "      <td>2979.000000</td>\n",
       "      <td>2980.000000</td>\n",
       "      <td>2980.000000</td>\n",
       "      <td>2980.000000</td>\n",
       "      <td>2980.000000</td>\n",
       "      <td>2980.000000</td>\n",
       "      <td>2980.000000</td>\n",
       "      <td>2980.000000</td>\n",
       "      <td>...</td>\n",
       "      <td>2948.000000</td>\n",
       "      <td>2947.00000</td>\n",
       "      <td>2947.000000</td>\n",
       "      <td>2947.000000</td>\n",
       "      <td>2.980000e+03</td>\n",
       "      <td>2980.000000</td>\n",
       "      <td>2980.000000</td>\n",
       "      <td>2.980000e+03</td>\n",
       "      <td>2980.000000</td>\n",
       "      <td>2980.000000</td>\n",
       "    </tr>\n",
       "    <tr>\n",
       "      <th>mean</th>\n",
       "      <td>9.269923</td>\n",
       "      <td>22.517422</td>\n",
       "      <td>49.920178</td>\n",
       "      <td>5.487953</td>\n",
       "      <td>47048.403356</td>\n",
       "      <td>14.980302</td>\n",
       "      <td>19.994295</td>\n",
       "      <td>25.967215</td>\n",
       "      <td>30.991913</td>\n",
       "      <td>230.423792</td>\n",
       "      <td>...</td>\n",
       "      <td>35.495256</td>\n",
       "      <td>33.04435</td>\n",
       "      <td>65.658806</td>\n",
       "      <td>32.614455</td>\n",
       "      <td>1.370000e+04</td>\n",
       "      <td>13559.021496</td>\n",
       "      <td>217.245302</td>\n",
       "      <td>1.062304e+05</td>\n",
       "      <td>242.500671</td>\n",
       "      <td>0.018274</td>\n",
       "    </tr>\n",
       "    <tr>\n",
       "      <th>std</th>\n",
       "      <td>13.932552</td>\n",
       "      <td>19.802011</td>\n",
       "      <td>2.357197</td>\n",
       "      <td>1.955011</td>\n",
       "      <td>11929.338986</td>\n",
       "      <td>6.745876</td>\n",
       "      <td>8.727741</td>\n",
       "      <td>5.157385</td>\n",
       "      <td>4.453003</td>\n",
       "      <td>1712.200846</td>\n",
       "      <td>...</td>\n",
       "      <td>13.867068</td>\n",
       "      <td>30.87800</td>\n",
       "      <td>15.501730</td>\n",
       "      <td>15.386320</td>\n",
       "      <td>4.564694e+04</td>\n",
       "      <td>3824.722324</td>\n",
       "      <td>797.532874</td>\n",
       "      <td>3.405508e+05</td>\n",
       "      <td>124.860872</td>\n",
       "      <td>0.009811</td>\n",
       "    </tr>\n",
       "    <tr>\n",
       "      <th>min</th>\n",
       "      <td>0.000000</td>\n",
       "      <td>0.200000</td>\n",
       "      <td>19.166215</td>\n",
       "      <td>1.800000</td>\n",
       "      <td>21658.000000</td>\n",
       "      <td>1.900000</td>\n",
       "      <td>4.400000</td>\n",
       "      <td>8.100000</td>\n",
       "      <td>11.800000</td>\n",
       "      <td>0.100000</td>\n",
       "      <td>...</td>\n",
       "      <td>-168.323353</td>\n",
       "      <td>-90.00000</td>\n",
       "      <td>4.000000</td>\n",
       "      <td>3.100000</td>\n",
       "      <td>1.500000e+01</td>\n",
       "      <td>2560.000000</td>\n",
       "      <td>1.000000</td>\n",
       "      <td>4.030000e+02</td>\n",
       "      <td>11.000000</td>\n",
       "      <td>0.000978</td>\n",
       "    </tr>\n",
       "    <tr>\n",
       "      <th>25%</th>\n",
       "      <td>2.000000</td>\n",
       "      <td>6.900000</td>\n",
       "      <td>49.465483</td>\n",
       "      <td>4.100000</td>\n",
       "      <td>38910.750000</td>\n",
       "      <td>9.900000</td>\n",
       "      <td>14.000000</td>\n",
       "      <td>22.700000</td>\n",
       "      <td>28.400000</td>\n",
       "      <td>17.225000</td>\n",
       "      <td>...</td>\n",
       "      <td>27.690565</td>\n",
       "      <td>15.50000</td>\n",
       "      <td>56.850000</td>\n",
       "      <td>20.800000</td>\n",
       "      <td>1.487250e+03</td>\n",
       "      <td>11192.376477</td>\n",
       "      <td>25.000000</td>\n",
       "      <td>1.119475e+04</td>\n",
       "      <td>153.000000</td>\n",
       "      <td>0.012141</td>\n",
       "    </tr>\n",
       "    <tr>\n",
       "      <th>50%</th>\n",
       "      <td>4.000000</td>\n",
       "      <td>15.200000</td>\n",
       "      <td>50.384248</td>\n",
       "      <td>5.300000</td>\n",
       "      <td>45186.000000</td>\n",
       "      <td>13.500000</td>\n",
       "      <td>17.900000</td>\n",
       "      <td>25.800000</td>\n",
       "      <td>31.200000</td>\n",
       "      <td>44.950000</td>\n",
       "      <td>...</td>\n",
       "      <td>35.045954</td>\n",
       "      <td>39.30000</td>\n",
       "      <td>68.800000</td>\n",
       "      <td>29.500000</td>\n",
       "      <td>3.544000e+03</td>\n",
       "      <td>13526.734853</td>\n",
       "      <td>60.000000</td>\n",
       "      <td>2.625850e+04</td>\n",
       "      <td>224.000000</td>\n",
       "      <td>0.016398</td>\n",
       "    </tr>\n",
       "    <tr>\n",
       "      <th>75%</th>\n",
       "      <td>9.500000</td>\n",
       "      <td>33.700000</td>\n",
       "      <td>51.068976</td>\n",
       "      <td>6.500000</td>\n",
       "      <td>52509.250000</td>\n",
       "      <td>19.200000</td>\n",
       "      <td>23.600000</td>\n",
       "      <td>29.400000</td>\n",
       "      <td>33.800000</td>\n",
       "      <td>110.225000</td>\n",
       "      <td>...</td>\n",
       "      <td>42.474936</td>\n",
       "      <td>56.85000</td>\n",
       "      <td>77.550000</td>\n",
       "      <td>41.500000</td>\n",
       "      <td>9.314750e+03</td>\n",
       "      <td>15834.705700</td>\n",
       "      <td>146.000000</td>\n",
       "      <td>6.857525e+04</td>\n",
       "      <td>313.000000</td>\n",
       "      <td>0.022220</td>\n",
       "    </tr>\n",
       "    <tr>\n",
       "      <th>max</th>\n",
       "      <td>99.200000</td>\n",
       "      <td>99.400000</td>\n",
       "      <td>56.633907</td>\n",
       "      <td>24.000000</td>\n",
       "      <td>122641.000000</td>\n",
       "      <td>53.300000</td>\n",
       "      <td>72.000000</td>\n",
       "      <td>41.400000</td>\n",
       "      <td>47.600000</td>\n",
       "      <td>69468.400000</td>\n",
       "      <td>...</td>\n",
       "      <td>100.000000</td>\n",
       "      <td>93.10000</td>\n",
       "      <td>96.200000</td>\n",
       "      <td>94.000000</td>\n",
       "      <td>1.393388e+06</td>\n",
       "      <td>72727.272727</td>\n",
       "      <td>26093.000000</td>\n",
       "      <td>1.003911e+07</td>\n",
       "      <td>943.000000</td>\n",
       "      <td>0.124999</td>\n",
       "    </tr>\n",
       "  </tbody>\n",
       "</table>\n",
       "<p>8 rows × 21 columns</p>\n",
       "</div>"
      ],
      "text/plain": [
       "          hispanic     minority       female   unemployed         income  \\\n",
       "count  2979.000000  2979.000000  2979.000000  2980.000000    2980.000000   \n",
       "mean      9.269923    22.517422    49.920178     5.487953   47048.403356   \n",
       "std      13.932552    19.802011     2.357197     1.955011   11929.338986   \n",
       "min       0.000000     0.200000    19.166215     1.800000   21658.000000   \n",
       "25%       2.000000     6.900000    49.465483     4.100000   38910.750000   \n",
       "50%       4.000000    15.200000    50.384248     5.300000   45186.000000   \n",
       "75%       9.500000    33.700000    51.068976     6.500000   52509.250000   \n",
       "max      99.200000    99.400000    56.633907    24.000000  122641.000000   \n",
       "\n",
       "          nodegree     bachelor   inactivity      obesity       density  ...  \\\n",
       "count  2980.000000  2980.000000  2980.000000  2980.000000   2980.000000  ...   \n",
       "mean     14.980302    19.994295    25.967215    30.991913    230.423792  ...   \n",
       "std       6.745876     8.727741     5.157385     4.453003   1712.200846  ...   \n",
       "min       1.900000     4.400000     8.100000    11.800000      0.100000  ...   \n",
       "25%       9.900000    14.000000    22.700000    28.400000     17.225000  ...   \n",
       "50%      13.500000    17.900000    25.800000    31.200000     44.950000  ...   \n",
       "75%      19.200000    23.600000    29.400000    33.800000    110.225000  ...   \n",
       "max      53.300000    72.000000    41.400000    47.600000  69468.400000  ...   \n",
       "\n",
       "       voter_turnout   voter_gap        trump        biden  \\\n",
       "count    2948.000000  2947.00000  2947.000000  2947.000000   \n",
       "mean       35.495256    33.04435    65.658806    32.614455   \n",
       "std        13.867068    30.87800    15.501730    15.386320   \n",
       "min      -168.323353   -90.00000     4.000000     3.100000   \n",
       "25%        27.690565    15.50000    56.850000    20.800000   \n",
       "50%        35.045954    39.30000    68.800000    29.500000   \n",
       "75%        42.474936    56.85000    77.550000    41.500000   \n",
       "max       100.000000    93.10000    96.200000    94.000000   \n",
       "\n",
       "       # total covid cases  # covid cases per 100k  # covid deaths  \\\n",
       "count         2.980000e+03             2980.000000     2980.000000   \n",
       "mean          1.370000e+04            13559.021496      217.245302   \n",
       "std           4.564694e+04             3824.722324      797.532874   \n",
       "min           1.500000e+01             2560.000000        1.000000   \n",
       "25%           1.487250e+03            11192.376477       25.000000   \n",
       "50%           3.544000e+03            13526.734853       60.000000   \n",
       "75%           9.314750e+03            15834.705700      146.000000   \n",
       "max           1.393388e+06            72727.272727    26093.000000   \n",
       "\n",
       "         population  # covid deaths per 100k  case_fatality_rate  \n",
       "count  2.980000e+03              2980.000000         2980.000000  \n",
       "mean   1.062304e+05               242.500671            0.018274  \n",
       "std    3.405508e+05               124.860872            0.009811  \n",
       "min    4.030000e+02                11.000000            0.000978  \n",
       "25%    1.119475e+04               153.000000            0.012141  \n",
       "50%    2.625850e+04               224.000000            0.016398  \n",
       "75%    6.857525e+04               313.000000            0.022220  \n",
       "max    1.003911e+07               943.000000            0.124999  \n",
       "\n",
       "[8 rows x 21 columns]"
      ]
     },
     "execution_count": 39,
     "metadata": {},
     "output_type": "execute_result"
    }
   ],
   "source": [
    "merged.describe()"
   ]
  },
  {
   "cell_type": "markdown",
   "metadata": {},
   "source": [
    "Using the information reported from `.describe()`, we can imagine dividing our DataFrame into 4 separate bins, based on the distribution for any given feature. Specifically, based on a particular feature:\n",
    "- the $1^{st}$ bin will be the data that has values between the **min** and **25%**\n",
    "- the $2^{nd}$ bin will be the data that has values between **25%** and **50%**\n",
    "- the $3^{rd}$ bin will be the data that has values between **50%** and **75%**\n",
    "- the $4^{th}$ bin will be the data that has values between **75%** and **max**\n",
    "\n",
    "<div class='exercise'><b>Exercise 4.4 [3 pts]: Partitioning our data</b>\n",
    "    \n",
    "Complete the `partition_df()` function, which takes as input:\n",
    "- DataFrame to work with\n",
    "- feature (e.g., obesity) to filter by\n",
    "- minimum value\n",
    "- maximum value\n",
    "\n",
    "and outputs:\n",
    "- a subset of the DataFrame that has values between the passed-in minimum and maximum values (inclusively) for the passed-in feature.\n",
    "\n",
    "For example, if we called `partition_df(merged, 'obesity', 30, 45)`, it should return a subset of the `merged` DataFrame that has obesity values between 30 and 45 (and including the boundary values of 30 and 45).\n",
    "</div>"
   ]
  },
  {
   "cell_type": "code",
   "execution_count": 40,
   "metadata": {},
   "outputs": [],
   "source": [
    "def partition_df(df, column_name, minv, maxv):\n",
    "    # YOUR CODE HERE\n",
    "    return df[(df[column_name] >= minv) & (df[column_name] <= maxv)]\n",
    "    # END OF YOUR CODE HERE"
   ]
  },
  {
   "cell_type": "markdown",
   "metadata": {},
   "source": [
    "<div class='exercise'><b>Exercise 4.5: [4 pts] Exploratory Data Analysis</b>\n",
    "    \n",
    "Identify a few features that you're interested in, and inspect if there's any correlation with the COVID data. Specifically, simply run your `partition_df()` function below, many times, each with a different subset of the data -- select a range of values and a particular feature. For example, if I'm interested in __cancer__, I could look at the 4 quartiles (per `.describe()`) and use those ranges of values as I repeatedly execute `partition_df()`. For this exercise, after running the function several times, **write 3-5 sentences about any patterns or correlations you noticed or didn't notice but expected to find.**\n",
    "</div>"
   ]
  },
  {
   "cell_type": "code",
   "execution_count": 41,
   "metadata": {},
   "outputs": [
    {
     "data": {
      "text/html": [
       "<div>\n",
       "<style scoped>\n",
       "    .dataframe tbody tr th:only-of-type {\n",
       "        vertical-align: middle;\n",
       "    }\n",
       "\n",
       "    .dataframe tbody tr th {\n",
       "        vertical-align: top;\n",
       "    }\n",
       "\n",
       "    .dataframe thead th {\n",
       "        text-align: right;\n",
       "    }\n",
       "</style>\n",
       "<table border=\"1\" class=\"dataframe\">\n",
       "  <thead>\n",
       "    <tr style=\"text-align: right;\">\n",
       "      <th></th>\n",
       "      <th>income</th>\n",
       "      <th>case_fatality_rate</th>\n",
       "      <th># covid deaths</th>\n",
       "      <th># covid cases per 100k</th>\n",
       "    </tr>\n",
       "  </thead>\n",
       "  <tbody>\n",
       "    <tr>\n",
       "      <th>count</th>\n",
       "      <td>744.000000</td>\n",
       "      <td>744.000000</td>\n",
       "      <td>744.000000</td>\n",
       "      <td>744.000000</td>\n",
       "    </tr>\n",
       "    <tr>\n",
       "      <th>mean</th>\n",
       "      <td>62782.083333</td>\n",
       "      <td>0.014827</td>\n",
       "      <td>413.029570</td>\n",
       "      <td>12513.126235</td>\n",
       "    </tr>\n",
       "    <tr>\n",
       "      <th>std</th>\n",
       "      <td>10846.709298</td>\n",
       "      <td>0.007202</td>\n",
       "      <td>1354.125664</td>\n",
       "      <td>3925.955279</td>\n",
       "    </tr>\n",
       "    <tr>\n",
       "      <th>min</th>\n",
       "      <td>52526.000000</td>\n",
       "      <td>0.001666</td>\n",
       "      <td>1.000000</td>\n",
       "      <td>3119.250826</td>\n",
       "    </tr>\n",
       "    <tr>\n",
       "      <th>25%</th>\n",
       "      <td>55136.750000</td>\n",
       "      <td>0.010051</td>\n",
       "      <td>27.000000</td>\n",
       "      <td>10317.027003</td>\n",
       "    </tr>\n",
       "    <tr>\n",
       "      <th>50%</th>\n",
       "      <td>59182.500000</td>\n",
       "      <td>0.013516</td>\n",
       "      <td>95.000000</td>\n",
       "      <td>12647.279597</td>\n",
       "    </tr>\n",
       "    <tr>\n",
       "      <th>75%</th>\n",
       "      <td>66893.250000</td>\n",
       "      <td>0.018256</td>\n",
       "      <td>315.000000</td>\n",
       "      <td>14752.308555</td>\n",
       "    </tr>\n",
       "    <tr>\n",
       "      <th>max</th>\n",
       "      <td>122641.000000</td>\n",
       "      <td>0.062500</td>\n",
       "      <td>26093.000000</td>\n",
       "      <td>72727.272727</td>\n",
       "    </tr>\n",
       "  </tbody>\n",
       "</table>\n",
       "</div>"
      ],
      "text/plain": [
       "              income  case_fatality_rate  # covid deaths  \\\n",
       "count     744.000000          744.000000      744.000000   \n",
       "mean    62782.083333            0.014827      413.029570   \n",
       "std     10846.709298            0.007202     1354.125664   \n",
       "min     52526.000000            0.001666        1.000000   \n",
       "25%     55136.750000            0.010051       27.000000   \n",
       "50%     59182.500000            0.013516       95.000000   \n",
       "75%     66893.250000            0.018256      315.000000   \n",
       "max    122641.000000            0.062500    26093.000000   \n",
       "\n",
       "       # covid cases per 100k  \n",
       "count              744.000000  \n",
       "mean             12513.126235  \n",
       "std               3925.955279  \n",
       "min               3119.250826  \n",
       "25%              10317.027003  \n",
       "50%              12647.279597  \n",
       "75%              14752.308555  \n",
       "max              72727.272727  "
      ]
     },
     "execution_count": 41,
     "metadata": {},
     "output_type": "execute_result"
    }
   ],
   "source": [
    "# YOUR CODE HERE\n",
    "partition_df(merged, 'income', merged['income'].min(), merged['income'].max())[[\"income\",\"case_fatality_rate\", \"# covid deaths\", \"# covid cases per 100k\"]].describe()\n",
    "# 0.018416\n",
    "partition_df(merged, 'income', merged['income'].min(), 38895)[[\"income\",\"case_fatality_rate\", \"# covid deaths\", \"# covid cases per 100k\"]].describe()\n",
    "# 0.022442\n",
    "partition_df(merged, 'income', 38895, 45192)[[\"income\",\"case_fatality_rate\", \"# covid deaths\", \"# covid cases per 100k\"]].describe()\n",
    "# 0.019062\n",
    "partition_df(merged, 'income', 45192, 52526)[[\"income\",\"case_fatality_rate\", \"# covid deaths\", \"# covid cases per 100k\"]].describe()\n",
    "# 0.017060\n",
    "partition_df(merged, 'income', 52526, merged['income'].max())[[\"income\",\"case_fatality_rate\", \"# covid deaths\", \"# covid cases per 100k\"]].describe()\n",
    "# 0.015099\n",
    "# END OF YOUR CODE HERE\n"
   ]
  },
  {
   "cell_type": "markdown",
   "metadata": {},
   "source": [
    "<div style='background-color:#F6FEFA;padding:15px'>\n",
    "\n",
    "**I expect county with high average income would have low case fatality rate. After runing for several times and check the mean value of case fatality rate, I find that county with higher average income has lower case fatality rate on average. One guess is that people living in the counties with higher average income probably have better access to healthcare system, thus lower rate of case fatality.**\n",
    "\n",
    "</div>\n"
   ]
  },
  {
   "cell_type": "markdown",
   "metadata": {},
   "source": [
    "`.describe()` provides these nice summary statistics over any portion of data that we give it. Instead of iteratively inspecting several subsets of the data, let's actually split our DataFrame into new categories; instead of representing all features by floating point numbers, let's create new _categorical_ names for feature(s) based on their numbers. The code below does just this. It creates a new column, `income group` that has 4 possible values, each one corresponding to a quartile of the original `income` values. \n",
    "\n",
    "Run the cell below."
   ]
  },
  {
   "cell_type": "code",
   "execution_count": 42,
   "metadata": {},
   "outputs": [
    {
     "data": {
      "text/html": [
       "<div>\n",
       "<style scoped>\n",
       "    .dataframe tbody tr th:only-of-type {\n",
       "        vertical-align: middle;\n",
       "    }\n",
       "\n",
       "    .dataframe tbody tr th {\n",
       "        vertical-align: top;\n",
       "    }\n",
       "\n",
       "    .dataframe thead th {\n",
       "        text-align: right;\n",
       "    }\n",
       "</style>\n",
       "<table border=\"1\" class=\"dataframe\">\n",
       "  <thead>\n",
       "    <tr style=\"text-align: right;\">\n",
       "      <th></th>\n",
       "      <th>state</th>\n",
       "      <th>county</th>\n",
       "      <th>hispanic</th>\n",
       "      <th>minority</th>\n",
       "      <th>female</th>\n",
       "      <th>unemployed</th>\n",
       "      <th>income</th>\n",
       "      <th>nodegree</th>\n",
       "      <th>bachelor</th>\n",
       "      <th>inactivity</th>\n",
       "      <th>...</th>\n",
       "      <th>voter_gap</th>\n",
       "      <th>trump</th>\n",
       "      <th>biden</th>\n",
       "      <th># total covid cases</th>\n",
       "      <th># covid cases per 100k</th>\n",
       "      <th># covid deaths</th>\n",
       "      <th>population</th>\n",
       "      <th># covid deaths per 100k</th>\n",
       "      <th>case_fatality_rate</th>\n",
       "      <th>income group</th>\n",
       "    </tr>\n",
       "  </thead>\n",
       "  <tbody>\n",
       "    <tr>\n",
       "      <th>0</th>\n",
       "      <td>Alabama</td>\n",
       "      <td>Autauga County</td>\n",
       "      <td>2.7</td>\n",
       "      <td>24.6</td>\n",
       "      <td>51.124718</td>\n",
       "      <td>5.2</td>\n",
       "      <td>54366</td>\n",
       "      <td>13.8</td>\n",
       "      <td>21.9</td>\n",
       "      <td>28.6</td>\n",
       "      <td>...</td>\n",
       "      <td>44.5</td>\n",
       "      <td>71.5</td>\n",
       "      <td>27.0</td>\n",
       "      <td>9744</td>\n",
       "      <td>17440.799012</td>\n",
       "      <td>140</td>\n",
       "      <td>55868</td>\n",
       "      <td>250</td>\n",
       "      <td>0.014368</td>\n",
       "      <td>income-group-4</td>\n",
       "    </tr>\n",
       "    <tr>\n",
       "      <th>1</th>\n",
       "      <td>Alabama</td>\n",
       "      <td>Baldwin County</td>\n",
       "      <td>4.4</td>\n",
       "      <td>16.9</td>\n",
       "      <td>51.058714</td>\n",
       "      <td>5.5</td>\n",
       "      <td>49626</td>\n",
       "      <td>11.0</td>\n",
       "      <td>28.6</td>\n",
       "      <td>22.3</td>\n",
       "      <td>...</td>\n",
       "      <td>53.9</td>\n",
       "      <td>76.2</td>\n",
       "      <td>22.3</td>\n",
       "      <td>36447</td>\n",
       "      <td>16326.814016</td>\n",
       "      <td>509</td>\n",
       "      <td>223233</td>\n",
       "      <td>228</td>\n",
       "      <td>0.013965</td>\n",
       "      <td>income-group-3</td>\n",
       "    </tr>\n",
       "    <tr>\n",
       "      <th>2</th>\n",
       "      <td>Alabama</td>\n",
       "      <td>Barbour County</td>\n",
       "      <td>4.2</td>\n",
       "      <td>54.3</td>\n",
       "      <td>46.658524</td>\n",
       "      <td>8.9</td>\n",
       "      <td>34971</td>\n",
       "      <td>25.4</td>\n",
       "      <td>13.6</td>\n",
       "      <td>31.8</td>\n",
       "      <td>...</td>\n",
       "      <td>8.0</td>\n",
       "      <td>53.6</td>\n",
       "      <td>45.6</td>\n",
       "      <td>3490</td>\n",
       "      <td>14137.567852</td>\n",
       "      <td>71</td>\n",
       "      <td>24685</td>\n",
       "      <td>287</td>\n",
       "      <td>0.020344</td>\n",
       "      <td>income-group-1</td>\n",
       "    </tr>\n",
       "    <tr>\n",
       "      <th>3</th>\n",
       "      <td>Alabama</td>\n",
       "      <td>Bibb County</td>\n",
       "      <td>2.4</td>\n",
       "      <td>25.4</td>\n",
       "      <td>45.744021</td>\n",
       "      <td>6.6</td>\n",
       "      <td>39546</td>\n",
       "      <td>22.1</td>\n",
       "      <td>10.2</td>\n",
       "      <td>33.9</td>\n",
       "      <td>...</td>\n",
       "      <td>57.7</td>\n",
       "      <td>78.4</td>\n",
       "      <td>20.7</td>\n",
       "      <td>4131</td>\n",
       "      <td>18446.905421</td>\n",
       "      <td>83</td>\n",
       "      <td>22393</td>\n",
       "      <td>370</td>\n",
       "      <td>0.020092</td>\n",
       "      <td>income-group-2</td>\n",
       "    </tr>\n",
       "    <tr>\n",
       "      <th>4</th>\n",
       "      <td>Alabama</td>\n",
       "      <td>Blount County</td>\n",
       "      <td>9.0</td>\n",
       "      <td>12.6</td>\n",
       "      <td>50.595661</td>\n",
       "      <td>5.4</td>\n",
       "      <td>45567</td>\n",
       "      <td>21.9</td>\n",
       "      <td>12.3</td>\n",
       "      <td>28.0</td>\n",
       "      <td>...</td>\n",
       "      <td>80.0</td>\n",
       "      <td>89.6</td>\n",
       "      <td>9.6</td>\n",
       "      <td>9818</td>\n",
       "      <td>16978.521772</td>\n",
       "      <td>160</td>\n",
       "      <td>57825</td>\n",
       "      <td>276</td>\n",
       "      <td>0.016297</td>\n",
       "      <td>income-group-3</td>\n",
       "    </tr>\n",
       "    <tr>\n",
       "      <th>...</th>\n",
       "      <td>...</td>\n",
       "      <td>...</td>\n",
       "      <td>...</td>\n",
       "      <td>...</td>\n",
       "      <td>...</td>\n",
       "      <td>...</td>\n",
       "      <td>...</td>\n",
       "      <td>...</td>\n",
       "      <td>...</td>\n",
       "      <td>...</td>\n",
       "      <td>...</td>\n",
       "      <td>...</td>\n",
       "      <td>...</td>\n",
       "      <td>...</td>\n",
       "      <td>...</td>\n",
       "      <td>...</td>\n",
       "      <td>...</td>\n",
       "      <td>...</td>\n",
       "      <td>...</td>\n",
       "      <td>...</td>\n",
       "      <td>...</td>\n",
       "    </tr>\n",
       "    <tr>\n",
       "      <th>3007</th>\n",
       "      <td>Wyoming</td>\n",
       "      <td>Sweetwater County</td>\n",
       "      <td>16.0</td>\n",
       "      <td>20.4</td>\n",
       "      <td>48.388618</td>\n",
       "      <td>4.6</td>\n",
       "      <td>72604</td>\n",
       "      <td>9.5</td>\n",
       "      <td>18.1</td>\n",
       "      <td>26.0</td>\n",
       "      <td>...</td>\n",
       "      <td>50.7</td>\n",
       "      <td>73.7</td>\n",
       "      <td>23.0</td>\n",
       "      <td>6907</td>\n",
       "      <td>16312.023239</td>\n",
       "      <td>65</td>\n",
       "      <td>42342</td>\n",
       "      <td>153</td>\n",
       "      <td>0.009411</td>\n",
       "      <td>income-group-4</td>\n",
       "    </tr>\n",
       "    <tr>\n",
       "      <th>3008</th>\n",
       "      <td>Wyoming</td>\n",
       "      <td>Teton County</td>\n",
       "      <td>15.0</td>\n",
       "      <td>18.5</td>\n",
       "      <td>46.913580</td>\n",
       "      <td>3.8</td>\n",
       "      <td>75348</td>\n",
       "      <td>4.3</td>\n",
       "      <td>51.9</td>\n",
       "      <td>10.8</td>\n",
       "      <td>...</td>\n",
       "      <td>-37.5</td>\n",
       "      <td>29.6</td>\n",
       "      <td>67.1</td>\n",
       "      <td>4941</td>\n",
       "      <td>21057.790658</td>\n",
       "      <td>13</td>\n",
       "      <td>23463</td>\n",
       "      <td>55</td>\n",
       "      <td>0.002631</td>\n",
       "      <td>income-group-4</td>\n",
       "    </tr>\n",
       "    <tr>\n",
       "      <th>3009</th>\n",
       "      <td>Wyoming</td>\n",
       "      <td>Uinta County</td>\n",
       "      <td>9.1</td>\n",
       "      <td>12.3</td>\n",
       "      <td>48.969072</td>\n",
       "      <td>4.9</td>\n",
       "      <td>56800</td>\n",
       "      <td>10.8</td>\n",
       "      <td>18.7</td>\n",
       "      <td>21.5</td>\n",
       "      <td>...</td>\n",
       "      <td>62.8</td>\n",
       "      <td>79.7</td>\n",
       "      <td>16.9</td>\n",
       "      <td>3520</td>\n",
       "      <td>17403.342233</td>\n",
       "      <td>25</td>\n",
       "      <td>20225</td>\n",
       "      <td>123</td>\n",
       "      <td>0.007102</td>\n",
       "      <td>income-group-4</td>\n",
       "    </tr>\n",
       "    <tr>\n",
       "      <th>3010</th>\n",
       "      <td>Wyoming</td>\n",
       "      <td>Washakie County</td>\n",
       "      <td>14.2</td>\n",
       "      <td>17.8</td>\n",
       "      <td>50.102993</td>\n",
       "      <td>4.0</td>\n",
       "      <td>50802</td>\n",
       "      <td>10.9</td>\n",
       "      <td>21.2</td>\n",
       "      <td>24.4</td>\n",
       "      <td>...</td>\n",
       "      <td>64.7</td>\n",
       "      <td>80.9</td>\n",
       "      <td>16.2</td>\n",
       "      <td>1368</td>\n",
       "      <td>17527.226137</td>\n",
       "      <td>27</td>\n",
       "      <td>7804</td>\n",
       "      <td>345</td>\n",
       "      <td>0.019737</td>\n",
       "      <td>income-group-3</td>\n",
       "    </tr>\n",
       "    <tr>\n",
       "      <th>3011</th>\n",
       "      <td>Wyoming</td>\n",
       "      <td>Weston County</td>\n",
       "      <td>1.4</td>\n",
       "      <td>8.4</td>\n",
       "      <td>47.224954</td>\n",
       "      <td>3.3</td>\n",
       "      <td>55520</td>\n",
       "      <td>11.4</td>\n",
       "      <td>16.8</td>\n",
       "      <td>22.6</td>\n",
       "      <td>...</td>\n",
       "      <td>77.5</td>\n",
       "      <td>87.7</td>\n",
       "      <td>10.2</td>\n",
       "      <td>904</td>\n",
       "      <td>13050.382561</td>\n",
       "      <td>8</td>\n",
       "      <td>6926</td>\n",
       "      <td>115</td>\n",
       "      <td>0.008850</td>\n",
       "      <td>income-group-4</td>\n",
       "    </tr>\n",
       "  </tbody>\n",
       "</table>\n",
       "<p>2980 rows × 24 columns</p>\n",
       "</div>"
      ],
      "text/plain": [
       "        state             county  hispanic  minority     female  unemployed  \\\n",
       "0     Alabama     Autauga County       2.7      24.6  51.124718         5.2   \n",
       "1     Alabama     Baldwin County       4.4      16.9  51.058714         5.5   \n",
       "2     Alabama     Barbour County       4.2      54.3  46.658524         8.9   \n",
       "3     Alabama        Bibb County       2.4      25.4  45.744021         6.6   \n",
       "4     Alabama      Blount County       9.0      12.6  50.595661         5.4   \n",
       "...       ...                ...       ...       ...        ...         ...   \n",
       "3007  Wyoming  Sweetwater County      16.0      20.4  48.388618         4.6   \n",
       "3008  Wyoming       Teton County      15.0      18.5  46.913580         3.8   \n",
       "3009  Wyoming       Uinta County       9.1      12.3  48.969072         4.9   \n",
       "3010  Wyoming    Washakie County      14.2      17.8  50.102993         4.0   \n",
       "3011  Wyoming      Weston County       1.4       8.4  47.224954         3.3   \n",
       "\n",
       "      income  nodegree  bachelor  inactivity  ...  voter_gap  trump  biden  \\\n",
       "0      54366      13.8      21.9        28.6  ...       44.5   71.5   27.0   \n",
       "1      49626      11.0      28.6        22.3  ...       53.9   76.2   22.3   \n",
       "2      34971      25.4      13.6        31.8  ...        8.0   53.6   45.6   \n",
       "3      39546      22.1      10.2        33.9  ...       57.7   78.4   20.7   \n",
       "4      45567      21.9      12.3        28.0  ...       80.0   89.6    9.6   \n",
       "...      ...       ...       ...         ...  ...        ...    ...    ...   \n",
       "3007   72604       9.5      18.1        26.0  ...       50.7   73.7   23.0   \n",
       "3008   75348       4.3      51.9        10.8  ...      -37.5   29.6   67.1   \n",
       "3009   56800      10.8      18.7        21.5  ...       62.8   79.7   16.9   \n",
       "3010   50802      10.9      21.2        24.4  ...       64.7   80.9   16.2   \n",
       "3011   55520      11.4      16.8        22.6  ...       77.5   87.7   10.2   \n",
       "\n",
       "      # total covid cases  # covid cases per 100k  # covid deaths  population  \\\n",
       "0                    9744            17440.799012             140       55868   \n",
       "1                   36447            16326.814016             509      223233   \n",
       "2                    3490            14137.567852              71       24685   \n",
       "3                    4131            18446.905421              83       22393   \n",
       "4                    9818            16978.521772             160       57825   \n",
       "...                   ...                     ...             ...         ...   \n",
       "3007                 6907            16312.023239              65       42342   \n",
       "3008                 4941            21057.790658              13       23463   \n",
       "3009                 3520            17403.342233              25       20225   \n",
       "3010                 1368            17527.226137              27        7804   \n",
       "3011                  904            13050.382561               8        6926   \n",
       "\n",
       "      # covid deaths per 100k  case_fatality_rate    income group  \n",
       "0                         250            0.014368  income-group-4  \n",
       "1                         228            0.013965  income-group-3  \n",
       "2                         287            0.020344  income-group-1  \n",
       "3                         370            0.020092  income-group-2  \n",
       "4                         276            0.016297  income-group-3  \n",
       "...                       ...                 ...             ...  \n",
       "3007                      153            0.009411  income-group-4  \n",
       "3008                       55            0.002631  income-group-4  \n",
       "3009                      123            0.007102  income-group-4  \n",
       "3010                      345            0.019737  income-group-3  \n",
       "3011                      115            0.008850  income-group-4  \n",
       "\n",
       "[2980 rows x 24 columns]"
      ]
     },
     "execution_count": 42,
     "metadata": {},
     "output_type": "execute_result"
    }
   ],
   "source": [
    "bins = [0, 38000, 45000, 52000, 200000]\n",
    "names = ['income-group-1', 'income-group-2', 'income-group-3', 'income-group-4']\n",
    "d = dict(enumerate(names, 1))\n",
    "merged['income group'] = np.vectorize(d.get)(np.digitize(merged['income'], bins))\n",
    "merged\n"
   ]
  },
  {
   "cell_type": "markdown",
   "metadata": {},
   "source": [
    "<div class='exercise'><b>Exercise 4.6 [5 pts]: Aggregate data</b>\n",
    "    \n",
    "    \n",
    "Write code in the cell below to group (and display) the data according to the 4 income groups. Also, while we will still keep the same columns (i.e, features), the values of each should now represent the __average__ value of all rows that were subsumed in the making of the aggregate income-group. Your resulting DataFrame should have just 4 rows (income-group-1, income-group-2, income-group-3, income-group-4). See example in the cell below.\n",
    "\n",
    "\n",
    "Since every feature (except for `# total cases`, `# covid deaths`, and `population`) was already an average value corresponding to a particular __county__, when we aggregate our data by income groups, we are effectively taking an average of an average. Many counties are being aggregated for each income-group row. This approach isn't as accurate as possible; it would be more accurate if we re-adjusted every value so that it was truly an average that was based on the total __population__ of all counties that are subsumed within a given income-group row. That's okay, though. An average of averages will suffice for the purpose of this exercise. \n",
    "</div>"
   ]
  },
  {
   "cell_type": "code",
   "execution_count": 43,
   "metadata": {},
   "outputs": [
    {
     "data": {
      "text/html": [
       "<div>\n",
       "<style scoped>\n",
       "    .dataframe tbody tr th:only-of-type {\n",
       "        vertical-align: middle;\n",
       "    }\n",
       "\n",
       "    .dataframe tbody tr th {\n",
       "        vertical-align: top;\n",
       "    }\n",
       "\n",
       "    .dataframe thead th {\n",
       "        text-align: right;\n",
       "    }\n",
       "</style>\n",
       "<table border=\"1\" class=\"dataframe\">\n",
       "  <thead>\n",
       "    <tr style=\"text-align: right;\">\n",
       "      <th></th>\n",
       "      <th>hispanic</th>\n",
       "      <th>minority</th>\n",
       "      <th>female</th>\n",
       "      <th>unemployed</th>\n",
       "      <th>income</th>\n",
       "      <th>nodegree</th>\n",
       "      <th>bachelor</th>\n",
       "      <th>inactivity</th>\n",
       "      <th>obesity</th>\n",
       "      <th>density</th>\n",
       "      <th>...</th>\n",
       "      <th>voter_turnout</th>\n",
       "      <th>voter_gap</th>\n",
       "      <th>trump</th>\n",
       "      <th>biden</th>\n",
       "      <th># total covid cases</th>\n",
       "      <th># covid cases per 100k</th>\n",
       "      <th># covid deaths</th>\n",
       "      <th>population</th>\n",
       "      <th># covid deaths per 100k</th>\n",
       "      <th>case_fatality_rate</th>\n",
       "    </tr>\n",
       "    <tr>\n",
       "      <th>income group</th>\n",
       "      <th></th>\n",
       "      <th></th>\n",
       "      <th></th>\n",
       "      <th></th>\n",
       "      <th></th>\n",
       "      <th></th>\n",
       "      <th></th>\n",
       "      <th></th>\n",
       "      <th></th>\n",
       "      <th></th>\n",
       "      <th></th>\n",
       "      <th></th>\n",
       "      <th></th>\n",
       "      <th></th>\n",
       "      <th></th>\n",
       "      <th></th>\n",
       "      <th></th>\n",
       "      <th></th>\n",
       "      <th></th>\n",
       "      <th></th>\n",
       "      <th></th>\n",
       "    </tr>\n",
       "  </thead>\n",
       "  <tbody>\n",
       "    <tr>\n",
       "      <th>income-group-1</th>\n",
       "      <td>9.138779</td>\n",
       "      <td>32.366718</td>\n",
       "      <td>50.002613</td>\n",
       "      <td>7.272366</td>\n",
       "      <td>33921.184733</td>\n",
       "      <td>21.991145</td>\n",
       "      <td>13.595420</td>\n",
       "      <td>30.101985</td>\n",
       "      <td>33.647328</td>\n",
       "      <td>87.845954</td>\n",
       "      <td>...</td>\n",
       "      <td>41.844069</td>\n",
       "      <td>33.203988</td>\n",
       "      <td>65.926074</td>\n",
       "      <td>32.722086</td>\n",
       "      <td>4199.928244</td>\n",
       "      <td>14860.215352</td>\n",
       "      <td>90.806107</td>\n",
       "      <td>27821.511450</td>\n",
       "      <td>319.287023</td>\n",
       "      <td>0.023005</td>\n",
       "    </tr>\n",
       "    <tr>\n",
       "      <th>income-group-2</th>\n",
       "      <td>8.869704</td>\n",
       "      <td>20.386946</td>\n",
       "      <td>49.813455</td>\n",
       "      <td>5.718696</td>\n",
       "      <td>41627.992620</td>\n",
       "      <td>15.617712</td>\n",
       "      <td>17.565068</td>\n",
       "      <td>26.996187</td>\n",
       "      <td>31.489914</td>\n",
       "      <td>131.076630</td>\n",
       "      <td>...</td>\n",
       "      <td>37.075902</td>\n",
       "      <td>40.729543</td>\n",
       "      <td>69.545117</td>\n",
       "      <td>28.815575</td>\n",
       "      <td>9196.046740</td>\n",
       "      <td>13699.776105</td>\n",
       "      <td>152.997540</td>\n",
       "      <td>64544.897909</td>\n",
       "      <td>254.797048</td>\n",
       "      <td>0.019052</td>\n",
       "    </tr>\n",
       "    <tr>\n",
       "      <th>income-group-3</th>\n",
       "      <td>8.861281</td>\n",
       "      <td>17.989833</td>\n",
       "      <td>49.863410</td>\n",
       "      <td>4.850557</td>\n",
       "      <td>48494.079387</td>\n",
       "      <td>12.765460</td>\n",
       "      <td>20.440947</td>\n",
       "      <td>25.079109</td>\n",
       "      <td>30.612535</td>\n",
       "      <td>340.967827</td>\n",
       "      <td>...</td>\n",
       "      <td>34.204123</td>\n",
       "      <td>35.708298</td>\n",
       "      <td>66.912658</td>\n",
       "      <td>31.204360</td>\n",
       "      <td>13607.888579</td>\n",
       "      <td>13346.627935</td>\n",
       "      <td>202.431755</td>\n",
       "      <td>98670.852368</td>\n",
       "      <td>221.746518</td>\n",
       "      <td>0.016799</td>\n",
       "    </tr>\n",
       "    <tr>\n",
       "      <th>income-group-4</th>\n",
       "      <td>10.156927</td>\n",
       "      <td>20.665365</td>\n",
       "      <td>50.012650</td>\n",
       "      <td>4.356045</td>\n",
       "      <td>62120.351385</td>\n",
       "      <td>10.546977</td>\n",
       "      <td>27.356423</td>\n",
       "      <td>22.305793</td>\n",
       "      <td>28.634509</td>\n",
       "      <td>349.803023</td>\n",
       "      <td>...</td>\n",
       "      <td>29.680387</td>\n",
       "      <td>22.443742</td>\n",
       "      <td>60.226839</td>\n",
       "      <td>37.783097</td>\n",
       "      <td>26231.981108</td>\n",
       "      <td>12533.559411</td>\n",
       "      <td>400.730479</td>\n",
       "      <td>220431.837531</td>\n",
       "      <td>185.333753</td>\n",
       "      <td>0.014908</td>\n",
       "    </tr>\n",
       "  </tbody>\n",
       "</table>\n",
       "<p>4 rows × 21 columns</p>\n",
       "</div>"
      ],
      "text/plain": [
       "                 hispanic   minority     female  unemployed        income  \\\n",
       "income group                                                                \n",
       "income-group-1   9.138779  32.366718  50.002613    7.272366  33921.184733   \n",
       "income-group-2   8.869704  20.386946  49.813455    5.718696  41627.992620   \n",
       "income-group-3   8.861281  17.989833  49.863410    4.850557  48494.079387   \n",
       "income-group-4  10.156927  20.665365  50.012650    4.356045  62120.351385   \n",
       "\n",
       "                 nodegree   bachelor  inactivity    obesity     density  ...  \\\n",
       "income group                                                             ...   \n",
       "income-group-1  21.991145  13.595420   30.101985  33.647328   87.845954  ...   \n",
       "income-group-2  15.617712  17.565068   26.996187  31.489914  131.076630  ...   \n",
       "income-group-3  12.765460  20.440947   25.079109  30.612535  340.967827  ...   \n",
       "income-group-4  10.546977  27.356423   22.305793  28.634509  349.803023  ...   \n",
       "\n",
       "                voter_turnout  voter_gap      trump      biden  \\\n",
       "income group                                                     \n",
       "income-group-1      41.844069  33.203988  65.926074  32.722086   \n",
       "income-group-2      37.075902  40.729543  69.545117  28.815575   \n",
       "income-group-3      34.204123  35.708298  66.912658  31.204360   \n",
       "income-group-4      29.680387  22.443742  60.226839  37.783097   \n",
       "\n",
       "                # total covid cases  # covid cases per 100k  # covid deaths  \\\n",
       "income group                                                                  \n",
       "income-group-1          4199.928244            14860.215352       90.806107   \n",
       "income-group-2          9196.046740            13699.776105      152.997540   \n",
       "income-group-3         13607.888579            13346.627935      202.431755   \n",
       "income-group-4         26231.981108            12533.559411      400.730479   \n",
       "\n",
       "                   population  # covid deaths per 100k  case_fatality_rate  \n",
       "income group                                                                \n",
       "income-group-1   27821.511450               319.287023            0.023005  \n",
       "income-group-2   64544.897909               254.797048            0.019052  \n",
       "income-group-3   98670.852368               221.746518            0.016799  \n",
       "income-group-4  220431.837531               185.333753            0.014908  \n",
       "\n",
       "[4 rows x 21 columns]"
      ]
     },
     "execution_count": 43,
     "metadata": {},
     "output_type": "execute_result"
    }
   ],
   "source": [
    "# EXAMPLE: If our `merged` DataFrame were\n",
    "# COUNTY    INCOME GROUP    BACHELOR ... (other columns, too)\n",
    "#   A            2             50\n",
    "#   B            1             20\n",
    "#   C            1             30\n",
    "#   D            2             70\n",
    "#   E            3             95\n",
    "\n",
    "# it should become\n",
    "# INCOME GROUP    BACHELOR ... (other columns, too)\n",
    "#   1                25\n",
    "#   2                60\n",
    "#   3                95\n",
    "\n",
    "# YOUR CODE HERE\n",
    "merged.groupby(\"income group\").agg(\"mean\")\n",
    "# END OF YOUR CODE HERE"
   ]
  },
  {
   "cell_type": "markdown",
   "metadata": {},
   "source": [
    "<div class='exercise'><b>Wrapping Up</b>\n",
    "</div>"
   ]
  },
  {
   "cell_type": "markdown",
   "metadata": {},
   "source": [
    "<div class='exercise'><b>Exercise 4.7.1 [1 pt]: Conclusions</b>\n",
    "What are your conclusions/finding from this alternative view of the data? (2-4 sentences).\n",
    "</div>"
   ]
  },
  {
   "cell_type": "markdown",
   "metadata": {},
   "source": [
    "<div style='background-color:#F6FEFA;padding:15px'>\n",
    "\n",
    "**Counties with higher average income have lower case fatality rate. Since the higher income the larger population, it may be not meaningful to look into the number of total covid cases, cases per 100k, covid deaths, or covid deaths per 100k to find any pattern or correlation.**\n",
    "\n",
    "</div>\n"
   ]
  },
  {
   "cell_type": "markdown",
   "metadata": {},
   "source": [
    "<div class='exercise'><b>Exercise 4.7.2 [1 pt]: Possible Weaknesses</b>\n",
    "What are some weaknesses from this view of the data? (2-4 sentences).\n",
    "</div>"
   ]
  },
  {
   "cell_type": "markdown",
   "metadata": {},
   "source": [
    "<div style='background-color:#F6FEFA;padding:15px'>\n",
    "\n",
    "**There might be confounders in the data. If we don't control for the potential confounders (e.g. a common cause of high income and effectiveness of COVID19 testing), there might be confounding that leads to biased estimation of the assocition between income and the effectiveness and thoroughness of COVID19 testing (case fatality rate).**\n",
    "\n",
    "</div>\n"
   ]
  },
  {
   "cell_type": "markdown",
   "metadata": {},
   "source": [
    "## Moving Forward\n",
    "\n",
    "In this homework assignment, we've focused on gathering, parsing, and exploring data. However, what if we wanted to *predict* some behavior of the data. For example, imagine one is curious how a particular county will respond to COVID. Or, imagine we looked at counties' COVID data on a weekly basis, one could be interested in predicting the upcoming week's behavior.\n",
    "\n",
    "Alternatively, one could be interested in *inference*, whereby we are more concerned with trying to understand __why__ and __how__ a system behaves the way it does. We might wish to understand which factors most correlate and cause a certain event to happen. This could give us insights into where certain inequalities persist.\n",
    "\n",
    "For both *prediction* and *inference*, our computational method of solving such a task is referred to as a model. For the remainder of CS109, we will spend significant focus on various models.\n",
    "</div>"
   ]
  },
  {
   "cell_type": "markdown",
   "metadata": {},
   "source": [
    "## Reflection\n",
    "\n",
    "As a reminder, this is just **one** of the homework assignments in this course, the point of which is to assess your learning and to provide both you and us with an indication as to how aligned your knowledge and skills are with our learning objectives. To this end, we encourage you to reflect on your progress, strengths, and weaknesses and to make changes, if necessary, to accomplish your goals. Likewise, please reach out to the TFs and teaching staff if you need help. We want everyone to feel comfortable in being honest about these elements, with both herself/himself and us. For these purposes, we will ask you several times throughout the semester to complete an anonymous poll."
   ]
  },
  {
   "cell_type": "code",
   "execution_count": null,
   "metadata": {},
   "outputs": [],
   "source": []
  },
  {
   "cell_type": "markdown",
   "metadata": {},
   "source": [
    "<script>\n",
    "  $(document).ready(function(){\n",
    "    $('div.prompt').hide();\n",
    "    $('div.back-to-top').hide();\n",
    "    $('nav#menubar').hide();\n",
    "    $('.breadcrumb').hide();\n",
    "    $('.hidden-print').hide();\n",
    "  });\n",
    "</script>\n",
    "\n",
    "<footer id=\"attribution\" style=\"float:right; color:#999; background:#fff;\">\n",
    "Graded by: Mark Penrod\n",
    "</footer>"
   ]
  }
 ],
 "metadata": {
  "anaconda-cloud": {},
  "kernelspec": {
   "display_name": "Python 3",
   "language": "python",
   "name": "python3"
  },
  "language_info": {
   "codemirror_mode": {
    "name": "ipython",
    "version": 3
   },
   "file_extension": ".py",
   "mimetype": "text/x-python",
   "name": "python",
   "nbconvert_exporter": "python",
   "pygments_lexer": "ipython3",
   "version": "3.8.8"
  }
 },
 "nbformat": 4,
 "nbformat_minor": 4
}
