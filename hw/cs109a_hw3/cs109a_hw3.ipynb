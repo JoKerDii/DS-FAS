{
 "cells": [
  {
   "cell_type": "markdown",
   "metadata": {},
   "source": [
    "# <img style=\"float: left; padding-right: 10px; width: 45px\" src=\"https://raw.githubusercontent.com/Harvard-IACS/2018-CS109A/master/content/styles/iacs.png\"> CS109A Introduction to Data Science: \n",
    "\n",
    "## Homework 3: Polynomial and LASSO Regression\n",
    "\n",
    "**Harvard University**<br/>\n",
    "**Fall 2021**<br/>\n",
    "**Instructors**: Pavlos Protopapas and Natesh Pillai\n",
    "\n",
    "<hr style=\"height:2.4pt\">"
   ]
  },
  {
   "cell_type": "code",
   "execution_count": 1,
   "metadata": {},
   "outputs": [
    {
     "data": {
      "text/html": [
       "<style>\n",
       "blockquote { background: #AEDE94; }\n",
       "h1 {\n",
       "    padding-top: 25px;\n",
       "    padding-bottom: 25px;\n",
       "    text-align: left;\n",
       "    padding-left: 10px;\n",
       "    background-color: #63ACBE;\n",
       "    color: black;\n",
       "}\n",
       "h2 {\n",
       "    padding-top: 10px;\n",
       "    padding-bottom: 10px;\n",
       "    text-align: left;\n",
       "    padding-left: 5px;\n",
       "    background-color: #EEEEEE;\n",
       "    color: black;\n",
       "}\n",
       "\n",
       "div.exercise {\n",
       "\tbackground-color: #f8b4ab;\n",
       "\tborder-color: #E9967A;\n",
       "\tborder-left: 5px solid #601A4A;\n",
       "\tpadding: 0.5em;\n",
       "}\n",
       "\n",
       "div.exercise-r {\n",
       "\tbackground-color: #ffd0d0;\n",
       "\tborder-color: #E9967A;\n",
       "\tborder-left: 5px solid #601A4A;\n",
       "\tpadding: 0.5em;\n",
       "}\n",
       "\n",
       "\n",
       "span.sub-q {\n",
       "\tfont-weight: bold;\n",
       "}\n",
       "div.theme {\n",
       "\tbackground-color: #63ACBE;\n",
       "\tborder-color: #E9967A;\n",
       "\tborder-left: 5px solid #601A4A;\n",
       "\tpadding: 0.5em;\n",
       "\tfont-size: 18pt;\n",
       "}\n",
       "div.gc {\n",
       "\tbackground-color: #AEDE94;\n",
       "\tborder-color: #E9967A;\n",
       "\tborder-left: 5px solid #601A4A;\n",
       "\tpadding: 0.5em;\n",
       "\tfont-size: 12pt;\n",
       "}\n",
       "p.q1 {\n",
       "    padding-top: 5px;\n",
       "    padding-bottom: 5px;\n",
       "    text-align: left;\n",
       "    padding-left: 5px;\n",
       "    background-color: #EEEEEE;\n",
       "    color: black;\n",
       "}\n",
       "header {\n",
       "   padding-top: 35px;\n",
       "    padding-bottom: 35px;\n",
       "    text-align: left;\n",
       "    padding-left: 10px;\n",
       "    background-color: #DDDDDD;\n",
       "    color: black;\n",
       "}\n",
       "span.emph {\n",
       "\tcolor: #601A4A;\n",
       "\tfont-weight: bold;\n",
       "}\n",
       "\n",
       "</style>\n"
      ],
      "text/plain": [
       "<IPython.core.display.HTML object>"
      ]
     },
     "execution_count": 1,
     "metadata": {},
     "output_type": "execute_result"
    }
   ],
   "source": [
    "# RUN THIS CELL \n",
    "import requests\n",
    "from IPython.core.display import HTML\n",
    "styles = requests.get(\n",
    "    \"https://raw.githubusercontent.com/Harvard-IACS/2021-CS109A/master/\"\n",
    "    \"themes/static/css/cs109.css\"\n",
    ").text\n",
    "HTML(styles)"
   ]
  },
  {
   "cell_type": "markdown",
   "metadata": {
    "cell_id": "3c67b69c-c35a-45ee-88ff-99c701edb0a0",
    "colab_type": "text",
    "id": "BlViDCbxVtbG"
   },
   "source": [
    "### Import Libraries"
   ]
  },
  {
   "cell_type": "code",
   "execution_count": 2,
   "metadata": {
    "cell_id": "c81fe721-9f10-4eec-b9a3-3a2534d1c3a2",
    "colab": {
     "base_uri": "https://localhost:8080/",
     "height": 71
    },
    "colab_type": "code",
    "id": "aQbflkbDOxbz",
    "outputId": "a93e76ad-1f12-45fa-ec35-7853e450a1ff"
   },
   "outputs": [],
   "source": [
    "from collections import Counter\n",
    "import math\n",
    "\n",
    "import matplotlib.pyplot as plt\n",
    "import numpy as np\n",
    "import pandas as pd\n",
    "import seaborn as sns\n",
    "from sklearn.linear_model import Lasso\n",
    "from sklearn.linear_model import LinearRegression\n",
    "from sklearn.metrics import mean_squared_error\n",
    "from sklearn.model_selection import cross_validate\n",
    "from sklearn.model_selection import train_test_split\n",
    "from sklearn.preprocessing import PolynomialFeatures\n",
    "from sklearn.utils import shuffle\n",
    "\n",
    "%matplotlib inline"
   ]
  },
  {
   "cell_type": "markdown",
   "metadata": {},
   "source": [
    "<a id=\"instructions\"></a>\n",
    "\n",
    "<hr style=\"height:2pt\">\n",
    "\n",
    "### INSTRUCTIONS\n",
    "\n",
    "- **THIS IS AN INDIVIDUAL ASSIGNMENT. Collaboration on this homework is NOT PERMITTED.**\n",
    "\n",
    "- **THIS IS A TWO-WEEK HOMEWORK**. The material is indeed two-weeks-worth of work, so make sure you start it early!!!\n",
    "\n",
    "- To submit your assignment follow the instructions given in Canvas.\n",
    "\n",
    "- Please **restart the kernel and run the entire notebook again before you submit.**\n",
    "\n",
    "- Running cells out of order is a common pitfall in Jupyter Notebooks. To make sure your code continues to work, restart the kernel and rerun your notebook periodically while working through this assignment. \n",
    "\n",
    "- We have tried to include all the libraries you may need to do the assignment in the imports cell provided below. **Please use only the libraries provided in those imports.**\n",
    "\n",
    "- Please use `.head(...)` when viewing data. Do not submit a notebook that is **excessively long**. \n",
    "\n",
    "- In questions that require code to answer, such as \"calculate and report $R^2$\", do not just output the value from a cell. Write a `print(...)` function that clearly labels the output, includes a reference to the calculated value, and rounds it to a reasonable number of digits. **Do not hard code values in your printed output**. For example, this is an appropriate print statement:\n",
    "```python\n",
    "print(f'The R^2 is {R:.4f}')\n",
    "```\n",
    "- **Your plots MUST be clearly labeled and easy to read,** including clear labels for the $x$ and $y$ axes, a descriptive title (\"MSE plot\" is NOT a descriptive title; \"95% confidence interval of coefficients for degree-5 polynomial model\" on the other hand is descriptive), a legend when appropriate, and clearly formatted text and graphics.\n",
    "\n",
    "- **Your code may also be evaluated for efficiency and clarity.** As a result, correct output is not always sufficient for full credit.\n",
    "\n",
    "<hr style=\"height:2pt\">"
   ]
  },
  {
   "cell_type": "markdown",
   "metadata": {},
   "source": [
    "<a id=\"contents\"></a>\n",
    "\n",
    "## Notebook contents\n",
    "\n",
    "- [**Overview and data description**](#intro)\n",
    "\n",
    "\n",
    "- [**Question 1: Data visualization [5 pts]**](#part1)\n",
    "  - [Solutions](#part1solutions)\n",
    "\n",
    "\n",
    "- [**Your Homework 3 roadmap**](#roadmap)\n",
    "\n",
    "\n",
    "- [**Question 2: Guesstimate the polynomial relationship [14 pts]**](#part2)\n",
    "  - [Solutions](#part2solutions)\n",
    "\n",
    "\n",
    "- [**Question 3: Use a validation set to find the most promising polynomial relationship [12 pts]**](#part3)\n",
    "  - [Solutions](#part3solutions)\n",
    "\n",
    "\n",
    "- [**Question 4: Finding the best model by k-fold cross validation [14 pts]**](#part4)\n",
    "  - [Solutions](#part4solutions)\n",
    "\n",
    "\n",
    "- [**Question 5: Finding the most consistent model using k-fold cross validation with bootstraps [16 pts]**](#part5)\n",
    "  - [Solutions](#part5solutions)\n",
    "\n",
    "\n",
    "- [**Question 6: Improving model consistency with LASSO regularization [33 pts]**](#part6)\n",
    "  - [Solutions](#part6solutions)\n",
    "\n",
    "\n",
    "- [**Question 7: Analyze your best test MSEs for each section of the homework [6 pts]**](#part7)\n",
    "  - [Solutions](#part7solutions)"
   ]
  },
  {
   "cell_type": "markdown",
   "metadata": {
    "cell_id": "21e9f773-e015-44ec-88c8-7f24b9a8191f",
    "colab_type": "text",
    "id": "Uo0FiNThV923"
   },
   "source": [
    "<a id=\"intro\"></a>\n",
    "\n",
    "## Overview and data description\n",
    "\n",
    "[Return to contents](#contents)\n",
    "\n",
    "### Predicting percentage change in bacteria populations given their spreading factor\n",
    "\n",
    "In this homework, we will explore polynomial regression for predicting a quantitative variable. Specifically, we will build regression models that can predict the percentage change in bacteria population after 4 hours based on their \"spreading factor\". These prediction models can be useful in clustering of a novel bacteria to any class. \n",
    "\n",
    "If the percentage of change in population is positive, this indicates that the size of the bacteria population has grown. One important factor to note is that the percentage change could be negative. This indicates that within the specified time frame, the population of the bacteria has decreased from its original size.\n",
    "\n",
    "The data set for this problem has already been split for you. You will find the train and test data sets in the files `data/bacteria_train.csv` and `data/bacteria_test.csv`, respectively. The first column in each file gives information about the change in percentage of the population and the second column contains the spreading factor of bacteria populations.\n",
    "\n",
    "\n",
    "### Problem Description\n",
    "\n",
    "We will predict the percentage change in population, given the spreading factor. For this exercise, we will consider the `Spreading_factor` to be our predictor variable and `Perc_population` to be our response variable. We will explore several different approaches, with mean squared error ($MSE$) as an evaluative criteria, for finding the best fit and most robust polynomial regression for modeling this relationship.\n"
   ]
  },
  {
   "cell_type": "markdown",
   "metadata": {
    "cell_id": "12fa439c-9984-44e4-a4f7-581a3e01d520",
    "colab_type": "text",
    "id": "Inn1d2Hv1pIK"
   },
   "source": [
    "<a id=\"part1\"></a>\n",
    "\n",
    "## <div class='exercise'>Question 1: Data visualization [5 pts]</div> \n",
    "    \n",
    "[Return to contents](#contents)\n",
    "    \n",
    "**1.1** Generate a scatter plot of the data points in the `bacteria_train.csv` file with the spreading factor on the $x$-axis and the percentage change on the $y$-axis.\n",
    "\n",
    "**REMEMBER:** In this course, you will be expected to ALWAYS label your axes, title your graphs, and produce visuals that clearly communicate the data (as described in the [INSTRUCTIONS](#instructions) at the start of this notebook). Visuals should typically be accompanied by text identifying the key point of the visual and defending any choices you make as a data scientist regarding the visual to best communicate your data.\n",
    "\n",
    "**1.2** Based on the graph, is there any discernable relationship between the spreading factor and percentage change in population?"
   ]
  },
  {
   "cell_type": "markdown",
   "metadata": {},
   "source": [
    "<a id=\"part1solutions\"></a>\n",
    "\n",
    "## Question 1: Solutions\n",
    "\n",
    "[Return to contents](#contents)"
   ]
  },
  {
   "cell_type": "markdown",
   "metadata": {},
   "source": [
    "<div class='exercise-r'>\n",
    "\n",
    "**1.1** Generate a scatter plot of the data points in the `bacteria_train.csv` file with the spreading factor on the $x$-axis and the percentage change on the $y$-axis.\n",
    "\n",
    "**REMEMBER:** In this course, you will be expected to ALWAYS label your axes, title your graphs, and produce visuals that clearly communicate the data (as described in the [INSTRUCTIONS](#instructions) at the start of this notebook). Visuals should typically be accompanied by text identifying the key point of the visual and defending any choices you make as a data scientist regarding the visual to best communicate your data.\n",
    "\n",
    "</div>"
   ]
  },
  {
   "cell_type": "code",
   "execution_count": 3,
   "metadata": {
    "cell_id": "7e002b99-e7b2-4c64-af95-d9c7f031f476",
    "colab": {},
    "colab_type": "code",
    "id": "ENmKd_MY2B3C"
   },
   "outputs": [
    {
     "data": {
      "text/plain": [
       "Text(0, 0.5, 'Percentage Change in Population')"
      ]
     },
     "execution_count": 3,
     "metadata": {},
     "output_type": "execute_result"
    },
    {
     "data": {
      "image/png": "[encoded data removed]",
      "text/plain": [
       "<Figure size 432x360 with 1 Axes>"
      ]
     },
     "metadata": {
      "needs_background": "light"
     },
     "output_type": "display_data"
    }
   ],
   "source": [
    "# your code here\n",
    "bac_tr = pd.read_csv(\"data/bacteria_train.csv\")\n",
    "\n",
    "bac_tr.plot.scatter(x='Spreading_factor', y='Perc_population', s=10, alpha=.5, figsize=(6,5))\n",
    "plt.title('Scatter Plot of Spreading Factor vs. Percentage Change in Population');\n",
    "plt.xlabel('Spreading Factor')\n",
    "plt.ylabel('Percentage Change in Population')"
   ]
  },
  {
   "cell_type": "markdown",
   "metadata": {
    "cell_id": "9f8a452f-c582-4403-afc7-e15ffe157d46"
   },
   "source": [
    "<div class='exercise-r'>\n",
    "\n",
    "**1.2** Based on the graph, is there any discernable relationship between the spreading factor and percentage change in population?\n",
    "\n",
    "</div>"
   ]
  },
  {
   "cell_type": "markdown",
   "metadata": {
    "cell_id": "f490a6f7-eeaa-4d8b-8b8c-2e9996816509"
   },
   "source": [
    "**Yes, the relationship between spreading factor and percentage chage in population is generally positive.**\n"
   ]
  },
  {
   "cell_type": "markdown",
   "metadata": {
    "cell_id": "58d06521-c4cf-4304-b68a-595205946e44",
    "tags": []
   },
   "source": [
    "<a id=\"roadmap\"></a>\n",
    "\n",
    "<hr style='height:2px'> \n",
    "\n",
    "## Your Homework 3 roadmap\n",
    "\n",
    "[Return to contents](#contents)\n",
    "\n",
    "**We will be following this roadmap for Question 2 through Question 6:**\n",
    "\n",
    "![](data/soln-roadmap.png)\n"
   ]
  },
  {
   "cell_type": "markdown",
   "metadata": {
    "cell_id": "5c60cdd3-9885-4ac2-8144-635a481460f4",
    "tags": []
   },
   "source": [
    "<a id=\"part2\"></a>\n",
    "\n",
    "## <div class='exercise'>Question 2: Guesstimate the polynomial relationship [14 pts]</div> \n",
    "\n",
    "[Return to contents](#contents)\n",
    "\n",
    "\n",
    "**2.1** Guesstimate the degree of the polynomial regression that may best fit the data given our observation of the data in Question 1, and then fit that model following the requirements outlined below:\n",
    "- Create a single dictionary called `best_mse_dict` to store the best test $MSE$s for each type of model we will be building in this notebook. The keys of this dictionary will be the question number, and the values will be the $MSE$ values. So, for this question, you will have `best_mse_dict[\"2.1\"] = ...` .\n",
    "\n",
    "- Generate `PolynomialFeatures(...)` for your guesstimated degree and fit a polynomial regression using scikit-learn's `LinearRegression(...)` on the training set.\n",
    "- Generate a plot with both the train and test data, as well as your prediction curve.\n",
    "- Compute and print the $MSE$ on the test set and save that value to `best_mse_dict`.\n",
    "- Explain the rationale for your choice of degree (i.e. your \"guesstimation\") and comment on the fit of your model.\n",
    "  \n",
    "**2.2** Now we will compute confidence intervals for the coefficients generated in our model. For the same degree polynomial regression fit above in 2.1, compute and plot the 95% confidence interval of the beta (i.e. $\\beta$) values obtained in that regression model. Be certain to meet these primary requirements:\n",
    "\n",
    "- Report the coefficient values of the model fit above in 2.1.\n",
    "- Use bootstrapping to generate your 95% confidence intervals by refitting your model to each bootstrapped sample of your training data (you can limit your number of bootstraps to 100).\n",
    "- For each bootstrap, store the coefficients of the model, and use those stored coefficients to compute the $2.5$ and $97.5$ confidence bounds.\n",
    "- Plot the bootstrapped coefficients as a grid of histograms, one histogram for each $\\beta_i$, illustrating the distribution of bootstrapped coefficients for each $\\beta_i$. Each distribution should indicate the regions of 95% confidence. Use `plt.subplots(...)` to arrange your histograms as a grid of plots.\n",
    "- Comment on your findings.\n",
    "\n",
    "**REMEMBER:** Bootstrapped samples should always be the same size as the original data and sampled with replacement."
   ]
  },
  {
   "cell_type": "markdown",
   "metadata": {},
   "source": [
    "<a id=\"part2solutions\"></a>\n",
    "\n",
    "## Question 2: Solutions\n",
    "\n",
    "[Return to contents](#contents)"
   ]
  },
  {
   "cell_type": "markdown",
   "metadata": {
    "cell_id": "8f9f6e8b-e477-4a40-8a72-b4031b111b56",
    "colab_type": "text",
    "id": "Iwnsapke2CYu"
   },
   "source": [
    "<div class='exercise-r'>\n",
    "\n",
    "**2.1** Guesstimate the degree of the polynomial regression that may best fit the data given our observation of the data in Question 1, and then fit that model following the requirements outlined below:\n",
    "- Create a single dictionary called `best_mse_dict` to store the best test $MSE$s for each type of model we will be building in this notebook. The keys of this dictionary will be the question number, and the values will be the $MSE$ values. So, for this question, you will have `best_mse_dict[\"2.1\"] = ...` .\n",
    "\n",
    "- Generate `PolynomialFeatures(...)` for your guesstimated degree and fit a polynomial regression using scikit-learn's `LinearRegression(...)` on the training set.\n",
    "- Generate a plot with both the train and test data, as well as your prediction curve.\n",
    "- Compute and print the $MSE$ on the test set and save that value to `best_mse_dict`.\n",
    "- Explain the rationale for your choice of degree (i.e. your \"guesstimation\") and comment on the fit of your model.\n",
    "\n",
    "</div>"
   ]
  },
  {
   "cell_type": "code",
   "execution_count": 4,
   "metadata": {
    "cell_id": "a3808aca-8630-4c1c-8284-4f53385dc98b",
    "tags": []
   },
   "outputs": [
    {
     "name": "stdout",
     "output_type": "stream",
     "text": [
      "The MSE on the test set is 2.6519.\n"
     ]
    }
   ],
   "source": [
    "# your code here\n",
    "bac_ts = pd.read_csv(\"data/bacteria_test.csv\")\n",
    "X_test = bac_ts[['Spreading_factor']]\n",
    "y_test = bac_ts.Perc_population\n",
    "\n",
    "best_mse_dict = {}\n",
    "# mse_21 = []\n",
    "\n",
    "X = bac_tr[['Spreading_factor']]\n",
    "y = bac_tr[[\"Perc_population\"]]\n",
    "\n",
    "# shuffle the data\n",
    "indices= np.random.choice(X.index, replace = False, size = len(X.index))\n",
    "X = X.iloc[indices,:]\n",
    "y = y.iloc[indices,:].Perc_population\n",
    "\n",
    "# select degree\n",
    "guess_deg = 3\n",
    "X_poly_train = PolynomialFeatures(degree = guess_deg).fit_transform(X)\n",
    "X_poly_test = PolynomialFeatures(degree = guess_deg).fit_transform(X_test)\n",
    "lreg = LinearRegression(fit_intercept=False)\n",
    "lreg.fit(X_poly_train, y)\n",
    "y_train_pred = lreg.predict(X_poly_train)\n",
    "y_test_pred = lreg.predict(X_poly_test)\n",
    "best_mse_dict['2.1'] = mean_squared_error(y_test, y_test_pred)\n",
    "print(f'The MSE on the test set is {mean_squared_error(y_test, y_test_pred):.4f}.')\n"
   ]
  },
  {
   "cell_type": "code",
   "execution_count": 5,
   "metadata": {},
   "outputs": [
    {
     "data": {
      "text/plain": [
       "<matplotlib.legend.Legend at 0x7fc5890716d0>"
      ]
     },
     "execution_count": 5,
     "metadata": {},
     "output_type": "execute_result"
    },
    {
     "data": {
      "image/png": "[encoded data removed]",
      "text/plain": [
       "<Figure size 432x288 with 1 Axes>"
      ]
     },
     "metadata": {
      "needs_background": "light"
     },
     "output_type": "display_data"
    }
   ],
   "source": [
    "fig, ax = plt.subplots()\n",
    "plt.scatter(X_test,y_test,color='k', label = 'test set', s=10, alpha=0.6)\n",
    "plt.scatter(X,y,color='lightblue', label = 'training set', s=10,alpha=0.6)\n",
    "plt.scatter(X_test,y_test_pred,color='lightgreen', label = 'predicted test set', s=10)\n",
    "plt.scatter(X,y_train_pred,color='pink', label = 'predicted training set', s=10,alpha=0.6)\n",
    "plt.title(\"Plot of data and predicted values\")\n",
    "ax.legend()"
   ]
  },
  {
   "cell_type": "markdown",
   "metadata": {},
   "source": [
    "**INTERPRETATION:**"
   ]
  },
  {
   "cell_type": "markdown",
   "metadata": {},
   "source": [
    "**My guesstimated degree is 3, because cubic polynomial is commonly used. With degree of 3, the model has MLE of 2.6519 on the test set. From the plot of data and predicted values shown above, the model fits pretty well.**\n"
   ]
  },
  {
   "cell_type": "markdown",
   "metadata": {
    "cell_id": "cc4960c5-9dad-46a4-a608-02b926bce340",
    "colab_type": "text",
    "id": "uZB7o6VR6Nt6"
   },
   "source": [
    "<div class='exercise-r'>\n",
    "\n",
    "**2.2** Now we will compute confidence intervals for the coefficients generated in our model. For the same degree polynomial regression fit above in 2.1, compute and plot the 95% confidence interval of the beta (i.e. $\\beta$) values obtained in that regression model. Be certain to meet these primary requirements:\n",
    "\n",
    "- Report the coefficient values of the model fit above in 2.1.\n",
    "- Use bootstrapping to generate your 95% confidence intervals by refitting your model to each bootstrapped sample of your training data (you can limit your number of bootstraps to 100).\n",
    "- For each bootstrap, store the coefficients of the model, and use those stored coefficients to compute the $2.5$ and $97.5$ confidence bounds.\n",
    "- Plot the bootstrapped coefficients as a grid of histograms, one histogram for each $\\beta_i$, illustrating the distribution of bootstrapped coefficients for each $\\beta_i$. Each distribution should indicate the regions of 95% confidence. Use `plt.subplots(...)` to arrange your histograms as a grid of plots.\n",
    "- Comment on your findings.\n",
    "\n",
    "**REMEMBER:** Bootstrapped samples should always be the same size as the original data and sampled with replacement.\n",
    "\n",
    "</div>"
   ]
  },
  {
   "cell_type": "code",
   "execution_count": 6,
   "metadata": {
    "cell_id": "4282bae2-c5b6-4830-b8ca-2d3c4f78a52e",
    "colab": {
     "base_uri": "https://localhost:8080/",
     "height": 119
    },
    "colab_type": "code",
    "id": "zMwOU88XVYM-",
    "outputId": "0ba8397f-e8af-4bcd-b0ca-9b672171d84f"
   },
   "outputs": [
    {
     "name": "stdout",
     "output_type": "stream",
     "text": [
      "The coefficient values of the model fit above are [2.1234, 0.6942, -0.0986].\n",
      "The CI of beta1 is (1.8115,2.4796)\n",
      "The CI of beta2 is (0.5651,0.8379)\n",
      "The CI of beta3 is (-0.2405,0.0593)\n"
     ]
    },
    {
     "data": {
      "image/png": "[encoded data removed]",
      "text/plain": [
       "<Figure size 1080x360 with 3 Axes>"
      ]
     },
     "metadata": {
      "needs_background": "light"
     },
     "output_type": "display_data"
    }
   ],
   "source": [
    "# your code here\n",
    "\n",
    "print(f\"The coefficient values of the model fit above are {[round(i,4) for i in lreg.coef_[1:]]}.\")\n",
    "\n",
    "# bootstrapping\n",
    "boot_linreg_models = []\n",
    "boot_betas = []\n",
    "numboot = 200\n",
    "# degree=3\n",
    "\n",
    "X = bac_tr[['Spreading_factor']]\n",
    "y = bac_tr[[\"Perc_population\"]]\n",
    "\n",
    "X_tr_df = X.copy()\n",
    "y_train = y.copy()\n",
    "\n",
    "# bootstrap\n",
    "for i in range(numboot):\n",
    "\n",
    "    # randomly sample indices\n",
    "    boostrap_i_indices= np.random.choice(X_tr_df.index, replace = True, size = len(X_tr_df.index))\n",
    "    \n",
    "    # get bootstrapped dfs\n",
    "    Xtr_boot = X_tr_df.iloc[boostrap_i_indices,:]\n",
    "    ytr_boot = y_train.iloc[boostrap_i_indices,:].Perc_population\n",
    "    \n",
    "    Xtr_boot_poly = PolynomialFeatures(degree=guess_deg).fit_transform(Xtr_boot)\n",
    "    bootstrap_lr = LinearRegression(fit_intercept = False).fit(Xtr_boot_poly, ytr_boot)\n",
    "    \n",
    "    boot_linreg_models.append(bootstrap_lr)\n",
    "    coefs = bootstrap_lr.coef_\n",
    "    boot_betas.append(coefs)\n",
    "\n",
    "# linreg_models = np.array(linreg_models)\n",
    "boot_betas = pd.DataFrame(boot_betas, columns = [\"beta0\", \"beta1\", \"beta2\", \"beta3\"])\n",
    "boot_coefs = boot_betas.iloc[:,1:]\n",
    "boot_coefs.head()\n",
    "\n",
    "# compute the CIs\n",
    "fig, ax = plt.subplots(1,3, figsize = (15,5))\n",
    "ax = ax.ravel()\n",
    "hist_colors = [\"lightblue\", \"teal\",\"orange\", \"purple\"]\n",
    "for i in range(3):\n",
    "    betavals = boot_coefs.iloc[ : , i]\n",
    "    betavals.values.sort()\n",
    "    \n",
    "    x1 = np.percentile(betavals, 2.5)\n",
    "    x2 = np.percentile(betavals, 97.5)\n",
    "    print(f\"The CI of beta{i+1} is ({x1:.4f},{x2:.4f})\")\n",
    "    x = np.linspace( x1, x2, 500)\n",
    "    counts, bins = np.histogram( betavals )\n",
    "    y = counts.max() \n",
    "    plt.sca( ax[i] )\n",
    "    plt.fill_between(x, y+100, color = 'pink',alpha=0.3)\n",
    "    plt.hist(betavals, \n",
    "             bins = bins, \n",
    "             color=hist_colors[i],\n",
    "             alpha=1,\n",
    "             edgecolor='black', \n",
    "             linewidth=1)\n",
    "    plt.ylim(0,y + 4)\n",
    "    plt.ylabel(f'Distribution of beta {i+1}', fontsize=18)\n",
    "    plt.xlabel(f'Value of beta {i+1}', fontsize=18)\n",
    "    plt.axvline(x = np.mean(betavals), color='w', linewidth = 3, linestyle = \"--\")"
   ]
  },
  {
   "cell_type": "markdown",
   "metadata": {},
   "source": [
    "**INTERPRETATION:**"
   ]
  },
  {
   "cell_type": "markdown",
   "metadata": {},
   "source": [
    "**The plots show the distribution of bootstrapped coefficients for each beta. The distribution is roughly normal with the mean around the coeffcient values calculated previously.**\n"
   ]
  },
  {
   "cell_type": "markdown",
   "metadata": {
    "cell_id": "5c60cdd3-9885-4ac2-8144-635a481460f4",
    "tags": []
   },
   "source": [
    "<a id=\"part3\"></a>\n",
    "\n",
    "## <div class='exercise'>Question 3: Use a validation set to find the most promising polynomial relationship [12 pts]</div> \n",
    "\n",
    "[Return to contents](#contents)\n",
    "\n",
    "**3.1** Find the best degree polynomial relationship using a single validation set. Be certain to meet the requirements outlined below:\n",
    "\n",
    "- Split your training data such that you separate out a single 20% validation split.\n",
    "- Fit polynomial regression models up to **degree 30** on the 80% training set (one model for each degree polynomial regression).\n",
    "- Generate a single plot illustrating the train and validation $MSE$ values for each fitted degree polynomial regression model.\n",
    "- Compare the validation $MSE$ values and select and report the degree for which the validation error is lowest.\n",
    "\n",
    "\n",
    "**3.2** Now, with the best degree selected, train the polynomial regression on the **complete training set** (including the observations that you had previously removed to make the validation set). Report the train and test $MSE$ and add the test $MSE$ to `best_mse_dict`.\n",
    "\n",
    "\n",
    "**3.3** Generate a plot of the data and your regression curve (similar to [Question 2.1](#part2)). Comment on how your model fits the data and compare it to the fit of your \"guesstimated\" model from [Question 2](#part2solutions)."
   ]
  },
  {
   "cell_type": "markdown",
   "metadata": {},
   "source": [
    "<a id=\"part3solutions\"></a>\n",
    "\n",
    "## Question 3: Solutions\n",
    "\n",
    "[Return to contents](#contents)"
   ]
  },
  {
   "cell_type": "markdown",
   "metadata": {
    "cell_id": "0a790850-87c6-4f46-b89e-048a2295c92b",
    "colab_type": "text",
    "id": "IGFtXJmQap2q"
   },
   "source": [
    "<div class='exercise-r'>\n",
    "\n",
    "**3.1** Find the best degree polynomial relationship using a single validation set. Be certain to meet the requirements outlined below:\n",
    "\n",
    "- Split your training data such that you separate out a single 20% validation split.\n",
    "- Fit polynomial regression models up to **degree 30** on the 80% training set (one model for each degree polynomial regression).\n",
    "- Generate a single plot illustrating the train and validation $MSE$ values for each fitted degree polynomial regression model.\n",
    "- Compare the validation $MSE$ values and select and report the degree for which the validation error is lowest.\n",
    "\n",
    "</div>"
   ]
  },
  {
   "cell_type": "code",
   "execution_count": 7,
   "metadata": {
    "cell_id": "a7115ea8-51e7-4e9a-bace-c902f2795bf9",
    "colab": {},
    "colab_type": "code",
    "id": "Qghc631VVYVl"
   },
   "outputs": [
    {
     "name": "stdout",
     "output_type": "stream",
     "text": [
      "The best model with lowest validation MSE has 2 degrees.\n"
     ]
    },
    {
     "data": {
      "image/png": "[encoded data removed]",
      "text/plain": [
       "<Figure size 576x360 with 1 Axes>"
      ]
     },
     "metadata": {
      "needs_background": "light"
     },
     "output_type": "display_data"
    }
   ],
   "source": [
    "# your code here\n",
    "X = bac_tr[['Spreading_factor']]\n",
    "y = bac_tr.Perc_population\n",
    "X_train, X_val, y_train, y_val = train_test_split(X, y,  test_size=.2, random_state=42)\n",
    "mse_train = []\n",
    "mse_val = []\n",
    "max_deg = 30\n",
    "for deg in range(1,max_deg+1):\n",
    "    X_poly_train = PolynomialFeatures(degree = deg).fit_transform(X_train)\n",
    "    X_poly_val = PolynomialFeatures(degree = deg).fit_transform(X_val)\n",
    "    lreg = LinearRegression(fit_intercept=False)\n",
    "    lreg.fit(X_poly_train, y_train)\n",
    "    y_train_pred = lreg.predict(X_poly_train)\n",
    "    y_val_pred = lreg.predict(X_poly_val)\n",
    "    mse_train.append(mean_squared_error(y_train, y_train_pred))\n",
    "    mse_val.append(mean_squared_error(y_val, y_val_pred))\n",
    "    \n",
    "fig, ax = plt.subplots(figsize = (8,5))\n",
    "plt.scatter([i for i in range(1,max_deg+1)],mse_train, color='red', label = 'train MSE', s=12)\n",
    "plt.scatter([i for i in range(1,max_deg+1)],mse_val,color='blue', label = 'validation MSE', s=12)\n",
    "plt.xlabel(\"degree\")\n",
    "plt.ylabel(\"MSE\")\n",
    "plt.xticks([i for i in range(1,max_deg+1)])\n",
    "plt.title(\"Train and Validation MSE for Each Model\")\n",
    "ax.legend()\n",
    "\n",
    "# best model\n",
    "degseq = [i for i in range(1,max_deg+1)]\n",
    "bestdegree = degseq[mse_val.index(min(mse_val))]\n",
    "print(f'The best model with lowest validation MSE has {bestdegree} degrees.')"
   ]
  },
  {
   "cell_type": "markdown",
   "metadata": {
    "cell_id": "0a790850-87c6-4f46-b89e-048a2295c92b",
    "colab_type": "text",
    "id": "IGFtXJmQap2q"
   },
   "source": [
    "<div class='exercise-r'>\n",
    "\n",
    "**3.2** Now, with the best degree selected, train the polynomial regression on the **complete training set** (including the observations that you had previously removed to make the validation set). Report the train and test $MSE$ and add the test $MSE$ to `best_mse_dict`.\n",
    "\n",
    "</div>"
   ]
  },
  {
   "cell_type": "code",
   "execution_count": 8,
   "metadata": {
    "cell_id": "71d87b69-98dc-426e-b164-984c3ac31242",
    "colab": {},
    "colab_type": "code",
    "id": "hrSTOm29fZgP"
   },
   "outputs": [
    {
     "name": "stdout",
     "output_type": "stream",
     "text": [
      "With polynomial degree of 2, the train MSE is 2.6617, and the test MSE is 2.6749.\n"
     ]
    }
   ],
   "source": [
    "# your code here\n",
    "bac_ts = pd.read_csv(\"data/bacteria_test.csv\")\n",
    "X_test = bac_ts[['Spreading_factor']]\n",
    "y_test = bac_ts.Perc_population\n",
    "\n",
    "# deg = 2\n",
    "X_train_poly = PolynomialFeatures(degree = bestdegree).fit_transform(X)\n",
    "X_test_poly = PolynomialFeatures(degree = bestdegree).fit_transform(X_test)\n",
    "lreg = LinearRegression(fit_intercept=False)\n",
    "lreg.fit(X_train_poly, y)\n",
    "y_train_pred = lreg.predict(X_train_poly)\n",
    "y_test_pred = lreg.predict(X_test_poly)\n",
    "\n",
    "best_mse_dict['3.2'] = mean_squared_error(y_test, y_test_pred)\n",
    "print(f\"With polynomial degree of {bestdegree}, the train MSE is {mean_squared_error(y, y_train_pred):.4f}, and the test MSE is {mean_squared_error(y_test, y_test_pred):.4f}.\")"
   ]
  },
  {
   "cell_type": "markdown",
   "metadata": {
    "cell_id": "d13f0498-7db8-4008-8209-e99ee4ff6b79",
    "colab_type": "text",
    "id": "V0cd6shRfPjq"
   },
   "source": [
    "<div class='exercise-r'>\n",
    "\n",
    "**3.3** Generate a plot of the data and your regression curve (similar to [Question 2.1](#part2)). Comment on how your model fits the data and compare it to the fit of your \"guesstimated\" model from [Question 2](#part2solutions).\n",
    "\n",
    "</div>"
   ]
  },
  {
   "cell_type": "code",
   "execution_count": 9,
   "metadata": {},
   "outputs": [
    {
     "data": {
      "text/plain": [
       "<matplotlib.legend.Legend at 0x7fc548e90880>"
      ]
     },
     "execution_count": 9,
     "metadata": {},
     "output_type": "execute_result"
    },
    {
     "data": {
      "image/png": "[encoded data removed]",
      "text/plain": [
       "<Figure size 432x288 with 1 Axes>"
      ]
     },
     "metadata": {
      "needs_background": "light"
     },
     "output_type": "display_data"
    }
   ],
   "source": [
    "# your code here\n",
    "\n",
    "fig, ax = plt.subplots()\n",
    "plt.scatter(X_test,y_test,color='k', label = 'test set', s=10, alpha=0.6)\n",
    "plt.scatter(X,y,color='lightblue', label = 'training set', s=10,alpha=0.6)\n",
    "plt.scatter(X_test,y_test_pred,color='lightgreen', label = 'predicted test set', s=10)\n",
    "plt.scatter(X,y_train_pred,color='pink', label = 'predicted training set', s=10,alpha=0.6)\n",
    "plt.title(\"Plot of data and predicted values\")\n",
    "ax.legend()"
   ]
  },
  {
   "cell_type": "markdown",
   "metadata": {},
   "source": [
    "**INTERPRETATION:**"
   ]
  },
  {
   "cell_type": "markdown",
   "metadata": {},
   "source": [
    "**The test MSE is a little bit larger than the test MSE of my previous \"guesstimated\" model from Q2. From the plot, in general, this model fits quite well.**\n"
   ]
  },
  {
   "cell_type": "markdown",
   "metadata": {
    "cell_id": "5c60cdd3-9885-4ac2-8144-635a481460f4",
    "tags": []
   },
   "source": [
    "<a id=\"part4\"></a>\n",
    "\n",
    "## <div class='exercise'>Question 4: Finding the best model by k-fold cross validation [14 pts]</div> \n",
    "\n",
    "[Return to contents](#contents)\n",
    "\n",
    "**4.1** In this part we find the best degree polynomial regression by running the model on a range of degree values and using k-fold cross validation on the `bacteria_train.csv` dataset.\n",
    "\n",
    "- Use scikit-learn's `cross_validate(...)` to perform cross validation with `k=10` for each degree polynomial regression up to **degree 30**.\n",
    "- Generate a single plot showing the mean train and validation $MSE$ values (see note below) for each degree polynomial regression, including the +/- 1 standard deviation bounds for the validation $MSE$ values. Comment on trends and findings illustrated by your plot.\n",
    "- Print the degree of the best model, identified based on the lowest mean validation $MSE$, along with the corresponding mean train and validation $MSE$ values.\n",
    "\n",
    "**NOTE:** When we refer to train and validation $MSE$ values here in Question 4.1 and in future problems where we are performing cross validation, we are referring specifically to the cross-validation generated train and validation $MSE$ values. Just please remember, when accessing your validation $MSE$ values while performing cross validation with scikit-learn's `cross_validate(...)`, scikit-learn rather confusingly refers to its validation scores as `test_score` in the dictionary that it returns, even though those values are actually validation scores. Please see the `cross_validate(...)` [documentation](https://scikit-learn.org/stable/modules/generated/sklearn.model_selection.cross_validate.html) for more info on this function.\n",
    "\n",
    "**4.2** Fit the best model on the entire training data and report the $MSE$.\n",
    "\n",
    "- For the best degree polynomial regression identified in Question 4.1 above, train on the complete training set from the `bacteria_train.csv` file and predict on the test data.\n",
    "- Report the coefficients of the model.\n",
    "- Report both the training and test $MSE$ values, and save the **test** $MSE$ to `best_mse_dict`.\n",
    "\n",
    "\n",
    "**4.3** Generate a plot of the data and your regression curve (similar to [Question 2.1](#part2)). Comment on how your model fits the data and how your model compares relative to the prior best-fit model you generated using just a single validation set in [Question 3](#part3solutions).\n"
   ]
  },
  {
   "cell_type": "markdown",
   "metadata": {},
   "source": [
    "<a id=\"part4solutions\"></a>\n",
    "\n",
    "## Question 4: Solutions\n",
    "\n",
    "[Return to contents](#contents)"
   ]
  },
  {
   "cell_type": "markdown",
   "metadata": {
    "cell_id": "e5f47820-486a-4ad4-9a05-261f6cbd1cdd",
    "colab_type": "text",
    "id": "EMVwiaUxsPzF"
   },
   "source": [
    "<div class='exercise-r'>\n",
    "\n",
    "**4.1** In this part we find the best degree polynomial regression by running the model on a range of degree values and using k-fold cross validation on the `bacteria_train.csv` dataset.\n",
    "\n",
    "- Use scikit-learn's `cross_validate(...)` to perform cross validation with `k=10` for each degree polynomial regression up to **degree 30**.\n",
    "- Generate a single plot showing the mean train and validation $MSE$ values (see note below) for each degree polynomial regression, including the +/- 1 standard deviation bounds for the validation $MSE$ values. Comment on trends and findings illustrated by your plot.\n",
    "- Print the degree of the best model, identified based on the lowest mean validation $MSE$, along with the corresponding mean train and validation $MSE$ values.\n",
    "\n",
    "**NOTE:** When we refer to train and validation $MSE$ values here in Question 4.1 and in future problems where we are performing cross validation, we are referring specifically to the cross-validation generated train and validation $MSE$ values. Just please remember, when accessing your validation $MSE$ values while performing cross validation with scikit-learn's `cross_validate(...)`, scikit-learn rather confusingly refers to its validation scores as `test_score` in the dictionary that it returns, even though those values are actually validation scores. Please see the `cross_validate(...)` [documentation](https://scikit-learn.org/stable/modules/generated/sklearn.model_selection.cross_validate.html) for more info on this function.\n",
    "\n",
    "</div>"
   ]
  },
  {
   "cell_type": "code",
   "execution_count": 10,
   "metadata": {
    "cell_id": "26f3b96b-e54c-417a-b612-aad8c24c46da",
    "colab": {},
    "colab_type": "code",
    "id": "CSMnW7uLbZQE",
    "scrolled": true
   },
   "outputs": [
    {
     "data": {
      "text/plain": [
       "<matplotlib.legend.Legend at 0x7fc54a7dfe50>"
      ]
     },
     "execution_count": 10,
     "metadata": {},
     "output_type": "execute_result"
    },
    {
     "data": {
      "image/png": "[encoded data removed]",
      "text/plain": [
       "<Figure size 576x720 with 1 Axes>"
      ]
     },
     "metadata": {
      "needs_background": "light"
     },
     "output_type": "display_data"
    }
   ],
   "source": [
    "# your code here\n",
    "\n",
    "X = bac_tr[['Spreading_factor']]\n",
    "y = bac_tr[[\"Perc_population\"]]\n",
    "\n",
    "# shuffle the data\n",
    "indices= np.random.choice(X.index, replace = False, size = len(X.index))\n",
    "X = X.iloc[indices,:]\n",
    "y = y.iloc[indices,:].Perc_population\n",
    "\n",
    "max_deg = 30\n",
    "cross_validation_error = []\n",
    "cross_train_error = []\n",
    "std_dict = {}\n",
    "\n",
    "# cross validation\n",
    "for d in range(1,max_deg+1):\n",
    "\n",
    "    X_poly = PolynomialFeatures(degree=d).fit_transform(X)\n",
    "    \n",
    "    lreg=LinearRegression(fit_intercept=False)\n",
    "    lreg.fit(X_poly,y)\n",
    "    validation_results = cross_validate(lreg, X_poly, y,\n",
    "                              scoring = \"neg_mean_squared_error\",\n",
    "                              cv=10,\n",
    "                              return_train_score = True)\n",
    "    mse_validation = validation_results['test_score'].mean()\n",
    "    mse_train = validation_results['train_score'].mean()\n",
    "    val_scores = validation_results['test_score']\n",
    "    std_dict[d] = -val_scores\n",
    "    cross_validation_error.append(-mse_validation)\n",
    "    cross_train_error.append(-mse_train)\n",
    "    \n",
    "df = pd.DataFrame(std_dict).melt()\n",
    "df2 = df.groupby(\"variable\").agg('std').reset_index()\n",
    "std_arr = np.array(df2['value'])\n",
    "\n",
    "# plot MSE\n",
    "fig, ax = plt.subplots(figsize = (8,10))\n",
    "plt.scatter([i for i in range(1,max_deg+1)],cross_train_error, color='red', label = 'train MSE', s=12)\n",
    "plt.scatter([i for i in range(1,max_deg+1)],cross_validation_error,color='blue', label = 'validation MSE', s=12)\n",
    "plt.errorbar([i for i in range(1,max_deg+1)],cross_validation_error, yerr=std_arr, fmt=\"o\")\n",
    "plt.xlabel(\"degree\")\n",
    "plt.ylabel(\"MSE\")\n",
    "plt.xticks([i for i in range(1,max_deg+1)])\n",
    "plt.title(\"Train and Validation MSE for Each Model in Cross-Validation\")\n",
    "ax.legend()"
   ]
  },
  {
   "cell_type": "code",
   "execution_count": 11,
   "metadata": {},
   "outputs": [
    {
     "name": "stdout",
     "output_type": "stream",
     "text": [
      "The best model has 8 degrees.\n"
     ]
    }
   ],
   "source": [
    "# best model\n",
    "degseq = [i for i in range(1,max_deg+1)]\n",
    "bestdegree = degseq[cross_validation_error.index(min(cross_validation_error))]\n",
    "print(f'The best model has {bestdegree} degrees.')"
   ]
  },
  {
   "cell_type": "markdown",
   "metadata": {},
   "source": [
    "**INTERPRETATION:**"
   ]
  },
  {
   "cell_type": "markdown",
   "metadata": {},
   "source": [
    "**The plot above shows that as the degree increases, the train MSE increases while the validation MSE decreases and then increases. The standard deviation of the validation MSE starts to increase when the degree is larger than 23. The best model with the lowest validation MSE has 4 degrees.**\n"
   ]
  },
  {
   "cell_type": "markdown",
   "metadata": {
    "cell_id": "8f9f6e8b-e477-4a40-8a72-b4031b111b56",
    "colab_type": "text",
    "id": "Iwnsapke2CYu"
   },
   "source": [
    "<div class='exercise-r'>\n",
    "\n",
    "**4.2** Fit the best model on the entire training data and report the $MSE$.\n",
    "\n",
    "- For the best degree polynomial regression identified in Question 4.1 above, train on the complete training set from the `bacteria_train.csv` file and predict on the test data.\n",
    "- Report the coefficients of the model.\n",
    "- Report both the training and test $MSE$ values, and save the **test** $MSE$ to `best_mse_dict`.\n",
    "\n",
    "</div>"
   ]
  },
  {
   "cell_type": "code",
   "execution_count": 12,
   "metadata": {
    "cell_id": "2f8c3ebe-8856-466b-95a3-e683fd3389cf",
    "colab": {},
    "colab_type": "code",
    "id": "JNWmRvkAsey3"
   },
   "outputs": [
    {
     "name": "stdout",
     "output_type": "stream",
     "text": [
      "The coefficients are [2.597, -1.0949, -1.1891, 3.4831, 0.6529, -1.713, -0.1153, 0.2404].\n",
      "With polynomial degree of 8, the train MSE is 2.5125, and the test MSE is 2.6130.\n"
     ]
    }
   ],
   "source": [
    "# your code here\n",
    "X_train_poly = PolynomialFeatures(degree = bestdegree).fit_transform(X)\n",
    "X_test_poly = PolynomialFeatures(degree = bestdegree).fit_transform(X_test)\n",
    "lreg = LinearRegression(fit_intercept=False)\n",
    "lreg.fit(X_train_poly, y)\n",
    "y_train_pred = lreg.predict(X_train_poly)\n",
    "y_test_pred = lreg.predict(X_test_poly)\n",
    "print(f\"The coefficients are {[round(i,4) for i in lreg.coef_[1:]]}.\")\n",
    "\n",
    "best_mse_dict['4.2'] = mean_squared_error(y_test, y_test_pred)\n",
    "print(f\"With polynomial degree of {bestdegree}, the train MSE is {mean_squared_error(y, y_train_pred):.4f}, and the test MSE is {mean_squared_error(y_test, y_test_pred):.4f}.\")"
   ]
  },
  {
   "cell_type": "markdown",
   "metadata": {
    "cell_id": "cc4960c5-9dad-46a4-a608-02b926bce340",
    "colab_type": "text",
    "id": "uZB7o6VR6Nt6"
   },
   "source": [
    "<div class='exercise-r'>\n",
    "\n",
    "**4.3** Generate a plot of the data and your regression curve (similar to [Question 2.1](#part2)). Comment on how your model fits the data and how your model compares relative to the prior best-fit model you generated using just a single validation set in [Question 3](#part3solutions).\n",
    "\n",
    "</div>"
   ]
  },
  {
   "cell_type": "code",
   "execution_count": 13,
   "metadata": {},
   "outputs": [
    {
     "data": {
      "text/plain": [
       "<matplotlib.legend.Legend at 0x7fc5381fd700>"
      ]
     },
     "execution_count": 13,
     "metadata": {},
     "output_type": "execute_result"
    },
    {
     "data": {
      "image/png": "[encoded data removed]",
      "text/plain": [
       "<Figure size 432x288 with 1 Axes>"
      ]
     },
     "metadata": {
      "needs_background": "light"
     },
     "output_type": "display_data"
    }
   ],
   "source": [
    "# your code here\n",
    "fig, ax = plt.subplots()\n",
    "plt.scatter(X_test,y_test,color='k', label = 'test set', s=10, alpha=0.6)\n",
    "plt.scatter(X,y,color='lightblue', label = 'training set', s=10,alpha=0.6)\n",
    "plt.scatter(X_test,y_test_pred,color='lightgreen', label = 'predicted test set', s=10)\n",
    "plt.scatter(X,y_train_pred,color='pink', label = 'predicted training set', s=10,alpha=0.6)\n",
    "plt.title(\"Plot of data and predicted values in cross-validation\")\n",
    "ax.legend()"
   ]
  },
  {
   "cell_type": "markdown",
   "metadata": {},
   "source": [
    "**INTERPRETATION:**"
   ]
  },
  {
   "cell_type": "markdown",
   "metadata": {},
   "source": [
    "**From the plot, it seems that the model fits the data pretty well. The validaton MSE of this model with degree of 4 is about 0.07 lower than the MSE of the previous model with degree of 2.**"
   ]
  },
  {
   "cell_type": "markdown",
   "metadata": {
    "cell_id": "5c60cdd3-9885-4ac2-8144-635a481460f4",
    "tags": []
   },
   "source": [
    "<a id=\"part5\"></a>\n",
    "\n",
    "## <div class='exercise'>Question 5: Finding the most consistent model using k-fold cross validation with bootstraps [16 pts]</div> \n",
    "\n",
    "[Return to contents](#contents)\n",
    "\n",
    "**5.1** In the previous part, we used $k$-fold cross validation to find the best model. But how confident are you of your estimated best degree? We have already used bootstraps in [Question 2.2](#part2) to estimate the confidence intervals of our $\\beta_i$ values. In this segment, we will use bootstrapping to test the robustness of our estimation. As before, we use the `bacteria_train.csv` data to train the model and `bacteria_test.csv` to test the model.\n",
    "\n",
    "- Similar to Question 2.2, run **at least 100 bootstraps** of your data.\n",
    "- For each bootstrap:\n",
    "  - Use scikit-learn's `cross_validate(...)` to perform cross validation with `k=10` for each degree polynomial regression up to **degree 30**.\n",
    "  - Select the best cross-validated degree polynomial regression based on lowest mean validation $MSE$ and store that best degree to a list.\n",
    "- After completing your bootstraps, you should have a list of \"best degree\" numbers, one degree for each completed bootstrap.\n",
    "- Generate a bar plot, with the polynomial degree on the $x$-axis and the number of times that degree was deemed best on the $y$-axis, using the “best degree” numbers saved during your bootstraps.\n",
    "\n",
    "**NOTE:** Once complete, your code for this problem will likely take several minutes to execute. This is to be expected.\n",
    "\n",
    "**5.2** What are your observations? \n",
    "\n",
    "- Why do you see so much variation in the \"best degree\" over the bootstraps?\n",
    "- Which degree polynomial regression will you choose as your overall best degree based on your bootstrapped results, and why? \n",
    "\n",
    "**5.3** Now, with the overall best degree identified with your bootstrapping results above, train the polynomial regression model on the **complete training set**. Report both the training and test $MSE$ values, and save the **test** $MSE$ to `best_mse_dict`.\n",
    "\n",
    "**5.4** Generate a plot of the data and your regression curve (similar to [Question 2.1](#part2)). Comment on how your model fits the data and compare it to the fit of your cross-validated model from [Question 4](#part4solutions)."
   ]
  },
  {
   "cell_type": "markdown",
   "metadata": {},
   "source": [
    "<a id=\"part5solutions\"></a>\n",
    "\n",
    "## Question 5: Solutions\n",
    "\n",
    "[Return to contents](#contents)"
   ]
  },
  {
   "cell_type": "markdown",
   "metadata": {
    "cell_id": "0a790850-87c6-4f46-b89e-048a2295c92b",
    "colab_type": "text",
    "id": "IGFtXJmQap2q"
   },
   "source": [
    "<div class='exercise-r'>\n",
    "\n",
    "**5.1** In the previous part, we used $k$-fold cross validation to find the best model. But how confident are you of your estimated best degree? We have already used bootstraps in [Question 2.2](#part2) to estimate the confidence intervals of our $\\beta_i$ values. In this segment, we will use bootstrapping to test the robustness of our estimation. As before, we use the `bacteria_train.csv` data to train the model and `bacteria_test.csv` to test the model.\n",
    "\n",
    "- Similar to Question 2.2, run **at least 100 bootstraps** of your data.\n",
    "- For each bootstrap:\n",
    "  - Use scikit-learn's `cross_validate(...)` to perform cross validation with `k=10` for each degree polynomial regression up to **degree 30**.\n",
    "  - Select the best cross-validated degree polynomial regression based on lowest mean validation $MSE$ and store that best degree to a list.\n",
    "- After completing your bootstraps, you should have a list of \"best degree\" numbers, one degree for each completed bootstrap.\n",
    "- Generate a bar plot, with the polynomial degree on the $x$-axis and the number of times that degree was deemed best on the $y$-axis, using the “best degree” numbers saved during your bootstraps.\n",
    "\n",
    "**NOTE:** Once complete, your code for this problem will likely take several minutes to execute. This is to be expected.\n",
    "\n",
    "</div>"
   ]
  },
  {
   "cell_type": "code",
   "execution_count": 14,
   "metadata": {
    "cell_id": "cf01f169-a2cc-4eda-b7c5-55f9af780310",
    "colab": {},
    "colab_type": "code",
    "id": "BE7HvHLgtcUW",
    "output_cleared": false
   },
   "outputs": [
    {
     "data": {
      "text/plain": [
       "Text(0.5, 1.0, 'Number of Times for each Degree')"
      ]
     },
     "execution_count": 14,
     "metadata": {},
     "output_type": "execute_result"
    },
    {
     "data": {
      "image/png": "[encoded data removed]",
      "text/plain": [
       "<Figure size 432x288 with 1 Axes>"
      ]
     },
     "metadata": {
      "needs_background": "light"
     },
     "output_type": "display_data"
    }
   ],
   "source": [
    "# your code here\n",
    "\n",
    "# bootstrapping\n",
    "boot_linreg_models = []\n",
    "boot_betas = []\n",
    "numboot = 100\n",
    "max_deg=30\n",
    "bestdeg_list = []\n",
    "\n",
    "X = bac_tr[['Spreading_factor']]\n",
    "y = bac_tr[[\"Perc_population\"]]\n",
    "# X_train, X_test, y_train, y_test = train_test_split(X, y, test_size=.2, random_state=42)\n",
    "\n",
    "X_tr_df = X.copy()\n",
    "y_train = y.copy()\n",
    "boot_lreg=LinearRegression(fit_intercept=False)\n",
    "\n",
    "all_deg = [i for i in range(1,max_deg+1)]\n",
    "\n",
    "# bootstrap\n",
    "for i in range(numboot):\n",
    "\n",
    "    # randomly sample indices\n",
    "    boostrap_i_indices= np.random.choice(X_tr_df.index, replace = True, size = len(X_tr_df.index))\n",
    "    \n",
    "    # get bootstrapped dfs\n",
    "    Xtr_boot = X_tr_df.iloc[boostrap_i_indices,:]\n",
    "    ytr_boot = y_train.iloc[boostrap_i_indices,:].Perc_population\n",
    "    \n",
    "    # select best\n",
    "    cross_validation_error = []\n",
    "    \n",
    "    # cross validation\n",
    "    for d in range(1,max_deg+1):\n",
    "\n",
    "        Xtr_boot_poly = PolynomialFeatures(degree=d).fit_transform(Xtr_boot)\n",
    "        \n",
    "        boot_lreg.fit(Xtr_boot_poly,ytr_boot)\n",
    "        mse_validation = cross_validate(boot_lreg, Xtr_boot_poly, ytr_boot,\n",
    "                                  scoring = \"neg_mean_squared_error\",\n",
    "                                  cv=10,\n",
    "                                  return_train_score = True)['test_score'].mean()\n",
    "        cross_validation_error.append(-mse_validation)\n",
    "\n",
    "    \n",
    "    bestdeg_list.append(all_deg[cross_validation_error.index(min(cross_validation_error))])\n",
    "    \n",
    "# Plot\n",
    "fig,ax = plt.subplots()\n",
    "pd.DataFrame(bestdeg_list)[0].value_counts(normalize=False).plot.bar();\n",
    "plt.ylabel('Number of Times')\n",
    "plt.xlabel('Degree')\n",
    "plt.title(\"Number of Times for each Degree\")"
   ]
  },
  {
   "cell_type": "markdown",
   "metadata": {
    "cell_id": "8f9f6e8b-e477-4a40-8a72-b4031b111b56",
    "colab_type": "text",
    "id": "Iwnsapke2CYu"
   },
   "source": [
    "<div class='exercise-r'>\n",
    "\n",
    "**5.2** What are your observations? \n",
    "\n",
    "- Why do you see so much variation in the \"best degree\" over the bootstraps?\n",
    "- Which degree polynomial regression will you choose as your overall best degree based on your bootstrapped results, and why? \n",
    "\n",
    "\n",
    "</div>"
   ]
  },
  {
   "cell_type": "markdown",
   "metadata": {},
   "source": [
    "**From the plot above, I see that most of time in 100 bootstraps the best degree is 8. I see so much variation in the \"best degree\" over the bootstraps because for each bootstrap the coefficients of the polynomial regression model are different within some confidence intervals. The variance of the models revealed by bootstraps leads to the variance of the best degree. I will choose the model with degree of 8, because in 100 bootstraps, the model with degree of 8 is the best for almost 40 times based on validation MSE from 10 fold cross validation, which is more frequent than others.**\n"
   ]
  },
  {
   "cell_type": "markdown",
   "metadata": {
    "cell_id": "8f9f6e8b-e477-4a40-8a72-b4031b111b56",
    "colab_type": "text",
    "id": "Iwnsapke2CYu"
   },
   "source": [
    "<div class='exercise-r'>\n",
    "\n",
    "**5.3** Now, with the overall best degree identified with your bootstrapping results above, train the polynomial regression model on the **complete training set**. Report both the training and test $MSE$ values, and save the **test** $MSE$ to `best_mse_dict`.\n",
    "\n",
    "</div>"
   ]
  },
  {
   "cell_type": "code",
   "execution_count": 15,
   "metadata": {
    "cell_id": "32ac05dc-6db8-4c64-8028-4a6e4c16ec1c"
   },
   "outputs": [
    {
     "name": "stdout",
     "output_type": "stream",
     "text": [
      "With polynomial degree of 8, the train MSE is 2.5125, and the test MSE is 2.6130.\n"
     ]
    }
   ],
   "source": [
    "# your code here\n",
    "bestdegree = pd.DataFrame(bestdeg_list).value_counts().to_frame().rename(columns={0:'counts'}).reset_index().iloc[0,0]\n",
    "X_train_poly = PolynomialFeatures(degree = bestdegree).fit_transform(X)\n",
    "X_test_poly = PolynomialFeatures(degree = bestdegree).fit_transform(X_test)\n",
    "lreg = LinearRegression(fit_intercept=False)\n",
    "lreg.fit(X_train_poly, y)\n",
    "y_train_pred = lreg.predict(X_train_poly)\n",
    "y_test_pred = lreg.predict(X_test_poly)\n",
    "# print(f\"The coefficients are {[round(i,4) for i in lreg.coef_[1:]]}.\")\n",
    "\n",
    "best_mse_dict['5.3'] = mean_squared_error(y_test, y_test_pred)\n",
    "print(f\"With polynomial degree of {bestdegree}, the train MSE is {mean_squared_error(y, y_train_pred):.4f}, and the test MSE is {mean_squared_error(y_test, y_test_pred):.4f}.\")"
   ]
  },
  {
   "cell_type": "markdown",
   "metadata": {},
   "source": [
    "<div class='exercise-r'>\n",
    "\n",
    "**5.4** Generate a plot of the data and your regression curve (similar to [Question 2.1](#part2)). Comment on how your model fits the data and compare it to the fit of your cross-validated model from [Question 4](#part4solutions).\n",
    "\n",
    "</div>"
   ]
  },
  {
   "cell_type": "code",
   "execution_count": 16,
   "metadata": {},
   "outputs": [
    {
     "data": {
      "text/plain": [
       "<matplotlib.legend.Legend at 0x7fc54a85c3d0>"
      ]
     },
     "execution_count": 16,
     "metadata": {},
     "output_type": "execute_result"
    },
    {
     "data": {
      "image/png": "[encoded data removed]",
      "text/plain": [
       "<Figure size 432x288 with 1 Axes>"
      ]
     },
     "metadata": {
      "needs_background": "light"
     },
     "output_type": "display_data"
    }
   ],
   "source": [
    "# your code here\n",
    "fig, ax = plt.subplots()\n",
    "plt.scatter(X_test,y_test,color='k', label = 'test set', s=10, alpha=0.6)\n",
    "plt.scatter(X,y,color='lightblue', label = 'training set', s=10,alpha=0.6)\n",
    "plt.scatter(X_test,y_test_pred,color='lightgreen', label = 'predicted test set', s=10)\n",
    "plt.scatter(X,y_train_pred,color='pink', label = 'predicted training set', s=10,alpha=0.6)\n",
    "plt.title(\"Plot of data and predicted values with polynomial regression (degree 8)\")\n",
    "ax.legend()"
   ]
  },
  {
   "cell_type": "markdown",
   "metadata": {},
   "source": [
    "**INTERPRETATION:**"
   ]
  },
  {
   "cell_type": "markdown",
   "metadata": {},
   "source": [
    "**The plot above shows that the model (degree 8) fits pretty well. Compared to the model in question 4, this model has 4 more degrees. The model with degree 8 has higher validation MSE than previous model in question 4.**\n"
   ]
  },
  {
   "cell_type": "markdown",
   "metadata": {
    "cell_id": "8a32aef5-65a6-426d-a7ca-1f6fd63b3b16"
   },
   "source": [
    "<a id=\"part6\"></a>\n",
    "\n",
    "## <div class='exercise'>Question 6: Improving model consistency with LASSO regularization [33 pts]</div> \n",
    "\n",
    "[Return to contents](#contents)\n",
    "\n",
    "In the previous sections, we compared many polynomial models to find the best degree. For each model of degree $n$, we considered all polynomial coefficients *up to* **degree $n$** using `PolynomialFeatures(...)`. In this section we will consider polynomial features of $n=30$, and a **best model** that could be chosen from any possible combination of our 30 degrees.\n",
    "\n",
    "For instance, we could choose a best model with an arbitrary set of polynomial degrees up degree 30, such as $x^i \\in [x^1, x^5, x^{19}, x^{24}]$, rather than the standard approach of using *all* consecutive degrees up to our maximum degree $n=30$ as in $x^i \\in [x^0, x^1, ... , x^{30}]$.\n",
    "\n",
    "However, the total number of such possible models for $n=30$ is $2^{30}\\approx10^9$, and searching through all of them would be laborious and computationally inefficient. Instead, we can use $LASSO$ (i.e. $L1$) regularization, which \"switches off\" highly unstable degree coefficients by shrinking them to zero (or very close to zero), thus giving us an efficient solution to this particular combinatorial challenge.\n",
    "\n",
    "**6.1 Find the best hyper-parameter alpha, $\\alpha$**\n",
    "\n",
    "First, we will use cross validation to find the the best regularization parameter $\\alpha$. As before, we use the `bacteria_train.csv` for cross validation.\n",
    "\n",
    "- Use polynomial features with **degree 30**. \n",
    "- For each regularization parameter $\\alpha$ in $\\alpha \\in [10^{-3}, 10^{-2}, 10^{-1}, 10^{0}, 10^{1}]$, perform scikit-learn's `Lasso(...)` regression using `cross_validate(...)` with `k=10`.\n",
    "- Do not worry about normalizing your $x$ values for any parts of Question 6. It will not meaningfully affect our final results here.\n",
    "- Generate a single plot showing the mean train and validation $MSE$ values for each regularization parameter $\\alpha$, including the +/- 1 standard deviation bounds for the validation $MSE$ values.\n",
    "- Print the best $\\alpha$ value, identified based on the lowest mean validation $MSE$, along with the corresponding mean train and validation $MSE$ values.\n",
    "- Did your $LASSO$ regression model generate any warnings while solving this problem? If so, what was that warning, what did it mean, what steps did you take to address the cause of this warning, and why might it be important to take those steps? (See the [NOTE](#part6note) at the bottom of Question 6 for some hints.)\n",
    "\n",
    "\n",
    "**6.2 Find the most significant degrees**\n",
    "\n",
    "From the previous section, you will now have the `best_alpha` hyperparameter. Now, we will use this best $\\alpha$ value to find the \"most significant\" set of polynomial degrees by using bootstraps.\n",
    "\n",
    "What we mean by this is, for each bootstrap of the data, you will get some set of degrees that are **significant**, as will be indicated by the value of their coefficients. Typically, while using $LASSO$ regularization, we would consider $\\mid\\beta_i\\mid \\gt 0$ as an indication of a particular coefficient's significance. However, for this particular exercise, we are going to use $\\mid\\beta_i\\mid \\gt 0.1$ as our criteria for significance (we have found this $0.1$ threshold to work well when designing this particular problem).\n",
    "\n",
    "Based on this criteria, you will identify which degree coefficients are significant over many bootstrapped iterations with $n=30$ polynomial features and your chosen best $\\alpha$ from Question 6.1.\n",
    "\n",
    "- Use polynomial features with **degree 30**.\n",
    "- Use a dictionary called `significant_degrees` to store a cumulative count for each degree identified as significant during your bootstraps.\n",
    "- Run at least 100 bootstraps of your data.\n",
    "- For each bootstrap:\n",
    "  - Train a `Lasso(...)` model with the `best_alpha` identified in Question 6.1.\n",
    "  - Identify the significant polynomial degree coefficients using $\\mid\\beta_i\\mid \\gt 0.1 $ as our threshold for significance.\n",
    "  - For each significant coefficient, update the count of that degree in your `significant_degrees` dictionary.\n",
    "- Generate a bar plot showing the count for each degree, showing how many times it was identified as significant over your bootstraps.\n",
    "- Based on this plot, there should likely be a clear maximum degree, above which, few if any iterations have been identified as significant. Interpret your bar plot, choose a maximum degree polynomial based upon it, and explain your rationale for choosing that degree.\n",
    "\n",
    "\n",
    "**6.3 Compute and print the test $MSE$**\n",
    "\n",
    "From our Question 6.2 results, we can see that only some degrees are consistently significant over many bootstraps. You will now retrain the $L1$ regularized model on the entire **training** data and find the test $MSE$.\n",
    "\n",
    "- Use polynomial features based on the maximum degree you identified using your results from Question 6.2 (for the sake of simplicity, use all degrees up to that maximum degree as is typically done in polynomial regression).\n",
    "- Train your **LASSO** regularized model using your `best_alpha` hyper-parameter on the entire training set.\n",
    "- Generate a plot of the data and your regression curve (similar to [Question 2.1](#part2)).\n",
    "- Report the polynomial degrees and corresponding coefficients for this fully trained model that have an absolute value greater than 0.1 (i.e. $\\mid\\beta_i\\mid \\gt 0.1 $).\n",
    "- Report the train and test $MSE$ and save the test $MSE$ to `best_mse_dict`.\n",
    "\n",
    "**6.4 What are your observations?**\n",
    "\n",
    "- Compare your `best_degree` from [Question 5](#part5solutions) with your chosen degree in 6.3 above and comment on the difference.\n",
    "- Compare your test $MSE$ in this question with the result from question 5. Which one is smaller, and by how much?\n",
    "- Which degree coefficients in your best fit model from 6.3 are significant? If not all coefficients are significant, why?\n",
    "- Would you expect your current model from 6.3 to be more \"reliable\" or robust than the models in Question 5 and prior? On what basis would you make a claim of its robustness?\n",
    "\n",
    "<a id=\"part6note\"></a>\n",
    "\n",
    "**NOTE:**\n",
    "- Once complete, your code for 6.1 and 6.2 will likely take several minutes to execute. This is to be expected.\n",
    "- You will also likely receive `ConvergenceWarning` messages as your $LASSO$ regression models are trained.\n",
    "  - Try resolving this warning by increasing your $LASSO$ models' maximum iterations by between 20-times to 100-times greater than scikit-learn's default number of iterations for its `Lasso(...)` implementation.\n",
    "  - If that fails to resolve this warning, feel free to also uncomment the [IPython cell magic](https://ipython.readthedocs.io/en/stable/interactive/magics.html#cellmagic-capture) provided at the top the code cell (i.e. `%%capture --no-stdout --no-display`) to silence the warning.\n",
    "  - Please note that using a `%%capture` cell magic such as this is a good alternative to using Python's native `warnings.filterwarnings(...)` when working in a Jupyter notebook, because it helps to ensure you don't accidentally silence important warnings in other parts of your notebook.\n"
   ]
  },
  {
   "cell_type": "markdown",
   "metadata": {},
   "source": [
    "<a id=\"part6solutions\"></a>\n",
    "\n",
    "## Question 6: Solutions\n",
    "\n",
    "[Return to contents](#contents)"
   ]
  },
  {
   "cell_type": "markdown",
   "metadata": {},
   "source": [
    "<div class='exercise-r'>\n",
    "\n",
    "**6.1 Find the best hyper-parameter alpha, $\\alpha$**\n",
    "\n",
    "First, we will use cross validation to find the the best regularization parameter $\\alpha$. As before, we use the `bacteria_train.csv` for cross validation.\n",
    "\n",
    "- Use polynomial features with **degree 30**. \n",
    "- For each regularization parameter $\\alpha$ in $\\alpha \\in [10^{-3}, 10^{-2}, 10^{-1}, 10^{0}, 10^{1}]$, perform scikit-learn's `Lasso(...)` regression using `cross_validate(...)` with `k=10`.\n",
    "- Do not worry about normalizing your $x$ values for any parts of Question 6. It will not meaningfully affect our final results here.\n",
    "- Generate a single plot showing the mean train and validation $MSE$ values for each regularization parameter $\\alpha$, including the +/- 1 standard deviation bounds for the validation $MSE$ values.\n",
    "- Print the best $\\alpha$ value, identified based on the lowest mean validation $MSE$, along with the corresponding mean train and validation $MSE$ values.\n",
    "- Did your $LASSO$ regression model generate any warnings while solving this problem? If so, what was that warning, what did it mean, what steps did you take to address the cause of this warning, and why might it be important to take those steps? (See the [NOTE](#part6note) at the bottom of Question 6 for some hints.)\n",
    "\n",
    "</div>"
   ]
  },
  {
   "cell_type": "code",
   "execution_count": 17,
   "metadata": {
    "cell_id": "4f9d6f96-a6b7-4951-a98a-f29e0351a113",
    "tags": []
   },
   "outputs": [],
   "source": [
    "%%capture --no-stdout --no-display\n",
    "\n",
    "# your code here\n",
    "X = bac_tr[['Spreading_factor']]\n",
    "y = bac_tr[[\"Perc_population\"]]\n",
    "\n",
    "# shuffle the data\n",
    "indices= np.random.choice(X.index, replace = False, size = len(X.index))\n",
    "X = X.iloc[indices,:]\n",
    "y = y.iloc[indices,:].Perc_population\n",
    "\n",
    "max_deg = 30\n",
    "k=10\n",
    "alphas = [1e-3, 1e-2, 1e-1, 1, 10]\n",
    "cross_validation_error = []\n",
    "cross_train_error = []\n",
    "std_dict = {}\n",
    "for a in alphas:\n",
    "\n",
    "    # cross validation\n",
    "    X_poly_train = PolynomialFeatures(degree=max_deg).fit_transform(X)\n",
    "    lassoreg = Lasso(alpha = a,max_iter=2000)#.fit(X_poly_train,y)\n",
    "    \n",
    "    validation_result = cross_validate(lassoreg, X_poly_train, y,\n",
    "                              scoring = \"neg_mean_squared_error\",\n",
    "                              cv=k,\n",
    "                              return_train_score = True)\n",
    "    val_scores = validation_result['test_score']\n",
    "    mse_validation = val_scores.mean()\n",
    "    mse_train = validation_result['train_score'].mean()\n",
    "    \n",
    "    std_dict[a] = -val_scores\n",
    "    cross_validation_error.append(-mse_validation)\n",
    "    cross_train_error.append(-mse_train)\n",
    "\n",
    "best_alpha = alphas[cross_validation_error.index(min(cross_validation_error))]"
   ]
  },
  {
   "cell_type": "code",
   "execution_count": 18,
   "metadata": {},
   "outputs": [
    {
     "name": "stdout",
     "output_type": "stream",
     "text": [
      "The alpha of the best lasso model with the lowest validation MSE is 0.01. The lowest validation MSE is 2.5906. The corresponding train MSE is 2.5048. \n"
     ]
    },
    {
     "data": {
      "text/plain": [
       "<matplotlib.legend.Legend at 0x7fc54a8b8c40>"
      ]
     },
     "execution_count": 18,
     "metadata": {},
     "output_type": "execute_result"
    },
    {
     "data": {
      "image/png": "[encoded data removed]",
      "text/plain": [
       "<Figure size 576x432 with 1 Axes>"
      ]
     },
     "metadata": {
      "needs_background": "light"
     },
     "output_type": "display_data"
    }
   ],
   "source": [
    "print(f\"The alpha of the best lasso model with the lowest validation MSE is {best_alpha}. The lowest validation MSE is {min(cross_validation_error):.4f}. The corresponding train MSE is {cross_train_error[cross_validation_error.index(min(cross_validation_error))]:.4f}. \")\n",
    "\n",
    "df = pd.DataFrame(std_dict).melt()\n",
    "df2 = df.groupby(\"variable\").agg('std').reset_index()\n",
    "std_arr = np.array(df2['value'])\n",
    "\n",
    "# plot MSE\n",
    "fig, ax = plt.subplots(figsize = (8,6))\n",
    "plt.scatter(np.log10(alphas),cross_train_error, color='red', label = 'train MSE', s=12)\n",
    "plt.scatter(np.log10(alphas),cross_validation_error,color='blue', label = 'validation MSE', s=12, alpha = 0.3)\n",
    "plt.errorbar(np.log10(alphas),cross_validation_error, yerr=std_arr, fmt=\"o\", alpha = 0.2)\n",
    "plt.xlabel(\"log alpha\")\n",
    "plt.ylabel(\"MSE\")\n",
    "plt.xticks(np.log10(alphas))\n",
    "plt.title(\"Train and Validation MSE for Each Lasso Model in 10-fold Cross-Validation\")\n",
    "ax.legend()"
   ]
  },
  {
   "cell_type": "markdown",
   "metadata": {},
   "source": [
    "**INTERPRETATION:**"
   ]
  },
  {
   "cell_type": "markdown",
   "metadata": {},
   "source": [
    "**Yes there are warnings. It says \"ConvergenceWarning: Objective did not converge. You might want to increase the number of iterations\". It means the model does not converge. To avoid warning, I tried to increase iteration by setting the max_iter to be a larger value, but this does not work. The reason why increasing the number of iteration might be important is that the default iteration is 1000 which is too small to make the model reach the convergence. When the iteration number is large, the model is more likely to converge. Then I include \"%%capture --no-stdout --no-display\" in the jupyter block to silence the warning.** \n",
    "\n"
   ]
  },
  {
   "cell_type": "markdown",
   "metadata": {},
   "source": [
    "<div class='exercise-r'>\n",
    "\n",
    "**6.2 Find the most significant degrees**\n",
    "\n",
    "From the previous section, you will now have the `best_alpha` hyperparameter. Now, we will use this best $\\alpha$ value to find the \"most significant\" set of polynomial degrees by using bootstraps.\n",
    "\n",
    "What we mean by this is, for each bootstrap of the data, you will get some set of degrees that are **significant**, as will be indicated by the value of their coefficients. Typically, while using $LASSO$ regularization, we would consider $\\mid\\beta_i\\mid \\gt 0$ as an indication of a particular coefficient's significance. However, for this particular exercise, we are going to use $\\mid\\beta_i\\mid \\gt 0.1$ as our criteria for significance (we have found this $0.1$ threshold to work well when designing this particular problem).\n",
    "\n",
    "Based on this criteria, you will identify which degree coefficients are significant over many bootstrapped iterations with $n=30$ polynomial features and your chosen best $\\alpha$ from Question 6.1.\n",
    "\n",
    "- Use polynomial features with **degree 30**.\n",
    "- Use a dictionary called `significant_degrees` to store a cumulative count for each degree identified as significant during your bootstraps.\n",
    "- Run at least 100 bootstraps of your data.\n",
    "- For each bootstrap:\n",
    "  - Train a `Lasso(...)` model with the `best_alpha` identified in Question 6.1.\n",
    "  - Identify the significant polynomial degree coefficients using $\\mid\\beta_i\\mid \\gt 0.1 $ as our threshold for significance.\n",
    "  - For each significant coefficient, update the count of that degree in your `significant_degrees` dictionary.\n",
    "- Generate a bar plot showing the count for each degree, showing how many times it was identified as significant over your bootstraps.\n",
    "- Based on this plot, there should likely be a clear maximum degree, above which, few if any iterations have been identified as significant. Interpret your bar plot, choose a maximum degree polynomial based upon it, and explain your rationale for choosing that degree.\n",
    "\n",
    "</div>"
   ]
  },
  {
   "cell_type": "code",
   "execution_count": 19,
   "metadata": {
    "cell_id": "1e847ea0-95b4-47fa-8c71-09636de2c913",
    "tags": []
   },
   "outputs": [
    {
     "data": {
      "text/plain": [
       "Text(0.5, 1.0, 'Counts of significance for each degree')"
      ]
     },
     "execution_count": 19,
     "metadata": {},
     "output_type": "execute_result"
    },
    {
     "data": {
      "image/png": "[encoded data removed]",
      "text/plain": [
       "<Figure size 432x288 with 1 Axes>"
      ]
     },
     "metadata": {
      "needs_background": "light"
     },
     "output_type": "display_data"
    }
   ],
   "source": [
    "%%capture --no-stdout --no-display\n",
    "\n",
    "# your code here\n",
    "\n",
    "boot_linreg_models = []\n",
    "boot_betas = []\n",
    "numboot = 100\n",
    "max_deg=30\n",
    "bestdeg_list = []\n",
    "significant_degrees = {}\n",
    "for j in range(1,max_deg+1):\n",
    "    significant_degrees[j] = 0\n",
    "\n",
    "X = bac_tr[['Spreading_factor']]\n",
    "y = bac_tr[[\"Perc_population\"]]\n",
    "# X_train, X_test, y_train, y_test = train_test_split(X, y, test_size=.2, random_state=42)\n",
    "\n",
    "X_tr_df = X.copy()\n",
    "y_train = y.copy()\n",
    "\n",
    "\n",
    "all_deg = [i for i in range(1,max_deg+1)]\n",
    "\n",
    "# bootstrap\n",
    "for i in range(numboot):\n",
    "\n",
    "    # randomly sample indices\n",
    "    boostrap_i_indices= np.random.choice(X_tr_df.index, replace = True, size = len(X_tr_df.index))\n",
    "    \n",
    "    # get bootstrapped dfs\n",
    "    Xtr_boot = X_tr_df.iloc[boostrap_i_indices,:]\n",
    "    ytr_boot = y_train.iloc[boostrap_i_indices,:].Perc_population\n",
    "    \n",
    "    # select best\n",
    "    cross_validation_error = []\n",
    "    \n",
    "    # a lasso model\n",
    "    Xtr_boot_poly = PolynomialFeatures(degree=max_deg).fit_transform(Xtr_boot)\n",
    "    lassoreg = Lasso(alpha = best_alpha,max_iter=2000)#.fit(X_poly_train,y)\n",
    "\n",
    "    lassoreg.fit(Xtr_boot_poly,ytr_boot)\n",
    "    y_boot_pred = lassoreg.predict(Xtr_boot_poly)\n",
    "    mse_validation = mean_squared_error(y_boot_pred, ytr_boot)\n",
    "    cross_validation_error.append(-mse_validation)\n",
    "\n",
    "    for j in range(1,max_deg+1):\n",
    "        if (lassoreg.coef_[1:][j-1] > 0.1 or lassoreg.coef_[1:][j-1] < -0.1):\n",
    "            value = significant_degrees[j]\n",
    "            significant_degrees[j] = value + 1 \n",
    "            \n",
    "\n",
    "newdf = pd.DataFrame(significant_degrees.values()).reset_index().rename(columns={0 : \"value\"})\n",
    "newdf['index'] = newdf['index'] + 1\n",
    "\n",
    "# Plot\n",
    "sns.barplot(data = newdf, x = 'index', y = 'value')\n",
    "plt.ylabel('Number of Times of Being Significant')\n",
    "plt.xlabel('Degree')\n",
    "plt.title(\"Counts of significance for each degree\")"
   ]
  },
  {
   "cell_type": "markdown",
   "metadata": {},
   "source": [
    "**INTERPRETATION:**"
   ]
  },
  {
   "cell_type": "markdown",
   "metadata": {},
   "source": [
    "**Based on this plot, the maximum degree is 8, because the degrees larger than 8 did not be identified as significant. Lasso regression can be seen as a method for feature selection. Based on 100 boostrapping, the Lasso gives zero coefficients for those with degrees larger than 8. Therefore, we are confident that those degrees larger than 8 are not important.**\n"
   ]
  },
  {
   "cell_type": "markdown",
   "metadata": {},
   "source": [
    "<div class='exercise-r'>\n",
    "\n",
    "**6.3 Compute and print the test $MSE$**\n",
    "\n",
    "From our Question 6.2 results, we can see that only some degrees are consistently significant over many bootstraps. You will now retrain the $L1$ regularized model on the entire **training** data and find the test $MSE$.\n",
    "\n",
    "- Use polynomial features based on the maximum degree you identified using your results from Question 6.2 (for the sake of simplicity, use all degrees up to that maximum degree as is typically done in polynomial regression).\n",
    "- Train your **LASSO** regularized model using your `best_alpha` hyper-parameter on the entire training set.\n",
    "- Generate a plot of the data and your regression curve (similar to [Question 2.1](#part2)).\n",
    "- Report the polynomial degrees and corresponding coefficients for this fully trained model that have an absolute value greater than 0.1 (i.e. $\\mid\\beta_i\\mid \\gt 0.1 $).\n",
    "- Report the train and test $MSE$ and save the test $MSE$ to `best_mse_dict`.\n",
    "\n",
    "</div>"
   ]
  },
  {
   "cell_type": "code",
   "execution_count": 20,
   "metadata": {
    "cell_id": "8e836c0a-f87f-43f5-9448-838d0028b904",
    "scrolled": true,
    "tags": []
   },
   "outputs": [
    {
     "name": "stdout",
     "output_type": "stream",
     "text": [
      "With polynomial degree of 8, the corresponding coefficients are [2.0121, 0.8678, 0.0, 0.2842, 0.0013, -0.1272, -0.0108, 0.0014], the train MSE is 2.5593, and the test MSE is 2.5950.\n"
     ]
    },
    {
     "name": "stderr",
     "output_type": "stream",
     "text": [
      "/Users/dizhen/opt/anaconda3/lib/python3.8/site-packages/sklearn/linear_model/_coordinate_descent.py:530: ConvergenceWarning: Objective did not converge. You might want to increase the number of iterations. Duality gap: 14.496300864179375, tolerance: 0.2716198598316785\n",
      "  model = cd_fast.enet_coordinate_descent(\n"
     ]
    },
    {
     "data": {
      "text/plain": [
       "<matplotlib.legend.Legend at 0x7fc58921efa0>"
      ]
     },
     "execution_count": 20,
     "metadata": {},
     "output_type": "execute_result"
    },
    {
     "data": {
      "image/png": "[encoded data removed]",
      "text/plain": [
       "<Figure size 432x288 with 1 Axes>"
      ]
     },
     "metadata": {
      "needs_background": "light"
     },
     "output_type": "display_data"
    }
   ],
   "source": [
    "# your code here\n",
    "lasso_deg = 8\n",
    "X_train_poly = PolynomialFeatures(degree = lasso_deg).fit_transform(X)\n",
    "X_test_poly = PolynomialFeatures(degree = lasso_deg).fit_transform(X_test)\n",
    "lassoreg = Lasso(alpha = best_alpha).fit(X_train_poly, y)\n",
    "y_train_pred = lassoreg.predict(X_train_poly)\n",
    "y_test_pred = lassoreg.predict(X_test_poly)\n",
    "\n",
    "list_coef = [round(i,4) for i in lassoreg.coef_[1:]]\n",
    "\n",
    "best_mse_dict['6.3'] = mean_squared_error(y_test, y_test_pred)\n",
    "print(f\"With polynomial degree of 8, the corresponding coefficients are {list_coef}, the train MSE is {mean_squared_error(y, y_train_pred):.4f}, and the test MSE is {mean_squared_error(y_test, y_test_pred):.4f}.\")\n",
    "\n",
    "\n",
    "# plot\n",
    "fig, ax = plt.subplots()\n",
    "plt.scatter(X_test,y_test,color='k', label = 'test set', s=10, alpha=0.6)\n",
    "plt.scatter(X,y,color='lightblue', label = 'training set', s=10,alpha=0.6)\n",
    "plt.scatter(X_test,y_test_pred,color='lightgreen', label = 'predicted test set', s=10)\n",
    "plt.scatter(X,y_train_pred,color='pink', label = 'predicted training set', s=10,alpha=0.6)\n",
    "plt.title(\"Plot of data and predicted values\")\n",
    "ax.legend()"
   ]
  },
  {
   "cell_type": "markdown",
   "metadata": {},
   "source": [
    "<div class='exercise-r'>\n",
    "\n",
    "**6.4 What are your observations?**\n",
    "\n",
    "- Compare your `best_degree` from [Question 5](#part5solutions) with your chosen degree in 6.3 above and comment on the difference.\n",
    "- Compare your test $MSE$ in this question with the result from question 5. Which one is smaller, and by how much?\n",
    "- Which degree coefficients in your best fit model from 6.3 are significant? If not all coefficients are significant, why?\n",
    "- Would you expect your current model from 6.3 to be more \"reliable\" or robust than the models in Question 5 and prior? On what basis would you make a claim of its robustness?\n",
    "\n",
    "</div>"
   ]
  },
  {
   "cell_type": "code",
   "execution_count": 21,
   "metadata": {
    "scrolled": true
   },
   "outputs": [
    {
     "data": {
      "text/plain": [
       "{'2.1': 2.6519056545149615,\n",
       " '3.2': 2.67486257544031,\n",
       " '4.2': 2.61301063735301,\n",
       " '5.3': 2.6130106373530064,\n",
       " '6.3': 2.594991995723685}"
      ]
     },
     "execution_count": 21,
     "metadata": {},
     "output_type": "execute_result"
    }
   ],
   "source": [
    "best_mse_dict"
   ]
  },
  {
   "cell_type": "markdown",
   "metadata": {},
   "source": [
    "**The best degree from Q5 and my chosen degree in 6.3 are the same. The difference is that by using Lasso I got lower validation MSE by about 0.02. Not all coeffcients are significant, only 4 of them have absolute coefficient values larger than 0.1. This is because by using the original training data (different from the sampled data in previous bootstrap), Lasso identified some coefficients as insignificant and assigned their coefficient to a value closer to null. If we resample the data we will possibly get slightly different results. I would expect the current model to be more reliable,more generalizable, less overfitting. Because Lasso added penalty/regularization term to the model which makes the model more tolerant to the error and perform better on the unknown test data. This is why I make a claim of its robustness.**\n"
   ]
  },
  {
   "cell_type": "markdown",
   "metadata": {
    "cell_id": "fe903f84-5847-4e97-95c5-4424e57a375c",
    "tags": []
   },
   "source": [
    "<a id=\"part7\"></a>\n",
    "\n",
    "## <div class='exercise'>Question 7: Analyze your best test MSEs for each sub section of the homework [6 pts]</div> \n",
    "\n",
    "[Return to contents](#contents)\n",
    "\n",
    "\n",
    "**7.1** Convert the `best_mse_dict` dictionary used to store the best $MSE$ values from each section of the homework into a Pandas dataframe. Generate a bar plot illustrating the $MSE$ values in that dataframe and also display the resulting dataframe.\n",
    "\n",
    "**7.2** Which model do you think is best, and why? What are some of that model's drawbacks compared to the other models? "
   ]
  },
  {
   "cell_type": "markdown",
   "metadata": {},
   "source": [
    "<a id=\"part7solutions\"></a>\n",
    "\n",
    "## Question 7: Solutions\n",
    "\n",
    "[Return to contents](#contents)"
   ]
  },
  {
   "cell_type": "markdown",
   "metadata": {},
   "source": [
    "<div class='exercise-r'>\n",
    "\n",
    "**7.1** Convert the `best_mse_dict` dictionary used to store the best $MSE$ values from each section of the homework into a Pandas dataframe. Generate a bar plot illustrating the $MSE$ values in that dataframe and also display the resulting dataframe.\n",
    "\n",
    "</div>"
   ]
  },
  {
   "cell_type": "code",
   "execution_count": 22,
   "metadata": {
    "cell_id": "6a95aee4-794c-4c64-814f-2c6409017f10",
    "tags": []
   },
   "outputs": [
    {
     "name": "stdout",
     "output_type": "stream",
     "text": [
      "        MSE Question\n",
      "0  2.651906      2.1\n",
      "1  2.674863      3.2\n",
      "2  2.613011      4.2\n",
      "3  2.613011      5.3\n",
      "4  2.594992      6.3\n"
     ]
    },
    {
     "data": {
      "text/plain": [
       "Text(0.5, 1.0, 'Best MSE Values')"
      ]
     },
     "execution_count": 22,
     "metadata": {},
     "output_type": "execute_result"
    },
    {
     "data": {
      "image/png": "[encoded data removed]",
      "text/plain": [
       "<Figure size 432x288 with 1 Axes>"
      ]
     },
     "metadata": {
      "needs_background": "light"
     },
     "output_type": "display_data"
    }
   ],
   "source": [
    "# your code here\n",
    "best_mse_df = pd.DataFrame(best_mse_dict.keys(), best_mse_dict.values()).reset_index().rename(columns = {\"index\": \"MSE\", 0:\"Question\"})\n",
    "print(best_mse_df.head())\n",
    "sns.barplot(data = best_mse_df,x = 'Question', y= 'MSE')\n",
    "plt.title('Best MSE Values')\n"
   ]
  },
  {
   "cell_type": "markdown",
   "metadata": {},
   "source": [
    "<div class='exercise-r'>\n",
    "\n",
    "**7.2** Which model do you think is best, and why? What are some of that model's drawbacks compared to the other models? \n",
    "\n",
    "</div>"
   ]
  },
  {
   "cell_type": "markdown",
   "metadata": {},
   "source": [
    "**The model in 6.3 is the best because it has the lowest MSE score on the test set. Compared to other models, it has less predictors, so it can be underfit. This means it might have lower variance but higher bias.**\n"
   ]
  },
  {
   "cell_type": "markdown",
   "metadata": {},
   "source": [
    "#### THE END"
   ]
  }
 ],
 "metadata": {
  "colab": {
   "collapsed_sections": [],
   "name": "Homework2.ipynb",
   "provenance": []
  },
  "deepnote_execution_queue": [
   {
    "cellId": "7925de61-e041-437e-ba6b-b1c3e1b2fb0c",
    "msgId": "81bcbf6f-fa59-42e6-9480-bc996bae8f99",
    "sessionId": "e7116124-0a70-4245-961a-e0041ff25d29"
   },
   {
    "cellId": "32ac05dc-6db8-4c64-8028-4a6e4c16ec1c",
    "msgId": "17b61e3a-31e9-45e0-b1c8-cba828b9a48d",
    "sessionId": "e7116124-0a70-4245-961a-e0041ff25d29"
   },
   {
    "cellId": "9e4ea6c6-2cb0-4aa1-b5bf-67be3a47ac87",
    "msgId": "66b23ef4-2198-4543-a34e-3b998d83f1c7",
    "sessionId": "e7116124-0a70-4245-961a-e0041ff25d29"
   },
   {
    "cellId": "0cdef907-9d0f-4057-a70b-71022017e321",
    "msgId": "125b9c17-7ffa-4214-9ca2-27e9e34df7c7",
    "sessionId": "e7116124-0a70-4245-961a-e0041ff25d29"
   },
   {
    "cellId": "2eefd92c-1d9f-49fe-a7f7-d7f0f4f59e95",
    "msgId": "81a1b165-ee3a-4ab0-afff-99f4dfa74eef",
    "sessionId": "e7116124-0a70-4245-961a-e0041ff25d29"
   },
   {
    "cellId": "40b93f58-240f-49bc-ab9c-a919d74b8e61",
    "msgId": "4b00a64e-a71b-4cf9-a228-cbabdbee0414",
    "sessionId": "e7116124-0a70-4245-961a-e0041ff25d29"
   },
   {
    "cellId": "2f3d3efa-8220-44b2-afbf-9600c2fea073",
    "msgId": "5bdcc501-f577-4908-9e85-aa52b44f652f",
    "sessionId": "e7116124-0a70-4245-961a-e0041ff25d29"
   },
   {
    "cellId": "2f3d3efa-8220-44b2-afbf-9600c2fea073",
    "msgId": "96fa923e-991c-409f-954b-1a9d036a7f0a",
    "sessionId": "e7116124-0a70-4245-961a-e0041ff25d29"
   },
   {
    "cellId": "cc0c9423-6587-41fb-88c4-5e7db61d7791",
    "msgId": "c4775dd8-e4e3-4505-865a-d2b54022e97c",
    "sessionId": "e7116124-0a70-4245-961a-e0041ff25d29"
   },
   {
    "cellId": "4f9d6f96-a6b7-4951-a98a-f29e0351a113",
    "msgId": "2721b704-5efa-4783-a128-ea0b813e202f",
    "sessionId": "e7116124-0a70-4245-961a-e0041ff25d29"
   },
   {
    "cellId": "4f9d6f96-a6b7-4951-a98a-f29e0351a113",
    "msgId": "14cd3ada-ede8-4693-b8ce-b1254e5357cb",
    "sessionId": "e7116124-0a70-4245-961a-e0041ff25d29"
   },
   {
    "cellId": "1e847ea0-95b4-47fa-8c71-09636de2c913",
    "msgId": "a53842aa-e7d2-4787-a474-04717a13bf12",
    "sessionId": "e7116124-0a70-4245-961a-e0041ff25d29"
   },
   {
    "cellId": "4b9d11b1-bc81-4937-8924-eda535bbe287",
    "msgId": "f9fa1ff3-ed3e-4876-8bb3-239ee4ec0279",
    "sessionId": "e7116124-0a70-4245-961a-e0041ff25d29"
   },
   {
    "cellId": "8e836c0a-f87f-43f5-9448-838d0028b904",
    "msgId": "f7641d44-aaf7-4676-bbd4-439a47d4db1f",
    "sessionId": "e7116124-0a70-4245-961a-e0041ff25d29"
   },
   {
    "cellId": "c72943b7-5e58-4fe3-9225-fa0beeff3654",
    "msgId": "1878748e-321b-484f-bee1-344ec8caf68e",
    "sessionId": "e7116124-0a70-4245-961a-e0041ff25d29"
   },
   {
    "cellId": "c4bd7d98-380a-4853-8114-51d41f0cfd95",
    "msgId": "af49c97c-7c7c-4b0c-9543-5c38d238fffb",
    "sessionId": "e7116124-0a70-4245-961a-e0041ff25d29"
   },
   {
    "cellId": "c4bd7d98-380a-4853-8114-51d41f0cfd95",
    "msgId": "691b283d-e47a-4686-9e73-4f457365a32a",
    "sessionId": "e7116124-0a70-4245-961a-e0041ff25d29"
   }
  ],
  "deepnote_notebook_id": "80dec77d-caa5-42a3-a211-a1492a1ab3e6",
  "kernelspec": {
   "display_name": "Python 3",
   "language": "python",
   "name": "python3"
  },
  "language_info": {
   "codemirror_mode": {
    "name": "ipython",
    "version": 3
   },
   "file_extension": ".py",
   "mimetype": "text/x-python",
   "name": "python",
   "nbconvert_exporter": "python",
   "pygments_lexer": "ipython3",
   "version": "3.8.8"
  }
 },
 "nbformat": 4,
 "nbformat_minor": 4
}
