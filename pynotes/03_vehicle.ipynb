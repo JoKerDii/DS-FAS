{
 "cells": [
  {
   "cell_type": "code",
   "execution_count": 1,
   "metadata": {},
   "outputs": [],
   "source": [
    "import pandas as pd\n",
    "import numpy as np\n",
    "from sklearn.model_selection import train_test_split\n",
    "from sklearn.preprocessing import StandardScaler\n",
    "from sklearn.impute import SimpleImputer, KNNImputer\n"
   ]
  },
  {
   "cell_type": "code",
   "execution_count": 2,
   "metadata": {},
   "outputs": [
    {
     "data": {
      "text/plain": [
       "year          0\n",
       "mileage       0\n",
       "max_power    44\n",
       "dtype: int64"
      ]
     },
     "execution_count": 2,
     "metadata": {},
     "output_type": "execute_result"
    }
   ],
   "source": [
    "df_train = pd.read_csv(\"data/vehicle_dataset_train.csv\", index_col=0)\n",
    "df_test = pd.read_csv(\"data/vehicle_dataset_test.csv\", index_col=0)\n",
    "X_train, y_train = df_train.drop(columns=['selling_price']), df_train['selling_price']\n",
    "X_test, y_test = df_test.drop(columns=['selling_price']), df_test['selling_price']\n",
    "# Check missing data\n",
    "X_train.isna().sum()"
   ]
  },
  {
   "cell_type": "markdown",
   "metadata": {},
   "source": [
    "Simple imputer to impute missing data"
   ]
  },
  {
   "cell_type": "code",
   "execution_count": 3,
   "metadata": {},
   "outputs": [],
   "source": [
    "imputer = SimpleImputer(strategy='mean')\n",
    "X_train_1 = imputer.fit_transform(X_train)\n",
    "X_test_1 = imputer.transform(X_test)"
   ]
  },
  {
   "cell_type": "markdown",
   "metadata": {},
   "source": [
    "kNN regression to impute missing data. Need scaling before imputation."
   ]
  },
  {
   "cell_type": "code",
   "execution_count": 4,
   "metadata": {},
   "outputs": [],
   "source": [
    "scaler = StandardScaler().fit(np.concatenate([X_train, X_test], axis=0))\n",
    "X_train_scaled = scaler.transform(X_train)\n",
    "X_test_scaled = scaler.transform(X_test)\n",
    "knn_imputer = KNNImputer(n_neighbors=2)\n",
    "X_train_2 = knn_imputer.fit_transform(X_train_scaled)\n",
    "X_test_2 = knn_imputer.transform(X_test_scaled)"
   ]
  },
  {
   "cell_type": "markdown",
   "metadata": {},
   "source": [
    "Check correlation, use `np.where` to get the index of the element we want."
   ]
  },
  {
   "cell_type": "code",
   "execution_count": 5,
   "metadata": {},
   "outputs": [],
   "source": [
    "df = pd.read_csv(\"data/communities_and_crime.csv\", index_col = 0)\n",
    "X,y = df.drop(columns=['ViolentCrimesPerPop']), df['ViolentCrimesPerPop']\n",
    "X_train, X_test, y_train, y_test = train_test_split(X, y, test_size=0.2, random_state=42)"
   ]
  },
  {
   "cell_type": "code",
   "execution_count": 6,
   "metadata": {},
   "outputs": [
    {
     "name": "stdout",
     "output_type": "stream",
     "text": [
      "The following pairs of predictor variables have correlation greater than 0.99 or less than -0.99:\n"
     ]
    },
    {
     "data": {
      "text/plain": [
       "{('numbUrban', 'population'): 0.9998,\n",
       " ('PctRecImmig5', 'PctRecentImmig'): 0.992,\n",
       " ('PctRecImmig8', 'PctRecImmig5'): 0.9963,\n",
       " ('PctRecImmig10', 'PctRecImmig5'): 0.9901,\n",
       " ('PctRecImmig10', 'PctRecImmig8'): 0.9966,\n",
       " ('OwnOccMedVal', 'OwnOccLowQuart'): 0.9917,\n",
       " ('MedRent', 'RentMedian'): 0.993,\n",
       " ('LemasSwFTFieldOps', 'LemasSwornFT'): -0.9903,\n",
       " ('PolicPerPop', 'LemasSwFTPerPop'): 1.0}"
      ]
     },
     "execution_count": 6,
     "metadata": {},
     "output_type": "execute_result"
    }
   ],
   "source": [
    "col_names = X_train.columns\n",
    "df_corr = X_train.corr()\n",
    "itemindex = np.where((df_corr > 0.99) | (df_corr < -0.99))\n",
    "print(\"The following pairs of predictor variables have correlation greater than 0.99 or less than -0.99:\")\n",
    "{(col_names[i],col_names[j]): round(df_corr.iloc[i,j],4) for (i,j) in zip(itemindex[0], itemindex[1]) if i > j}"
   ]
  }
 ],
 "metadata": {
  "interpreter": {
   "hash": "2d62f1dcb459bb31f256df2d8996df67e4435b238b064aef6cf42424247f4f46"
  },
  "kernelspec": {
   "display_name": "Python 3.9.6 64-bit ('cs109a': conda)",
   "language": "python",
   "name": "python3"
  },
  "language_info": {
   "codemirror_mode": {
    "name": "ipython",
    "version": 3
   },
   "file_extension": ".py",
   "mimetype": "text/x-python",
   "name": "python",
   "nbconvert_exporter": "python",
   "pygments_lexer": "ipython3",
   "version": "3.9.6"
  },
  "orig_nbformat": 4
 },
 "nbformat": 4,
 "nbformat_minor": 2
}
