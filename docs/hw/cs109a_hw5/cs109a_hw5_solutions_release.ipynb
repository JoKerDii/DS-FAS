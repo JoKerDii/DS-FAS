{
 "cells": [
  {
   "cell_type": "markdown",
   "metadata": {},
   "source": [
    "# <img style=\"float: left; padding-right: 10px; width: 45px\" src=\"https://raw.githubusercontent.com/Harvard-IACS/2018-CS109A/master/content/styles/iacs.png\"> CS109A Introduction to Data Science: \n",
    "## Homework 5: Predicting College Admissions\n",
    "\n",
    "**Harvard University**<br/>\n",
    "**Fall 2021**<br/>\n",
    "**Instructors**: Pavlos Protopapas, Natesh Pillai\n",
    "\n",
    "<hr style=\"height:2.4pt\">"
   ]
  },
  {
   "cell_type": "code",
   "execution_count": 1,
   "metadata": {},
   "outputs": [
    {
     "data": {
      "text/html": [
       "<style>\n",
       "blockquote { background: #AEDE94; }\n",
       "h1 {\n",
       "    padding-top: 25px;\n",
       "    padding-bottom: 25px;\n",
       "    text-align: left;\n",
       "    padding-left: 10px;\n",
       "    background-color: #63ACBE;\n",
       "    color: black;\n",
       "}\n",
       "h2 {\n",
       "    padding-top: 10px;\n",
       "    padding-bottom: 10px;\n",
       "    text-align: left;\n",
       "    padding-left: 5px;\n",
       "    background-color: #EEEEEE;\n",
       "    color: black;\n",
       "}\n",
       "\n",
       "div.exercise {\n",
       "\tbackground-color: #f8b4ab;\n",
       "\tborder-color: #E9967A;\n",
       "\tborder-left: 5px solid #601A4A;\n",
       "\tpadding: 0.5em;\n",
       "}\n",
       "\n",
       "div.exercise-r {\n",
       "\tbackground-color: #ffd0d0;\n",
       "\tborder-color: #E9967A;\n",
       "\tborder-left: 5px solid #601A4A;\n",
       "\tpadding: 0.5em;\n",
       "}\n",
       "\n",
       "\n",
       "span.sub-q {\n",
       "\tfont-weight: bold;\n",
       "}\n",
       "div.theme {\n",
       "\tbackground-color: #63ACBE;\n",
       "\tborder-color: #E9967A;\n",
       "\tborder-left: 5px solid #601A4A;\n",
       "\tpadding: 0.5em;\n",
       "\tfont-size: 18pt;\n",
       "}\n",
       "div.gc {\n",
       "\tbackground-color: #AEDE94;\n",
       "\tborder-color: #E9967A;\n",
       "\tborder-left: 5px solid #601A4A;\n",
       "\tpadding: 0.5em;\n",
       "\tfont-size: 12pt;\n",
       "}\n",
       "p.q1 {\n",
       "    padding-top: 5px;\n",
       "    padding-bottom: 5px;\n",
       "    text-align: left;\n",
       "    padding-left: 5px;\n",
       "    background-color: #EEEEEE;\n",
       "    color: black;\n",
       "}\n",
       "header {\n",
       "   padding-top: 35px;\n",
       "    padding-bottom: 35px;\n",
       "    text-align: left;\n",
       "    padding-left: 10px;\n",
       "    background-color: #DDDDDD;\n",
       "    color: black;\n",
       "}\n",
       "span.emph {\n",
       "\tcolor: #601A4A;\n",
       "\tfont-weight: bold;\n",
       "}\n",
       "\n",
       "</style>\n"
      ],
      "text/plain": [
       "<IPython.core.display.HTML object>"
      ]
     },
     "execution_count": 1,
     "metadata": {},
     "output_type": "execute_result"
    }
   ],
   "source": [
    "# RUN THIS CELL \n",
    "import requests\n",
    "from IPython.core.display import HTML\n",
    "styles = requests.get(\n",
    "    \"https://raw.githubusercontent.com/Harvard-IACS/2021-CS109A/master/\"\n",
    "    \"themes/static/css/cs109.css\"\n",
    ").text\n",
    "HTML(styles)"
   ]
  },
  {
   "cell_type": "markdown",
   "metadata": {},
   "source": [
    "### Import Libraries"
   ]
  },
  {
   "cell_type": "code",
   "execution_count": 2,
   "metadata": {},
   "outputs": [],
   "source": [
    "# RUN THIS CELL\n",
    "import itertools\n",
    "import math\n",
    "\n",
    "import numpy as np\n",
    "import pandas as pd\n",
    "import seaborn as sns\n",
    "import matplotlib.pyplot as plt\n",
    "\n",
    "from sklearn.model_selection import train_test_split\n",
    "from sklearn.preprocessing import PolynomialFeatures\n",
    "from sklearn.preprocessing import StandardScaler\n",
    "from sklearn.model_selection import cross_validate\n",
    "\n",
    "from sklearn.linear_model import LogisticRegression\n",
    "from sklearn.neighbors import KNeighborsClassifier\n",
    "from sklearn.linear_model import LogisticRegressionCV\n",
    "\n",
    "from sklearn.metrics import accuracy_score\n",
    "from sklearn.metrics import roc_curve\n",
    "from sklearn.metrics import roc_auc_score\n",
    "\n",
    "# pandas tricks for better display\n",
    "pd.options.display.max_columns = 50  \n",
    "pd.options.display.max_rows = 500     \n",
    "pd.options.display.max_colwidth = 100\n",
    "pd.options.display.precision = 3\n",
    "\n",
    "%matplotlib inline"
   ]
  },
  {
   "cell_type": "markdown",
   "metadata": {},
   "source": [
    "<a id=\"instructions\"></a>\n",
    "\n",
    "<hr style=\"height:2pt\">\n",
    "\n",
    "### INSTRUCTIONS\n",
    "\n",
    "\n",
    "- To submit your assignment follow the instructions given in Canvas.\n",
    "\n",
    "- Please **restart the kernel and run the entire notebook again before you submit.**\n",
    "\n",
    "- Running cells out of order is a common pitfall in Jupyter Notebooks. To make sure your code continues to work, restart the kernel and rerun your notebook periodically while working through this assignment. \n",
    "\n",
    "- We have tried to include all the libraries you may need to do the assignment in the imports cell provided below. **Please use only the libraries provided in those imports.**\n",
    "\n",
    "- Please use `.head(...)` when viewing data. Do not submit a notebook that is **excessively long**. \n",
    "\n",
    "- In questions that require code to answer, such as \"calculate and report $R^2$\", do not just output the value from a cell. Write a `print(...)` function that clearly labels the output, includes a reference to the calculated value, and rounds it to a reasonable number of digits. **Do not hard code values in your printed output**. For example, this is an appropriate print statement:\n",
    "```python\n",
    "print(f'The R^2 is {R:.4f}')\n",
    "```\n",
    "- **Your plots MUST be clearly labeled and easy to read,** including clear labels for the $x$ and $y$ axes, a descriptive title (\"MSE plot\" is NOT a descriptive title; \"95% confidence interval of coefficients for degree-5 polynomial model\" on the other hand is descriptive), a legend when appropriate, and clearly formatted text and graphics.\n",
    "\n",
    "- **Your code may also be evaluated for efficiency and clarity.** As a result, correct output is not always sufficient for full credit.\n",
    "\n",
    "<hr style=\"height:2pt\">"
   ]
  },
  {
   "cell_type": "markdown",
   "metadata": {},
   "source": [
    "<a id=\"contents\"></a>\n",
    "\n",
    "## Notebook contents\n",
    "\n",
    "- [**Overview and data description**](#intro)\n",
    "\n",
    "\n",
    "- [**Question 1: Data exploration using train and basic models [16 pts]**](#part1)\n",
    "  - [Solutions](#part1solutions)\n",
    "\n",
    "\n",
    "- [**Question 2: Interpretable modeling [18 pts]**](#part2)\n",
    "  - [Solutions](#part2solutions)\n",
    "\n",
    "\n",
    "- [**Question 3: Harvard and Yale? [30 pts]**](#part3)\n",
    "  - [Solutions](#part3solutions)\n",
    "\n",
    "\n",
    "- [**Question 4: Building predictive models for admitted [24 pts]**](#part4)\n",
    "  - [Solutions](#part4solutions)\n",
    "\n",
    "\n",
    "- [**Question 5: Evaluating results [12 pts]**](#part5)\n",
    "  - [Solutions](#part5solutions)"
   ]
  },
  {
   "cell_type": "markdown",
   "metadata": {},
   "source": [
    "<a id=\"intro\"></a>\n",
    "\n",
    "## Overview and data description\n",
    "\n",
    "[Return to contents](#contents)\n",
    "\n",
    "### Predicting admissions into elite universities\n",
    "\n",
    "In this problem set we will model the chances of high school students being accepted into two different elite undergraduate colleges (one is elite at least :) ): Harvard and Yale.  The data are provided in the file `data/college_admissions.csv` and were scraped from [collegedata.com](https://www.collegedata.com/) (where applicants volunteer to share their information).  Each observation corresponds to an applicant to one of the two different colleges (note: the same applicant may show up in two rows: once for each college).  The main response is the `\"admitted\"` variable (1 = admitted, 0 = denied), and there are are several predictors to consider:\n",
    "\n",
    "- **id**: a unique identifier for the applicant \n",
    "- **test**: a standardized measurement of the applicant's highest ACT or SAT combined score (2400 is the maximum)\n",
    "- **ap**: the number of AP tests taken\n",
    "- **avg_ap**: the average score on the AP tests taken (0 if no tests were taken)\n",
    "- **sat_subjects**: the number of SAT subject tests taken\n",
    "- **gpa**: the unweighted GPA of the applicant (max of 4.0)\n",
    "- **female**:  a binary indicator for gender: 1 = female, 0 = otherwise\n",
    "- **minority**: a binary indicator for under-represented minority: 1 = minority, 0 = otherwise \n",
    "- **international**: a binary indicator for international status: 1 = international, 0 = United States\n",
    "- **sports**: a binary indicator for High School All-American: 1 = all-American athlete, 0 = otherwise\n",
    "- **school**: a categorical variable for school applied to: \"Harvard\" or \"Yale\"\n",
    "- **early_app**: a binary indicator for application type: 1 = early action, 0 = regular\n",
    "- **alumni**:  a binary indicator for parents' alumni status of school: 1 = a parent is an alumnus, 0 = otherwise\n",
    "- **program**: the program applied to by the student with many choices (we will not use this as a predictor)\n",
    "- **add_info**: additional (optional) info provided by applicant (we will not use this as a predictor)\n",
    "\n",
    "**The main set of 12 predictors is:**\n",
    "\n",
    "```python\n",
    "[\n",
    "    \"test\", \"ap\", \"avg_ap\", \"sat_subjects\", \n",
    "    \"gpa\", \"female\", \"minority\", \"international\",\n",
    "    \"sports\", \"school\", \"early_app\", \"alumni\",\n",
    "]\n",
    "```\n",
    "\n",
    "Please note, you may need to modify this list when fitting different models, and you will be replacing the `\"school\"` variable with a binary `\"harvard\"` variable early in the questions below.\n",
    "\n",
    "Please use this dataset to answer the following questions below.\n",
    "\n",
    "**IMPORTANT NOTES:**\n",
    "\n",
    "- Unless stated otherwise, all logistic regression models should be unregularized (use `penalty=\"none\"`) and include the intercept (which is the default in `sklearn`).\n",
    "\n",
    "\n",
    "- When printing your output (e.g. coefficients, accuracy scores, etc.), DO NOT just print numbers without context. Please be certain provide clarifying labels for all printed numbers and limit the number of digits showing after decimals to a reasonable length (e.g. 4 decimal points for coefficients and accuracy scores).\n",
    "\n",
    "\n",
    "- Also be sure to practice good data science principles: always use train to do analysis and never touch the test set until the very end."
   ]
  },
  {
   "cell_type": "markdown",
   "metadata": {},
   "source": [
    "---"
   ]
  },
  {
   "cell_type": "markdown",
   "metadata": {},
   "source": [
    "<a id=\"part1\"></a>\n",
    "\n",
    "## <div class='exercise'>Question 1: Data exploration using train and basic models [16 pts]</div>\n",
    "\n",
    "[Return to contents](#contents)\n",
    "\n",
    "The first step is to split the observations into an approximate 80-20 train-test split.  Below is some code to do this for you (we want to make sure everyone has the same splits). It also prints the dataset's shape before splitting and after splitting. \n",
    "\n",
    "**IMPORTANT:** While an argument could be made to scale our predictors here, please **DO NOT** do so **UNTIL** it is requested of you in **[Question 4.1](#part4)**.\n",
    "\n",
    "**1.1** What proportion of observations were admitted overall?  What would be the train and test classification accuracies for a baseline \"naive\" model where we classified ALL applicants as either admitted or not admitted using just this overall proportion to make our decision (i.e. we apply the same outcome to all applicants based on this proportion)?\n",
    "\n",
    "**1.2** Create a binary (\"dummy\") variable named `\"harvard\"` that takes on the value 1 if `school == \"Harvard\"` and 0 otherwise. Now, explore the marginal association of each of our 12 predictors with whether or not an applicant is admitted into the college to which they applied (`admitted`). Create a separate **visual** for each of our predictors to investigate their relationship with college admissions. **Suggestion:** Place these 12 visuals in a *matrix* of subplots with 3 columns and 4 rows.\n",
    "\n",
    "**NOTE:** We will be using our dummified `harvard` predictor instead of `school` throughout the remainder of this problem set.\n",
    "\n",
    "**1.3** Based on the visuals above, which predictor seems to have the most potential for predicting `admitted`? Why do you think this it the best potential single predictor?\n",
    "\n",
    "\n",
    "**1.4** Fit a logistic regression to predict `admitted` from `harvard` (call it `logit1_4`).  Interpret the coefficient estimates: which college is estimated to be easier to get into?  What are the estimated probabilities of getting into each school?\n",
    "\n",
    "\n",
    "**1.5** Create a contingency table between `admitted` and `harvard`.  Use this table to calculate and confirm the coefficient estimates in the `logit1_4` model (both the intercept and slope).\n",
    "\n",
    "\n",
    "**1.6** Compare the estimated probabilities of being admitted into the schools to the overall acceptance rate (as seen [here](https://www.ivycoach.com/2023-ivy-league-admissions-statistics/)).  Why may what you've observed in this comparison be the case?\n"
   ]
  },
  {
   "cell_type": "code",
   "execution_count": 3,
   "metadata": {},
   "outputs": [
    {
     "name": "stdout",
     "output_type": "stream",
     "text": [
      "(1871, 16)\n",
      "(1496, 16) (375, 16)\n"
     ]
    }
   ],
   "source": [
    "#############################\n",
    "## DO NOT MODIFY THIS CODE ##\n",
    "#############################\n",
    "\n",
    "college = pd.read_csv(\"data/college_admissions.csv\")\n",
    "np.random.seed(121)\n",
    "\n",
    "college_train, college_test = train_test_split(\n",
    "    college,\n",
    "    test_size=0.2,\n",
    "    random_state=121,\n",
    "    shuffle=True,\n",
    "    stratify=college[\"school\"],\n",
    ")\n",
    "\n",
    "print(college.shape)\n",
    "print(college_train.shape, college_test.shape)"
   ]
  },
  {
   "cell_type": "markdown",
   "metadata": {},
   "source": [
    "<a id=\"part1solutions\"></a>\n",
    "\n",
    "## Question 1: Solutions\n",
    "\n",
    "[Return to contents](#contents)"
   ]
  },
  {
   "cell_type": "markdown",
   "metadata": {
    "cell_id": "0a790850-87c6-4f46-b89e-048a2295c92b",
    "colab_type": "text",
    "id": "IGFtXJmQap2q"
   },
   "source": [
    "<div class='exercise-r'>\n",
    "\n",
    "**1.1** What proportion of observations were admitted overall?  What would be the train and test classification accuracies for a baseline \"naive\" model where we classified ALL applicants as either admitted or not admitted using just this overall proportion to make our decision (i.e. we apply the same outcome to all applicants based on this proportion)?\n",
    "    \n",
    "</div>"
   ]
  },
  {
   "cell_type": "code",
   "execution_count": 4,
   "metadata": {},
   "outputs": [
    {
     "name": "stdout",
     "output_type": "stream",
     "text": [
      "<class 'pandas.core.frame.DataFrame'>\n",
      "Int64Index: 1496 entries, 584 to 1537\n",
      "Data columns (total 16 columns):\n",
      " #   Column         Non-Null Count  Dtype  \n",
      "---  ------         --------------  -----  \n",
      " 0   id             1496 non-null   object \n",
      " 1   admitted       1496 non-null   int64  \n",
      " 2   test           1496 non-null   int64  \n",
      " 3   ap             1496 non-null   int64  \n",
      " 4   avg_ap         1496 non-null   float64\n",
      " 5   sat_subjects   1496 non-null   int64  \n",
      " 6   gpa            1496 non-null   float64\n",
      " 7   female         1496 non-null   int64  \n",
      " 8   minority       1496 non-null   int64  \n",
      " 9   international  1496 non-null   int64  \n",
      " 10  sports         1496 non-null   int64  \n",
      " 11  school         1496 non-null   object \n",
      " 12  early_app      1496 non-null   int64  \n",
      " 13  alumni         1496 non-null   int64  \n",
      " 14  program        1294 non-null   object \n",
      " 15  add_info       933 non-null    object \n",
      "dtypes: float64(2), int64(10), object(4)\n",
      "memory usage: 198.7+ KB\n"
     ]
    }
   ],
   "source": [
    "# your code here\n",
    "college_train.info()"
   ]
  },
  {
   "cell_type": "code",
   "execution_count": 5,
   "metadata": {},
   "outputs": [],
   "source": [
    "# your code here\n",
    "# separate X and y matrices\n",
    "X_train, y_train = college_train.drop(columns=[\"admitted\"]), college_train[\"admitted\"] \n",
    "X_test, y_test = college_test.drop(columns=[\"admitted\"]), college_test[\"admitted\"]"
   ]
  },
  {
   "cell_type": "code",
   "execution_count": 6,
   "metadata": {},
   "outputs": [
    {
     "name": "stdout",
     "output_type": "stream",
     "text": [
      "Of the 1,496 training observations in this dataset, 0.2627 (i.e. 393) were admitted.\n",
      "\n",
      "Because this proportion is below 0.5, for our 'naive' model, we would predict no applicants are admitted, resulting in a baseline training accuracy of:\n",
      "\n",
      "\tTraining accuracy\t1 - 0.2627 = 0.7373\n",
      "\n",
      "Using this same 'naive' model on our TEST data (i.e. if we were to predict all applicants as NOT admitted):\n",
      "\n",
      "\tTEST accuracy\t1 - 0.2987 = 0.7013\n"
     ]
    }
   ],
   "source": [
    "# your code here\n",
    "n_train = len(y_train)\n",
    "n_admitted_train = y_train.sum()\n",
    "prop_admitted_train = n_admitted_train / n_train\n",
    "accuracy_naive_model_train = 1 - prop_admitted_train\n",
    "\n",
    "n_test = len(y_test)\n",
    "n_admitted_test = y_test.sum()\n",
    "prop_admitted_test = n_admitted_test / n_test\n",
    "accuracy_naive_model_test = 1 - prop_admitted_test\n",
    "\n",
    "print(\n",
    "    \"Of the {:,} training observations in this dataset, \"\n",
    "    \"{:.4f} (i.e. {:,}) were admitted.\\n\".format(\n",
    "        n_train, prop_admitted_train, n_admitted_train\n",
    "    )\n",
    ")\n",
    "\n",
    "print(\n",
    "    \"Because this proportion is below 0.5, for our 'naive' \"\n",
    "    \"model, we would predict no applicants are admitted, \"\n",
    "    \"resulting in a baseline training accuracy of:\\n\\n\\t\"\n",
    "    \"Training accuracy\\t1 - {:.4f} = {:.4f}\\n\".format(\n",
    "        prop_admitted_train, accuracy_naive_model_train\n",
    "    )\n",
    ")\n",
    "\n",
    "print(\n",
    "    \"Using this same 'naive' model on our TEST data (i.e. \"\n",
    "    \"if we were to predict all applicants as NOT admitted):\"\n",
    "    \"\\n\\n\\tTEST accuracy\\t1 - {:.4f} = {:.4f}\".format(\n",
    "        prop_admitted_test, accuracy_naive_model_test\n",
    "    )\n",
    ")"
   ]
  },
  {
   "cell_type": "markdown",
   "metadata": {
    "cell_id": "0a790850-87c6-4f46-b89e-048a2295c92b",
    "colab_type": "text",
    "id": "IGFtXJmQap2q"
   },
   "source": [
    "<div class='exercise-r'>\n",
    "\n",
    "**1.2** Create a binary (\"dummy\") variable named `\"harvard\"` that takes on the value 1 if `school == \"Harvard\"` and 0 otherwise. Now, explore the marginal association of each of our 12 predictors with whether or not an applicant is admitted into the college to which they applied (`admitted`). Create a separate **visual** for each of our predictors to investigate their relationship with college admissions. **Suggestion:** Place these 12 visuals in a *matrix* of subplots with 3 columns and 4 rows.\n",
    "\n",
    "**NOTE:** We will be using our dummified `harvard` predictor instead of `school` throughout the remainder of this problem set.\n",
    "    \n",
    "</div>"
   ]
  },
  {
   "cell_type": "code",
   "execution_count": 7,
   "metadata": {},
   "outputs": [],
   "source": [
    "# your code here\n",
    "bool_array_admitted = (y_train == 1)\n",
    "\n",
    "X_train[\"harvard\"] = (X_train[\"school\"] == \"Harvard\").astype(int)\n",
    "X_test[\"harvard\"] = (X_test[\"school\"] == \"Harvard\").astype(int)\n",
    "\n",
    "predictor_list = [\n",
    "    \"test\", \"ap\", \"avg_ap\", \"sat_subjects\",\n",
    "    \"gpa\", \"female\", \"minority\", \"international\",\n",
    "    \"sports\", \"harvard\", \"early_app\", \"alumni\",\n",
    "]"
   ]
  },
  {
   "cell_type": "code",
   "execution_count": 8,
   "metadata": {},
   "outputs": [
    {
     "data": {
      "image/png": "[encoded data removed]",
      "text/plain": [
       "<Figure size 864x576 with 12 Axes>"
      ]
     },
     "metadata": {
      "needs_background": "light"
     },
     "output_type": "display_data"
    }
   ],
   "source": [
    "# your code here\n",
    "\n",
    "# identify which predictors should be plotted using histogram (others will be barplots)\n",
    "hist_list = [\"test\", \"avg_ap\", \"gpa\"]\n",
    "n_notadmitted_train = n_train - n_admitted_train\n",
    "\n",
    "# generate plot\n",
    "fig, axes = plt.subplots(4,3, sharey=False, figsize=(12,8))\n",
    "\n",
    "plt.suptitle(\n",
    "    \"Marginal association of each predictor vs. whether or \"\n",
    "    \"not an applicant is admitted (training data)\",\n",
    "    fontsize=16,\n",
    ")\n",
    "\n",
    "for i, (ax, predictor) in enumerate(zip(axes.flat, predictor_list)):\n",
    "    # make subplot historgram if predictor is in hist_list\n",
    "    if predictor in hist_list:\n",
    "        ax.hist(\n",
    "            X_train[predictor][bool_array_admitted],\n",
    "            density=True, edgecolor=\"tab:blue\", alpha=0.4, label=\"admitted\"\n",
    "        )\n",
    "        ax.hist(\n",
    "            X_train[predictor][~bool_array_admitted],\n",
    "            density=True, alpha=0.4, label=\"not admitted\"\n",
    "        )\n",
    "    # otherwise plot as barplot\n",
    "    else:\n",
    "        # generate value counts for plotting (for both admitted and not admitted)\n",
    "        pred_count_admit = X_train[predictor][bool_array_admitted].value_counts().sort_index()\n",
    "        pred_count_notadmit = X_train[predictor][~bool_array_admitted].value_counts().sort_index()\n",
    "        pred_vals_admit = pred_count_admit.index\n",
    "        pred_vals_notadmit = pred_count_notadmit.index\n",
    "        # when plotting bars divide by total n to convert counts to densities\n",
    "        ax.bar(\n",
    "            pred_vals_admit,\n",
    "            pred_count_admit / n_admitted_train,\n",
    "            edgecolor=\"tab:blue\", alpha=0.4, label=\"admitted\"\n",
    "        )\n",
    "        ax.bar(\n",
    "            pred_vals_notadmit,\n",
    "            pred_count_notadmit / n_notadmitted_train,\n",
    "            alpha=0.4, label=\"not admitted\"\n",
    "        )\n",
    "        ax.set_xticks(pred_vals_notadmit)\n",
    "    ax.set_xlabel(predictor)\n",
    "    ax.set_ylabel(\"density\" if i%3==0 else None)\n",
    "    ax.grid(\":\", alpha=0.4)\n",
    "    if i==0:\n",
    "        ax.legend()\n",
    "    \n",
    "plt.tight_layout()\n",
    "plt.show()"
   ]
  },
  {
   "cell_type": "markdown",
   "metadata": {
    "cell_id": "0a790850-87c6-4f46-b89e-048a2295c92b",
    "colab_type": "text",
    "id": "IGFtXJmQap2q"
   },
   "source": [
    "<div class='exercise-r'>\n",
    "\n",
    "**1.3** Based on the visuals above, which predictor seems to have the most potential for predicting `admitted`? Why do you think this it the best potential single predictor?\n",
    "    \n",
    "</div>"
   ]
  },
  {
   "cell_type": "markdown",
   "metadata": {},
   "source": [
    "*your answer here*\n",
    "\n",
    "There are several variables that could be argued as having the most potential (e.g. `test`, `avg_ap`, `ap`, `early_app`, and `minority` appear to be the strongest choices) based on a set of successful plots in Question 1.2. Students should make it clear that they gave careful consideration to the plotted values and decided based on differences between marginal association/distribution among admitted and non-admitted students.\n",
    "\n",
    "**Solution notes (for student reference):**\n",
    "\n",
    "By plotting distribution densities of \"admitted\" overlayed with \"not-admitted\" for each predictor, we can begin to see which predictors have the largest shift in density among admitted vs. not-admitted outcomes. For instance, notice the notable shifts for `test` observations or `minority` observations, which can help to signal how well those variables might work for predicting outcomes. In fact, the above plots could perhaps be improved even more by plotting 2 vertical lines on each subplot to illustrate the mean values for admitted and non-admitted (each represented by its own line) specific to each predictor to further illustrate these shifts in density.\n",
    "\n",
    "These visual comparisons become far more difficult if we:\n",
    "\n",
    "1. Start varying plot types by predictor, such as boxplots vs. barplots (luckily histograms and barplots are analogous enough to preserve direct visual comparison);\n",
    "2. Fail to plot both admitted and non-admitted distributions together (then it becomes far more difficult and often impossible to notice these changes/shifts in marginal association);\n",
    "3. Use counts instead of densities for our histograms or barplots, because the imbalance between outcome classes (i.e. far fewer admitted than not-admitted observations) visually obscures actual shifts in density."
   ]
  },
  {
   "cell_type": "markdown",
   "metadata": {
    "cell_id": "0a790850-87c6-4f46-b89e-048a2295c92b",
    "colab_type": "text",
    "id": "IGFtXJmQap2q"
   },
   "source": [
    "<div class='exercise-r'>\n",
    "    \n",
    "**1.4** Fit a logistic regression to predict `admitted` from `harvard` (call it `logit1_4`).  Interpret the coefficient estimates: which college is estimated to be easier to get into?  What are the estimated probabilities of getting into each school?\n",
    "    \n",
    "</div>"
   ]
  },
  {
   "cell_type": "code",
   "execution_count": 9,
   "metadata": {},
   "outputs": [
    {
     "name": "stdout",
     "output_type": "stream",
     "text": [
      "The coefficient for the 'logit1_4' model's only predictor 'harvard' is 0.1532 and the intercept is -1.1137\n",
      "\n",
      "Estimated probability of acceptance for Harvard: 0.2768\n",
      "Estimated probability of acceptance for Yale: 0.2472\n"
     ]
    }
   ],
   "source": [
    "# your code here\n",
    "\n",
    "# Fit logistic regression model without regularization\n",
    "penalty = \"none\"\n",
    "\n",
    "logit1_4 = LogisticRegression(penalty=penalty).fit(\n",
    "    X_train[\"harvard\"].values.reshape(-1, 1), y_train.values\n",
    ")\n",
    "\n",
    "# Identify and report coefficients\n",
    "logit1_4_coefs = logit1_4.coef_[0]\n",
    "logit1_4_intercept = logit1_4.intercept_\n",
    "\n",
    "print(\n",
    "    \"The coefficient for the 'logit1_4' model's only predictor 'harvard' \"\n",
    "    \"is {:.4f} and the intercept is {:.4f}\\n\".format(\n",
    "        logit1_4_coefs[0], logit1_4_intercept[0]\n",
    "    )\n",
    ")\n",
    "\n",
    "# Calculate and report probabilities. The formula\n",
    "# used here is described in the markdown cell below\n",
    "p_harvard = 1 / (\n",
    "    1 + np.exp(-(logit1_4_intercept[0] + logit1_4_coefs[0]))\n",
    ")\n",
    "p_yale = 1 / (\n",
    "    1 + np.exp(-(logit1_4_intercept[0]))\n",
    ")\n",
    "\n",
    "print(\n",
    "    \"Estimated probability of acceptance for Harvard: {:.4f}\"\n",
    "    .format(p_harvard)\n",
    ")\n",
    "print(\n",
    "    \"Estimated probability of acceptance for Yale: {:.4f}\"\n",
    "    .format(p_yale)\n",
    ")"
   ]
  },
  {
   "cell_type": "markdown",
   "metadata": {},
   "source": [
    "**INTERPRETATION:**"
   ]
  },
  {
   "cell_type": "markdown",
   "metadata": {},
   "source": [
    "*your answer here*\n",
    "\n",
    "Since the coefficient for the 'harvard' predictor is positive, it means that applying to Harvard positively contributes to chances of admissions relative to applying to Yale. More precisely, the actual coefficient value tells us that an application to Harvard will have a 0.1532 increase in log-odds of admission versus an application to Yale. Therefore, our model is telling us that Harvard is easier to get accepted to than Yale. \n",
    "\n",
    "The probability for a logistic regression with one variable is:\n",
    "\n",
    "$$P(Y=1) = \\frac{1}{1+e^{-(\\beta_0+\\beta_1X_1)}}$$\n",
    "\n",
    "So, as is calculated in the code cell above, for each school we get:\n",
    "\n",
    "$$P(admitted=1|harvard=1) = \\frac{1}{1+e^{-(-1.1137+.1532)}} = 0.2768$$\n",
    "\n",
    "$$P(admitted=1|harvard=0) = \\frac{1}{1+e^{-(-1.1137)}} = 0.2472$$\n"
   ]
  },
  {
   "cell_type": "markdown",
   "metadata": {
    "cell_id": "0a790850-87c6-4f46-b89e-048a2295c92b",
    "colab_type": "text",
    "id": "IGFtXJmQap2q"
   },
   "source": [
    "<div class='exercise-r'>\n",
    "\n",
    "**1.5** Create a contingency table between `admitted` and `harvard`.  Use this table to calculate and confirm the coefficient estimates in the `logit1_4` model (both the intercept and slope).\n",
    "\n",
    "</div>"
   ]
  },
  {
   "cell_type": "code",
   "execution_count": 10,
   "metadata": {},
   "outputs": [
    {
     "name": "stdout",
     "output_type": "stream",
     "text": [
      "The contingency table between admitted and Harvard is:\n",
      "\n",
      "school    Harvard  Yale   All\n",
      "admitted                     \n",
      "0             567   536  1103\n",
      "1             217   176   393\n",
      "All           784   712  1496\n",
      "\n",
      "And our estimated beta_0 and beta_1 coefficients calculated using the values of this contingency table (and the method described below) are:\n",
      "\n",
      "\tbeta_0\t-1.1137\n",
      "\tbeta_1\t0.1532\n"
     ]
    }
   ],
   "source": [
    "# your code here\n",
    "\n",
    "# first we generate our contingency table\n",
    "logit1_4_conting_table = pd.crosstab(\n",
    "    y_train, X_train[\"school\"], margins=True\n",
    ")\n",
    "\n",
    "# then we calculate the probability of admission for \n",
    "# both harvard and yale applicants\n",
    "prop_harv_admit = (\n",
    "    logit1_4_conting_table[\"Harvard\"][1] / \n",
    "    logit1_4_conting_table[\"Harvard\"][\"All\"]\n",
    ")\n",
    "prop_yale_admit = (\n",
    "    logit1_4_conting_table[\"Yale\"][1] / \n",
    "    logit1_4_conting_table[\"Yale\"][\"All\"]\n",
    ")\n",
    "\n",
    "# then we calculate beta_0 using log-odd of yale admission\n",
    "# (see written explanation below)\n",
    "beta_0 = np.log( prop_yale_admit / (1- prop_yale_admit) )\n",
    "\n",
    "# finally we calculate beta_1 using beta_0 and our harvard log-odds\n",
    "beta_1 = np.log( prop_harv_admit / (1- prop_harv_admit) ) - beta_0\n",
    "\n",
    "print(\n",
    "    \"The contingency table between admitted and Harvard is:\"\n",
    "    \"\\n\\n{}\\n\".format(logit1_4_conting_table)\n",
    ")\n",
    "\n",
    "print(\n",
    "    \"And our estimated beta_0 and beta_1 coefficients calculated using the \"\n",
    "    \"values of this contingency table (and the method described below) are:\"\n",
    "    \"\\n\\n\\tbeta_0\\t{:.4f}\\n\\tbeta_1\\t{:.4f}\".format(\n",
    "        beta_0, beta_1\n",
    "    )\n",
    ")\n"
   ]
  },
  {
   "cell_type": "markdown",
   "metadata": {},
   "source": [
    "*your answer here*\n",
    "\n",
    "**Because we are dealing with one binary predictor $X$, logistic regression provides a convenient closed-form solution to solve for $\\beta_0$ and $\\beta_1$.**\n",
    "\n",
    "Based on the contingency table above, we can see that the probability of being admitted for Harvard applicants in $217 \\: / \\: 784 \\approx 0.2768$ and the probability of being admitted for Yale applicants is $176 \\: / \\: 712 \\approx 0.2472$, which both agree with the estimated probabilities provided by our model in question 1.4 above.\n",
    "\n",
    "Now, if we remember the following log-odds representation of a logistic regression model with only one $X$ predictor:\n",
    "\n",
    "$$ \\ln \\left( \\frac{P(Y=1)}{1-P(Y=1)} \\right) = \\beta_0 + \\beta_1 X_1 $$\n",
    "\n",
    "We can see that the $\\beta_1 X_1$ term is just $\\beta_1$ for Harvard applicants (because $X_1 = 1$) and $0$ for Yale applicants (because $X_1 = 0$).\n",
    "\n",
    "Therefore, the estimated intercept $\\beta_0$ can be solved using the probability of being admitted for a Yale applicant:\n",
    "\n",
    "$$\n",
    "\\begin{split}\n",
    "\\hat{\\beta_0} & = \\ln \\left( \\frac{P(Y=1 | X_1 = 0)}{1-P(Y=1 | X_1 = 0)} \\right) \\\\\n",
    "& = \\ln \\left( \\frac{0.2472}{1-0.2472} \\right) \\\\\n",
    "& = -1.1136\n",
    "\\end{split}\n",
    "$$\n",
    "\n",
    "And then, the estimated slope $\\beta_1$ can be solved using our estimated $\\beta_0$ and the probability of being admitted for a Harvard applicant:\n",
    "\n",
    "$$\n",
    "\\begin{split}\n",
    "\\hat{\\beta_0} + \\hat{\\beta_1} & = \\ln \\left( \\frac{P(Y=1 | X_1 = 1)}{1-P(Y=1 | X_1 = 1)} \\right) \\\\\n",
    "\\hat{\\beta_1} & = \\ln \\left( \\frac{0.2768}{1-0.2768} \\right) - \\hat{\\beta_0} \\\\\n",
    "& = \\ln \\left( \\frac{0.2768}{1-0.2768} \\right) + 1.1136 \\\\\n",
    "& = 0.1532\n",
    "\\end{split}\n",
    "$$\n",
    "\n",
    "Both of these estimated intercepts agree with the intercepts we generated using `sklearn` in question 1.4."
   ]
  },
  {
   "cell_type": "markdown",
   "metadata": {
    "cell_id": "0a790850-87c6-4f46-b89e-048a2295c92b",
    "colab_type": "text",
    "id": "IGFtXJmQap2q"
   },
   "source": [
    "<div class='exercise-r'>\n",
    "\n",
    "**1.6** Compare the estimated probabilities of being admitted into the schools to the overall acceptance rate (as seen [here](https://www.ivycoach.com/2023-ivy-league-admissions-statistics/)).  Why may what you've observed in this comparison be the case?\n",
    "    \n",
    "</div>"
   ]
  },
  {
   "cell_type": "markdown",
   "metadata": {},
   "source": [
    "*your answer here*\n",
    "\n",
    "Students should point out that admissions rates identified in our data are much higher than the actual admissions rates, and that Harvard appears to have a lower actual acceptance rate than Yale (which is opposite of the relationship in our data). Answers should point out that the source of our data is biased and not reliable, primarily as a result of self-reporting, and is thus not representative of the true population of applicants. For instance, applicants who were actually admitted are likely more willing to have reported their information for inclusion in our dataset. Whereas, the \"Overall Acceptance Rate\" reported on the website would likely have come from actual admissions metrics reported directly by each university."
   ]
  },
  {
   "cell_type": "markdown",
   "metadata": {},
   "source": [
    "---"
   ]
  },
  {
   "cell_type": "markdown",
   "metadata": {},
   "source": [
    "<a id=\"part2\"></a>\n",
    "\n",
    "## <div class='exercise'>Question 2: Interpretable modeling [18 pts]</div>\n",
    "\n",
    "[Return to contents](#contents)\n",
    "\n",
    "**2.1** Fit a logistic regression model to predict `admitted` from `test` alone (call it `logit2_1`).  Print out the coefficient estimates (remember to always print both intercept and slope coefficients) along with the classification accuracies for this model (on both train and test data). \n",
    "\n",
    "**2.2** What is the estimated probability of an applicant being admitted with an *average* `test` score of 2250?  What about if they had a perfect test score of 2400?  What test score would be needed to have a 50-50 chance (i.e. 0.5 probability) of being admitted?\n",
    "\n",
    "**2.3**  Fit a logistic regression model to predict `admitted` from `test` and `avg_ap` (call it `logit2_3`).  Print out the coefficient estimates along with the classification accuracies for this model (on both train and test data). \n",
    "\n",
    "**2.4** Interpret the coefficient estimates for both predictors in `logit2_3` and compare the coefficient estimate for `test` to the one from `logit2_1`.  Why has this estimate changed?\n",
    "\n",
    "**HINT:** You may want to inspect the relationship between `test` and `avg_ap` to help get a better sense for what might be happening here.\n",
    "\n",
    "**2.5** Interpret and compare the classification accuracies for the two models, `logit2_1` and `logit2_3`.  Explain why these accuracies are the same or different, and what about the data makes these accuracies so similar or different.\n"
   ]
  },
  {
   "cell_type": "markdown",
   "metadata": {},
   "source": [
    "<a id=\"part2solutions\"></a>\n",
    "\n",
    "## Question 2: Solutions\n",
    "\n",
    "[Return to contents](#contents)"
   ]
  },
  {
   "cell_type": "markdown",
   "metadata": {
    "cell_id": "0a790850-87c6-4f46-b89e-048a2295c92b",
    "colab_type": "text",
    "id": "IGFtXJmQap2q"
   },
   "source": [
    "<div class='exercise-r'>\n",
    "\n",
    "**2.1** Fit a logistic regression model to predict `admitted` from `test` alone (call it `logit2_1`).  Print out the coefficient estimates (remember to always print both intercept and slope coefficients) along with the classification accuracies for this model (on both train and test data).\n",
    "    \n",
    "</div>"
   ]
  },
  {
   "cell_type": "code",
   "execution_count": 11,
   "metadata": {},
   "outputs": [
    {
     "name": "stdout",
     "output_type": "stream",
     "text": [
      "The intercept and coefficient for the 'logit2_1' model are:\n",
      "\n",
      "\tintercept           -9.4136\n",
      "\ttest                0.0038\n",
      "\n",
      "The classification accuracies for 'logit2_1' are:\n",
      "\n",
      "\tTrain\t0.7373\n",
      "\tTEST\t0.7013\n"
     ]
    }
   ],
   "source": [
    "# your code here\n",
    "logit2_1_predictors = [\"test\"]\n",
    "\n",
    "logit2_1 = LogisticRegression(penalty=penalty).fit(\n",
    "    X_train[logit2_1_predictors].values.reshape(-1, 1), y_train.values\n",
    ")\n",
    "\n",
    "logit2_1_coefs = logit2_1.coef_[0]\n",
    "logit2_1_intercept = logit2_1.intercept_\n",
    "\n",
    "accuracy_train_logit2_1 = logit2_1.score(\n",
    "    X_train[logit2_1_predictors].values.reshape(-1, 1), y_train\n",
    ")\n",
    "accuracy_test_logit2_1 = logit2_1.score(\n",
    "    X_test[logit2_1_predictors].values.reshape(-1, 1), y_test\n",
    ")\n",
    "\n",
    "print(\n",
    "    \"The intercept and coefficient for the 'logit2_1' model are:\"\n",
    "    \"\\n\\n\\t{:<20}{:.4f}\".format(\n",
    "        \"intercept\", logit2_1_intercept[0]\n",
    "    )\n",
    ")\n",
    "\n",
    "for predictor, coef in zip(logit2_1_predictors, logit2_1_coefs):\n",
    "    print(\"\\t{:<20}{:.4f}\".format(predictor, coef))\n",
    "\n",
    "print(\n",
    "    \"\\nThe classification accuracies for 'logit2_1' are:\"\n",
    "    \"\\n\\n\\tTrain\\t{:.4f}\\n\\tTEST\\t{:.4f}\".format(\n",
    "        accuracy_train_logit2_1, accuracy_test_logit2_1\n",
    "    )\n",
    ")"
   ]
  },
  {
   "cell_type": "markdown",
   "metadata": {
    "cell_id": "0a790850-87c6-4f46-b89e-048a2295c92b",
    "colab_type": "text",
    "id": "IGFtXJmQap2q"
   },
   "source": [
    "<div class='exercise-r'>\n",
    "\n",
    "**2.2** What is the estimated probability of an applicant being admitted with an *average* `test` score of 2250?  What about if they had a perfect test score of 2400?  What test score would be needed to have a 50-50 chance (i.e. 0.5 probability) of being admitted?\n",
    "    \n",
    "</div>"
   ]
  },
  {
   "cell_type": "code",
   "execution_count": 12,
   "metadata": {},
   "outputs": [
    {
     "name": "stdout",
     "output_type": "stream",
     "text": [
      "The estimated chances of an applicant being admitted with the following two 'test' scores:\n",
      "\n",
      "\tscore\tprobabilities\n",
      "\t2250\t0.2929\n",
      "\t2400\t0.4226\n",
      "\n",
      "The test score required to have a 50-50 chance of being admitted is approximately:\n",
      "\n",
      "\t2482.34\n"
     ]
    }
   ],
   "source": [
    "# your code here\n",
    "\n",
    "# calculate probabilities for 2250 and 2400 directly using model\n",
    "prob_test_2250 = logit2_1.predict_proba([[2250]])[0,1]\n",
    "prob_test_2400 = logit2_1.predict_proba([[2400]])[0,1]\n",
    "\n",
    "# calculate test score required for 50/50 prob as per the\n",
    "# formula shown in the markdown cell below\n",
    "test_50_50 = -logit2_1_intercept[0] / logit2_1_coefs[0]\n",
    "\n",
    "# your code here\n",
    "print(\n",
    "    \"The estimated chances of an applicant being admitted with \"\n",
    "    \"the following two 'test' scores:\\n\\n\\tscore\\tprobabilities\"\n",
    "    \"\\n\\t2250\\t{:.4f}\\n\\t2400\\t{:.4f}\\n\"\n",
    "    .format(prob_test_2250, prob_test_2400)\n",
    ")\n",
    "\n",
    "print(\n",
    "    \"The test score required to have a 50-50 chance of being \"\n",
    "    \"admitted is approximately:\\n\\n\\t{:.2f}\"\n",
    "    .format(test_50_50)\n",
    ")"
   ]
  },
  {
   "cell_type": "markdown",
   "metadata": {},
   "source": [
    "*your answer here*\n",
    "\n",
    "In order to calculate the precise test score needed to have a 50-50 chance of being admitted (as is reported above), we needed to first solve for $x$ where:\n",
    "\n",
    "$$\n",
    "\\begin{split}\n",
    "\\ln\\left(\\frac{0.5}{1-0.5}\\right) & = \\beta_0 + \\beta_1 x \\\\\n",
    "0 & = \\beta_0 + \\beta_1 x \\\\\n",
    "\\beta_1 x & = -\\beta_0 \\\\\n",
    "x & = - \\frac{\\beta_0}{\\beta_1}\n",
    "\\end{split}\n",
    "$$"
   ]
  },
  {
   "cell_type": "markdown",
   "metadata": {
    "cell_id": "0a790850-87c6-4f46-b89e-048a2295c92b",
    "colab_type": "text",
    "id": "IGFtXJmQap2q"
   },
   "source": [
    "<div class='exercise-r'>\n",
    "\n",
    "**2.3** Fit a logistic regression model to predict `admitted` from `test` and `avg_ap` (call it `logit2_3`).  Print out the coefficient estimates along with the classification accuracies for this model (on both train and test data).\n",
    "    \n",
    "</div>"
   ]
  },
  {
   "cell_type": "code",
   "execution_count": 13,
   "metadata": {},
   "outputs": [
    {
     "name": "stdout",
     "output_type": "stream",
     "text": [
      "The intercept and coefficients for the 'logit2_3' model are:\n",
      "\n",
      "\tintercept           -0.0188\n",
      "\ttest                -0.0005\n",
      "\tavg_ap              0.0533\n",
      "\n",
      "The classification accuracies for 'logit2_3' are:\n",
      "\n",
      "\tTrain\t0.7373\n",
      "\tTEST\t0.7013\n"
     ]
    }
   ],
   "source": [
    "# your code here\n",
    "logit2_3_predictors = [\"test\", \"avg_ap\"]\n",
    "\n",
    "logit2_3 = LogisticRegression(penalty=penalty).fit(\n",
    "    X_train[logit2_3_predictors].values, y_train.values\n",
    ")\n",
    "\n",
    "logit2_3_coefs = logit2_3.coef_[0]\n",
    "logit2_3_intercept = logit2_3.intercept_\n",
    "\n",
    "accuracy_train_logit2_3 = logit2_3.score(\n",
    "    X_train[logit2_3_predictors].values, y_train\n",
    ")\n",
    "accuracy_test_logit2_3 = logit2_3.score(\n",
    "    X_test[logit2_3_predictors].values, y_test\n",
    ")\n",
    "\n",
    "print(\n",
    "    \"The intercept and coefficients for the 'logit2_3' model are:\"\n",
    "    \"\\n\\n\\t{:<20}{:.4f}\".format(\n",
    "        \"intercept\", logit2_3_intercept[0]\n",
    "    )\n",
    ")\n",
    "\n",
    "for predictor, coef in zip(logit2_3_predictors, logit2_3_coefs):\n",
    "    print(\"\\t{:<20}{:.4f}\".format(predictor, coef))\n",
    "\n",
    "print(\n",
    "    \"\\nThe classification accuracies for 'logit2_3' are:\\n\\n\\tTrain\\t{:.4f}\\n\\tTEST\\t{:.4f}\"\n",
    "    .format(accuracy_train_logit2_3, accuracy_test_logit2_3)\n",
    ")"
   ]
  },
  {
   "cell_type": "markdown",
   "metadata": {
    "cell_id": "0a790850-87c6-4f46-b89e-048a2295c92b",
    "colab_type": "text",
    "id": "IGFtXJmQap2q"
   },
   "source": [
    "<div class='exercise-r'>\n",
    "\n",
    "**2.4** Interpret the coefficient estimates for both predictors in `logit2_3` and compare the coefficient estimate for `test` to the one from `logit2_1`.  Why has this estimate changed?\n",
    "\n",
    "**HINT:** You may want to inspect the relationship between `test` and `avg_ap` to help get a better sense for what might be happening here.\n",
    "\n",
    "</div>"
   ]
  },
  {
   "cell_type": "code",
   "execution_count": 14,
   "metadata": {},
   "outputs": [
    {
     "data": {
      "image/png": "[encoded data removed]",
      "text/plain": [
       "<Figure size 432x288 with 1 Axes>"
      ]
     },
     "metadata": {
      "needs_background": "light"
     },
     "output_type": "display_data"
    }
   ],
   "source": [
    "# your code here\n",
    "plt.title(\"'test' vs. 'avg_ap' training observations\", fontsize=14)\n",
    "\n",
    "plt.scatter(\n",
    "    X_train[\"test\"][~bool_array_admitted],\n",
    "    X_train[\"avg_ap\"][~bool_array_admitted],\n",
    "    alpha=0.2,\n",
    "    label=\"not admitted\",\n",
    "    color=\"tab:orange\",\n",
    ")\n",
    "plt.scatter(\n",
    "    X_train[\"test\"][bool_array_admitted],\n",
    "    X_train[\"avg_ap\"][bool_array_admitted],\n",
    "    alpha=0.2,\n",
    "    label=\"admitted\",\n",
    "    color=\"tab:blue\",\n",
    "    edgecolor=\"tab:blue\",\n",
    ")\n",
    "\n",
    "plt.legend()\n",
    "plt.xlabel(\"test\", fontsize=12)\n",
    "plt.ylabel(\"avg_ap\", fontsize=12)\n",
    "plt.grid(\":\", alpha=0.4)\n",
    "plt.tight_layout()\n",
    "plt.show()"
   ]
  },
  {
   "cell_type": "markdown",
   "metadata": {},
   "source": [
    "**INTERPRETATION:**"
   ]
  },
  {
   "cell_type": "markdown",
   "metadata": {},
   "source": [
    "*your answer here*\n",
    "\n",
    "Students should directly interpret the coefficients in `logit2_3`, point out how the `test` coefficient has changed between models, and provide accurate reasoning for this change.\n",
    "\n",
    "For instance, based on `logit2_3`, a one point increase in test score results in a 0.0005 REDUCTION in predicted log-odds of being admitted while holding all other predictors constant; and every one point increase in average score on an applicant's AP tests contributes to a 0.0533 increase in predicted log-odds for admission while holding all other predictors constant. In contrast, in our `logit2_1` model, a one point increase in test score was associated with a 0.0038 INCREASE in predicted log-odds of being admitted.\n",
    "\n",
    "This shift from a positive to a negative relationship between `test` and the probability of admission is a result of the collinear relationship between the predictors `test` and `avg_ap` (as is illustrated in the scatterplot above). By introducing a collinear predictor into a regression model, our affected coefficients for that model are no longer uniquely determined. This hurts the interpretability of the model and can cause large swings such as this in the coefficients for our collinear predictors."
   ]
  },
  {
   "cell_type": "markdown",
   "metadata": {
    "cell_id": "0a790850-87c6-4f46-b89e-048a2295c92b",
    "colab_type": "text",
    "id": "IGFtXJmQap2q"
   },
   "source": [
    "<div class='exercise-r'>\n",
    "\n",
    "**2.5** Interpret and compare the classification accuracies for the two models, `logit2_1` and `logit2_3`.  Explain why these accuracies are the same or different, and what about the data makes these accuracies so similar or different.\n",
    "\n",
    "</div>"
   ]
  },
  {
   "cell_type": "markdown",
   "metadata": {},
   "source": [
    "*your answer here*\n",
    "\n",
    "Students should point out that the classification scores are the same. \n",
    "\n",
    "Reasonable explanations could include that test scores and average AP scores do not provide information that is unique to themselves due to their moderate collinearity. Also, and very importantly, as stated in the data overview at the start of this notebook, AP scores are set to 0 for missing observations (which explains the many zero-valued AP observations in our Question 2.4 plot above). This likely further contributes to AP not providing enough additional information to improve our predictions here. \n",
    "\n",
    "It should also be noted that the accuracies here are no better than the naive model we initially proposed. If we were to inspect our actual predicted class values in our 2 logistic regression models here, we would see that all observations are still just predicted to be Class 0 (i.e. not admitted). This is because the data has heavily imbalanced classes (i.e. far more Class 0 observations than Class 1 observations), so getting $\\hat{p}>.5$ is difficult for a model to achieve. Therefore these models have returned NO class 1 predictions. This is a very real and very important problem to be aware of when fitting logistic regression models on imbalanced data."
   ]
  },
  {
   "cell_type": "markdown",
   "metadata": {},
   "source": [
    "---"
   ]
  },
  {
   "cell_type": "markdown",
   "metadata": {},
   "source": [
    "<a id=\"part3\"></a>\n",
    "\n",
    "## <div class='exercise'>Question 3: Harvard and Yale? [30 pts]</div>\n",
    "\n",
    "[Return to contents](#contents)\n",
    "\n",
    "**3.1** Fit a logistic regression model (call it `logit3_1`) to predict `admitted` from 7 predictors: `[\"harvard\", \"test\", \"ap\", \"avg_ap\", \"gpa\", \"female\", \"minority\"]`.  Output and interpret the coefficient estimates for the binary predictors in this model.\n",
    "\n",
    "**HINT:** If you have convergence warnings, increasing the maximum number of iterations will likely solve this issue.\n",
    "\n",
    "**3.2** Fit a logistic regression model (call it `logit3_2`) to predict `admitted` from 3 predictors: `[\"harvard\", \"test\", \"ap\"]` along with the 2 interaction terms: `harvard` with `test` and `harvard` with `ap`. Name the columns for these interaction terms something sensible.  Print out the coefficient estimates for this model.\n",
    "\n",
    "**3.3** Simplify and write out mathematically the above model from Question 3.2 for 2 applicants: (1) someone who is applying to Harvard and for (2) someone who is applying to Yale (keep `test` and `ap` as the unknown $X$s).  The basic framework given to you below may be helpful:\n",
    "\n",
    "$$ \\ln \\left( \\frac{P(Y=1)}{1-P(Y=1)} \\right) = \\beta_0 + \\beta_1 X_1 + \\dots + \\beta_p X_p $$\n",
    "\n",
    "**NOTE:** All of your mathematical statements should be written out in your markdown cells using $\\LaTeX$.\n",
    "\n",
    "**3.4** Determine two classification boundaries mathematically for the model in the previous part (using the estimated coefficients): What range of values of `test` as a function of `ap` would an applicant be predicted to have a better than 50% chance (i.e. 0.5 probability) of being admitted into the college they applied (each college is associated with a different function)? If a student scored a perfect 2400 on `test`, what is the range of AP tests they should take in order to have a better than 50% chance of being admitted into Harvard?\n",
    "\n",
    "**3.5** Create two separate scatterplots (one for Harvard applicants and one for Yale applicants) with the predictor `test` on the y-axis and `ap` on the x-axis where `admitted` is color-coded and the marker denotes train vs. test data.  Then add the appropriate classification boundary from the previous part.  Compare these two plots (including both the location of the boundaries and where the points lie around these boundaries).\n",
    "\n",
    "**NOTE:** As always, please be certain (a) your plot is titled, (b) everything is clearly labeled, and (c) the plot itself is formatted in a manner that makes it easy to read and interpret. It will likely take some careful work here to generate plots with data points that are clear and easy to see.\n",
    "\n",
    "**3.6** Fit a logistic regression model (call it `logit3_6`) to predict `admitted` from 4 predictors: `[\"harvard\", \"test\", \"female\", \"minority\"]` along with 2 interaction terms: `harvard` with `female` and `harvard` with `minority`.  Print out the coefficient estimates for this model.\n",
    "\n",
    "**3.7** Interpret the coefficients associated with `female` and `minority` (the two main effects AND the two interaction terms).\n",
    "\n",
    "**3.8** Based on this sample, how does it appear that Harvard and Yale compare in admitting these groups?  Why would it be wrong to take this interpretation as truth?"
   ]
  },
  {
   "cell_type": "markdown",
   "metadata": {},
   "source": [
    "<a id=\"part3solutions\"></a>\n",
    "\n",
    "## Question 3: Solutions\n",
    "\n",
    "[Return to contents](#contents)"
   ]
  },
  {
   "cell_type": "markdown",
   "metadata": {
    "cell_id": "0a790850-87c6-4f46-b89e-048a2295c92b",
    "colab_type": "text",
    "id": "IGFtXJmQap2q"
   },
   "source": [
    "<div class='exercise-r'>\n",
    "\n",
    "**3.1** Fit a logistic regression model (call it `logit3_1`) to predict `admitted` from 7 predictors: `[\"harvard\", \"test\", \"ap\", \"avg_ap\", \"gpa\", \"female\", \"minority\"]`.  Output and interpret the coefficient estimates for the binary predictors in this model.\n",
    "\n",
    "**HINT:** If you have convergence warnings, increasing the maximum number of iterations will likely solve this issue.\n",
    "    \n",
    "</div>"
   ]
  },
  {
   "cell_type": "code",
   "execution_count": 15,
   "metadata": {
    "scrolled": true
   },
   "outputs": [
    {
     "name": "stdout",
     "output_type": "stream",
     "text": [
      "The intercept and coefficients for the 'logit3_1' model are:\n",
      "\n",
      "\tintercept           -1.1670\n",
      "\tharvard             0.1408\n",
      "\ttest                0.0030\n",
      "\tap                  -0.0202\n",
      "\tavg_ap              0.0313\n",
      "\tgpa                 -1.7331\n",
      "\tfemale              -0.0268\n",
      "\tminority            0.4504\n",
      "\n",
      "The classification accuracies for 'logit3_1' are:\n",
      "\n",
      "\tTrain\t0.7320\n",
      "\tTEST\t0.7013\n"
     ]
    }
   ],
   "source": [
    "# your code here\n",
    "logit3_1_predictors = [\n",
    "    \"harvard\", \"test\", \"ap\", \"avg_ap\", \"gpa\", \"female\", \"minority\"\n",
    "]\n",
    "max_iter = 1000\n",
    "\n",
    "logit3_1 = LogisticRegression(penalty=penalty, max_iter=max_iter).fit(\n",
    "    X_train[logit3_1_predictors].values, y_train.values\n",
    ")\n",
    "\n",
    "logit3_1_coefs = logit3_1.coef_[0]\n",
    "logit3_1_intercept = logit3_1.intercept_\n",
    "\n",
    "accuracy_train_logit3_1 = logit3_1.score(\n",
    "    X_train[logit3_1_predictors].values, y_train\n",
    ")\n",
    "accuracy_test_logit3_1 = logit3_1.score(\n",
    "    X_test[logit3_1_predictors].values, y_test\n",
    ")\n",
    "\n",
    "print(\n",
    "    \"The intercept and coefficients for the 'logit3_1' model are:\"\n",
    "    \"\\n\\n\\t{:<20}{:.4f}\".format(\n",
    "        \"intercept\", logit3_1_intercept[0]\n",
    "    )\n",
    ")\n",
    "\n",
    "for predictor, coef in zip(logit3_1_predictors, logit3_1_coefs):\n",
    "    print(\"\\t{:<20}{:.4f}\".format(predictor, coef))\n",
    "\n",
    "print(\n",
    "    \"\\nThe classification accuracies for 'logit3_1' are:\"\n",
    "    \"\\n\\n\\tTrain\\t{:.4f}\\n\\tTEST\\t{:.4f}\"\n",
    "    .format(accuracy_train_logit3_1, accuracy_test_logit3_1)\n",
    ")"
   ]
  },
  {
   "cell_type": "markdown",
   "metadata": {},
   "source": [
    "**INTERPRETATION:**"
   ]
  },
  {
   "cell_type": "markdown",
   "metadata": {},
   "source": [
    "*your answer here*\n",
    "\n",
    "These coefficients indicate that applying to Harvard or being a minority each positively contribute to chances of admission while holding all other predictors constant. More precisely, Harvard applicants have a 0.1408 increase in log-odds of admission while holding other predictors constant, while minority applicants have a 0.4505 increase while holding other predictors constant.\n",
    "\n",
    "Meanwhile, according to this model, being a female lowers an applicant's log-odds by 0.0268 while holding all other predictors constant.\n",
    "\n",
    "**PLEASE NOTE:** \n",
    "\n",
    "These interpretations will vary dependent on the computational results above.\n",
    "\n",
    "The results for Q3.1 can vary depending on the machine/OS (mac, windows, linux, etc.) used to fit the regression model. Strangely both sets of results appear to be stable (and do not change) dependent on the machine/OS used. For lack of a better explanation, this could possibly mean that there are multiple sets of competing (and similarly desirable) local minima for this problem's loss function.\n",
    "\n",
    "Please be aware that, because of this phenomenon, some results could correctly show coefficients and scores closer to these:\n",
    "\n",
    "```\n",
    "intercept   -12.7245\n",
    "harvard     0.1382\n",
    "test        0.0045\n",
    "ap          -0.0495\n",
    "avg_ap      0.0096\n",
    "gpa         0.4084\n",
    "female      0.0219\n",
    "minority    0.8699\n",
    "\n",
    "Train       0.7413\n",
    "TEST        0.6987\n",
    "```\n",
    "\n",
    "This means that the signs of some coefficients could go either way (+/-) dependent on these computational results. **As such, this would lead to differing interpretations above.**"
   ]
  },
  {
   "cell_type": "markdown",
   "metadata": {
    "cell_id": "0a790850-87c6-4f46-b89e-048a2295c92b",
    "colab_type": "text",
    "id": "IGFtXJmQap2q"
   },
   "source": [
    "<div class='exercise-r'>\n",
    "\n",
    "**3.2** Fit a logistic regression model (call it `logit3_2`) to predict `admitted` from 3 predictors: `[\"harvard\", \"test\", \"ap\"]` along with the 2 interaction terms: `harvard` with `test` and `harvard` with `ap`. Name the columns for these interaction terms something sensible.  Print out the coefficient estimates for this model.\n",
    "\n",
    "</div>"
   ]
  },
  {
   "cell_type": "code",
   "execution_count": 16,
   "metadata": {},
   "outputs": [
    {
     "name": "stdout",
     "output_type": "stream",
     "text": [
      "The intercept and coefficients for the 'logit3_2' model are:\n",
      "\n",
      "\tintercept           -7.1344\n",
      "\tharvard             -4.4410\n",
      "\ttest                0.0027\n",
      "\tap                  0.0240\n",
      "\tharvard_test        0.0022\n",
      "\tharvard_ap          -0.1101\n"
     ]
    }
   ],
   "source": [
    "# your code here\n",
    "# Create interaction terms\n",
    "X_train[\"harvard_test\"] = X_train[\"harvard\"] * X_train[\"test\"]\n",
    "X_train[\"harvard_ap\"] = X_train[\"harvard\"] * X_train[\"ap\"]\n",
    "\n",
    "\n",
    "logit3_2_predictors = [\n",
    "    \"harvard\", \"test\", \"ap\", \"harvard_test\", \"harvard_ap\"\n",
    "]\n",
    "max_iter = 1000\n",
    "\n",
    "logit3_2 = LogisticRegression(penalty=penalty, max_iter=max_iter).fit(\n",
    "    X_train[logit3_2_predictors].values, y_train.values\n",
    ")\n",
    "\n",
    "logit3_2_coefs = logit3_2.coef_[0]\n",
    "logit3_2_intercept = logit3_2.intercept_\n",
    "\n",
    "print(\n",
    "    \"The intercept and coefficients for the 'logit3_2' model are:\"\n",
    "    \"\\n\\n\\t{:<20}{:.4f}\".format(\n",
    "        \"intercept\", logit3_2_intercept[0]\n",
    "    )\n",
    ")\n",
    "\n",
    "for predictor, coef in zip(logit3_2_predictors, logit3_2_coefs):\n",
    "    print(\"\\t{:<20}{:.4f}\".format(predictor, coef))\n"
   ]
  },
  {
   "cell_type": "markdown",
   "metadata": {
    "cell_id": "0a790850-87c6-4f46-b89e-048a2295c92b",
    "colab_type": "text",
    "id": "IGFtXJmQap2q"
   },
   "source": [
    "<div class='exercise-r'>\n",
    "\n",
    "**3.3** Simplify and write out mathematically the above model from Question 3.2 for 2 applicants: (1) someone who is applying to Harvard and for (2) someone who is applying to Yale (keep `test` and `ap` as the unknown $X$s).  The basic framework given to you below may be helpful:\n",
    "\n",
    "$$ \\ln \\left( \\frac{P(Y=1)}{1-P(Y=1)} \\right) = \\beta_0 + \\beta_1 X_1 + \\dots + \\beta_p X_p $$\n",
    "    \n",
    "**NOTE:** All of your mathematical statements should be written out in your markdown cells using $\\LaTeX$.\n",
    "\n",
    "</div>"
   ]
  },
  {
   "cell_type": "markdown",
   "metadata": {},
   "source": [
    "*your answer here*\n",
    "\n",
    "Using the basic logistic regression framework shown above, the model statements for the 2 applicants can be written as such, where:\n",
    "\n",
    "* $\\beta_0$ is the model intercept\n",
    "* $\\beta_1 X_1$ are the slope and value for `harvard`\n",
    "* $\\beta_2 X_2$ are the slope and value for `test`\n",
    "* $\\beta_3 X_3$ are the slope and value for `ap`\n",
    "* $\\beta_4 X_4$ are the slope and value for interaction term $X_1 \\cdot X_2$ \n",
    "* $\\beta_5 X_5$ are the slope and value for interaction term $X_1 \\cdot X_3$\n",
    "\n",
    "The applicant applying to Harvard (i.e. $X_1= 1$) can be expressed as:\n",
    "\n",
    "$$\n",
    "\\begin{split}\n",
    "\\ln \\left( \\frac{P(Y=1 | X_1 = 1)}{1-P(Y=1 | X_1 = 1)} \\right) & = \\beta_0 + \\beta_1 X_1 + \\beta_2 X_2 + \\beta_3 X_3 + \\beta_4 X_4 + \\beta_5 X_5 \\\\\n",
    "& = -7.1344 - 4.4410 \\cdot X_1 + 0.0027 \\cdot X_2 + 0.0240 \\cdot X_3 + 0.0022 \\cdot X_2\\cdot X_1 - 0.1101 \\cdot X_3 \\cdot X_1 \\\\ \\\\\n",
    "& = -7.1344 - 4.4410 + 0.0027 \\cdot X_2 + 0.0240 \\cdot X_3 + 0.0022 \\cdot X_2 - 0.1101 \\cdot X_3 \\\\\n",
    "\\\\\n",
    "& = −11.5754 + 0.0049 \\cdot X_2 - 0.0861 \\cdot X_3 \\\\ \\\\\n",
    "\\end{split}\n",
    "$$\n",
    "\n",
    "And, the applicant applying to Yale (i.e. $X_1= 0$), where all terms multiplied by the `harvard` variable $X_1$ can be zeroed out, can be expressed as:\n",
    "\n",
    "$$\n",
    "\\begin{split}\n",
    "\\ln \\left( \\frac{P(Y=1 | X_1 = 0)}{1-P(Y=1 | X_1 = 0)} \\right) & = \\beta_0 + \\beta_1 X_1 + \\beta_2 X_2 + \\beta_3 X_3 + \\beta_4 X_4 + \\beta_5 X_5 \\\\\n",
    "& = -7.1344 + 0.0027 \\cdot X_2 + 0.0240 \\cdot X_3\n",
    "\\end{split}\n",
    "$$"
   ]
  },
  {
   "cell_type": "markdown",
   "metadata": {
    "cell_id": "0a790850-87c6-4f46-b89e-048a2295c92b",
    "colab_type": "text",
    "id": "IGFtXJmQap2q"
   },
   "source": [
    "<div class='exercise-r'>\n",
    "\n",
    "**3.4** Determine two classification boundaries mathematically for the model in the previous part (using the estimated coefficients): What range of values of `test` as a function of `ap` would an applicant be predicted to have a better than 50% chance (i.e. 0.5 probability) of being admitted into the college they applied (each college is associated with a different function)? If a student scored a perfect 2400 on `test`, what is the range of AP tests they should take in order to have a better than 50% chance of being admitted into Harvard?\n",
    "\n",
    "</div>"
   ]
  },
  {
   "cell_type": "markdown",
   "metadata": {},
   "source": [
    "*your answer here*\n",
    "\n",
    "If we can define our classification boundary where $P(Y=1)=0.5$ as such:\n",
    "\n",
    "$$\n",
    "\\begin{split}\n",
    "\\ln\\left(\\frac{0.5}{1-0.5}\\right) = 0 & = -7.1344 - 4.4410 \\cdot X_1 + 0.0027 \\cdot X_2 + 0.0240 \\cdot X_3 + 0.0022 \\cdot X_2\\cdot X_1 - 0.1101 \\cdot X_3 \\cdot X_1 \\\\ \\\\\n",
    "\\end{split}\n",
    "$$\n",
    "\n",
    "Then, for **Harvard** applicants, we can express the range of values of `test` as a function of `ap`, as such:\n",
    "\n",
    "$$\n",
    "\\begin{split}\n",
    "0 & = -7.1344 - 4.4410 \\cdot 1 + 0.0027 \\cdot X_2 + 0.0240 \\cdot X_3 + 0.0022 \\cdot X_2\\cdot 1 - 0.1101 \\cdot X_3 \\cdot 1 \\\\ \\\\\n",
    "- 0.0027 \\cdot X_2 - 0.0022 \\cdot X_2 & = -7.1344 - 4.4410 + 0.0240 \\cdot X_3 - 0.1101 \\cdot X_3 \\\\ \\\\\n",
    "-0.0049 \\cdot X_2 & = -11.5754 - 0.0861 \\cdot X_3 \\\\ \\\\\n",
    "X_2 & = \\frac{11.5754 + 0.0861 \\cdot X_3}{0.0049} \\\\ \\\\\n",
    "X_2 & = 2362.32 + 17.57 \\cdot X_3\n",
    "\\end{split}\n",
    "$$\n",
    "\n",
    "And, for **Yale** applicants, as such:\n",
    "\n",
    "$$\n",
    "\\begin{split}\n",
    "0 & = -7.1344 - 4.4410 \\cdot 0 + 0.0027 \\cdot X_2 + 0.0240 \\cdot X_3 + 0.0022 \\cdot X_2\\cdot 0 - 0.1101 \\cdot X_3 \\cdot 0 \\\\ \\\\\n",
    "- 0.0027 \\cdot X_2 & = -7.1344 + 0.0240 \\cdot X_3 \\\\ \\\\\n",
    "X_2 & = \\frac{7.1344 - 0.0240 \\cdot X_3}{0.0027} \\\\ \\\\\n",
    "X_2 & = 2642.37 - 8.89 \\cdot X_3\n",
    "\\end{split}\n",
    "$$\n",
    "\n",
    "So for an applicant to Harvard with a test score of 2400, the number of ap tests would solve to:\n",
    "\n",
    "$$\n",
    "\\begin{split}\n",
    "2400 & = 2362.32 + 17.57 \\cdot X_3 \\\\ \\\\\n",
    "X_3 & = 2.14\n",
    "\\end{split}\n",
    "$$\n",
    "\n",
    "However, the inequality in this case works out that 2.14 is the **maximum** number of ap tests the student can take. The interaction term of `harvard_ap` is a larger negative coefficient than `ap` is positive. So, according to our model, having a higher number of ap tests actually lowers an applicant's chances of being admitted to Harvard. This result is counterintuitive to what we would expect to see here."
   ]
  },
  {
   "cell_type": "markdown",
   "metadata": {
    "cell_id": "0a790850-87c6-4f46-b89e-048a2295c92b",
    "colab_type": "text",
    "id": "IGFtXJmQap2q"
   },
   "source": [
    "<div class='exercise-r'>\n",
    "\n",
    "**3.5** Create two separate scatterplots (one for Harvard applicants and one for Yale applicants) with the predictor `test` on the y-axis and `ap` on the x-axis where `admitted` is color-coded and the marker denotes train vs. test data.  Then add the appropriate classification boundary from the previous part.  Compare these two plots (including both the location of the boundaries and where the points lie around these boundaries).\n",
    "\n",
    "**NOTE:** As always, please be certain (a) your plot is titled, (b) everything is clearly labeled, and (c) the plot itself is formatted in a manner that makes it easy to read and interpret. It will likely take some careful work here to generate plots with data points that are clear and easy to see.\n",
    "    \n",
    "</div>"
   ]
  },
  {
   "cell_type": "code",
   "execution_count": 17,
   "metadata": {},
   "outputs": [],
   "source": [
    "# your code here\n",
    "def boundary_values_test(ap_value_array, harvard):\n",
    "    \"\"\"\n",
    "    Takes 'ap' values as input (single values or 1D arrays) and bool or 0,1\n",
    "    value indicating whether or not applicant is applying to 'harvard'\n",
    "    and returns corresponding 'test' values for the classification boundary\n",
    "    \"\"\"\n",
    "    if harvard:\n",
    "        return 2362.32 + 17.57 * ap_value_array\n",
    "    else:\n",
    "        return 2642.37 - 8.89 * ap_value_array"
   ]
  },
  {
   "cell_type": "code",
   "execution_count": 18,
   "metadata": {},
   "outputs": [
    {
     "data": {
      "image/png": "[encoded data removed]",
      "text/plain": [
       "<Figure size 864x360 with 2 Axes>"
      ]
     },
     "metadata": {
      "needs_background": "light"
     },
     "output_type": "display_data"
    }
   ],
   "source": [
    "# your code here\n",
    "data_train = pd.concat([X_train, y_train], axis=1)\n",
    "data_test = pd.concat([X_test, y_test], axis=1)\n",
    "\n",
    "def loc_filter(data, harvard, admit):\n",
    "    return data.loc[\n",
    "        (data[\"harvard\"] == harvard) & (data[\"admitted\"] == admit)\n",
    "    ]\n",
    "    \n",
    "xoffset = 0.125\n",
    "xarray = np.arange(0, 8)\n",
    "alpha = 0.4\n",
    "admit_color = \"tab:blue\"\n",
    "noadmit_color = \"tab:orange\"\n",
    "\n",
    "fig, axes = plt.subplots(1, 2, sharex=True, sharey=True, figsize=(12, 5))\n",
    "\n",
    "plt.suptitle(\n",
    "    \"Classification boundaries Yale and Harvard applicants, \"\n",
    "    \"'ap' vs. 'test' predictors\",\n",
    "    y=1,\n",
    "    fontsize=16,\n",
    ")\n",
    "\n",
    "for i, ax in enumerate(axes.flat):\n",
    "    ax.scatter(\n",
    "        loc_filter(data_train, i, 1)[\"ap\"]+ xoffset,\n",
    "        loc_filter(data_train, i, 1)[\"test\"],\n",
    "        label=\"Train admitted\",\n",
    "        marker=\"x\",\n",
    "        alpha=alpha,\n",
    "        color=admit_color,\n",
    "    )\n",
    "    ax.scatter(\n",
    "        loc_filter(data_test, i, 1)[\"ap\"]+ 2*xoffset,\n",
    "        loc_filter(data_test, i, 1)[\"test\"],\n",
    "        label=\"Test admitted\",\n",
    "        alpha=alpha,\n",
    "        color=admit_color,\n",
    "    )\n",
    "    ax.scatter(\n",
    "        loc_filter(data_train, i, 0)[\"ap\"]- 2*xoffset,\n",
    "        loc_filter(data_train, i, 0)[\"test\"],\n",
    "        label=\"Train not admitted\",\n",
    "        marker=\"x\",\n",
    "        alpha=alpha,\n",
    "        color=noadmit_color,\n",
    "    )\n",
    "    ax.scatter(\n",
    "        loc_filter(data_test, i, 0)[\"ap\"]-xoffset,\n",
    "        loc_filter(data_test, i, 0)[\"test\"],\n",
    "        label=\"Test not admitted\",\n",
    "        alpha=alpha,\n",
    "        color=noadmit_color,\n",
    "    )\n",
    "    ax.plot(\n",
    "        xarray, boundary_values_test(xarray, harvard=i),\n",
    "        \"k--\", label=\"classification boundary\"\n",
    "    )\n",
    "    # set ylim based on plotted elements above\n",
    "    ylim = ax.set_ylim()\n",
    "    ax.set_ylim(ylim)\n",
    "    \n",
    "    # plot shaded decision regions\n",
    "    ax.fill_between(\n",
    "        xarray, \n",
    "        boundary_values_test(xarray, harvard=i),\n",
    "        np.full(len(xarray), 3000),\n",
    "        color=admit_color,\n",
    "        alpha=0.1,\n",
    "        label=\"Admitted predictions\",\n",
    "    )\n",
    "    ax.fill_between(\n",
    "        xarray, \n",
    "        boundary_values_test(xarray, harvard=i),\n",
    "        np.full(len(xarray), 0),\n",
    "        color=noadmit_color,\n",
    "        alpha=0.1,\n",
    "        label=\"Not admitted predictions\",\n",
    "    )\n",
    "\n",
    "    ax.set_xlabel(\"ap\", fontsize=12)\n",
    "    ax.set_ylabel(\"test\" if i==0 else None, fontsize=12)\n",
    "    ax.set_title(\n",
    "        \"{} applicants\".format(\"Harvard\" if i==1 else \"Yale\"),\n",
    "        fontsize=14\n",
    "    )\n",
    "    ax.grid(\":\", alpha=alpha)\n",
    "    if i==1:\n",
    "        ax.legend()\n",
    "\n",
    "plt.tight_layout()\n",
    "plt.show()"
   ]
  },
  {
   "cell_type": "markdown",
   "metadata": {},
   "source": [
    "**INTERPRETATION:**"
   ]
  },
  {
   "cell_type": "markdown",
   "metadata": {},
   "source": [
    "*your answer here*\n",
    "\n",
    "Student interpretations should provide meaningful insight into the boundary line (particularly the slope of it by school) and the relationship between test and ap predictors. Considering what we know from our data, our naive model, and the challenge of improving predictions with our logistic classification models thus far, these improbable decision boundaries (i.e. unrealistic corresponding test scores) should not be too much of a surprise at this point and are reflective of these larger issues with our models and underlying data. As we can see from the plots above, there is no overlap between \"admitted\" predictions and observed (or even possible) test scores for Yale applicants. This means that, regardless of test score, all Yale applicants will be predicted as \"not admitted\" by our `logit3_2` model. Meanwhile, for Harvard applicants, there is slight overlap between our decision boundary and possible test scores. However, with the decision boundary's positive slope for Harvard applicants, once an applicant has taken greater than 2 AP tests, there is no possible test score at which our model will predict that applicant as \"admitted\". In fact, based on this model, a Harvard applicant's probability of admission continues to decrease as their number of AP tests increase."
   ]
  },
  {
   "cell_type": "markdown",
   "metadata": {
    "cell_id": "0a790850-87c6-4f46-b89e-048a2295c92b",
    "colab_type": "text",
    "id": "IGFtXJmQap2q"
   },
   "source": [
    "<div class='exercise-r'>\n",
    "\n",
    "**3.6** Fit a logistic regression model (call it `logit3_6`) to predict `admitted` from 4 predictors: `[\"harvard\", \"test\", \"female\", \"minority\"]` along with 2 interaction terms: `harvard` with `female` and `harvard` with `minority`.  Print out the coefficient estimates for this model.\n",
    "    \n",
    "</div>"
   ]
  },
  {
   "cell_type": "code",
   "execution_count": 19,
   "metadata": {},
   "outputs": [
    {
     "name": "stdout",
     "output_type": "stream",
     "text": [
      "The intercept and coefficients for the 'logit3_6' model are:\n",
      "\n",
      "\tintercept           -10.7207\n",
      "\tharvard             0.3636\n",
      "\ttest                0.0042\n",
      "\tfemale              0.0113\n",
      "\tminority            1.4193\n",
      "\tharvard_female      0.0976\n",
      "\tharvard_minority    -1.0333\n"
     ]
    }
   ],
   "source": [
    "# your code here\n",
    "# Create interaction terms\n",
    "X_train[\"harvard_female\"] = X_train[\"harvard\"] * X_train[\"female\"]\n",
    "X_train[\"harvard_minority\"] = X_train[\"harvard\"] * X_train[\"minority\"]\n",
    "\n",
    "\n",
    "logit3_6_predictors = [\n",
    "    \"harvard\", \"test\", \"female\", \"minority\",\n",
    "    \"harvard_female\", \"harvard_minority\"\n",
    "]\n",
    "max_iter = 1000\n",
    "\n",
    "logit3_6 = LogisticRegression(penalty=penalty, max_iter=max_iter).fit(\n",
    "    X_train[logit3_6_predictors].values, y_train.values\n",
    ")\n",
    "\n",
    "logit3_6_coefs = logit3_6.coef_[0]\n",
    "logit3_6_intercept = logit3_6.intercept_\n",
    "\n",
    "print(\n",
    "    \"The intercept and coefficients for the 'logit3_6' model are:\"\n",
    "    \"\\n\\n\\t{:<20}{:.4f}\".format(\n",
    "        \"intercept\", logit3_6_intercept[0]\n",
    "    )\n",
    ")\n",
    "\n",
    "for predictor, coef in zip(logit3_6_predictors, logit3_6_coefs):\n",
    "    print(\"\\t{:<20}{:.4f}\".format(predictor, coef))\n"
   ]
  },
  {
   "cell_type": "markdown",
   "metadata": {
    "cell_id": "0a790850-87c6-4f46-b89e-048a2295c92b",
    "colab_type": "text",
    "id": "IGFtXJmQap2q"
   },
   "source": [
    "<div class='exercise-r'>\n",
    "\n",
    "**3.7** Interpret the coefficients associated with `female` and `minority` (the two main effects AND the two interaction terms).\n",
    "    \n",
    "</div>"
   ]
  },
  {
   "cell_type": "markdown",
   "metadata": {},
   "source": [
    "*your answer here*\n",
    "\n",
    "Students need to correctly interpret the coefficients, particular the signs of the coefficients. They should also understand how interaction terms work with regard to whether the student applied to Harvard vs. Yale. For example, for the interaction terms, it appears that there is an additional positive effect for female applicants (a 0.0976 increase in log-odds), but a partial reduction in log-odds for minority applicants (a 1.0333 decrease in log-offs) when applying to Harvard relative to Yale (Yale being our reference group). \n",
    "\n",
    "We know this because, as we saw in Q3.3/Q3.4 derivations, both the female and minority coefficients can be summed with their corresponding interaction term coefficients to give the overall change in log-odds for Harvard applicants while holding all other predictors constant. Doing this, we can see that there are still overall increases in log-odds for both female and minority Harvard applicants. The minority applicants at Harvard just don't have as large an increase in their chances for admission as they do when applying to Yale because of the negative `harvard * minority` interaction coefficient (i.e. $1.4193 - 1.0333 = 0.386$ log-odds).\n",
    "\n",
    "**PLEASE NOTE:**\n",
    "\n",
    "Similar to Q3.1, the Q3.6 logistic model may also run into issues with different coefficients dependent on the machine/OS being used (unfortunately we were not able to recreate it for these solutions). Those different coefficients will affect this Q3.7 interpretation."
   ]
  },
  {
   "cell_type": "markdown",
   "metadata": {
    "cell_id": "0a790850-87c6-4f46-b89e-048a2295c92b",
    "colab_type": "text",
    "id": "IGFtXJmQap2q"
   },
   "source": [
    "<div class='exercise-r'>\n",
    "\n",
    "**3.8** Based on this sample, how does it appear that Harvard and Yale compare in admitting these groups?  Why would it be wrong to take this interpretation as truth?\n",
    "\n",
    "</div>"
   ]
  },
  {
   "cell_type": "markdown",
   "metadata": {},
   "source": [
    "*your answer here*\n",
    "\n",
    "It should be understood (whether here or in the rest of the problem), that the Harvard predictor can be related to comparing Harvard vs. Yale admissions. Students should base their determination of whether Harvard or Yale has higher estimated log-odds / chances of admitting these students based on the coefficients of the interaction terms. For instance, the positive interaction term for `harvard * female` tells us that female applicants have 0.0976 greater log-odds of admission to Harvard than Yale, and the negative interaction term for `harvard * minority` tells us that minority applicants have a 1.0333 lower log-odds of admission to Harvard than Yale based on our model.\n",
    "\n",
    "Reasonable reasons to not take this interpretation as truth should  go back to the biased and self-reported nature of the data that we are using. Also useful to note are the poor accuracy results and improbable decision boundary results we have seen throughout Question 3. We should probably also be concerned because our `logit3_6` model does not have all interaction terms of `female` and `minority` with other potentially important predictors."
   ]
  },
  {
   "cell_type": "markdown",
   "metadata": {},
   "source": [
    "---"
   ]
  },
  {
   "cell_type": "markdown",
   "metadata": {},
   "source": [
    "<a id=\"part4\"></a>\n",
    "\n",
    "## <div class='exercise'>Question 4: Building predictive models for admitted [24 pts]</div>\n",
    "\n",
    "[Return to contents](#contents)\n",
    "\n",
    "**4.1** You were instructed to NOT scale predictors in the prior sections above. The primary reason for this was to focus instead on the interpretability of our logistic regression coefficients. However, as we're sure you noticed, the numeric scale among our different predictors varies greatly (i.e. `test` values are in the 1,000's while others are much, much smaller). In practice, we might want to put our predictors all on a similar scale, particularly for regularized regression and/or distance-based algorithms such as $k$-NN classification. (1) Please explain why scaling under these circumstances might be important. Then, (2) actually apply standardized scaling to all of the **non-binary** predictors in our original set of 12 predictors (for both the training and test sets).\n",
    "\n",
    "**IMPORTANT:** These scaled predictors should be used instead of the original unscaled versions of the predictors for the remainder of this problem set.\n",
    "\n",
    "**4.2** Fit a well-tuned $k$-NN classification model with main effects of all 12 predictors in it (call it `knn_model`).  Use `ks = [1, 3, 5, 9, 15, 21, 51, 71, 101, 131, 171, 201]` and 10-fold cross-validation with classification accuracy as the scoring metric. Plot, on a single set of axes, your resulting cross-validation mean training and mean validation scores at each value $k$. Then, report your chosen $k$ and the classification accuracy on train and test for your final fitted model.\n",
    "\n",
    "**4.3** Fit the full logistic regression model (without penalty) with main effects of all 12 predictors in it (call it `logit_full`). Print out the coefficient estimates and report the classification accuracy on train and test for this model.\n",
    "\n",
    "**HINT:** If you have convergence warnings, increasing the maximum number of iterations will likely solve this issue.\n",
    "\n",
    "**4.4** Fit a well-tuned Lasso-like logistic regression model from all 12 predictors in it (call it `logit_lasso`). Use `Cs = [1e-4, 1e-3, 1e-2, 1e-1, 1e0, 1e1, 1e2, 1e3, 1e4]` and 10-fold cross-validation with classification accuracy as the scoring metric.  Print out the coefficient estimates and report the classification accuracy on train and test for this model.\n",
    "\n",
    "**4.5** Which predictors were deemed important in `logit_lasso`?  Which were deemed unimportant? Please remember that, as a general practice, zero-value Lasso coefficients (i.e. $\\beta_i=0$) are considered \"unimportant\".\n",
    "\n",
    "**4.6** Fit a well-tuned Lasso-like logistic regression model with all important predictors from `logit_lasso` and all the unique 2-way interactions between them (call it `logit_lasso_interact`).  Again use `Cs = [1e-4, 1e-3, 1e-2, 1e-1, 1e0, 1e1, 1e2, 1e3, 1e4]` and 10-fold cross-validation with classification accuracy as the scoring metric. Report the classification accuracy on train and test for this model.\n",
    "\n",
    "**4.7** How many of the predictors in our `logit_lasso_interact` model were deemed important and unimportant? (Feel free to just report on the number of them found to be important and unimportant. There is no need to list them all here.)"
   ]
  },
  {
   "cell_type": "markdown",
   "metadata": {},
   "source": [
    "<a id=\"part4solutions\"></a>\n",
    "\n",
    "## Question 4: Solutions\n",
    "\n",
    "[Return to contents](#contents)"
   ]
  },
  {
   "cell_type": "markdown",
   "metadata": {
    "cell_id": "0a790850-87c6-4f46-b89e-048a2295c92b",
    "colab_type": "text",
    "id": "IGFtXJmQap2q"
   },
   "source": [
    "<div class='exercise-r'>\n",
    "\n",
    "**4.1** You were instructed to NOT scale predictors in the prior sections above. The primary reason for this was to focus instead on the interpretability of our logistic regression coefficients. However, as we're sure you noticed, the numeric scale among our different predictors varies greatly (i.e. `test` values are in the 1,000's while others are much, much smaller). In practice, we might want to put our predictors all on a similar scale, particularly for regularized regression and/or distance-based algorithms such as $k$-NN classification. (1) Please explain why scaling under these circumstances might be important. Then, (2) actually apply standardized scaling to all of the **non-binary** predictors in our original set of 12 predictors (for both the training and test sets).\n",
    "\n",
    "**IMPORTANT:** These scaled predictors should be used instead of the original unscaled versions of the predictors for the remainder of this problem set.\n",
    "\n",
    "</div>"
   ]
  },
  {
   "cell_type": "markdown",
   "metadata": {},
   "source": [
    "**INTERPRETATION:**"
   ]
  },
  {
   "cell_type": "markdown",
   "metadata": {},
   "source": [
    "*your answer here*\n",
    "\n",
    "Scaling is necessary when our algorithm uses a distance metric such as Euclidean distance as is used in $k$NN. Otherwise, the larger magnitude predictors (such as `test` in this case) will skew the algorithm's results due to their distances relative to all other predictors. Likewise, even with smaller variability in scale among various predictors, this effect will still exist. \n",
    "\n",
    "Additionally, for a regression model with regularization (such as the $LASSO$-regularized logistic models we create later in Q4), because the scale of our predictors will affect the scale of their corresponding coefficients, our specified regularization term $\\lambda$ will not have an equally weighted effect on all coefficients. In effect, with varying scales among different predictors (especially large differences in magnitude), shrinkage of our coefficients in $LASSO$ regularization will not treat all predictors equally and will not yield valid results."
   ]
  },
  {
   "cell_type": "code",
   "execution_count": 20,
   "metadata": {},
   "outputs": [
    {
     "data": {
      "text/html": [
       "<div>\n",
       "<style scoped>\n",
       "    .dataframe tbody tr th:only-of-type {\n",
       "        vertical-align: middle;\n",
       "    }\n",
       "\n",
       "    .dataframe tbody tr th {\n",
       "        vertical-align: top;\n",
       "    }\n",
       "\n",
       "    .dataframe thead th {\n",
       "        text-align: right;\n",
       "    }\n",
       "</style>\n",
       "<table border=\"1\" class=\"dataframe\">\n",
       "  <thead>\n",
       "    <tr style=\"text-align: right;\">\n",
       "      <th></th>\n",
       "      <th>test</th>\n",
       "      <th>ap</th>\n",
       "      <th>avg_ap</th>\n",
       "      <th>sat_subjects</th>\n",
       "      <th>gpa</th>\n",
       "      <th>female</th>\n",
       "      <th>minority</th>\n",
       "      <th>international</th>\n",
       "      <th>sports</th>\n",
       "      <th>early_app</th>\n",
       "      <th>alumni</th>\n",
       "      <th>harvard</th>\n",
       "      <th>harvard_test</th>\n",
       "      <th>harvard_ap</th>\n",
       "      <th>harvard_female</th>\n",
       "      <th>harvard_minority</th>\n",
       "    </tr>\n",
       "  </thead>\n",
       "  <tbody>\n",
       "    <tr>\n",
       "      <th>count</th>\n",
       "      <td>1.496e+03</td>\n",
       "      <td>1.496e+03</td>\n",
       "      <td>1.496e+03</td>\n",
       "      <td>1.496e+03</td>\n",
       "      <td>1.496e+03</td>\n",
       "      <td>1496.0</td>\n",
       "      <td>1496.000</td>\n",
       "      <td>1496.000</td>\n",
       "      <td>1496.000</td>\n",
       "      <td>1496.000</td>\n",
       "      <td>1496.000</td>\n",
       "      <td>1496.000</td>\n",
       "      <td>1496.000</td>\n",
       "      <td>1496.000</td>\n",
       "      <td>1496.000</td>\n",
       "      <td>1496.000</td>\n",
       "    </tr>\n",
       "    <tr>\n",
       "      <th>mean</th>\n",
       "      <td>1.320e-15</td>\n",
       "      <td>-4.037e-17</td>\n",
       "      <td>2.375e-16</td>\n",
       "      <td>3.325e-17</td>\n",
       "      <td>1.502e-16</td>\n",
       "      <td>0.5</td>\n",
       "      <td>0.207</td>\n",
       "      <td>0.060</td>\n",
       "      <td>0.035</td>\n",
       "      <td>0.177</td>\n",
       "      <td>0.049</td>\n",
       "      <td>0.524</td>\n",
       "      <td>1144.022</td>\n",
       "      <td>1.809</td>\n",
       "      <td>0.256</td>\n",
       "      <td>0.115</td>\n",
       "    </tr>\n",
       "    <tr>\n",
       "      <th>std</th>\n",
       "      <td>1.000e+00</td>\n",
       "      <td>1.000e+00</td>\n",
       "      <td>1.000e+00</td>\n",
       "      <td>1.000e+00</td>\n",
       "      <td>1.000e+00</td>\n",
       "      <td>0.5</td>\n",
       "      <td>0.405</td>\n",
       "      <td>0.238</td>\n",
       "      <td>0.183</td>\n",
       "      <td>0.382</td>\n",
       "      <td>0.217</td>\n",
       "      <td>0.500</td>\n",
       "      <td>1097.728</td>\n",
       "      <td>2.421</td>\n",
       "      <td>0.437</td>\n",
       "      <td>0.319</td>\n",
       "    </tr>\n",
       "    <tr>\n",
       "      <th>min</th>\n",
       "      <td>-6.089e+00</td>\n",
       "      <td>-1.473e+00</td>\n",
       "      <td>-2.191e+00</td>\n",
       "      <td>-2.221e+00</td>\n",
       "      <td>-9.529e+00</td>\n",
       "      <td>0.0</td>\n",
       "      <td>0.000</td>\n",
       "      <td>0.000</td>\n",
       "      <td>0.000</td>\n",
       "      <td>0.000</td>\n",
       "      <td>0.000</td>\n",
       "      <td>0.000</td>\n",
       "      <td>0.000</td>\n",
       "      <td>0.000</td>\n",
       "      <td>0.000</td>\n",
       "      <td>0.000</td>\n",
       "    </tr>\n",
       "    <tr>\n",
       "      <th>25%</th>\n",
       "      <td>-4.440e-01</td>\n",
       "      <td>-6.158e-01</td>\n",
       "      <td>-7.730e-02</td>\n",
       "      <td>-6.703e-01</td>\n",
       "      <td>-2.432e-01</td>\n",
       "      <td>0.0</td>\n",
       "      <td>0.000</td>\n",
       "      <td>0.000</td>\n",
       "      <td>0.000</td>\n",
       "      <td>0.000</td>\n",
       "      <td>0.000</td>\n",
       "      <td>0.000</td>\n",
       "      <td>0.000</td>\n",
       "      <td>0.000</td>\n",
       "      <td>0.000</td>\n",
       "      <td>0.000</td>\n",
       "    </tr>\n",
       "    <tr>\n",
       "      <th>50%</th>\n",
       "      <td>2.029e-01</td>\n",
       "      <td>-1.871e-01</td>\n",
       "      <td>4.144e-01</td>\n",
       "      <td>1.052e-01</td>\n",
       "      <td>4.093e-01</td>\n",
       "      <td>0.5</td>\n",
       "      <td>0.000</td>\n",
       "      <td>0.000</td>\n",
       "      <td>0.000</td>\n",
       "      <td>0.000</td>\n",
       "      <td>0.000</td>\n",
       "      <td>1.000</td>\n",
       "      <td>1840.000</td>\n",
       "      <td>0.000</td>\n",
       "      <td>0.000</td>\n",
       "      <td>0.000</td>\n",
       "    </tr>\n",
       "    <tr>\n",
       "      <th>75%</th>\n",
       "      <td>7.322e-01</td>\n",
       "      <td>6.703e-01</td>\n",
       "      <td>7.506e-01</td>\n",
       "      <td>1.052e-01</td>\n",
       "      <td>6.101e-01</td>\n",
       "      <td>1.0</td>\n",
       "      <td>0.000</td>\n",
       "      <td>0.000</td>\n",
       "      <td>0.000</td>\n",
       "      <td>0.000</td>\n",
       "      <td>0.000</td>\n",
       "      <td>1.000</td>\n",
       "      <td>2230.000</td>\n",
       "      <td>3.000</td>\n",
       "      <td>1.000</td>\n",
       "      <td>0.000</td>\n",
       "    </tr>\n",
       "    <tr>\n",
       "      <th>max</th>\n",
       "      <td>1.261e+00</td>\n",
       "      <td>1.528e+00</td>\n",
       "      <td>7.506e-01</td>\n",
       "      <td>2.432e+00</td>\n",
       "      <td>6.101e-01</td>\n",
       "      <td>1.0</td>\n",
       "      <td>1.000</td>\n",
       "      <td>1.000</td>\n",
       "      <td>1.000</td>\n",
       "      <td>1.000</td>\n",
       "      <td>1.000</td>\n",
       "      <td>1.000</td>\n",
       "      <td>2400.000</td>\n",
       "      <td>7.000</td>\n",
       "      <td>1.000</td>\n",
       "      <td>1.000</td>\n",
       "    </tr>\n",
       "  </tbody>\n",
       "</table>\n",
       "</div>"
      ],
      "text/plain": [
       "            test         ap     avg_ap  sat_subjects        gpa  female  \\\n",
       "count  1.496e+03  1.496e+03  1.496e+03     1.496e+03  1.496e+03  1496.0   \n",
       "mean   1.320e-15 -4.037e-17  2.375e-16     3.325e-17  1.502e-16     0.5   \n",
       "std    1.000e+00  1.000e+00  1.000e+00     1.000e+00  1.000e+00     0.5   \n",
       "min   -6.089e+00 -1.473e+00 -2.191e+00    -2.221e+00 -9.529e+00     0.0   \n",
       "25%   -4.440e-01 -6.158e-01 -7.730e-02    -6.703e-01 -2.432e-01     0.0   \n",
       "50%    2.029e-01 -1.871e-01  4.144e-01     1.052e-01  4.093e-01     0.5   \n",
       "75%    7.322e-01  6.703e-01  7.506e-01     1.052e-01  6.101e-01     1.0   \n",
       "max    1.261e+00  1.528e+00  7.506e-01     2.432e+00  6.101e-01     1.0   \n",
       "\n",
       "       minority  international    sports  early_app    alumni   harvard  \\\n",
       "count  1496.000       1496.000  1496.000   1496.000  1496.000  1496.000   \n",
       "mean      0.207          0.060     0.035      0.177     0.049     0.524   \n",
       "std       0.405          0.238     0.183      0.382     0.217     0.500   \n",
       "min       0.000          0.000     0.000      0.000     0.000     0.000   \n",
       "25%       0.000          0.000     0.000      0.000     0.000     0.000   \n",
       "50%       0.000          0.000     0.000      0.000     0.000     1.000   \n",
       "75%       0.000          0.000     0.000      0.000     0.000     1.000   \n",
       "max       1.000          1.000     1.000      1.000     1.000     1.000   \n",
       "\n",
       "       harvard_test  harvard_ap  harvard_female  harvard_minority  \n",
       "count      1496.000    1496.000        1496.000          1496.000  \n",
       "mean       1144.022       1.809           0.256             0.115  \n",
       "std        1097.728       2.421           0.437             0.319  \n",
       "min           0.000       0.000           0.000             0.000  \n",
       "25%           0.000       0.000           0.000             0.000  \n",
       "50%        1840.000       0.000           0.000             0.000  \n",
       "75%        2230.000       3.000           1.000             0.000  \n",
       "max        2400.000       7.000           1.000             1.000  "
      ]
     },
     "execution_count": 20,
     "metadata": {},
     "output_type": "execute_result"
    }
   ],
   "source": [
    "# your code here\n",
    "# apply standard scaler to non-binary predictors\n",
    "non_binary_predictors = [\n",
    "    \"test\", \"ap\", \"avg_ap\", \"sat_subjects\", \"gpa\",\n",
    "]\n",
    "\n",
    "scaler = StandardScaler().fit(X_train[non_binary_predictors])\n",
    "\n",
    "X_train[non_binary_predictors] = scaler.transform(\n",
    "    X_train[non_binary_predictors]\n",
    ")\n",
    "X_test[non_binary_predictors] = scaler.transform(\n",
    "    X_test[non_binary_predictors]\n",
    ")\n",
    "\n",
    "# preview summary stats after standardizing\n",
    "X_train.describe()"
   ]
  },
  {
   "cell_type": "markdown",
   "metadata": {
    "cell_id": "0a790850-87c6-4f46-b89e-048a2295c92b",
    "colab_type": "text",
    "id": "IGFtXJmQap2q"
   },
   "source": [
    "<div class='exercise-r'>\n",
    "\n",
    "**4.2** Fit a well-tuned $k$-NN classification model with main effects of all 12 predictors in it (call it `knn_model`).  Use `ks = [1, 3, 5, 9, 15, 21, 51, 71, 101, 131, 171, 201]` and 10-fold cross-validation with classification accuracy as the scoring metric. Plot, on a single set of axes, your resulting cross-validation mean training and mean validation scores at each value $k$. Then, report your chosen $k$ and the classification accuracy on train and test for your final fitted model.\n",
    "    \n",
    "</div>"
   ]
  },
  {
   "cell_type": "code",
   "execution_count": 21,
   "metadata": {},
   "outputs": [],
   "source": [
    "np.random.seed(121) # Do not delete or modify this line of code\n",
    "\n",
    "# your code here\n",
    "ks = [1,3,5,9,15,21,51,71,101,131,171,201]\n",
    "folds = 10\n",
    "\n",
    "train_score = np.zeros(len(ks))\n",
    "validation_score = np.zeros(len(ks))\n",
    "validation_var = np.zeros(len(ks))\n",
    "\n",
    "for i, k in enumerate(ks):\n",
    "    knn_estimator = KNeighborsClassifier(n_neighbors=k)\n",
    "    cv_results = cross_validate(\n",
    "        estimator=knn_estimator,\n",
    "        X=X_train[predictor_list].values,\n",
    "        y=y_train.values,\n",
    "        cv=folds,\n",
    "        return_train_score=True,\n",
    "    )\n",
    "    train_score[i] = np.mean(cv_results[\"train_score\"])\n",
    "    validation_score[i] = np.mean(cv_results[\"test_score\"])\n",
    "    validation_var[i] = np.std(cv_results[\"test_score\"])\n",
    "\n",
    "best_k = ks[np.argmax(validation_score)]"
   ]
  },
  {
   "cell_type": "code",
   "execution_count": 22,
   "metadata": {},
   "outputs": [
    {
     "data": {
      "image/png": "[encoded data removed]",
      "text/plain": [
       "<Figure size 576x288 with 1 Axes>"
      ]
     },
     "metadata": {
      "needs_background": "light"
     },
     "output_type": "display_data"
    },
    {
     "name": "stdout",
     "output_type": "stream",
     "text": [
      "The best value 'k' is 21 with a mean validation score of 0.7386\n",
      "\n",
      "\n",
      "The classification accuracies for 'knn_model' where k=21 are:\n",
      "\n",
      "\tTrain\t0.7440\n",
      "\tTEST\t0.7013\n"
     ]
    }
   ],
   "source": [
    "# your code here\n",
    "fig, ax = plt.subplots(figsize=(8, 4))\n",
    "plt.title(\n",
    "    f\"{folds}-fold cross-validation training vs. \"\n",
    "    \"validation scores for each value $k$\",\n",
    "    fontsize=14,\n",
    ")\n",
    "plt.plot(ks, train_score, label=\"train scores\")\n",
    "plt.plot(ks, validation_score, label=\"validation scores\")\n",
    "plt.fill_between(\n",
    "    ks,\n",
    "    validation_score+2*validation_var,\n",
    "    validation_score-2*validation_var,\n",
    "    color=\"tab:orange\",\n",
    "    alpha=0.2,\n",
    "    label=\"+/-2 std dev\"\n",
    ")\n",
    "plt.grid(\":\", alpha=0.4)\n",
    "plt.xlabel(\"value of $k$ for $k$-nearest neighbors\", fontsize=12)\n",
    "plt.ylabel(\"accuracy\", fontsize=12)\n",
    "plt.xticks(ks)\n",
    "plt.legend()\n",
    "plt.tight_layout()\n",
    "plt.show()\n",
    "\n",
    "print(\n",
    "    \"The best value 'k' is {} with a mean validation score \"\n",
    "    \"of {:.4f}\\n\\n\".format(best_k, max(validation_score))\n",
    ")\n",
    "\n",
    "\n",
    "# fit best model on the training data and report results\n",
    "\n",
    "knn_model = KNeighborsClassifier(n_neighbors=best_k).fit(\n",
    "        X=X_train[predictor_list].values,\n",
    "        y=y_train.values,   \n",
    ")\n",
    "\n",
    "accuracy_train_knn_model = knn_model.score(\n",
    "    X_train[predictor_list].values, y_train\n",
    ")\n",
    "accuracy_test_knn_model = knn_model.score(\n",
    "    X_test[predictor_list].values, y_test\n",
    ")\n",
    "\n",
    "print(\n",
    "    \"The classification accuracies for 'knn_model' where k={} \"\n",
    "    \"are:\\n\\n\\tTrain\\t{:.4f}\\n\\tTEST\\t{:.4f}\"\n",
    "    .format(\n",
    "        best_k, accuracy_train_knn_model, accuracy_test_knn_model\n",
    "    )\n",
    ")\n",
    "\n",
    "# create dict for storing test scores for each Q4 model\n",
    "q4_test_scores = {\n",
    "    \"knn_model\": accuracy_test_knn_model\n",
    "}"
   ]
  },
  {
   "cell_type": "markdown",
   "metadata": {
    "cell_id": "0a790850-87c6-4f46-b89e-048a2295c92b",
    "colab_type": "text",
    "id": "IGFtXJmQap2q"
   },
   "source": [
    "<div class='exercise-r'>\n",
    "\n",
    "**4.3** Fit the full logistic regression model (without penalty) with main effects of all 12 predictors in it (call it `logit_full`). Print out the coefficient estimates and report the classification accuracy on train and test for this model.\n",
    "\n",
    "**HINT:** If you have convergence warnings, increasing the maximum number of iterations will likely solve this issue.\n",
    "    \n",
    "</div>"
   ]
  },
  {
   "cell_type": "code",
   "execution_count": 23,
   "metadata": {
    "scrolled": false
   },
   "outputs": [
    {
     "name": "stdout",
     "output_type": "stream",
     "text": [
      "The intercept and coefficients for the 'logit_full' model are:\n",
      "\n",
      "\tintercept           -1.7090\n",
      "\ttest                0.7838\n",
      "\tap                  -0.1403\n",
      "\tavg_ap              0.0975\n",
      "\tsat_subjects        -0.0952\n",
      "\tgpa                 0.1056\n",
      "\tfemale              0.0518\n",
      "\tminority            0.9165\n",
      "\tinternational       0.4500\n",
      "\tsports              1.2334\n",
      "\tharvard             0.2581\n",
      "\tearly_app           0.3737\n",
      "\talumni              0.6629\n",
      "\n",
      "The classification accuracies for 'logit_full' are:\n",
      "\n",
      "\tTrain\t0.7453\n",
      "\tTEST\t0.7147\n"
     ]
    }
   ],
   "source": [
    "# your code here\n",
    "max_iter = 1000\n",
    "penalty = \"none\"\n",
    "\n",
    "logit_full = LogisticRegression(penalty=penalty, max_iter=max_iter).fit(\n",
    "    X_train[predictor_list].values, y_train.values\n",
    ")\n",
    "\n",
    "logit_full_coefs = logit_full.coef_[0]\n",
    "logit_full_intercept = logit_full.intercept_\n",
    "\n",
    "accuracy_train_logit_full = logit_full.score(\n",
    "    X_train[predictor_list].values, y_train\n",
    ")\n",
    "accuracy_test_logit_full = logit_full.score(\n",
    "    X_test[predictor_list].values, y_test\n",
    ")\n",
    "\n",
    "print(\n",
    "    \"The intercept and coefficients for the 'logit_full' model are:\"\n",
    "    \"\\n\\n\\t{:<20}{:.4f}\".format(\n",
    "        \"intercept\", logit_full_intercept[0]\n",
    "    )\n",
    ")\n",
    "\n",
    "for predictor, coef in zip(predictor_list, logit_full_coefs):\n",
    "    print(\"\\t{:<20}{:.4f}\".format(predictor, coef))\n",
    "\n",
    "print(\n",
    "    \"\\nThe classification accuracies for 'logit_full' are:\"\n",
    "    \"\\n\\n\\tTrain\\t{:.4f}\\n\\tTEST\\t{:.4f}\"\n",
    "    .format(accuracy_train_logit_full, accuracy_test_logit_full)\n",
    ")\n",
    "\n",
    "# store test score to dict for later use\n",
    "q4_test_scores[\"logit_full\"] = accuracy_test_logit_full"
   ]
  },
  {
   "cell_type": "markdown",
   "metadata": {
    "cell_id": "0a790850-87c6-4f46-b89e-048a2295c92b",
    "colab_type": "text",
    "id": "IGFtXJmQap2q"
   },
   "source": [
    "<div class='exercise-r'>\n",
    "\n",
    "**4.4** Fit a well-tuned Lasso-like logistic regression model from all 12 predictors in it (call it `logit_lasso`). Use `Cs = [1e-4, 1e-3, 1e-2, 1e-1, 1e0, 1e1, 1e2, 1e3, 1e4]` and 10-fold cross-validation with classification accuracy as the scoring metric.  Print out the coefficient estimates and report the classification accuracy on train and test for this model.\n",
    "\n",
    "</div>"
   ]
  },
  {
   "cell_type": "code",
   "execution_count": 24,
   "metadata": {},
   "outputs": [
    {
     "name": "stdout",
     "output_type": "stream",
     "text": [
      "The intercept and coefficients for the 'logit_lasso' model are:\n",
      "\n",
      "\tintercept           -1.7014\n",
      "\ttest                0.7819\n",
      "\tap                  -0.1388\n",
      "\tavg_ap              0.0952\n",
      "\tsat_subjects        -0.0943\n",
      "\tgpa                 0.1045\n",
      "\tfemale              0.0493\n",
      "\tminority            0.9121\n",
      "\tinternational       0.4403\n",
      "\tsports              1.2214\n",
      "\tharvard             0.2545\n",
      "\tearly_app           0.3702\n",
      "\talumni              0.6563\n",
      "\n",
      "The classification accuracies for 'logit_lasso' are:\n",
      "\n",
      "\tTrain\t0.7453\n",
      "\tTEST\t0.7147\n"
     ]
    }
   ],
   "source": [
    "# your code here\n",
    "Cs = [1e-4, 1e-3, 1e-2, 1e-1, 1e0, 1e1, 1e2, 1e3, 1e4]\n",
    "max_iter = 1000\n",
    "penalty = \"l1\"\n",
    "solver = \"liblinear\"\n",
    "\n",
    "logit_lasso = LogisticRegressionCV(\n",
    "    Cs=Cs, cv=10, penalty=penalty, max_iter=max_iter, solver=solver\n",
    ").fit(\n",
    "    X_train[predictor_list].values, y_train.values\n",
    ")\n",
    "\n",
    "logit_lasso_coefs = logit_lasso.coef_[0]\n",
    "logit_lasso_intercept = logit_lasso.intercept_\n",
    "\n",
    "accuracy_train_logit_lasso = logit_lasso.score(\n",
    "    X_train[predictor_list].values, y_train\n",
    ")\n",
    "accuracy_test_logit_lasso = logit_lasso.score(\n",
    "    X_test[predictor_list].values, y_test\n",
    ")\n",
    "\n",
    "print(\n",
    "    \"The intercept and coefficients for the 'logit_lasso' model are:\"\n",
    "    \"\\n\\n\\t{:<20}{:.4f}\".format(\n",
    "        \"intercept\", logit_lasso_intercept[0]\n",
    "    )\n",
    ")\n",
    "\n",
    "for predictor, coef in zip(predictor_list, logit_lasso_coefs):\n",
    "    print(\"\\t{:<20}{:.4f}\".format(predictor, coef))\n",
    "\n",
    "print(\n",
    "    \"\\nThe classification accuracies for 'logit_lasso' are:\"\n",
    "    \"\\n\\n\\tTrain\\t{:.4f}\\n\\tTEST\\t{:.4f}\"\n",
    "    .format(accuracy_train_logit_lasso, accuracy_test_logit_lasso)\n",
    ")\n",
    "\n",
    "# store test score to dict for later use\n",
    "q4_test_scores[\"logit_lasso\"] = accuracy_test_logit_lasso"
   ]
  },
  {
   "cell_type": "markdown",
   "metadata": {
    "cell_id": "0a790850-87c6-4f46-b89e-048a2295c92b",
    "colab_type": "text",
    "id": "IGFtXJmQap2q"
   },
   "source": [
    "<div class='exercise-r'>\n",
    "\n",
    "**4.5** Which predictors were deemed important in `logit_lasso`?  Which were deemed unimportant? Please remember that, as a general practice, zero-value Lasso coefficients (i.e. $\\beta_i=0$) are considered \"unimportant\".\n",
    " \n",
    "</div>"
   ]
  },
  {
   "cell_type": "code",
   "execution_count": 25,
   "metadata": {},
   "outputs": [
    {
     "name": "stdout",
     "output_type": "stream",
     "text": [
      "The following predictors were deemed important by 'logit_lasso' (i.e. coef != 0):\n",
      "\n",
      "\t['test', 'ap', 'avg_ap', 'sat_subjects', 'gpa', 'female', 'minority', 'international', 'sports', 'harvard', 'early_app', 'alumni']\n",
      "\n",
      "\n",
      "While, the remaining were deemed unimportant (i.e. coef == 0):\n",
      "\n",
      "\t[]\n"
     ]
    }
   ],
   "source": [
    "# your code here\n",
    "bool_important_coefs = (logit_lasso_coefs != 0)\n",
    "predictors_important = list(\n",
    "    np.array(predictor_list)[bool_important_coefs]\n",
    ")\n",
    "\n",
    "print(\n",
    "    \"The following predictors were deemed important by \"\n",
    "    \"'logit_lasso' (i.e. coef != 0):\\n\\n\\t{}\\n\\n\\n\"\n",
    "    \"While, the remaining were deemed unimportant (i.e. \"\n",
    "    \"coef == 0):\\n\\n\\t{}\"\n",
    "    .format(\n",
    "        predictors_important,\n",
    "        np.array(predictor_list)[~bool_important_coefs],\n",
    "    )\n",
    ")"
   ]
  },
  {
   "cell_type": "markdown",
   "metadata": {
    "cell_id": "0a790850-87c6-4f46-b89e-048a2295c92b",
    "colab_type": "text",
    "id": "IGFtXJmQap2q"
   },
   "source": [
    "<div class='exercise-r'>\n",
    "\n",
    "**4.6** Fit a well-tuned Lasso-like logistic regression model with all important predictors from `logit_lasso` and all the unique 2-way interactions between them (call it `logit_lasso_interact`).  Again use `Cs = [1e-4, 1e-3, 1e-2, 1e-1, 1e0, 1e1, 1e2, 1e3, 1e4]` and 10-fold cross-validation with classification accuracy as the scoring metric. Report the classification accuracy on train and test for this model.\n",
    "\n",
    "</div>"
   ]
  },
  {
   "cell_type": "code",
   "execution_count": 26,
   "metadata": {},
   "outputs": [],
   "source": [
    "# your code here\n",
    "\n",
    "# To create our interaction terms, we need n choose 2\n",
    "# combinations of predictors, where n represents\n",
    "# the important predictors from 4.5\n",
    "\n",
    "# There are several efficient ways to create\n",
    "# these n choose 2 combinations of predictors in order\n",
    "# to generate our interactions terms (being certain\n",
    "# to NOT create duplicates, such as ap * test AND test * ap).\n",
    "\n",
    "# To illustrate, below are 3 EXAMPLE METHODS for completing\n",
    "# this task.\n",
    "\n",
    "# The results from all 3 of these methods will be identical.\n",
    "\n",
    "## EXAMPLE METHOD 1:\n",
    "## we could do this using purely PolynomialFeatures by\n",
    "## setting `interaction_only=True`, then creatively using\n",
    "## `.get_feature_names()` to correctly name each interaction\n",
    "## feature column in X_train and X_test.\n",
    "\n",
    "Poly = PolynomialFeatures(\n",
    "    interaction_only=True, include_bias=False\n",
    ").fit(X_train[predictors_important])\n",
    "\n",
    "all_colnames = Poly.get_feature_names(predictors_important)\n",
    "\n",
    "X_train[all_colnames] = Poly.transform(X_train[predictors_important])\n",
    "X_test[all_colnames] = Poly.transform(X_test[predictors_important])\n",
    "\n",
    "# create interaction_colnames list to be consistent with other 2 examples\n",
    "interaction_colnames = [\n",
    "    col for col in all_colnames\n",
    "    if col not in predictors_important\n",
    "]\n",
    "\n",
    "## EXAMPLE METHOD 2:\n",
    "## As a different approach, we could use `itertools` which\n",
    "## is included as part of the Python standard library and use\n",
    "## `itertools.combinations` function to generate our\n",
    "## interaction term combinations. See the docs here:\n",
    "## https://docs.python.org/3/library/itertools.html#itertools.combinations\n",
    "\n",
    "combinations = list(\n",
    "    itertools.combinations(predictors_important, 2)\n",
    ")\n",
    "\n",
    "interaction_colnames = []\n",
    "\n",
    "for a, b in combinations:\n",
    "    colname = '{} {}'.format(a, b)\n",
    "    X_train[colname] = X_train[a] * X_train[b]\n",
    "    X_test[colname] = X_test[a] * X_test[b]\n",
    "    interaction_colnames.append(colname)\n",
    "\n",
    "## EXAMPLE METHOD 3:\n",
    "## we could use pure Numpy to generate our n choose 2 combinations\n",
    "## using an interesting function called `np.triu_indices` which\n",
    "## returns the indices for the upper-triangle of an (n, m) array.\n",
    "## See the docs here:\n",
    "## https://numpy.org/doc/stable/reference/generated/numpy.triu_indices.html\n",
    "\n",
    "# convert list to array\n",
    "pred_import_array = np.array(predictors_important)\n",
    "\n",
    "# use triu_indices to generate pairwise indices arrays\n",
    "j, k = np.triu_indices(len(predictors_important), 1)\n",
    "\n",
    "# generate 2d array of n choose 2 combinations using indices\n",
    "combinations = np.stack(\n",
    "    [pred_import_array[j], pred_import_array[k]]\n",
    ").T\n",
    "\n",
    "# generate interaction term predictors\n",
    "interaction_colnames = []\n",
    "\n",
    "for a, b in combinations:\n",
    "    colname = \"{} {}\".format(a, b)\n",
    "    X_train[colname] = X_train[a] * X_train[b]\n",
    "    X_test[colname] = X_test[a] * X_test[b]\n",
    "    interaction_colnames.append(colname)"
   ]
  },
  {
   "cell_type": "code",
   "execution_count": 27,
   "metadata": {},
   "outputs": [
    {
     "name": "stdout",
     "output_type": "stream",
     "text": [
      "The intercept and coefficients for the 'logit_lasso_interact' model are:\n",
      "\n",
      "\tintercept                     -1.6283\n",
      "\ttest                          0.5699\n",
      "\tap                            0.0704\n",
      "\tavg_ap                        -0.1044\n",
      "\tsat_subjects                  -0.0094\n",
      "\tgpa                           0.1360\n",
      "\tfemale                        -0.1208\n",
      "\tminority                      1.3332\n",
      "\tinternational                 0.0000\n",
      "\tsports                        1.4552\n",
      "\tharvard                       0.0780\n",
      "\tearly_app                     0.3843\n",
      "\talumni                        0.0266\n",
      "\ttest ap                       -0.0490\n",
      "\ttest avg_ap                   0.0049\n",
      "\ttest sat_subjects             -0.0636\n",
      "\ttest gpa                      0.1295\n",
      "\ttest female                   0.0805\n",
      "\ttest minority                 0.0969\n",
      "\ttest international            0.1746\n",
      "\ttest sports                   0.0000\n",
      "\ttest harvard                  0.2355\n",
      "\ttest early_app                -0.3674\n",
      "\ttest alumni                   1.0987\n",
      "\tap avg_ap                     0.0000\n",
      "\tap sat_subjects               -0.0606\n",
      "\tap gpa                        0.0655\n",
      "\tap female                     0.0463\n",
      "\tap minority                   0.0000\n",
      "\tap international              -0.5434\n",
      "\tap sports                     -0.1853\n",
      "\tap harvard                    -0.3243\n",
      "\tap early_app                  -0.1901\n",
      "\tap alumni                     0.0534\n",
      "\tavg_ap sat_subjects           0.1370\n",
      "\tavg_ap gpa                    -0.1851\n",
      "\tavg_ap female                 0.0548\n",
      "\tavg_ap minority               0.2441\n",
      "\tavg_ap international          0.1652\n",
      "\tavg_ap sports                 -0.1007\n",
      "\tavg_ap harvard                0.2989\n",
      "\tavg_ap early_app              0.2095\n",
      "\tavg_ap alumni                 0.1594\n",
      "\tsat_subjects gpa              0.0000\n",
      "\tsat_subjects female           0.0056\n",
      "\tsat_subjects minority         0.0000\n",
      "\tsat_subjects international    1.1279\n",
      "\tsat_subjects sports           0.0000\n",
      "\tsat_subjects harvard          -0.2418\n",
      "\tsat_subjects early_app        0.0107\n",
      "\tsat_subjects alumni           0.0247\n",
      "\tgpa female                    -0.0042\n",
      "\tgpa minority                  0.2198\n",
      "\tgpa international             0.0000\n",
      "\tgpa sports                    -0.4001\n",
      "\tgpa harvard                   0.0000\n",
      "\tgpa early_app                 -0.0201\n",
      "\tgpa alumni                    0.0000\n",
      "\tfemale minority               -0.2781\n",
      "\tfemale international          0.1635\n",
      "\tfemale sports                 -0.7097\n",
      "\tfemale harvard                0.3413\n",
      "\tfemale early_app              0.2474\n",
      "\tfemale alumni                 0.0000\n",
      "\tminority international        -0.1395\n",
      "\tminority sports               -0.4236\n",
      "\tminority harvard              -0.4209\n",
      "\tminority early_app            0.0000\n",
      "\tminority alumni               0.3285\n",
      "\tinternational sports          0.0000\n",
      "\tinternational harvard         0.0000\n",
      "\tinternational early_app       -0.0949\n",
      "\tinternational alumni          0.0000\n",
      "\tsports harvard                0.0000\n",
      "\tsports early_app              0.4382\n",
      "\tsports alumni                 0.0000\n",
      "\tharvard early_app             -0.2007\n",
      "\tharvard alumni                0.5301\n",
      "\tearly_app alumni              0.0000\n",
      "\n",
      "The classification accuracies for 'logit_lasso_interact' are:\n",
      "\n",
      "\tTrain\t0.7647\n",
      "\tTEST\t0.7040\n",
      "\n"
     ]
    }
   ],
   "source": [
    "# your code here\n",
    "\n",
    "logit_lasso_interact_predictors = predictors_important + interaction_colnames\n",
    "Cs = [1e-4, 1e-3, 1e-2, 1e-1, 1e0, 1e1, 1e2, 1e3, 1e4]\n",
    "max_iter = 1000\n",
    "penalty = \"l1\"\n",
    "solver = \"liblinear\"\n",
    "\n",
    "logit_lasso_interact = LogisticRegressionCV(\n",
    "    Cs=Cs, cv=10, penalty=penalty, max_iter=max_iter, solver=solver\n",
    ").fit(\n",
    "    X_train[logit_lasso_interact_predictors].values, y_train.values\n",
    ")\n",
    "\n",
    "logit_lasso_interact_coefs = logit_lasso_interact.coef_[0]\n",
    "logit_lasso_interact_intercept = logit_lasso_interact.intercept_\n",
    "\n",
    "accuracy_train_logit_lasso_interact = logit_lasso_interact.score(\n",
    "    X_train[logit_lasso_interact_predictors].values, y_train\n",
    ")\n",
    "accuracy_test_logit_lasso_interact = logit_lasso_interact.score(\n",
    "    X_test[logit_lasso_interact_predictors].values, y_test\n",
    ")\n",
    "\n",
    "print(\n",
    "    \"The intercept and coefficients for the 'logit_lasso_interact' model are:\"\n",
    "    \"\\n\\n\\t{:<30}{:.4f}\".format(\n",
    "        \"intercept\", logit_lasso_interact_intercept[0]\n",
    "    )\n",
    ")\n",
    "\n",
    "for predictor, coef in zip(logit_lasso_interact_predictors, logit_lasso_interact_coefs):\n",
    "    print(\"\\t{:<30}{:.4f}\".format(predictor, coef))\n",
    "\n",
    "print(\n",
    "    \"\\nThe classification accuracies for 'logit_lasso_interact' are:\"\n",
    "    \"\\n\\n\\tTrain\\t{:.4f}\\n\\tTEST\\t{:.4f}\"\n",
    "    .format(accuracy_train_logit_lasso_interact, accuracy_test_logit_lasso_interact)\n",
    ")\n",
    "\n",
    "print()\n",
    "\n",
    "# store test score to dict for later use\n",
    "q4_test_scores[\"logit_lasso_interact\"] = accuracy_test_logit_lasso_interact"
   ]
  },
  {
   "cell_type": "markdown",
   "metadata": {
    "cell_id": "0a790850-87c6-4f46-b89e-048a2295c92b",
    "colab_type": "text",
    "id": "IGFtXJmQap2q"
   },
   "source": [
    "<div class='exercise-r'>\n",
    "\n",
    "**4.7** How many of the predictors in our `logit_lasso_interact` model were deemed important and unimportant? (Feel free to just report on the number of them found to be important and unimportant. There is no need to list them all here.)\n",
    "    \n",
    "</div>"
   ]
  },
  {
   "cell_type": "code",
   "execution_count": 28,
   "metadata": {},
   "outputs": [
    {
     "name": "stdout",
     "output_type": "stream",
     "text": [
      "Of the 78 predictors used in our 'logit_lasso_interact' model:\n",
      "\n",
      "\t60 predictors were deemed 'important' by our model\n",
      "\t18 predictors were deemed 'unimportant' with 0-valued coefficients\n"
     ]
    }
   ],
   "source": [
    "# your code here\n",
    "number_coefs = len(logit_lasso_interact_coefs)\n",
    "number_important_coefs = sum(logit_lasso_interact_coefs != 0)\n",
    "number_unimportant_coefs = number_coefs - number_important_coefs \n",
    "\n",
    "print(\n",
    "    \"Of the {} predictors used in our 'logit_lasso_interact' model:\"\n",
    "    \"\\n\\n\\t{} predictors were deemed 'important' by our model\"\n",
    "    \"\\n\\t{} predictors were deemed 'unimportant' with 0-valued \"\n",
    "    \"coefficients\".format(\n",
    "        number_coefs, number_important_coefs, number_unimportant_coefs\n",
    "    )\n",
    ")"
   ]
  },
  {
   "cell_type": "markdown",
   "metadata": {},
   "source": [
    "---"
   ]
  },
  {
   "cell_type": "markdown",
   "metadata": {},
   "source": [
    "<a id=\"part5\"></a>\n",
    "\n",
    "## <div class='exercise'>Question 5: Evaluating results [12 pts]</div>\n",
    "\n",
    "[Return to contents](#contents)\n",
    "\n",
    "**5.1** Which of the 4 models in Question 4 performs the best based on classification accuracy?  Which performs the worst? Based on these accuracies, how do these models perform compared to your baseline \"naive\" model back in Question 1.1? What does this comparison to the \"naive\" model tell us?\n",
    "\n",
    "**5.2** Draw the four ROC curves on the same set of axes using the test data.  How do these ROC curves compare?  Do the ROC curves support that the best model identified in Question 5.1 is better than the worst model identified in 5.1?  How do you know?\n",
    "\n",
    "**5.3** Calculate and report AUC for all 4 models.  Do the rankings of these 4 models based on AUC match those for classification accuracy?  Why do you think this is the case?\n",
    "\n",
    "**5.4** If you were to use one of these 4 models to present as a prediction model for the website [collegedata.com](https://www.collegedata.com/), which would you use and why?  What may be the biggest issue if this was a publicly available tool for college applicants to use to determine their chances of getting into Harvard and/or Yale?\n"
   ]
  },
  {
   "cell_type": "markdown",
   "metadata": {},
   "source": [
    "<a id=\"part5solutions\"></a>\n",
    "\n",
    "## Question 5: Solutions\n",
    "\n",
    "[Return to contents](#contents)"
   ]
  },
  {
   "cell_type": "markdown",
   "metadata": {
    "cell_id": "0a790850-87c6-4f46-b89e-048a2295c92b",
    "colab_type": "text",
    "id": "IGFtXJmQap2q"
   },
   "source": [
    "<div class='exercise-r'>\n",
    "\n",
    "**5.1** Which of the 4 models in Question 4 performs the best based on classification accuracy?  Which performs the worst? Based on these accuracies, how do these models perform compared to your baseline \"naive\" model back in Question 1.1? What does this comparison to the \"naive\" model tell us?\n",
    "    \n",
    "</div>"
   ]
  },
  {
   "cell_type": "code",
   "execution_count": 29,
   "metadata": {},
   "outputs": [
    {
     "name": "stdout",
     "output_type": "stream",
     "text": [
      "The TEST accuracies for the 4 models in Q4 are:\n",
      "\n",
      "\tknn_model                0.7013\n",
      "\tlogit_full               0.7147\n",
      "\tlogit_lasso              0.7147\n",
      "\tlogit_lasso_interact     0.7040\n",
      "\n",
      "The TEST accuracy for our original baseline \"naive\" model was 0.7013\n"
     ]
    }
   ],
   "source": [
    "# your code here\n",
    "print(\"The TEST accuracies for the 4 models in Q4 are:\\n\")\n",
    "for key, value in q4_test_scores.items():\n",
    "    print(\"\\t{:<25}{:.4f}\".format(key, value))\n",
    "print(\n",
    "    \"\\nThe TEST accuracy for our original baseline \\\"naive\\\" \"\n",
    "    \"model was {:.4f}\".format(accuracy_naive_model_test)\n",
    ")"
   ]
  },
  {
   "cell_type": "markdown",
   "metadata": {},
   "source": [
    "**INTERPRETATION:**"
   ]
  },
  {
   "cell_type": "markdown",
   "metadata": {},
   "source": [
    "*your answer here*\n",
    "\n",
    "Students should be evaluating the best/worst models based on these test accuracies, which should in turn be compared to the naive model. The \"naive\" model accuracy compared here must be reflective of the TEST accuracy of that naive model (not the training accuracy). We should NOT see very large improvements over the naive model, even with our best models `logit_full` and `logit_lasso`. This tells us that, regardless of all the work we have done, we have gained very limited predictive improvement over simply predicting ALL applicants as being \"not admitted\". In fact, with the `knn_model`, we have gained no improvement in accuracy over our naive model."
   ]
  },
  {
   "cell_type": "markdown",
   "metadata": {
    "cell_id": "0a790850-87c6-4f46-b89e-048a2295c92b",
    "colab_type": "text",
    "id": "IGFtXJmQap2q"
   },
   "source": [
    "<div class='exercise-r'>\n",
    "\n",
    "**5.2** Draw the four ROC curves on the same set of axes using the test data.  How do these ROC curves compare?  Do the ROC curves support that the best model identified in Question 5.1 is better than the worst model identified in 5.1?  How do you know?\n",
    "    \n",
    "</div>"
   ]
  },
  {
   "cell_type": "code",
   "execution_count": 30,
   "metadata": {},
   "outputs": [],
   "source": [
    "# your code here\n",
    "# save list of model names for dictionary keys and plotting\n",
    "model_names = list(q4_test_scores.keys())\n",
    "predictor_sets = [predictor_list]*3 + [logit_lasso_interact_predictors]\n",
    "\n",
    "# save predicted probabilities for each corresponding model for\n",
    "# converting to fpr, tpr, and thresholds in roc_curve function\n",
    "models_roc_predictions = [\n",
    "    globals()[model_name].predict_proba(X_test[predictors])\n",
    "    for model_name, predictors in zip(model_names, predictor_sets)\n",
    "]"
   ]
  },
  {
   "cell_type": "code",
   "execution_count": 31,
   "metadata": {},
   "outputs": [],
   "source": [
    "# your code here\n",
    "# save list of model names for dictionary keys and plotting\n",
    "model_names = list(q4_test_scores.keys())\n",
    "predictor_sets = [predictor_list]*3 + [logit_lasso_interact_predictors]\n",
    "\n",
    "# save predicted probabilities for each corresponding model for\n",
    "# converting to fpr, tpr, and thresholds in roc_curve function\n",
    "models_roc_predictions = [\n",
    "    globals()[model_name].predict_proba(X_test[predictors])\n",
    "    for model_name, predictors in zip(model_names, predictor_sets)\n",
    "]\n",
    "\n",
    "# calculate fpr, tpr, and thresholds for each model and store in dict\n",
    "roc_curves_dict = {\n",
    "    model_name: {\n",
    "        key: value\n",
    "        for key, value in zip(\n",
    "            [\"fpr\", \"tpr\", \"thresholds\"],\n",
    "            roc_curve(y_test, predicted_probabilities[:,1])\n",
    "        )\n",
    "    }\n",
    "    for model_name, predicted_probabilities in zip(\n",
    "    model_names, models_roc_predictions)\n",
    "}"
   ]
  },
  {
   "cell_type": "code",
   "execution_count": 32,
   "metadata": {},
   "outputs": [
    {
     "data": {
      "image/png": "[encoded data removed]",
      "text/plain": [
       "<Figure size 864x432 with 1 Axes>"
      ]
     },
     "metadata": {
      "needs_background": "light"
     },
     "output_type": "display_data"
    }
   ],
   "source": [
    "# your code here\n",
    "rate_values=np.arange(0,100)/100\n",
    "\n",
    "# generate comparative ROC plots for each model\n",
    "fig, ax = plt.subplots(figsize=(12, 6))\n",
    "\n",
    "plt.title(\n",
    "    \"Comparative ROC plots on the TEST set for all Q4 models\",\n",
    "    fontsize=20,\n",
    ")\n",
    "\n",
    "for fpr, tpr, model_name in zip(\n",
    "    [roc_curves_dict[model_name][\"fpr\"] for model_name in model_names],\n",
    "    [roc_curves_dict[model_name][\"tpr\"] for model_name in model_names],\n",
    "    model_names,\n",
    "):\n",
    "    ax.plot(fpr, tpr, linewidth=1.5, label=model_name)\n",
    "    ax.set_ylabel(\"true positive rate\", fontsize=14)\n",
    "    ax.set_xlabel(\"false positive rate\", fontsize=14)\n",
    "\n",
    "plt.plot(rate_values, rate_values, \"--\", color=\"lightgray\", linewidth=2, alpha=1)\n",
    "\n",
    "plt.legend(fontsize=12)\n",
    "plt.grid(\":\", alpha=0.4)\n",
    "plt.tight_layout()\n",
    "plt.show()"
   ]
  },
  {
   "cell_type": "markdown",
   "metadata": {},
   "source": [
    "**INTERPRETATION:**"
   ]
  },
  {
   "cell_type": "markdown",
   "metadata": {},
   "source": [
    "*your answer here*\n",
    "\n",
    "Students should compare the ROC curves based on the perceived area under the curve and/or the distance from the equilibrium line. The ROC curves appear very similar, so it is difficult to make a definitive choice based on these alone. However, in general, these curves do appear to be reflective of the best and worst models identified in Question 5.1. Both `logit_full` and `logit_lasso` appear to be closely matched with the greatest area under the ROC curve and the `knn_model` ROC curve appears to exhibit the least area beneath it.\n",
    "\n",
    "It is also important to demonstrate an understanding of how the ROC curve relates to or illustrates model performance. For instance, it is notable that none of these ROC curves are particularly demonstrative of the visual upper-left elbow we'd like to see in an ROC curve. If it existed, such an elbow would be indicative of an opportunity to maximize our true positive rate (TPR) with a limited trade-off in false positive rate (FPR) by modifying our classification threshold to something other than $\\hat{p}>0.5$. "
   ]
  },
  {
   "cell_type": "markdown",
   "metadata": {
    "cell_id": "0a790850-87c6-4f46-b89e-048a2295c92b",
    "colab_type": "text",
    "id": "IGFtXJmQap2q"
   },
   "source": [
    "<div class='exercise-r'>\n",
    "\n",
    "**5.3** Calculate and report AUC for all 4 models.  Do the rankings of these 4 models based on AUC match those for classification accuracy?  Why do you think this is the case?\n",
    "    \n",
    "</div>"
   ]
  },
  {
   "cell_type": "code",
   "execution_count": 33,
   "metadata": {},
   "outputs": [
    {
     "name": "stdout",
     "output_type": "stream",
     "text": [
      "The TEST accuracies vs. AUC scores for the 4 models in Q4 are:\n",
      "\n",
      "\t\t\t\tAccuracy\tAUC\n",
      "\tknn_model               0.7013\t\t0.6742\n",
      "\tlogit_full              0.7147\t\t0.6965\n",
      "\tlogit_lasso             0.7147\t\t0.6965\n",
      "\tlogit_lasso_interact    0.7040\t\t0.6826\n"
     ]
    }
   ],
   "source": [
    "# your code here\n",
    "# calculate each model's AUC using its ROC fpr and tpr\n",
    "auc_list = [\n",
    "    roc_auc_score(\n",
    "        y_test,\n",
    "        predicted_probabilities[:,1],\n",
    "    )\n",
    "    for predicted_probabilities in models_roc_predictions\n",
    "]\n",
    "\n",
    "\n",
    "print(\n",
    "    \"The TEST accuracies vs. AUC scores for the 4 models in Q4 are:\"\n",
    "    \"\\n\\n\\t\\t\\t\\tAccuracy\\tAUC\"\n",
    ")\n",
    "for (key, value), auc_value in zip(q4_test_scores.items(), auc_list):\n",
    "    print(\"\\t{:<24}{:.4f}\\t\\t{:.4f}\".format(key, value, auc_value))"
   ]
  },
  {
   "cell_type": "markdown",
   "metadata": {},
   "source": [
    "**INTERPRETATION:**"
   ]
  },
  {
   "cell_type": "markdown",
   "metadata": {},
   "source": [
    "*your answer here*\n",
    "\n",
    "AUC scores should relate to how the ROC curves appear. They are also NOT always expected to rank the performance of different classification models in the same relative order as accuracy might rank them (however they do rank them in the same order for us here). Because AUC is based on our ROC curves, it offers a metric that evaluates the performance of our models as we vary our classification threshold, thus helping us to quantify the model's ability to maximize TPR with minimal cost to FPR based on ALL possible thresholds. Therefore, AUC measures performance in a very different manner than accuracy, which is just measuring the accuracy of our model at a single $\\hat{p}>0.5$ threshold."
   ]
  },
  {
   "cell_type": "markdown",
   "metadata": {
    "cell_id": "0a790850-87c6-4f46-b89e-048a2295c92b",
    "colab_type": "text",
    "id": "IGFtXJmQap2q"
   },
   "source": [
    "<div class='exercise-r'>\n",
    "\n",
    "**5.4** If you were to use one of these 4 models to present as a prediction model for the website [collegedata.com](https://www.collegedata.com/), which would you use and why?  What may be the biggest issue if this was a publicly available tool for college applicants to use to determine their chances of getting into Harvard and/or Yale?\n",
    "    \n",
    "</div>"
   ]
  },
  {
   "cell_type": "markdown",
   "metadata": {},
   "source": [
    "*your answer here*\n",
    "\n",
    "The model with the highest AUC score likely generalizes best. However, since none of the test accuracies showed a dramatic improvement over the naive model, these models likely would not provide much of a service to prospective students, particularly if the output is an \"admitted\"/\"not admitted\" output. Far more informative would be a model that outputs the probability of admission (rather than a predicted class). Such an output would be far less misleading to prospective applicants, particularly with an imbalanced data set such as this one.\n",
    "\n",
    "However, based on other results we have seen throughout this problem-set (such as the improbable decision boundaries) there are likely other issues with using these modeling approaches to predict admission based on the available dataset. Students can once again point out the nature of the data that we trained on, particularly the self-reported and biased nature of it, indicating that any modeling approach will itself be biased due to the biased input data. Therefore, our collegedata.com predictive modeling tool will not be reflective of an applicant's/website user's actual probability of admission to either of these schools. In addition, this dataset and associated models completely omit other important factors taken into consideration during admissions for both of these schools, such as the quality of student essays and interviews, and other qualitative factors not captured here."
   ]
  },
  {
   "cell_type": "markdown",
   "metadata": {},
   "source": [
    "#### THE END\n",
    "\n",
    "[Return to contents](#contents)"
   ]
  }
 ],
 "metadata": {
  "interpreter": {
   "hash": "aee8b7b246df8f9039afb4144a1f6fd8d2ca17a180786b69acc140d282b71a49"
  },
  "kernelspec": {
   "display_name": "Python 3 (ipykernel)",
   "language": "python",
   "name": "python3"
  },
  "language_info": {
   "codemirror_mode": {
    "name": "ipython",
    "version": 3
   },
   "file_extension": ".py",
   "mimetype": "text/x-python",
   "name": "python",
   "nbconvert_exporter": "python",
   "pygments_lexer": "ipython3",
   "version": "3.9.7"
  }
 },
 "nbformat": 4,
 "nbformat_minor": 4
}
