{
 "cells": [
  {
   "cell_type": "markdown",
   "metadata": {},
   "source": [
    "# <img style=\"float: left; padding-right: 10px; width: 45px\" src=\"https://raw.githubusercontent.com/Harvard-IACS/2018-CS109A/master/content/styles/iacs.png\"> CS109A Introduction to Data Science: \n",
    "## Homework 5: Predicting College Admissions\n",
    "\n",
    "**Harvard University**<br/>\n",
    "**Fall 2021**<br/>\n",
    "**Instructors**: Pavlos Protopapas, Natesh Pillai\n",
    "\n",
    "<hr style=\"height:2.4pt\">"
   ]
  },
  {
   "cell_type": "code",
   "execution_count": 1,
   "metadata": {},
   "outputs": [
    {
     "data": {
      "text/html": [
       "<style>\n",
       "blockquote { background: #AEDE94; }\n",
       "h1 {\n",
       "    padding-top: 25px;\n",
       "    padding-bottom: 25px;\n",
       "    text-align: left;\n",
       "    padding-left: 10px;\n",
       "    background-color: #63ACBE;\n",
       "    color: black;\n",
       "}\n",
       "h2 {\n",
       "    padding-top: 10px;\n",
       "    padding-bottom: 10px;\n",
       "    text-align: left;\n",
       "    padding-left: 5px;\n",
       "    background-color: #EEEEEE;\n",
       "    color: black;\n",
       "}\n",
       "\n",
       "div.exercise {\n",
       "\tbackground-color: #f8b4ab;\n",
       "\tborder-color: #E9967A;\n",
       "\tborder-left: 5px solid #601A4A;\n",
       "\tpadding: 0.5em;\n",
       "}\n",
       "\n",
       "div.exercise-r {\n",
       "\tbackground-color: #ffd0d0;\n",
       "\tborder-color: #E9967A;\n",
       "\tborder-left: 5px solid #601A4A;\n",
       "\tpadding: 0.5em;\n",
       "}\n",
       "\n",
       "\n",
       "span.sub-q {\n",
       "\tfont-weight: bold;\n",
       "}\n",
       "div.theme {\n",
       "\tbackground-color: #63ACBE;\n",
       "\tborder-color: #E9967A;\n",
       "\tborder-left: 5px solid #601A4A;\n",
       "\tpadding: 0.5em;\n",
       "\tfont-size: 18pt;\n",
       "}\n",
       "div.gc {\n",
       "\tbackground-color: #AEDE94;\n",
       "\tborder-color: #E9967A;\n",
       "\tborder-left: 5px solid #601A4A;\n",
       "\tpadding: 0.5em;\n",
       "\tfont-size: 12pt;\n",
       "}\n",
       "p.q1 {\n",
       "    padding-top: 5px;\n",
       "    padding-bottom: 5px;\n",
       "    text-align: left;\n",
       "    padding-left: 5px;\n",
       "    background-color: #EEEEEE;\n",
       "    color: black;\n",
       "}\n",
       "header {\n",
       "   padding-top: 35px;\n",
       "    padding-bottom: 35px;\n",
       "    text-align: left;\n",
       "    padding-left: 10px;\n",
       "    background-color: #DDDDDD;\n",
       "    color: black;\n",
       "}\n",
       "span.emph {\n",
       "\tcolor: #601A4A;\n",
       "\tfont-weight: bold;\n",
       "}\n",
       "\n",
       "</style>\n"
      ],
      "text/plain": [
       "<IPython.core.display.HTML object>"
      ]
     },
     "execution_count": 1,
     "metadata": {},
     "output_type": "execute_result"
    }
   ],
   "source": [
    "# RUN THIS CELL \n",
    "import requests\n",
    "from IPython.core.display import HTML\n",
    "styles = requests.get(\n",
    "    \"https://raw.githubusercontent.com/Harvard-IACS/2021-CS109A/master/\"\n",
    "    \"themes/static/css/cs109.css\"\n",
    ").text\n",
    "HTML(styles)"
   ]
  },
  {
   "cell_type": "markdown",
   "metadata": {},
   "source": [
    "### Import Libraries"
   ]
  },
  {
   "cell_type": "code",
   "execution_count": 2,
   "metadata": {},
   "outputs": [],
   "source": [
    "# RUN THIS CELL\n",
    "import itertools\n",
    "import math\n",
    "\n",
    "import numpy as np\n",
    "import pandas as pd\n",
    "import seaborn as sns\n",
    "import matplotlib.pyplot as plt\n",
    "\n",
    "from sklearn.model_selection import train_test_split\n",
    "from sklearn.preprocessing import PolynomialFeatures\n",
    "from sklearn.preprocessing import StandardScaler\n",
    "from sklearn.model_selection import cross_validate\n",
    "\n",
    "from sklearn.linear_model import LogisticRegression\n",
    "from sklearn.neighbors import KNeighborsClassifier\n",
    "from sklearn.linear_model import LogisticRegressionCV\n",
    "\n",
    "from sklearn.metrics import accuracy_score\n",
    "from sklearn.metrics import roc_curve\n",
    "from sklearn.metrics import roc_auc_score\n",
    "\n",
    "# pandas tricks for better display\n",
    "pd.options.display.max_columns = 50  \n",
    "pd.options.display.max_rows = 500     \n",
    "pd.options.display.max_colwidth = 100\n",
    "pd.options.display.precision = 3\n",
    "\n",
    "%matplotlib inline"
   ]
  },
  {
   "cell_type": "markdown",
   "metadata": {},
   "source": [
    "<a id=\"instructions\"></a>\n",
    "\n",
    "<hr style=\"height:2pt\">\n",
    "\n",
    "### INSTRUCTIONS\n",
    "\n",
    "\n",
    "- To submit your assignment follow the instructions given in Canvas.\n",
    "\n",
    "- Please **restart the kernel and run the entire notebook again before you submit.**\n",
    "\n",
    "- Running cells out of order is a common pitfall in Jupyter Notebooks. To make sure your code continues to work, restart the kernel and rerun your notebook periodically while working through this assignment. \n",
    "\n",
    "- We have tried to include all the libraries you may need to do the assignment in the imports cell provided below. **Please use only the libraries provided in those imports.**\n",
    "\n",
    "- Please use `.head(...)` when viewing data. Do not submit a notebook that is **excessively long**. \n",
    "\n",
    "- In questions that require code to answer, such as \"calculate and report $R^2$\", do not just output the value from a cell. Write a `print(...)` function that clearly labels the output, includes a reference to the calculated value, and rounds it to a reasonable number of digits. **Do not hard code values in your printed output**. For example, this is an appropriate print statement:\n",
    "```python\n",
    "print(f'The R^2 is {R:.4f}')\n",
    "```\n",
    "- **Your plots MUST be clearly labeled and easy to read,** including clear labels for the $x$ and $y$ axes, a descriptive title (\"MSE plot\" is NOT a descriptive title; \"95% confidence interval of coefficients for degree-5 polynomial model\" on the other hand is descriptive), a legend when appropriate, and clearly formatted text and graphics.\n",
    "\n",
    "- **Your code may also be evaluated for efficiency and clarity.** As a result, correct output is not always sufficient for full credit.\n",
    "\n",
    "<hr style=\"height:2pt\">"
   ]
  },
  {
   "cell_type": "markdown",
   "metadata": {},
   "source": [
    "<a id=\"contents\"></a>\n",
    "\n",
    "## Notebook contents\n",
    "\n",
    "- [**Overview and data description**](#intro)\n",
    "\n",
    "\n",
    "- [**Question 1: Data exploration using train and basic models [16 pts]**](#part1)\n",
    "  - [Solutions](#part1solutions)\n",
    "\n",
    "\n",
    "- [**Question 2: Interpretable modeling [18 pts]**](#part2)\n",
    "  - [Solutions](#part2solutions)\n",
    "\n",
    "\n",
    "- [**Question 3: Harvard and Yale? [30 pts]**](#part3)\n",
    "  - [Solutions](#part3solutions)\n",
    "\n",
    "\n",
    "- [**Question 4: Building predictive models for admitted [24 pts]**](#part4)\n",
    "  - [Solutions](#part4solutions)\n",
    "\n",
    "\n",
    "- [**Question 5: Evaluating results [12 pts]**](#part5)\n",
    "  - [Solutions](#part5solutions)"
   ]
  },
  {
   "cell_type": "markdown",
   "metadata": {},
   "source": [
    "<a id=\"intro\"></a>\n",
    "\n",
    "## Overview and data description\n",
    "\n",
    "[Return to contents](#contents)\n",
    "\n",
    "### Predicting admissions into elite universities\n",
    "\n",
    "In this problem set we will model the chances of high school students being accepted into two different elite undergraduate colleges (one is elite at least :) ): Harvard and Yale.  The data are provided in the file `data/college_admissions.csv` and were scraped from [collegedata.com](https://www.collegedata.com/) (where applicants volunteer to share their information).  Each observation corresponds to an applicant to one of the two different colleges (note: the same applicant may show up in two rows: once for each college).  The main response is the `\"admitted\"` variable (1 = admitted, 0 = denied), and there are are several predictors to consider:\n",
    "\n",
    "- **id**: a unique identifier for the applicant \n",
    "- **test**: a standardized measurement of the applicant's highest ACT or SAT combined score (2400 is the maximum)\n",
    "- **ap**: the number of AP tests taken\n",
    "- **avg_ap**: the average score on the AP tests taken (0 if no tests were taken)\n",
    "- **sat_subjects**: the number of SAT subject tests taken\n",
    "- **gpa**: the unweighted GPA of the applicant (max of 4.0)\n",
    "- **female**:  a binary indicator for gender: 1 = female, 0 = otherwise\n",
    "- **minority**: a binary indicator for under-represented minority: 1 = minority, 0 = otherwise \n",
    "- **international**: a binary indicator for international status: 1 = international, 0 = United States\n",
    "- **sports**: a binary indicator for High School All-American: 1 = all-American athlete, 0 = otherwise\n",
    "- **school**: a categorical variable for school applied to: \"Harvard\" or \"Yale\"\n",
    "- **early_app**: a binary indicator for application type: 1 = early action, 0 = regular\n",
    "- **alumni**:  a binary indicator for parents' alumni status of school: 1 = a parent is an alumnus, 0 = otherwise\n",
    "- **program**: the program applied to by the student with many choices (we will not use this as a predictor)\n",
    "- **add_info**: additional (optional) info provided by applicant (we will not use this as a predictor)\n",
    "\n",
    "**The main set of 12 predictors is:**\n",
    "\n",
    "```python\n",
    "[\n",
    "    \"test\", \"ap\", \"avg_ap\", \"sat_subjects\", \n",
    "    \"gpa\", \"female\", \"minority\", \"international\",\n",
    "    \"sports\", \"school\", \"early_app\", \"alumni\",\n",
    "]\n",
    "```\n",
    "\n",
    "Please note, you may need to modify this list when fitting different models, and you will be replacing the `\"school\"` variable with a binary `\"harvard\"` variable early in the questions below.\n",
    "\n",
    "Please use this dataset to answer the following questions below.\n",
    "\n",
    "**IMPORTANT NOTES:**\n",
    "\n",
    "- Unless stated otherwise, all logistic regression models should be unregularized (use `penalty=\"none\"`) and include the intercept (which is the default in `sklearn`).\n",
    "\n",
    "\n",
    "- When printing your output (e.g. coefficients, accuracy scores, etc.), DO NOT just print numbers without context. Please be certain provide clarifying labels for all printed numbers and limit the number of digits showing after decimals to a reasonable length (e.g. 4 decimal points for coefficients and accuracy scores).\n",
    "\n",
    "\n",
    "- Also be sure to practice good data science principles: always use train to do analysis and never touch the test set until the very end."
   ]
  },
  {
   "cell_type": "markdown",
   "metadata": {},
   "source": [
    "---"
   ]
  },
  {
   "cell_type": "markdown",
   "metadata": {},
   "source": [
    "<a id=\"part1\"></a>\n",
    "\n",
    "## <div class='exercise'>Question 1: Data exploration using train and basic models [16 pts]</div>\n",
    "\n",
    "[Return to contents](#contents)\n",
    "\n",
    "The first step is to split the observations into an approximate 80-20 train-test split.  Below is some code to do this for you (we want to make sure everyone has the same splits). It also prints the dataset's shape before splitting and after splitting. \n",
    "\n",
    "**IMPORTANT:** While an argument could be made to scale our predictors here, please **DO NOT** do so **UNTIL** it is requested of you in **[Question 4.1](#part4)**.\n",
    "\n",
    "**1.1** What proportion of observations were admitted overall?  What would be the train and test classification accuracies for a baseline \"naive\" model where we classified ALL applicants as either admitted or not admitted using just this overall proportion to make our decision (i.e. we apply the same outcome to all applicants based on this proportion)?\n",
    "\n",
    "**1.2** Create a binary (\"dummy\") variable named `\"harvard\"` that takes on the value 1 if `school == \"Harvard\"` and 0 otherwise. Now, explore the marginal association of each of our 12 predictors with whether or not an applicant is admitted into the college to which they applied (`admitted`). Create a separate **visual** for each of our predictors to investigate their relationship with college admissions. **Suggestion:** Place these 12 visuals in a *matrix* of subplots with 3 columns and 4 rows.\n",
    "\n",
    "**NOTE:** We will be using our dummified `harvard` predictor instead of `school` throughout the remainder of this problem set.\n",
    "\n",
    "**1.3** Based on the visuals above, which predictor seems to have the most potential for predicting `admitted`? Why do you think this it the best potential single predictor?\n",
    "\n",
    "\n",
    "**1.4** Fit a logistic regression to predict `admitted` from `harvard` (call it `logit1_4`).  Interpret the coefficient estimates: which college is estimated to be easier to get into?  What are the estimated probabilities of getting into each school?\n",
    "\n",
    "\n",
    "**1.5** Create a contingency table between `admitted` and `harvard`.  Use this table to calculate and confirm the coefficient estimates in the `logit1_4` model (both the intercept and slope).\n",
    "\n",
    "\n",
    "**1.6** Compare the estimated probabilities of being admitted into the schools to the overall acceptance rate (as seen [here](https://www.ivycoach.com/2023-ivy-league-admissions-statistics/)).  Why may what you've observed in this comparison be the case?\n"
   ]
  },
  {
   "cell_type": "code",
   "execution_count": 3,
   "metadata": {},
   "outputs": [
    {
     "name": "stdout",
     "output_type": "stream",
     "text": [
      "(1871, 16)\n",
      "(1496, 16) (375, 16)\n"
     ]
    }
   ],
   "source": [
    "#############################\n",
    "## DO NOT MODIFY THIS CODE ##\n",
    "#############################\n",
    "\n",
    "college = pd.read_csv(\"data/college_admissions.csv\")\n",
    "np.random.seed(121)\n",
    "\n",
    "college_train, college_test = train_test_split(\n",
    "    college,\n",
    "    test_size=0.2,\n",
    "    random_state=121,\n",
    "    shuffle=True,\n",
    "    stratify=college[\"school\"],\n",
    ")\n",
    "\n",
    "print(college.shape)\n",
    "print(college_train.shape, college_test.shape)"
   ]
  },
  {
   "cell_type": "markdown",
   "metadata": {},
   "source": [
    "<a id=\"part1solutions\"></a>\n",
    "\n",
    "## Question 1: Solutions\n",
    "\n",
    "[Return to contents](#contents)"
   ]
  },
  {
   "cell_type": "markdown",
   "metadata": {
    "cell_id": "0a790850-87c6-4f46-b89e-048a2295c92b",
    "colab_type": "text",
    "id": "IGFtXJmQap2q"
   },
   "source": [
    "<div class='exercise-r'>\n",
    "\n",
    "**1.1** What proportion of observations were admitted overall?  What would be the train and test classification accuracies for a baseline \"naive\" model where we classified ALL applicants as either admitted or not admitted using just this overall proportion to make our decision (i.e. we apply the same outcome to all applicants based on this proportion)?\n",
    "    \n",
    "</div>"
   ]
  },
  {
   "cell_type": "code",
   "execution_count": 4,
   "metadata": {},
   "outputs": [
    {
     "name": "stdout",
     "output_type": "stream",
     "text": [
      "The proportion of observations admitted is 0.2699.\n",
      "If we use proportion 0.2699 to make decision on train and test data. The accuracies on train and test data are 0.7373 and 0.7013 respectively.\n"
     ]
    }
   ],
   "source": [
    "# your code here\n",
    "prop1_1 = college[\"admitted\"].mean()\n",
    "print(f\"The proportion of observations admitted is {prop1_1:.4f}.\")\n",
    "acc_tr_1_1 = sum(college_train['admitted'] == 0)/college_train['admitted'].shape[0]\n",
    "acc_ts_1_1 = sum(college_test['admitted'] == 0)/college_test['admitted'].shape[0]\n",
    "print(f\"If we use proportion {prop1_1:.4f} to make decision on train and test data. The accuracies on train and test data are {acc_tr_1_1:.4f} and {acc_ts_1_1:.4f} respectively.\")"
   ]
  },
  {
   "cell_type": "markdown",
   "metadata": {
    "cell_id": "0a790850-87c6-4f46-b89e-048a2295c92b",
    "colab_type": "text",
    "id": "IGFtXJmQap2q"
   },
   "source": [
    "<div class='exercise-r'>\n",
    "\n",
    "**1.2** Create a binary (\"dummy\") variable named `\"harvard\"` that takes on the value 1 if `school == \"Harvard\"` and 0 otherwise. Now, explore the marginal association of each of our 12 predictors with whether or not an applicant is admitted into the college to which they applied (`admitted`). Create a separate **visual** for each of our predictors to investigate their relationship with college admissions. **Suggestion:** Place these 12 visuals in a *matrix* of subplots with 3 columns and 4 rows.\n",
    "\n",
    "**NOTE:** We will be using our dummified `harvard` predictor instead of `school` throughout the remainder of this problem set.\n",
    "    \n",
    "</div>"
   ]
  },
  {
   "cell_type": "code",
   "execution_count": 5,
   "metadata": {},
   "outputs": [
    {
     "name": "stderr",
     "output_type": "stream",
     "text": [
      "<ipython-input-5-f3165d99081a>:3: SettingWithCopyWarning: \n",
      "A value is trying to be set on a copy of a slice from a DataFrame.\n",
      "Try using .loc[row_indexer,col_indexer] = value instead\n",
      "\n",
      "See the caveats in the documentation: https://pandas.pydata.org/pandas-docs/stable/user_guide/indexing.html#returning-a-view-versus-a-copy\n",
      "  college_train['harvard'] = (college_train[\"school\"] == \"Harvard\").astype(int)\n",
      "<ipython-input-5-f3165d99081a>:4: SettingWithCopyWarning: \n",
      "A value is trying to be set on a copy of a slice from a DataFrame.\n",
      "Try using .loc[row_indexer,col_indexer] = value instead\n",
      "\n",
      "See the caveats in the documentation: https://pandas.pydata.org/pandas-docs/stable/user_guide/indexing.html#returning-a-view-versus-a-copy\n",
      "  college_test['harvard'] = (college_test[\"school\"] == \"Harvard\").astype(int)\n"
     ]
    },
    {
     "data": {
      "image/png": "[encoded data removed]",
      "text/plain": [
       "<Figure size 1152x1440 with 12 Axes>"
      ]
     },
     "metadata": {
      "needs_background": "light"
     },
     "output_type": "display_data"
    }
   ],
   "source": [
    "# your code here\n",
    "college['harvard'] = (college[\"school\"] == \"Harvard\").astype(int)\n",
    "college_train['harvard'] = (college_train[\"school\"] == \"Harvard\").astype(int)\n",
    "college_test['harvard'] = (college_test[\"school\"] == \"Harvard\").astype(int)\n",
    "\n",
    "cols = [\"test\", \"avg_ap\", \"gpa\", \n",
    "       \"ap\", \"sat_subjects\",\"female\", \"minority\", \"international\",\n",
    "        \"sports\", \"school\", \"early_app\", \"alumni\"]\n",
    "\n",
    "college12=college[[\"admitted\",\"test\", \"ap\", \"avg_ap\", \"sat_subjects\", \"gpa\",\n",
    "                   \"female\", \"minority\", \"international\",\"sports\", \"school\", \"early_app\", \"alumni\"]]\n",
    "\n",
    "fig, axes = plt.subplots(4,3,figsize=(16,20))\n",
    "axes = axes.ravel()\n",
    "for i, c in enumerate(cols):\n",
    "    if c in [\"test\", \"avg_ap\", \"gpa\",\"ap\", \"sat_subjects\"]:\n",
    "        sns.boxplot(data=college12, x='admitted',y=c, ax=axes[i])\n",
    "        axes[i].set_xlabel(\"Admitted\", size=14)\n",
    "        axes[i].set_ylabel(c,size=14)\n",
    "    else:\n",
    "        tmp = (college12.groupby('admitted')[c].value_counts().to_frame().rename(columns={c: 'count'})).reset_index()\n",
    "        sns.barplot(data=tmp, x=c, y='count', hue='admitted', ax=axes[i])\n",
    "        axes[i].set_xlabel(c, size=14)\n",
    "        axes[i].set_ylabel(\"count\",size=14)\n",
    "\n"
   ]
  },
  {
   "cell_type": "markdown",
   "metadata": {
    "cell_id": "0a790850-87c6-4f46-b89e-048a2295c92b",
    "colab_type": "text",
    "id": "IGFtXJmQap2q"
   },
   "source": [
    "<div class='exercise-r'>\n",
    "\n",
    "**1.3** Based on the visuals above, which predictor seems to have the most potential for predicting `admitted`? Why do you think this it the best potential single predictor?\n",
    "    \n",
    "</div>"
   ]
  },
  {
   "cell_type": "markdown",
   "metadata": {},
   "source": [
    "**Sports, Alumni, GPA seem to have the most potential for predicting admitted. Those who were admitted have higher mean GPA and lower standard deviation than those who were not admitted. A large portion of alumni were admitted compared to those who are not alumni. A large portion of all-American athlete were admitted compared to those who are not all-American athlete.**"
   ]
  },
  {
   "cell_type": "markdown",
   "metadata": {
    "cell_id": "0a790850-87c6-4f46-b89e-048a2295c92b",
    "colab_type": "text",
    "id": "IGFtXJmQap2q"
   },
   "source": [
    "<div class='exercise-r'>\n",
    "    \n",
    "**1.4** Fit a logistic regression to predict `admitted` from `harvard` (call it `logit1_4`).  Interpret the coefficient estimates: which college is estimated to be easier to get into?  What are the estimated probabilities of getting into each school?\n",
    "    \n",
    "</div>"
   ]
  },
  {
   "cell_type": "code",
   "execution_count": 6,
   "metadata": {},
   "outputs": [
    {
     "name": "stdout",
     "output_type": "stream",
     "text": [
      "Logistic Regression Estimated Beta (B0): -1.1137 and Odds: 0.3284.\n",
      "Logistic Regression Estimated Beta (B1): 0.1532 and Odds Ratio (OR): 1.1655.\n",
      "The probability of getting to Harvard and Yale is 0.2768 and 0.2472, respectively.\n"
     ]
    }
   ],
   "source": [
    "# your code here\n",
    "X_train = college_train[['harvard']]\n",
    "y_train = college_train['admitted']\n",
    "\n",
    "logit1_4 = LogisticRegression(penalty=\"none\")\n",
    "logit1_4.fit(X_train,y_train)\n",
    "\n",
    "print(f\"Logistic Regression Estimated Beta (B0): {logit1_4.intercept_[0]:.4f} and Odds: {np.exp(logit1_4.intercept_)[0]:.4f}.\")\n",
    "print(f\"Logistic Regression Estimated Beta (B1): {logit1_4.coef_[0][0]:.4f} and Odds Ratio (OR): {np.exp(logit1_4.coef_)[0][0]:.4f}.\")\n",
    "\n",
    "p_harvard = np.exp(logit1_4.coef_+logit1_4.intercept_)/(1+ np.exp(logit1_4.coef_+logit1_4.intercept_))\n",
    "p_yale = np.exp(logit1_4.intercept_)/(1+ np.exp(logit1_4.intercept_))\n",
    "print(f\"The probability of getting to Harvard and Yale is {p_harvard[0][0]:.4f} and {p_yale[0]:.4f}, respectively.\")"
   ]
  },
  {
   "cell_type": "markdown",
   "metadata": {},
   "source": [
    "**INTERPRETATION:**"
   ]
  },
  {
   "cell_type": "markdown",
   "metadata": {},
   "source": [
    "**The Odds of getting into Harvard is 1.1655 times the odds of getting into Yale. Harvard is estimated to be easier to get into. The probabilities of getting into Harvard is 0.2768 while the probability of getting into Yale is 0.2472.**"
   ]
  },
  {
   "cell_type": "markdown",
   "metadata": {
    "cell_id": "0a790850-87c6-4f46-b89e-048a2295c92b",
    "colab_type": "text",
    "id": "IGFtXJmQap2q"
   },
   "source": [
    "<div class='exercise-r'>\n",
    "\n",
    "**1.5** Create a contingency table between `admitted` and `harvard`.  Use this table to calculate and confirm the coefficient estimates in the `logit1_4` model (both the intercept and slope).\n",
    "\n",
    "</div>"
   ]
  },
  {
   "cell_type": "code",
   "execution_count": 7,
   "metadata": {},
   "outputs": [
    {
     "name": "stdout",
     "output_type": "stream",
     "text": [
      "harvard     0    1\n",
      "admitted          \n",
      "0         536  567\n",
      "1         176  217\n",
      "The probability of getting into Harvard and Yale is 0.2768 and 0.2472, respectively. \n",
      "The values match the coefficient estimates in the logit1_4 model (both the intercept and slope).\n"
     ]
    }
   ],
   "source": [
    "# your code here\n",
    "crosstable = pd.crosstab(college_train['admitted'], college_train['harvard'], margins = False)\n",
    "print(crosstable)\n",
    "p_h = (crosstable[1][1]) / (crosstable[1][0] + crosstable[1][1])\n",
    "p_y = (crosstable[0][1]) / (crosstable[0][0] + crosstable[0][1])\n",
    "\n",
    "print(f\"The probability of getting into Harvard and Yale is {p_h:.4f} and {p_y:.4f}, respectively. \\nThe values match the coefficient estimates in the logit1_4 model (both the intercept and slope).\")"
   ]
  },
  {
   "cell_type": "markdown",
   "metadata": {
    "cell_id": "0a790850-87c6-4f46-b89e-048a2295c92b",
    "colab_type": "text",
    "id": "IGFtXJmQap2q"
   },
   "source": [
    "<div class='exercise-r'>\n",
    "\n",
    "**1.6** Compare the estimated probabilities of being admitted into the schools to the overall acceptance rate (as seen [here](https://www.ivycoach.com/2023-ivy-league-admissions-statistics/)).  Why may what you've observed in this comparison be the case?\n",
    "    \n",
    "</div>"
   ]
  },
  {
   "cell_type": "markdown",
   "metadata": {},
   "source": [
    "**The overall acceptance rate of Harvard and Yale are 0.045 and 0.059, respectively. The estimated probabilities of being admitted into these schools are 0.2768 and 0.2472, respectively. The difference maybe due to the fact the data were scraped from a website where applicants volunteer to share their information, so successful volunteers are more likely to share there data.**"
   ]
  },
  {
   "cell_type": "markdown",
   "metadata": {},
   "source": [
    "---"
   ]
  },
  {
   "cell_type": "markdown",
   "metadata": {},
   "source": [
    "<a id=\"part2\"></a>\n",
    "\n",
    "## <div class='exercise'>Question 2: Interpretable modeling [18 pts]</div>\n",
    "\n",
    "[Return to contents](#contents)\n",
    "\n",
    "**2.1** Fit a logistic regression model to predict `admitted` from `test` alone (call it `logit2_1`).  Print out the coefficient estimates (remember to always print both intercept and slope coefficients) along with the classification accuracies for this model (on both train and test data). \n",
    "\n",
    "**2.2** What is the estimated probability of an applicant being admitted with an *average* `test` score of 2250?  What about if they had a perfect test score of 2400?  What test score would be needed to have a 50-50 chance (i.e. 0.5 probability) of being admitted?\n",
    "\n",
    "**2.3**  Fit a logistic regression model to predict `admitted` from `test` and `avg_ap` (call it `logit2_3`).  Print out the coefficient estimates along with the classification accuracies for this model (on both train and test data). \n",
    "\n",
    "**2.4** Interpret the coefficient estimates for both predictors in `logit2_3` and compare the coefficient estimate for `test` to the one from `logit2_1`.  Why has this estimate changed?\n",
    "\n",
    "**HINT:** You may want to inspect the relationship between `test` and `avg_ap` to help get a better sense for what might be happening here.\n",
    "\n",
    "**2.5** Interpret and compare the classification accuracies for the two models, `logit2_1` and `logit2_3`.  Explain why these accuracies are the same or different, and what about the data makes these accuracies so similar or different.\n"
   ]
  },
  {
   "cell_type": "markdown",
   "metadata": {},
   "source": [
    "<a id=\"part2solutions\"></a>\n",
    "\n",
    "## Question 2: Solutions\n",
    "\n",
    "[Return to contents](#contents)"
   ]
  },
  {
   "cell_type": "markdown",
   "metadata": {
    "cell_id": "0a790850-87c6-4f46-b89e-048a2295c92b",
    "colab_type": "text",
    "id": "IGFtXJmQap2q"
   },
   "source": [
    "<div class='exercise-r'>\n",
    "\n",
    "**2.1** Fit a logistic regression model to predict `admitted` from `test` alone (call it `logit2_1`).  Print out the coefficient estimates (remember to always print both intercept and slope coefficients) along with the classification accuracies for this model (on both train and test data).\n",
    "    \n",
    "</div>"
   ]
  },
  {
   "cell_type": "code",
   "execution_count": 8,
   "metadata": {},
   "outputs": [
    {
     "name": "stdout",
     "output_type": "stream",
     "text": [
      "Logistic Regression Estimated Beta (B0): -9.4136 and Odds: 0.0001.\n",
      "Logistic Regression Estimated Beta (B1): 0.0038 and Odds Ratio (OR): 1.0038.\n",
      "Classification accuracies on training and test data are 0.7373 and 0.7013, respectively.\n"
     ]
    }
   ],
   "source": [
    "# your code here\n",
    "X_train = college_train[['test']]\n",
    "y_train = college_train['admitted']\n",
    "\n",
    "X_test = college_test[['test']]\n",
    "y_test = college_test['admitted']\n",
    "\n",
    "logit2_1 = LogisticRegression(penalty=\"none\")\n",
    "logit2_1.fit(X_train,y_train)\n",
    "\n",
    "print(f\"Logistic Regression Estimated Beta (B0): {logit2_1.intercept_[0]:.4f} and Odds: {np.exp(logit2_1.intercept_)[0]:.4f}.\")\n",
    "print(f\"Logistic Regression Estimated Beta (B1): {logit2_1.coef_[0][0]:.4f} and Odds Ratio (OR): {np.exp(logit2_1.coef_)[0][0]:.4f}.\")\n",
    "\n",
    "y_train_pred = logit2_1.predict(X_train)\n",
    "y_test_pred = logit2_1.predict(X_test)\n",
    "acc_tr_2_1 = accuracy_score(y_train,y_train_pred)\n",
    "acc_ts_2_1 = accuracy_score(y_test,y_test_pred)\n",
    "\n",
    "print(f\"Classification accuracies on training and test data are {acc_tr_2_1:.4f} and {acc_ts_2_1:.4f}, respectively.\");"
   ]
  },
  {
   "cell_type": "markdown",
   "metadata": {
    "cell_id": "0a790850-87c6-4f46-b89e-048a2295c92b",
    "colab_type": "text",
    "id": "IGFtXJmQap2q"
   },
   "source": [
    "<div class='exercise-r'>\n",
    "\n",
    "**2.2** What is the estimated probability of an applicant being admitted with an *average* `test` score of 2250?  What about if they had a perfect test score of 2400?  What test score would be needed to have a 50-50 chance (i.e. 0.5 probability) of being admitted?\n",
    "    \n",
    "</div>"
   ]
  },
  {
   "cell_type": "code",
   "execution_count": 9,
   "metadata": {},
   "outputs": [
    {
     "name": "stdout",
     "output_type": "stream",
     "text": [
      "The probability of an applicant being admitted with an average test score of 2250 is 0.2929.\n",
      "The probability of an applicant being admitted with an average test score of 2400 is 0.4226.\n",
      "The probability of an applicant being admitted with an average test score of 2482 is 0.4997.\n",
      "The probability of an applicant being admitted with an average test score of 2483 is 0.5006.\n"
     ]
    }
   ],
   "source": [
    "# your code here\n",
    "print(f\"The probability of an applicant being admitted with an average test score of 2250 is {logit2_1.predict_proba([[2250]])[0][1]:.4f}.\")\n",
    "print(f\"The probability of an applicant being admitted with an average test score of 2400 is {logit2_1.predict_proba([[2400]])[0][1]:.4f}.\")\n",
    "print(f\"The probability of an applicant being admitted with an average test score of 2482 is {logit2_1.predict_proba([[2482]])[0][1]:.4f}.\")\n",
    "print(f\"The probability of an applicant being admitted with an average test score of 2483 is {logit2_1.predict_proba([[2483]])[0][1]:.4f}.\")\n"
   ]
  },
  {
   "cell_type": "markdown",
   "metadata": {},
   "source": [
    "**The estimated probabilities of an applicant being admitted with an average test score of 2250 and 2400 are 0.2929 and 0.4226, respectively. About 2482 or 2483 test score is needed to have a 50-50 change of beging admitted.**"
   ]
  },
  {
   "cell_type": "markdown",
   "metadata": {
    "cell_id": "0a790850-87c6-4f46-b89e-048a2295c92b",
    "colab_type": "text",
    "id": "IGFtXJmQap2q"
   },
   "source": [
    "<div class='exercise-r'>\n",
    "\n",
    "**2.3** Fit a logistic regression model to predict `admitted` from `test` and `avg_ap` (call it `logit2_3`).  Print out the coefficient estimates along with the classification accuracies for this model (on both train and test data).\n",
    "    \n",
    "</div>"
   ]
  },
  {
   "cell_type": "code",
   "execution_count": 10,
   "metadata": {},
   "outputs": [
    {
     "name": "stdout",
     "output_type": "stream",
     "text": [
      "Logistic Regression Estimated Beta (B0): -0.0188 and Odds: 0.9813.\n",
      "Logistic Regression Estimated Beta (B1): -0.0005 and Odds Ratio (OR): 0.9995.\n",
      "Logistic Regression Estimated Beta (B2): 0.0533 and Odds Ratio (OR): 1.0548.\n",
      "Classification accuracies on training and test data are 0.7373 and 0.7013, respectively.\n"
     ]
    }
   ],
   "source": [
    "# your code here\n",
    "X_train = college_train[['test','avg_ap']]\n",
    "y_train = college_train['admitted']\n",
    "\n",
    "X_test = college_test[['test','avg_ap']]\n",
    "y_test = college_test['admitted']\n",
    "\n",
    "logit2_3 = LogisticRegression(penalty=\"none\")\n",
    "logit2_3.fit(X_train,y_train)\n",
    "\n",
    "print(f\"Logistic Regression Estimated Beta (B0): {logit2_3.intercept_[0]:.4f} and Odds: {np.exp(logit2_3.intercept_)[0]:.4f}.\")\n",
    "print(f\"Logistic Regression Estimated Beta (B1): {logit2_3.coef_[0][0]:.4f} and Odds Ratio (OR): {np.exp(logit2_3.coef_[0][0]):.4f}.\")\n",
    "print(f\"Logistic Regression Estimated Beta (B2): {logit2_3.coef_[0][1]:.4f} and Odds Ratio (OR): {np.exp(logit2_3.coef_[0][1]):.4f}.\")\n",
    "\n",
    "y_train_pred = logit2_3.predict(X_train)\n",
    "y_test_pred = logit2_3.predict(X_test)\n",
    "acc_tr_2_3 = accuracy_score(y_train,y_train_pred)\n",
    "acc_ts_2_3 = accuracy_score(y_test,y_test_pred)\n",
    "\n",
    "print(f\"Classification accuracies on training and test data are {acc_tr_2_3:.4f} and {acc_ts_2_3:.4f}, respectively.\");"
   ]
  },
  {
   "cell_type": "markdown",
   "metadata": {
    "cell_id": "0a790850-87c6-4f46-b89e-048a2295c92b",
    "colab_type": "text",
    "id": "IGFtXJmQap2q"
   },
   "source": [
    "<div class='exercise-r'>\n",
    "\n",
    "**2.4** Interpret the coefficient estimates for both predictors in `logit2_3` and compare the coefficient estimate for `test` to the one from `logit2_1`.  Why has this estimate changed?\n",
    "\n",
    "**HINT:** You may want to inspect the relationship between `test` and `avg_ap` to help get a better sense for what might be happening here.\n",
    "\n",
    "</div>"
   ]
  },
  {
   "cell_type": "code",
   "execution_count": 11,
   "metadata": {},
   "outputs": [
    {
     "name": "stdout",
     "output_type": "stream",
     "text": [
      "(logit2_3)Logistic Regression Estimated Beta (B1): -0.0005 and Odds Ratio (OR): 0.9995.\n",
      "(logit2_1)Logistic Regression Estimated Beta (B1): 0.0038 and Odds Ratio (OR): 1.0038.\n"
     ]
    }
   ],
   "source": [
    "# your code here\n",
    "print(f\"(logit2_3)Logistic Regression Estimated Beta (B1): {logit2_3.coef_[0][0]:.4f} and Odds Ratio (OR): {np.exp(logit2_3.coef_[0][0]):.4f}.\")\n",
    "print(f\"(logit2_1)Logistic Regression Estimated Beta (B1): {logit2_1.coef_[0][0]:.4f} and Odds Ratio (OR): {np.exp(logit2_1.coef_[0][0]):.4f}.\")"
   ]
  },
  {
   "cell_type": "markdown",
   "metadata": {},
   "source": [
    "**INTERPRETATION:**"
   ]
  },
  {
   "cell_type": "markdown",
   "metadata": {},
   "source": [
    "**For 1 unit increase in test score, the odds of getting admitted is 0.9995 times the odds of getting admitted if the test score had not increased 1 unit. For 1 unit increase in average ap, the odds of getting admitted is 1.0038 times the odds of getting admitted if the average ap had not increased 1 unit. The coefficient for test from logit2_3 is 0.0043 lower than the coefficient for test from logit2_1. This means that avg_ap probably has some confounding effect on the causal relationship between test score and admission.**"
   ]
  },
  {
   "cell_type": "markdown",
   "metadata": {
    "cell_id": "0a790850-87c6-4f46-b89e-048a2295c92b",
    "colab_type": "text",
    "id": "IGFtXJmQap2q"
   },
   "source": [
    "<div class='exercise-r'>\n",
    "\n",
    "**2.5** Interpret and compare the classification accuracies for the two models, `logit2_1` and `logit2_3`.  Explain why these accuracies are the same or different, and what about the data makes these accuracies so similar or different.\n",
    "\n",
    "</div>"
   ]
  },
  {
   "cell_type": "markdown",
   "metadata": {},
   "source": [
    "**The accuracies are the same comparing two models logit2_1 and logit2_3 on training (0.7373) and test data (0.7013). The reason could be that these two variables are correlated - they have strong relationship with each other. Therefore, adding avg_ap will not improve the model performance on prediction accuracy.**"
   ]
  },
  {
   "cell_type": "markdown",
   "metadata": {},
   "source": [
    "---"
   ]
  },
  {
   "cell_type": "markdown",
   "metadata": {},
   "source": [
    "<a id=\"part3\"></a>\n",
    "\n",
    "## <div class='exercise'>Question 3: Harvard and Yale? [30 pts]</div>\n",
    "\n",
    "[Return to contents](#contents)\n",
    "\n",
    "**3.1** Fit a logistic regression model (call it `logit3_1`) to predict `admitted` from 7 predictors: `[\"harvard\", \"test\", \"ap\", \"avg_ap\", \"gpa\", \"female\", \"minority\"]`.  Output and interpret the coefficient estimates for the binary predictors in this model.\n",
    "\n",
    "**HINT:** If you have convergence warnings, increasing the maximum number of iterations will likely solve this issue.\n",
    "\n",
    "**3.2** Fit a logistic regression model (call it `logit3_2`) to predict `admitted` from 3 predictors: `[\"harvard\", \"test\", \"ap\"]` along with the 2 interaction terms: `harvard` with `test` and `harvard` with `ap`. Name the columns for these interaction terms something sensible.  Print out the coefficient estimates for this model.\n",
    "\n",
    "**3.3** Simplify and write out mathematically the above model from Question 3.2 for 2 applicants: (1) someone who is applying to Harvard and for (2) someone who is applying to Yale (keep `test` and `ap` as the unknown $X$s).  The basic framework given to you below may be helpful:\n",
    "\n",
    "$$ \\ln \\left( \\frac{P(Y=1)}{1-P(Y=1)} \\right) = \\beta_0 + \\beta_1 X_1 + \\dots + \\beta_p X_p $$\n",
    "\n",
    "**NOTE:** All of your mathematical statements should be written out in your markdown cells using $\\LaTeX$.\n",
    "\n",
    "**3.4** Determine two classification boundaries mathematically for the model in the previous part (using the estimated coefficients): What range of values of `test` as a function of `ap` would an applicant be predicted to have a better than 50% chance (i.e. 0.5 probability) of being admitted into the college they applied (each college is associated with a different function)? If a student scored a perfect 2400 on `test`, what is the range of AP tests they should take in order to have a better than 50% chance of being admitted into Harvard?\n",
    "\n",
    "**3.5** Create two separate scatterplots (one for Harvard applicants and one for Yale applicants) with the predictor `test` on the y-axis and `ap` on the x-axis where `admitted` is color-coded and the marker denotes train vs. test data.  Then add the appropriate classification boundary from the previous part.  Compare these two plots (including both the location of the boundaries and where the points lie around these boundaries).\n",
    "\n",
    "**NOTE:** As always, please be certain (a) your plot is titled, (b) everything is clearly labeled, and (c) the plot itself is formatted in a manner that makes it easy to read and interpret. It will likely take some careful work here to generate plots with data points that are clear and easy to see.\n",
    "\n",
    "**3.6** Fit a logistic regression model (call it `logit3_6`) to predict `admitted` from 4 predictors: `[\"harvard\", \"test\", \"female\", \"minority\"]` along with 2 interaction terms: `harvard` with `female` and `harvard` with `minority`.  Print out the coefficient estimates for this model.\n",
    "\n",
    "**3.7** Interpret the coefficients associated with `female` and `minority` (the two main effects AND the two interaction terms).\n",
    "\n",
    "**3.8** Based on this sample, how does it appear that Harvard and Yale compare in admitting these groups?  Why would it be wrong to take this interpretation as truth?"
   ]
  },
  {
   "cell_type": "markdown",
   "metadata": {},
   "source": [
    "<a id=\"part3solutions\"></a>\n",
    "\n",
    "## Question 3: Solutions\n",
    "\n",
    "[Return to contents](#contents)"
   ]
  },
  {
   "cell_type": "markdown",
   "metadata": {
    "cell_id": "0a790850-87c6-4f46-b89e-048a2295c92b",
    "colab_type": "text",
    "id": "IGFtXJmQap2q"
   },
   "source": [
    "<div class='exercise-r'>\n",
    "\n",
    "**3.1** Fit a logistic regression model (call it `logit3_1`) to predict `admitted` from 7 predictors: `[\"harvard\", \"test\", \"ap\", \"avg_ap\", \"gpa\", \"female\", \"minority\"]`.  Output and interpret the coefficient estimates for the binary predictors in this model.\n",
    "\n",
    "**HINT:** If you have convergence warnings, increasing the maximum number of iterations will likely solve this issue.\n",
    "    \n",
    "</div>"
   ]
  },
  {
   "cell_type": "code",
   "execution_count": 12,
   "metadata": {
    "scrolled": true
   },
   "outputs": [
    {
     "name": "stdout",
     "output_type": "stream",
     "text": [
      "Logistic Regression Estimated Beta (B0): -0.6070 and Odds: 0.5450.\n",
      "Logistic Regression Estimated Beta (B1): 0.0959 and Odds Ratio (OR): 1.1007.\n",
      "Logistic Regression Estimated Beta (B2): 0.0023 and Odds Ratio (OR): 1.0023.\n",
      "Logistic Regression Estimated Beta (B3): 0.0000 and Odds Ratio (OR): 1.0000.\n",
      "Logistic Regression Estimated Beta (B4): 0.0723 and Odds Ratio (OR): 1.0750.\n",
      "Logistic Regression Estimated Beta (B5): -1.5062 and Odds Ratio (OR): 0.2218.\n",
      "Logistic Regression Estimated Beta (B6): -0.0845 and Odds Ratio (OR): 0.9190.\n",
      "Logistic Regression Estimated Beta (B7): 0.6386 and Odds Ratio (OR): 1.8939.\n"
     ]
    },
    {
     "name": "stderr",
     "output_type": "stream",
     "text": [
      "/Users/dizhen/opt/anaconda3/lib/python3.8/site-packages/sklearn/linear_model/_logistic.py:763: ConvergenceWarning: lbfgs failed to converge (status=1):\n",
      "STOP: TOTAL NO. of ITERATIONS REACHED LIMIT.\n",
      "\n",
      "Increase the number of iterations (max_iter) or scale the data as shown in:\n",
      "    https://scikit-learn.org/stable/modules/preprocessing.html\n",
      "Please also refer to the documentation for alternative solver options:\n",
      "    https://scikit-learn.org/stable/modules/linear_model.html#logistic-regression\n",
      "  n_iter_i = _check_optimize_result(\n"
     ]
    }
   ],
   "source": [
    "# your code here\n",
    "X_train = college_train[[\"harvard\", \"test\", \"ap\", \"avg_ap\", \"gpa\", \"female\", \"minority\"]]\n",
    "y_train = college_train['admitted']\n",
    "\n",
    "logit3_1 = LogisticRegression(penalty=\"none\")\n",
    "logit3_1.fit(X_train,y_train)\n",
    "\n",
    "print(f\"Logistic Regression Estimated Beta (B0): {logit3_1.intercept_[0]:.4f} and Odds: {np.exp(logit3_1.intercept_)[0]:.4f}.\")\n",
    "for i in range(7):\n",
    "    print(f\"Logistic Regression Estimated Beta (B{i+1}): {logit3_1.coef_[0][i]:.4f} and Odds Ratio (OR): {np.exp(logit3_1.coef_[0][i]):.4f}.\")\n"
   ]
  },
  {
   "cell_type": "markdown",
   "metadata": {},
   "source": [
    "**INTERPRETATION:**"
   ]
  },
  {
   "cell_type": "markdown",
   "metadata": {},
   "source": [
    "**The odds of getting admitted among those who were admitted to Harvard is 1.1007 times the odds of getting admitted among those who were not admitted to Harvard.**\n",
    "\n",
    "**For 1 unit increase in test score, the odds of getting admitted is 1.0023 times the odds of getting admitted if the test score had not increased 1 unit.**\n",
    "\n",
    "**For 1 unit increase in ap, the odds of getting admitted is the same as the odds of getting admitted if the ap had not increased 1 unit.**\n",
    "\n",
    "**For 1 unit increase in average ap, the odds of getting admitted is 1.0757 times the odds of getting admitted if the average ap had not increased 1 unit.**\n",
    "\n",
    "**For 1 unit increase in gpa, the odds of getting admitted is 0.2218 times the odds of getting admitted if the gpa had not increased 1 unit.**\n",
    "\n",
    "**The odds of getting admitted among female is 0.9190 times the odds of getting admitted among male.**\n",
    "\n",
    "**The odds of getting admitted among under-represented minority is 1.8919 times the odds of getting admitted among non under-represented minority.**"
   ]
  },
  {
   "cell_type": "markdown",
   "metadata": {
    "cell_id": "0a790850-87c6-4f46-b89e-048a2295c92b",
    "colab_type": "text",
    "id": "IGFtXJmQap2q"
   },
   "source": [
    "<div class='exercise-r'>\n",
    "\n",
    "**3.2** Fit a logistic regression model (call it `logit3_2`) to predict `admitted` from 3 predictors: `[\"harvard\", \"test\", \"ap\"]` along with the 2 interaction terms: `harvard` with `test` and `harvard` with `ap`. Name the columns for these interaction terms something sensible.  Print out the coefficient estimates for this model.\n",
    "\n",
    "</div>"
   ]
  },
  {
   "cell_type": "code",
   "execution_count": 13,
   "metadata": {},
   "outputs": [
    {
     "name": "stdout",
     "output_type": "stream",
     "text": [
      "Logistic Regression Estimated Beta (B0): -7.1344.\n",
      "Logistic Regression Estimated Beta (B1): -4.4410.\n",
      "Logistic Regression Estimated Beta (B2): 0.0027.\n",
      "Logistic Regression Estimated Beta (B3): 0.0240.\n",
      "Logistic Regression Estimated Beta (B4): 0.0022.\n",
      "Logistic Regression Estimated Beta (B5): -0.1101.\n"
     ]
    },
    {
     "name": "stderr",
     "output_type": "stream",
     "text": [
      "<ipython-input-13-6b163485d197>:5: SettingWithCopyWarning: \n",
      "A value is trying to be set on a copy of a slice from a DataFrame.\n",
      "Try using .loc[row_indexer,col_indexer] = value instead\n",
      "\n",
      "See the caveats in the documentation: https://pandas.pydata.org/pandas-docs/stable/user_guide/indexing.html#returning-a-view-versus-a-copy\n",
      "  X_train['harvard_test'] = X_train['harvard'] *X_train['test']\n",
      "<ipython-input-13-6b163485d197>:6: SettingWithCopyWarning: \n",
      "A value is trying to be set on a copy of a slice from a DataFrame.\n",
      "Try using .loc[row_indexer,col_indexer] = value instead\n",
      "\n",
      "See the caveats in the documentation: https://pandas.pydata.org/pandas-docs/stable/user_guide/indexing.html#returning-a-view-versus-a-copy\n",
      "  X_train['harvard_ap'] = X_train['harvard'] *X_train['ap']\n"
     ]
    }
   ],
   "source": [
    "# your code here\n",
    "X_train = college_train[[\"harvard\", \"test\", \"ap\"]]\n",
    "y_train = college_train['admitted']\n",
    "\n",
    "X_train['harvard_test'] = X_train['harvard'] *X_train['test']\n",
    "X_train['harvard_ap'] = X_train['harvard'] *X_train['ap']\n",
    "\n",
    "logit3_2 = LogisticRegression(penalty=\"none\")\n",
    "logit3_2.fit(X_train,y_train)\n",
    "\n",
    "print(f\"Logistic Regression Estimated Beta (B0): {logit3_2.intercept_[0]:.4f}.\")\n",
    "for i in range(5):\n",
    "    print(f\"Logistic Regression Estimated Beta (B{i+1}): {logit3_2.coef_[0][i]:.4f}.\")"
   ]
  },
  {
   "cell_type": "markdown",
   "metadata": {
    "cell_id": "0a790850-87c6-4f46-b89e-048a2295c92b",
    "colab_type": "text",
    "id": "IGFtXJmQap2q"
   },
   "source": [
    "<div class='exercise-r'>\n",
    "\n",
    "**3.3** Simplify and write out mathematically the above model from Question 3.2 for 2 applicants: (1) someone who is applying to Harvard and for (2) someone who is applying to Yale (keep `test` and `ap` as the unknown $X$s).  The basic framework given to you below may be helpful:\n",
    "\n",
    "$$ \\ln \\left( \\frac{P(Y=1)}{1-P(Y=1)} \\right) = \\beta_0 + \\beta_1 X_1 + \\dots + \\beta_p X_p $$\n",
    "    \n",
    "**NOTE:** All of your mathematical statements should be written out in your markdown cells using $\\LaTeX$.\n",
    "\n",
    "</div>"
   ]
  },
  {
   "cell_type": "markdown",
   "metadata": {},
   "source": [
    "The full model is:\n",
    "\n",
    "$$ \\ln \\left( \\frac{P(Y=1)}{1-P(Y=1)} \\right) = \\beta_0 + \\beta_1 \\text{harvard} + \\beta_2 \\text{test} + \\beta_3 \\text{ap} + \\beta_4 \\text{harvard} * \\text{text} + \\beta_5 \\text{harvard} * \\text{ap} $$\n",
    "\n",
    "For someone who is applying to Harvard, the model can be written as\n",
    "\n",
    "$$ \\ln \\left( \\frac{P(Y=1)}{1-P(Y=1)} \\right) = \\beta_0 + \\beta_1 + (\\beta_2 + \\beta_4) \\text{test} + (\\beta_3 + \\beta_5) \\text{ap} $$\n",
    "\n",
    "For someone who is applying to Yale, the model can be written as\n",
    "\n",
    "$$ \\ln \\left( \\frac{P(Y=1)}{1-P(Y=1)} \\right) = \\beta_0 + \\beta_2 \\text{test} + \\beta_3 \\text{ap} $$\n",
    "\n",
    "where $\\beta_0 = -7.1344, \\beta_1 = -4.4410, \\beta_2 = 0.0027, \\beta_3 = 0.0240, \\beta_4 = 0.0022, \\beta_5 = -0.1101.$"
   ]
  },
  {
   "cell_type": "markdown",
   "metadata": {
    "cell_id": "0a790850-87c6-4f46-b89e-048a2295c92b",
    "colab_type": "text",
    "id": "IGFtXJmQap2q"
   },
   "source": [
    "<div class='exercise-r'>\n",
    "\n",
    "**3.4** Determine two classification boundaries mathematically for the model in the previous part (using the estimated coefficients): What range of values of `test` as a function of `ap` would an applicant be predicted to have a better than 50% chance (i.e. 0.5 probability) of being admitted into the college they applied (each college is associated with a different function)? If a student scored a perfect 2400 on `test`, what is the range of AP tests they should take in order to have a better than 50% chance of being admitted into Harvard?\n",
    "\n",
    "</div>"
   ]
  },
  {
   "cell_type": "code",
   "execution_count": 14,
   "metadata": {},
   "outputs": [
    {
     "name": "stdout",
     "output_type": "stream",
     "text": [
      "The range of AP tests they should take in order to have a better than 0.5 chance of being admitted into Harvard is greater than 2.1440.\n"
     ]
    }
   ],
   "source": [
    "testscore = 2400\n",
    "AP =( - testscore*(0.0027+0.0022) - (-7.1344-4.4410))/(0.0240-0.1101)\n",
    "print(f\"The range of AP tests they should take in order to have a better than 0.5 chance of being admitted into Harvard is greater than {AP:.4f}.\")"
   ]
  },
  {
   "cell_type": "markdown",
   "metadata": {},
   "source": [
    "$$ \\ln \\left( \\frac{P(Y=1) \\geq 0.5}{1-P(Y=1) \\leq 0.5} \\right) = \\beta_0 + \\beta_1 \\text{harvard} + \\beta_2 \\text{test} + \\beta_3 \\text{ap} + \\beta_4 \\text{harvard} * \\text{text} + \\beta_5 \\text{harvard} * \\text{ap} $$\n",
    "\n",
    "$$\\left( \\frac{P(Y=1) \\geq 0.5}{1-P(Y=1) \\leq 0.5} \\right) = \\exp\\left(\\beta_0 + \\beta_1 \\text{harvard} + \\beta_2 \\text{test} + \\beta_3 \\text{ap} + \\beta_4 \\text{harvard} * \\text{text} + \\beta_5 \\text{harvard} * \\text{ap}\\right)$$\n",
    "\n",
    "$$  \\exp\\left(\\beta_0 + \\beta_1 \\text{harvard} + \\beta_2 \\text{test} + \\beta_3 \\text{ap} + \\beta_4 \\text{harvard} * \\text{text} + \\beta_5 \\text{harvard} * \\text{ap}\\right)  \\geq 1$$\n",
    "\n",
    "$$\\exp(\\text{test}(\\beta_2+\\beta_4 \\text{harvard})) \\geq {1 \\over \\exp(\\beta_0 + \\beta_1 \\text{harvard} + \\beta_3 \\text{ap} + \\beta_5 \\text{harvard}*\\text{ap})}$$\n",
    "\n",
    "For some one who is applying to Harvard, the range of values of test as a function of ap would an applicant be predicted to have a better than 0.5 chance of being admitted into the college is\n",
    "\n",
    "$$\\exp((\\beta_2+\\beta_4)\\text{test}) \\geq {1 \\over \\exp(\\beta_0 + \\beta_1 + (\\beta_3 + \\beta_5) \\text{ap})}$$\n",
    "\n",
    "For some one who is applying to Yale, the range of values of test as a function of ap would an applicant be predicted to have a better than 0.5 chance of being admitted into the college is\n",
    "\n",
    "$$\\exp((\\beta_2)\\text{test}) \\geq {1 \\over \\exp(\\beta_0  + \\beta_3 \\text{ap} )}$$\n",
    "\n",
    "where $\\beta_0 = -7.1344, \\beta_1 = -4.4410, \\beta_2 = 0.0027, \\beta_3 = 0.0240, \\beta_4 = 0.0022, \\beta_5 = -0.1101.$\n",
    "\n",
    "If a student scored a perfect 2400 on `test`, the range of AP tests they should take to have a better than 50% chance of being admitted into Harvard can be calculated by\n",
    "\n",
    "$$\\exp((\\beta_2+\\beta_4)* 2400) \\geq {1 \\over \\exp(\\beta_0 + \\beta_1 + (\\beta_3 + \\beta_5) \\text{ap})}$$\n"
   ]
  },
  {
   "cell_type": "markdown",
   "metadata": {
    "cell_id": "0a790850-87c6-4f46-b89e-048a2295c92b",
    "colab_type": "text",
    "id": "IGFtXJmQap2q"
   },
   "source": [
    "<div class='exercise-r'>\n",
    "\n",
    "**3.5** Create two separate scatterplots (one for Harvard applicants and one for Yale applicants) with the predictor `test` on the y-axis and `ap` on the x-axis where `admitted` is color-coded and the marker denotes train vs. test data.  Then add the appropriate classification boundary from the previous part.  Compare these two plots (including both the location of the boundaries and where the points lie around these boundaries).\n",
    "\n",
    "**NOTE:** As always, please be certain (a) your plot is titled, (b) everything is clearly labeled, and (c) the plot itself is formatted in a manner that makes it easy to read and interpret. It will likely take some careful work here to generate plots with data points that are clear and easy to see.\n",
    "    \n",
    "</div>"
   ]
  },
  {
   "cell_type": "code",
   "execution_count": 15,
   "metadata": {
    "scrolled": true
   },
   "outputs": [
    {
     "name": "stderr",
     "output_type": "stream",
     "text": [
      "<ipython-input-15-4b006065a764>:6: SettingWithCopyWarning: \n",
      "A value is trying to be set on a copy of a slice from a DataFrame.\n",
      "Try using .loc[row_indexer,col_indexer] = value instead\n",
      "\n",
      "See the caveats in the documentation: https://pandas.pydata.org/pandas-docs/stable/user_guide/indexing.html#returning-a-view-versus-a-copy\n",
      "  X_train['type'] = 'train'\n",
      "<ipython-input-15-4b006065a764>:7: SettingWithCopyWarning: \n",
      "A value is trying to be set on a copy of a slice from a DataFrame.\n",
      "Try using .loc[row_indexer,col_indexer] = value instead\n",
      "\n",
      "See the caveats in the documentation: https://pandas.pydata.org/pandas-docs/stable/user_guide/indexing.html#returning-a-view-versus-a-copy\n",
      "  X_test['type'] = 'test'\n",
      "<ipython-input-15-4b006065a764>:31: UserWarning: The following kwargs were not used by contour: 'color'\n",
      "  ax[i].contourf(xx_1, xx_2, Z, alpha=0.3, levels=2, color = colors)\n",
      "<ipython-input-15-4b006065a764>:31: UserWarning: The following kwargs were not used by contour: 'color'\n",
      "  ax[i].contourf(xx_1, xx_2, Z, alpha=0.3, levels=2, color = colors)\n"
     ]
    },
    {
     "data": {
      "image/png": "[encoded data removed]",
      "text/plain": [
       "<Figure size 864x720 with 2 Axes>"
      ]
     },
     "metadata": {
      "needs_background": "light"
     },
     "output_type": "display_data"
    }
   ],
   "source": [
    "colors = ['yellow', 'blue']\n",
    "applicants = ['Yale', 'Harvard']\n",
    "\n",
    "X_train = college_train[[\"harvard\", \"test\", \"ap\", \"admitted\"]]\n",
    "X_test = college_test[[\"harvard\", \"test\", \"ap\", \"admitted\"]] \n",
    "X_train['type'] = 'train'\n",
    "X_test['type'] = 'test'\n",
    "train_test = pd.concat([X_train,X_test])\n",
    "Y_train_test = pd.concat([y_train,y_test])\n",
    "\n",
    "f, ax = plt.subplots(2, 1, figsize=(12, 10))\n",
    "\n",
    "for i in range(2):\n",
    "    # train grid\n",
    "    X_train_test = train_test[train_test['harvard']==i]\n",
    "    y_train_test = Y_train_test[X_train_test.index]\n",
    "\n",
    "    x_1 = X_train['ap']\n",
    "    x_2 = X_train['test']\n",
    "    x_1_min, x_1_max = x_1.min() - 0.2, x_1.max() + 0.2\n",
    "    x_2_min, x_2_max = x_2.min() - 0.2, x_2.max() + 0.2\n",
    "    xx_1, xx_2 = np.meshgrid(\n",
    "        np.arange(x_1_min, x_1_max, 0.1),\n",
    "        np.arange(x_2_min, x_2_max, 0.1),\n",
    "    )\n",
    "    ones = np.array([i] * xx_1.ravel().shape[0])\n",
    "    X_mesh = np.stack((ones, xx_2.ravel(),xx_1.ravel(),xx_2.ravel()*i,xx_1.ravel()*i),axis=1)\n",
    "\n",
    "    Z = logit3_2.predict(X_mesh)\n",
    "    Z = Z.reshape(xx_1.shape)\n",
    "    ax[i].contourf(xx_1, xx_2, Z, alpha=0.3, levels=2, color = colors)\n",
    "    \n",
    "    sns.scatterplot(\n",
    "        data = X_train_test,\n",
    "        x = 'ap',\n",
    "        y = 'test',\n",
    "        hue = \"admitted\",\n",
    "        style = 'type',\n",
    "        alpha = 0.7,\n",
    "        ax = ax[i]\n",
    "    )\n",
    "    \n",
    "    ax[i].legend(bbox_to_anchor=(1, 1), loc='upper left', ncol=1)\n",
    "    ax[i].set_title(f'Logistic Regression Decision Boundry overlaid with Test and AP scores for {applicants[i]} Applicants')\n",
    "    ax[i].set_ylabel('Test', size = 12)\n",
    "    ax[i].set_xlabel('AP', size = 12)\n",
    "    plt.tight_layout()\n",
    "    "
   ]
  },
  {
   "cell_type": "markdown",
   "metadata": {},
   "source": [
    "**INTERPRETATION:**"
   ]
  },
  {
   "cell_type": "markdown",
   "metadata": {},
   "source": [
    "**Comparing these two plots, there is an observable decision boundary for Harvard applicants but no observable decision boundary for Yale applicants.**"
   ]
  },
  {
   "cell_type": "markdown",
   "metadata": {
    "cell_id": "0a790850-87c6-4f46-b89e-048a2295c92b",
    "colab_type": "text",
    "id": "IGFtXJmQap2q"
   },
   "source": [
    "<div class='exercise-r'>\n",
    "\n",
    "**3.6** Fit a logistic regression model (call it `logit3_6`) to predict `admitted` from 4 predictors: `[\"harvard\", \"test\", \"female\", \"minority\"]` along with 2 interaction terms: `harvard` with `female` and `harvard` with `minority`.  Print out the coefficient estimates for this model.\n",
    "    \n",
    "</div>"
   ]
  },
  {
   "cell_type": "code",
   "execution_count": 16,
   "metadata": {},
   "outputs": [
    {
     "name": "stdout",
     "output_type": "stream",
     "text": [
      "Logistic Regression Estimated Beta (B0): -4.6996.\n",
      "Logistic Regression Estimated Beta (B1): -0.0213.\n",
      "Logistic Regression Estimated Beta (B2): 0.0017.\n",
      "Logistic Regression Estimated Beta (B3): -0.8359.\n",
      "Logistic Regression Estimated Beta (B4): 1.2202.\n",
      "Logistic Regression Estimated Beta (B5): 1.0162.\n",
      "Logistic Regression Estimated Beta (B6): -1.5148.\n"
     ]
    },
    {
     "name": "stderr",
     "output_type": "stream",
     "text": [
      "<ipython-input-16-011d9d02f8de>:5: SettingWithCopyWarning: \n",
      "A value is trying to be set on a copy of a slice from a DataFrame.\n",
      "Try using .loc[row_indexer,col_indexer] = value instead\n",
      "\n",
      "See the caveats in the documentation: https://pandas.pydata.org/pandas-docs/stable/user_guide/indexing.html#returning-a-view-versus-a-copy\n",
      "  X_train['harvard_female'] = X_train['harvard'] * X_train['female']\n",
      "<ipython-input-16-011d9d02f8de>:6: SettingWithCopyWarning: \n",
      "A value is trying to be set on a copy of a slice from a DataFrame.\n",
      "Try using .loc[row_indexer,col_indexer] = value instead\n",
      "\n",
      "See the caveats in the documentation: https://pandas.pydata.org/pandas-docs/stable/user_guide/indexing.html#returning-a-view-versus-a-copy\n",
      "  X_train['harvard_minority'] = X_train['harvard'] * X_train['minority']\n",
      "/Users/dizhen/opt/anaconda3/lib/python3.8/site-packages/sklearn/linear_model/_logistic.py:763: ConvergenceWarning: lbfgs failed to converge (status=1):\n",
      "STOP: TOTAL NO. of ITERATIONS REACHED LIMIT.\n",
      "\n",
      "Increase the number of iterations (max_iter) or scale the data as shown in:\n",
      "    https://scikit-learn.org/stable/modules/preprocessing.html\n",
      "Please also refer to the documentation for alternative solver options:\n",
      "    https://scikit-learn.org/stable/modules/linear_model.html#logistic-regression\n",
      "  n_iter_i = _check_optimize_result(\n"
     ]
    }
   ],
   "source": [
    "# your code here\n",
    "X_train = college_train[[\"harvard\", \"test\", \"female\", \"minority\"]]\n",
    "y_train = college_train['admitted']\n",
    "\n",
    "X_train['harvard_female'] = X_train['harvard'] * X_train['female']\n",
    "X_train['harvard_minority'] = X_train['harvard'] * X_train['minority']\n",
    "\n",
    "logit3_6 = LogisticRegression(penalty=\"none\")\n",
    "logit3_6.fit(X_train,y_train)\n",
    "\n",
    "print(f\"Logistic Regression Estimated Beta (B0): {logit3_6.intercept_[0]:.4f}.\")\n",
    "for i in range(6):\n",
    "    print(f\"Logistic Regression Estimated Beta (B{i+1}): {logit3_6.coef_[0][i]:.4f}.\")"
   ]
  },
  {
   "cell_type": "markdown",
   "metadata": {
    "cell_id": "0a790850-87c6-4f46-b89e-048a2295c92b",
    "colab_type": "text",
    "id": "IGFtXJmQap2q"
   },
   "source": [
    "<div class='exercise-r'>\n",
    "\n",
    "**3.7** Interpret the coefficients associated with `female` and `minority` (the two main effects AND the two interaction terms).\n",
    "    \n",
    "</div>"
   ]
  },
  {
   "cell_type": "markdown",
   "metadata": {},
   "source": [
    "The full model can be written as\n",
    "\n",
    "$$ \\ln \\left( \\frac{P(Y=1)}{1-P(Y=1)} \\right) = \\beta_0 + \\beta_1 \\text{harvard} + \\beta_2 \\text{test} + \\beta_3 \\text{female} + \\beta_4 \\text{minority} + \\beta_5 \\text{harvard} * \\text{female} + \\beta_6 \\text{harvard} * \\text{minority} $$\n",
    "\n",
    "For those who is applying to Harvard\n",
    "\n",
    "$$ \\ln \\left( \\frac{P(Y=1)}{1-P(Y=1)} \\right) = \\beta_0 + \\beta_1 + \\beta_2 \\text{test} + (\\beta_3 + \\beta_5) \\text{female} + (\\beta_4 + \\beta_6) \\text{minority} $$\n",
    "\n",
    "For those who is applying to Yale\n",
    "\n",
    "$$ \\ln \\left( \\frac{P(Y=1)}{1-P(Y=1)} \\right) = \\beta_0  + \\beta_2 \\text{test} + \\beta_3 \\text{female} + \\beta_4 \\text{minority} $$\n",
    "\n",
    "\n",
    "where $\\beta_0 = -4.6996, \\beta_1 = -0.0213, \\beta_2 = 0.0017, \\beta_3 = -0.8359, \\beta_4 = 1.2202, \\beta_5 = 1.0162, \\beta_6 = -1.5148$.\n",
    "\n",
    "\n",
    "Among those who is applying to Harvard, the odds of getting admitted among female is $\\exp(\\beta_3 + \\beta_5)=1.1976$ times the odds of getting admitted among male. Among those who is applying to Yale, the odds of getting admitted among female is $\\exp(\\beta_3) =0.4335$ times the odds of getting admitted among male.\n",
    "\n",
    "Among those who is applying to Harvard, the odds of getting admitted among under-represented minority is $\\exp(\\beta_4 + \\beta_6) = 0.7448$ times the odds of getting admitted among non under-represented minority. Among those who is applying to Yale, the odds of getting admitted among under-represented minority is $\\exp(\\beta_4)=3.3879$ times the odds of getting admitted among non under-represented minority.\n",
    "\n"
   ]
  },
  {
   "cell_type": "markdown",
   "metadata": {
    "cell_id": "0a790850-87c6-4f46-b89e-048a2295c92b",
    "colab_type": "text",
    "id": "IGFtXJmQap2q"
   },
   "source": [
    "<div class='exercise-r'>\n",
    "\n",
    "**3.8** Based on this sample, how does it appear that Harvard and Yale compare in admitting these groups?  Why would it be wrong to take this interpretation as truth?\n",
    "\n",
    "</div>"
   ]
  },
  {
   "cell_type": "markdown",
   "metadata": {},
   "source": [
    "**It seems that under-represented minority is more likely to be admitted by Yale. Female are more likely to be admitted to Harvard. This might be not true due to selection bias when collecting data.**"
   ]
  },
  {
   "cell_type": "markdown",
   "metadata": {},
   "source": [
    "---"
   ]
  },
  {
   "cell_type": "markdown",
   "metadata": {},
   "source": [
    "<a id=\"part4\"></a>\n",
    "\n",
    "## <div class='exercise'>Question 4: Building predictive models for admitted [24 pts]</div>\n",
    "\n",
    "[Return to contents](#contents)\n",
    "\n",
    "**4.1** You were instructed to NOT scale predictors in the prior sections above. The primary reason for this was to focus instead on the interpretability of our logistic regression coefficients. However, as we're sure you noticed, the numeric scale among our different predictors varies greatly (i.e. `test` values are in the 1,000's while others are much, much smaller). In practice, we might want to put our predictors all on a similar scale, particularly for regularized regression and/or distance-based algorithms such as $k$-NN classification. (1) Please explain why scaling under these circumstances might be important. Then, (2) actually apply standardized scaling to all of the **non-binary** predictors in our original set of 12 predictors (for both the training and test sets).\n",
    "\n",
    "**IMPORTANT:** These scaled predictors should be used instead of the original unscaled versions of the predictors for the remainder of this problem set.\n",
    "\n",
    "**4.2** Fit a well-tuned $k$-NN classification model with main effects of all 12 predictors in it (call it `knn_model`).  Use `ks = [1, 3, 5, 9, 15, 21, 51, 71, 101, 131, 171, 201]` and 10-fold cross-validation with classification accuracy as the scoring metric. Plot, on a single set of axes, your resulting cross-validation mean training and mean validation scores at each value $k$. Then, report your chosen $k$ and the classification accuracy on train and test for your final fitted model.\n",
    "\n",
    "**4.3** Fit the full logistic regression model (without penalty) with main effects of all 12 predictors in it (call it `logit_full`). Print out the coefficient estimates and report the classification accuracy on train and test for this model.\n",
    "\n",
    "**HINT:** If you have convergence warnings, increasing the maximum number of iterations will likely solve this issue.\n",
    "\n",
    "**4.4** Fit a well-tuned Lasso-like logistic regression model from all 12 predictors in it (call it `logit_lasso`). Use `Cs = [1e-4, 1e-3, 1e-2, 1e-1, 1e0, 1e1, 1e2, 1e3, 1e4]` and 10-fold cross-validation with classification accuracy as the scoring metric.  Print out the coefficient estimates and report the classification accuracy on train and test for this model.\n",
    "\n",
    "**4.5** Which predictors were deemed important in `logit_lasso`?  Which were deemed unimportant? Please remember that, as a general practice, zero-value Lasso coefficients (i.e. $\\beta_i=0$) are considered \"unimportant\".\n",
    "\n",
    "**4.6** Fit a well-tuned Lasso-like logistic regression model with all important predictors from `logit_lasso` and all the unique 2-way interactions between them (call it `logit_lasso_interact`).  Again use `Cs = [1e-4, 1e-3, 1e-2, 1e-1, 1e0, 1e1, 1e2, 1e3, 1e4]` and 10-fold cross-validation with classification accuracy as the scoring metric. Report the classification accuracy on train and test for this model.\n",
    "\n",
    "**4.7** How many of the predictors in our `logit_lasso_interact` model were deemed important and unimportant? (Feel free to just report on the number of them found to be important and unimportant. There is no need to list them all here.)"
   ]
  },
  {
   "cell_type": "markdown",
   "metadata": {},
   "source": [
    "<a id=\"part4solutions\"></a>\n",
    "\n",
    "## Question 4: Solutions\n",
    "\n",
    "[Return to contents](#contents)"
   ]
  },
  {
   "cell_type": "markdown",
   "metadata": {
    "cell_id": "0a790850-87c6-4f46-b89e-048a2295c92b",
    "colab_type": "text",
    "id": "IGFtXJmQap2q"
   },
   "source": [
    "<div class='exercise-r'>\n",
    "\n",
    "**4.1** You were instructed to NOT scale predictors in the prior sections above. The primary reason for this was to focus instead on the interpretability of our logistic regression coefficients. However, as we're sure you noticed, the numeric scale among our different predictors varies greatly (i.e. `test` values are in the 1,000's while others are much, much smaller). In practice, we might want to put our predictors all on a similar scale, particularly for regularized regression and/or distance-based algorithms such as $k$-NN classification. (1) Please explain why scaling under these circumstances might be important. Then, (2) actually apply standardized scaling to all of the **non-binary** predictors in our original set of 12 predictors (for both the training and test sets).\n",
    "\n",
    "**IMPORTANT:** These scaled predictors should be used instead of the original unscaled versions of the predictors for the remainder of this problem set.\n",
    "\n",
    "</div>"
   ]
  },
  {
   "cell_type": "markdown",
   "metadata": {},
   "source": [
    "**INTERPRETATION:**"
   ]
  },
  {
   "cell_type": "markdown",
   "metadata": {},
   "source": [
    "**It's necessary to scale the data predictors for regularized regression, because regularization behaves differently for different scaling. For example, L2 regularization pushes larger weights towards zero more strongly than smaller weights. It's necessary to scale the data predictors for distance-based algorithms such as kNN classification, because deciding not to scale the data will lead to drastically misleading predictions.**"
   ]
  },
  {
   "cell_type": "code",
   "execution_count": 17,
   "metadata": {},
   "outputs": [],
   "source": [
    "# your code here\n",
    "X_train = college_train[[\"test\", \"avg_ap\", \"gpa\", \"ap\", \"sat_subjects\",\"female\", \"minority\",\n",
    "                         \"international\",\"sports\", \"harvard\", \"early_app\", \"alumni\"]]\n",
    "X_test = college_test[[\"test\", \"avg_ap\", \"gpa\", \"ap\", \"sat_subjects\",\"female\", \"minority\",\n",
    "                       \"international\",\"sports\", \"harvard\", \"early_app\", \"alumni\"]]\n",
    "\n",
    "X_train_nonbi = pd.DataFrame(StandardScaler().fit_transform(X_train[[\"test\", \"avg_ap\", \"gpa\", \"ap\", \"sat_subjects\"]]), \n",
    "                             columns= [\"test\", \"avg_ap\", \"gpa\", \"ap\", \"sat_subjects\"]).reset_index()\n",
    "X_train_bi = X_train[[\"female\", \"minority\",\"international\",\"sports\", \"harvard\", \"early_app\", \"alumni\"]].reset_index()\n",
    "\n",
    "X_train = pd.concat([X_train_nonbi,X_train_bi], axis = 1)[[\"test\", \"avg_ap\", \"gpa\", \"ap\", \"sat_subjects\",\"female\", \"minority\",\n",
    "                         \"international\",\"sports\", \"harvard\", \"early_app\", \"alumni\"]]\n",
    "\n",
    "\n",
    "X_test_nonbi = pd.DataFrame(StandardScaler().fit_transform(X_test[[\"test\", \"avg_ap\", \"gpa\", \"ap\", \"sat_subjects\"]]), \n",
    "                             columns= [\"test\", \"avg_ap\", \"gpa\", \"ap\", \"sat_subjects\"]).reset_index()\n",
    "X_test_bi = X_test[[\"female\", \"minority\",\"international\",\"sports\", \"harvard\", \"early_app\", \"alumni\"]].reset_index()\n",
    "\n",
    "X_test = pd.concat([X_test_nonbi,X_test_bi], axis = 1)[[\"test\", \"avg_ap\", \"gpa\", \"ap\", \"sat_subjects\",\"female\", \"minority\",\n",
    "                         \"international\",\"sports\", \"harvard\", \"early_app\", \"alumni\"]]\n",
    "\n",
    "\n"
   ]
  },
  {
   "cell_type": "markdown",
   "metadata": {
    "cell_id": "0a790850-87c6-4f46-b89e-048a2295c92b",
    "colab_type": "text",
    "id": "IGFtXJmQap2q"
   },
   "source": [
    "<div class='exercise-r'>\n",
    "\n",
    "**4.2** Fit a well-tuned $k$-NN classification model with main effects of all 12 predictors in it (call it `knn_model`).  Use `ks = [1, 3, 5, 9, 15, 21, 51, 71, 101, 131, 171, 201]` and 10-fold cross-validation with classification accuracy as the scoring metric. Plot, on a single set of axes, your resulting cross-validation mean training and mean validation scores at each value $k$. Then, report your chosen $k$ and the classification accuracy on train and test for your final fitted model.\n",
    "    \n",
    "</div>"
   ]
  },
  {
   "cell_type": "code",
   "execution_count": 18,
   "metadata": {},
   "outputs": [
    {
     "name": "stdout",
     "output_type": "stream",
     "text": [
      "The best k (resulting in highest accuracy on testing data) is 21.\n",
      "The accuracy of logistic regression on training data is 74.40%.\n",
      "The accuracy of logistic regression on test data is 71.20%.\n"
     ]
    }
   ],
   "source": [
    "np.random.seed(121) # Do not delete or modify this line of code\n",
    "\n",
    "# your code here\n",
    "ks = [1, 3, 5, 9, 15, 21, 51, 71, 101, 131, 171, 201]\n",
    "cv = 10\n",
    "accs_tr = []\n",
    "accs_ts = []\n",
    "for k in ks:\n",
    "    knn_model = KNeighborsClassifier(n_neighbors=k).fit(X_train, y_train)\n",
    "    scores = cross_validate(knn_model, X_train, y_train, cv=cv, scoring=\"accuracy\", return_train_score=True)\n",
    "    accs_tr.append(scores['train_score'].mean())\n",
    "    accs_ts.append(scores['test_score'].mean())\n",
    "best_k = ks[accs_ts.index(max(accs_ts))]\n",
    "\n",
    "knn_model = KNeighborsClassifier(n_neighbors=best_k).fit(X_train, y_train)\n",
    "y_train_pred = knn_model.predict(X_train)\n",
    "y_test_pred = knn_model.predict(X_test)\n",
    "y_test_proba_knn_model = knn_model.predict_proba(X_test)\n",
    "train_acc_knn_model = accuracy_score(y_train, y_train_pred)*100\n",
    "test_acc_knn_model = accuracy_score(y_test, y_test_pred)*100\n",
    "print(f\"The best k (resulting in highest accuracy on testing data) is {best_k}.\")\n",
    "   \n",
    "print(f\"The accuracy of logistic regression on training data is {train_acc_knn_model:.2f}%.\")\n",
    "print(f\"The accuracy of logistic regression on test data is {test_acc_knn_model:.2f}%.\")"
   ]
  },
  {
   "cell_type": "code",
   "execution_count": 19,
   "metadata": {},
   "outputs": [
    {
     "data": {
      "text/plain": [
       "<matplotlib.legend.Legend at 0x7fa8e99feb80>"
      ]
     },
     "execution_count": 19,
     "metadata": {},
     "output_type": "execute_result"
    },
    {
     "data": {
      "image/png": "[encoded data removed]",
      "text/plain": [
       "<Figure size 432x288 with 1 Axes>"
      ]
     },
     "metadata": {
      "needs_background": "light"
     },
     "output_type": "display_data"
    }
   ],
   "source": [
    "accs_ts.index(min(accs_ts))\n",
    "fig, ax = plt.subplots()\n",
    "plt.scatter(ks,accs_ts,color='red', label = 'test set', s=10, alpha= 0.5)\n",
    "plt.scatter(ks,accs_tr,color='blue', label = 'training set', s=10, alpha= 0.5)\n",
    "plt.title(\"Mean Accuracies of kNN Classifiers by 10-fold Cross-Validation\")\n",
    "ax.legend()"
   ]
  },
  {
   "cell_type": "markdown",
   "metadata": {
    "cell_id": "0a790850-87c6-4f46-b89e-048a2295c92b",
    "colab_type": "text",
    "id": "IGFtXJmQap2q"
   },
   "source": [
    "<div class='exercise-r'>\n",
    "\n",
    "**4.3** Fit the full logistic regression model (without penalty) with main effects of all 12 predictors in it (call it `logit_full`). Print out the coefficient estimates and report the classification accuracy on train and test for this model.\n",
    "\n",
    "**HINT:** If you have convergence warnings, increasing the maximum number of iterations will likely solve this issue.\n",
    "    \n",
    "</div>"
   ]
  },
  {
   "cell_type": "code",
   "execution_count": 20,
   "metadata": {
    "scrolled": false
   },
   "outputs": [
    {
     "name": "stdout",
     "output_type": "stream",
     "text": [
      "Logistic Regression Estimated Beta (B0): -1.7090.\n",
      "Logistic Regression Estimated Beta (B1): 0.7838.\n",
      "Logistic Regression Estimated Beta (B2): 0.0975.\n",
      "Logistic Regression Estimated Beta (B3): 0.1056.\n",
      "Logistic Regression Estimated Beta (B4): -0.1403.\n",
      "Logistic Regression Estimated Beta (B5): -0.0952.\n",
      "Logistic Regression Estimated Beta (B6): 0.0518.\n",
      "Logistic Regression Estimated Beta (B7): 0.9165.\n",
      "Logistic Regression Estimated Beta (B8): 0.4500.\n",
      "Logistic Regression Estimated Beta (B9): 1.2334.\n",
      "Logistic Regression Estimated Beta (B10): 0.2581.\n",
      "Logistic Regression Estimated Beta (B11): 0.3737.\n",
      "Logistic Regression Estimated Beta (B12): 0.6629.\n",
      "The accuracy of logistic regression on training data is 74.53%.\n",
      "The accuracy of logistic regression on test data is 70.93%.\n"
     ]
    }
   ],
   "source": [
    "# your code here\n",
    "X_train = college_train[[\"test\", \"avg_ap\", \"gpa\", \"ap\", \"sat_subjects\",\"female\", \"minority\",\n",
    "                         \"international\",\"sports\", \"harvard\", \"early_app\", \"alumni\"]]\n",
    "X_test = college_test[[\"test\", \"avg_ap\", \"gpa\", \"ap\", \"sat_subjects\",\"female\", \"minority\",\n",
    "                       \"international\",\"sports\", \"harvard\", \"early_app\", \"alumni\"]]\n",
    "\n",
    "X_train_nonbi = pd.DataFrame(StandardScaler().fit_transform(X_train[[\"test\", \"avg_ap\", \"gpa\", \"ap\", \"sat_subjects\"]]), \n",
    "                             columns= [\"test\", \"avg_ap\", \"gpa\", \"ap\", \"sat_subjects\"]).reset_index()\n",
    "X_train_bi = X_train[[\"female\", \"minority\",\"international\",\"sports\", \"harvard\", \"early_app\", \"alumni\"]].reset_index()\n",
    "\n",
    "X_train = pd.concat([X_train_nonbi,X_train_bi], axis = 1)[[\"test\", \"avg_ap\", \"gpa\", \"ap\", \"sat_subjects\",\"female\", \"minority\",\n",
    "                         \"international\",\"sports\", \"harvard\", \"early_app\", \"alumni\"]]\n",
    "\n",
    "\n",
    "X_test_nonbi = pd.DataFrame(StandardScaler().fit_transform(X_test[[\"test\", \"avg_ap\", \"gpa\", \"ap\", \"sat_subjects\"]]), \n",
    "                             columns= [\"test\", \"avg_ap\", \"gpa\", \"ap\", \"sat_subjects\"]).reset_index()\n",
    "X_test_bi = X_test[[\"female\", \"minority\",\"international\",\"sports\", \"harvard\", \"early_app\", \"alumni\"]].reset_index()\n",
    "\n",
    "X_test = pd.concat([X_test_nonbi,X_test_bi], axis = 1)[[\"test\", \"avg_ap\", \"gpa\", \"ap\", \"sat_subjects\",\"female\", \"minority\",\n",
    "                         \"international\",\"sports\", \"harvard\", \"early_app\", \"alumni\"]]\n",
    "\n",
    "\n",
    "logit_full = LogisticRegression(penalty=\"none\")\n",
    "logit_full.fit(X_train,y_train)\n",
    "\n",
    "y_train_pred = logit_full.predict(X_train)\n",
    "y_test_pred = logit_full.predict(X_test)\n",
    "y_test_proba_logit_full = logit_full.predict_proba(X_test)\n",
    "train_acc_logit_full = accuracy_score(y_train,y_train_pred)*100\n",
    "test_acc_logit_full = accuracy_score(y_test,y_test_pred)*100\n",
    "\n",
    "print(f\"Logistic Regression Estimated Beta (B0): {logit_full.intercept_[0]:.4f}.\")\n",
    "for i in range(12):\n",
    "    print(f\"Logistic Regression Estimated Beta (B{i+1}): {logit_full.coef_[0][i]:.4f}.\")\n",
    "    \n",
    "print(f\"The accuracy of logistic regression on training data is {train_acc_logit_full:.2f}%.\")\n",
    "print(f\"The accuracy of logistic regression on test data is {test_acc_logit_full:.2f}%.\")"
   ]
  },
  {
   "cell_type": "markdown",
   "metadata": {
    "cell_id": "0a790850-87c6-4f46-b89e-048a2295c92b",
    "colab_type": "text",
    "id": "IGFtXJmQap2q"
   },
   "source": [
    "<div class='exercise-r'>\n",
    "\n",
    "**4.4** Fit a well-tuned Lasso-like logistic regression model from all 12 predictors in it (call it `logit_lasso`). Use `Cs = [1e-4, 1e-3, 1e-2, 1e-1, 1e0, 1e1, 1e2, 1e3, 1e4]` and 10-fold cross-validation with classification accuracy as the scoring metric.  Print out the coefficient estimates and report the classification accuracy on train and test for this model.\n",
    "\n",
    "</div>"
   ]
  },
  {
   "cell_type": "code",
   "execution_count": 21,
   "metadata": {},
   "outputs": [
    {
     "name": "stdout",
     "output_type": "stream",
     "text": [
      "The best c (resulting in highest accuracy on testing data) is 10.0.\n",
      "The accuracy of logistic regression on training data is 74.53%.\n",
      "The accuracy of logistic regression on test data is 70.67%.\n",
      "The coefficients are: [ 0.78191843  0.09518917  0.10454028 -0.13875588 -0.09432887  0.04923301\n",
      "  0.91204104  0.44033259  1.22137061  0.25438176  0.37010988  0.65623782].\n"
     ]
    }
   ],
   "source": [
    "# your code here\n",
    "X_train = college_train[[\"test\", \"avg_ap\", \"gpa\", \"ap\", \"sat_subjects\",\"female\", \"minority\",\n",
    "                         \"international\",\"sports\", \"harvard\", \"early_app\", \"alumni\"]]\n",
    "X_test = college_test[[\"test\", \"avg_ap\", \"gpa\", \"ap\", \"sat_subjects\",\"female\", \"minority\",\n",
    "                       \"international\",\"sports\", \"harvard\", \"early_app\", \"alumni\"]]\n",
    "\n",
    "X_train_nonbi = pd.DataFrame(StandardScaler().fit_transform(X_train[[\"test\", \"avg_ap\", \"gpa\", \"ap\", \"sat_subjects\"]]), \n",
    "                             columns= [\"test\", \"avg_ap\", \"gpa\", \"ap\", \"sat_subjects\"]).reset_index()\n",
    "X_train_bi = X_train[[\"female\", \"minority\",\"international\",\"sports\", \"harvard\", \"early_app\", \"alumni\"]].reset_index()\n",
    "\n",
    "X_train = pd.concat([X_train_nonbi,X_train_bi], axis = 1)[[\"test\", \"avg_ap\", \"gpa\", \"ap\", \"sat_subjects\",\"female\", \"minority\",\n",
    "                         \"international\",\"sports\", \"harvard\", \"early_app\", \"alumni\"]]\n",
    "\n",
    "\n",
    "X_test_nonbi = pd.DataFrame(StandardScaler().fit_transform(X_test[[\"test\", \"avg_ap\", \"gpa\", \"ap\", \"sat_subjects\"]]), \n",
    "                             columns= [\"test\", \"avg_ap\", \"gpa\", \"ap\", \"sat_subjects\"]).reset_index()\n",
    "X_test_bi = X_test[[\"female\", \"minority\",\"international\",\"sports\", \"harvard\", \"early_app\", \"alumni\"]].reset_index()\n",
    "\n",
    "X_test = pd.concat([X_test_nonbi,X_test_bi], axis = 1)[[\"test\", \"avg_ap\", \"gpa\", \"ap\", \"sat_subjects\",\"female\", \"minority\",\n",
    "                         \"international\",\"sports\", \"harvard\", \"early_app\", \"alumni\"]]\n",
    "\n",
    "\n",
    "Cs = [1e-4, 1e-3, 1e-2, 1e-1, 1e0, 1e1, 1e2, 1e3, 1e4]\n",
    "cv = 10\n",
    "accs_tr = []\n",
    "accs_ts = []\n",
    "for c in Cs:\n",
    "    logit_lasso = LogisticRegression(penalty='l1', solver = \"liblinear\", C = c).fit(X_train, y_train)\n",
    "    scores = cross_validate(logit_lasso, X_train, y_train, cv=cv, scoring=\"accuracy\", return_train_score=True)\n",
    "    accs_tr.append(scores['train_score'].mean())\n",
    "    accs_ts.append(scores['test_score'].mean())\n",
    "best_c = Cs[accs_ts.index(max(accs_ts))]\n",
    "print(f\"The best c (resulting in highest accuracy on testing data) is {best_c}.\")\n",
    "\n",
    "# final \n",
    "logit_lasso = LogisticRegression(penalty='l1', solver = \"liblinear\", C = best_c).fit(X_train, y_train)\n",
    "y_train_pred = logit_lasso.predict(X_train)\n",
    "y_test_pred = logit_lasso.predict(X_test)\n",
    "y_test_proba_logit_lasso = logit_lasso.predict_proba(X_test)\n",
    "train_acc_logit_lasso = accuracy_score(y_train, y_train_pred)*100\n",
    "test_acc_logit_lasso = accuracy_score(y_test, y_test_pred)*100\n",
    "\n",
    "print(f\"The accuracy of logistic regression on training data is {train_acc_logit_lasso:.2f}%.\")\n",
    "print(f\"The accuracy of logistic regression on test data is {test_acc_logit_lasso:.2f}%.\")\n",
    "print(f\"The coefficients are: {logit_lasso.coef_[0]}.\")"
   ]
  },
  {
   "cell_type": "markdown",
   "metadata": {
    "cell_id": "0a790850-87c6-4f46-b89e-048a2295c92b",
    "colab_type": "text",
    "id": "IGFtXJmQap2q"
   },
   "source": [
    "<div class='exercise-r'>\n",
    "\n",
    "**4.5** Which predictors were deemed important in `logit_lasso`?  Which were deemed unimportant? Please remember that, as a general practice, zero-value Lasso coefficients (i.e. $\\beta_i=0$) are considered \"unimportant\".\n",
    " \n",
    "</div>"
   ]
  },
  {
   "cell_type": "code",
   "execution_count": 22,
   "metadata": {},
   "outputs": [
    {
     "name": "stdout",
     "output_type": "stream",
     "text": [
      "The coefficients are: [ 0.78191843  0.09518917  0.10454028 -0.13875588 -0.09432887  0.04923301\n",
      "  0.91204104  0.44033259  1.22137061  0.25438176  0.37010988  0.65623782].\n",
      "Since all Lasso coefficients are not zero, they are all considered important.\n"
     ]
    }
   ],
   "source": [
    "# your code here\n",
    "print(f\"The coefficients are: {logit_lasso.coef_[0]}.\")\n",
    "print(f\"Since all Lasso coefficients are not zero, they are all considered important.\")"
   ]
  },
  {
   "cell_type": "markdown",
   "metadata": {
    "cell_id": "0a790850-87c6-4f46-b89e-048a2295c92b",
    "colab_type": "text",
    "id": "IGFtXJmQap2q"
   },
   "source": [
    "<div class='exercise-r'>\n",
    "\n",
    "**4.6** Fit a well-tuned Lasso-like logistic regression model with all important predictors from `logit_lasso` and all the unique 2-way interactions between them (call it `logit_lasso_interact`).  Again use `Cs = [1e-4, 1e-3, 1e-2, 1e-1, 1e0, 1e1, 1e2, 1e3, 1e4]` and 10-fold cross-validation with classification accuracy as the scoring metric. Report the classification accuracy on train and test for this model.\n",
    "\n",
    "</div>"
   ]
  },
  {
   "cell_type": "code",
   "execution_count": 23,
   "metadata": {},
   "outputs": [
    {
     "name": "stdout",
     "output_type": "stream",
     "text": [
      "The best c (resulting in highest accuracy on testing data) is 1.0.\n",
      "The accuracy of logistic regression on training data is 76.47%.\n",
      "The accuracy of logistic regression on test data is 70.67%.\n",
      "The coefficients are: [ 0.56995861 -0.10431822  0.13602436  0.0703481  -0.00942526 -0.12080413\n",
      "  1.33326613  0.          1.45525756  0.07801242  0.3842038   0.02661948\n",
      "  0.00491917  0.12946745 -0.04900709 -0.06363385  0.08053999  0.09687589\n",
      "  0.17453122  0.          0.23551252 -0.36745541  1.0987086  -0.18514202\n",
      "  0.          0.13699988  0.05477081  0.2440511   0.16519229 -0.10074692\n",
      "  0.29883589  0.20943399  0.15934263  0.06551766  0.         -0.00423388\n",
      "  0.21979475  0.         -0.40007218  0.         -0.02008863  0.\n",
      " -0.06061714  0.0463466   0.         -0.54338517 -0.18525479 -0.32429987\n",
      " -0.19006856  0.05343817  0.00561478  0.          1.12793494  0.\n",
      " -0.24179736  0.01072416  0.02469472 -0.27810828  0.16344896 -0.70969232\n",
      "  0.34130537  0.24737727  0.         -0.13952656 -0.42370711 -0.42092698\n",
      "  0.          0.328511    0.          0.         -0.0949609   0.\n",
      "  0.          0.43827297  0.         -0.2005683   0.53019099  0.        ].\n"
     ]
    }
   ],
   "source": [
    "# your code here\n",
    "X_train = college_train[[\"test\", \"avg_ap\", \"gpa\", \"ap\", \"sat_subjects\",\"female\", \"minority\",\n",
    "                         \"international\",\"sports\", \"harvard\", \"early_app\", \"alumni\"]]\n",
    "X_test = college_test[[\"test\", \"avg_ap\", \"gpa\", \"ap\", \"sat_subjects\",\"female\", \"minority\",\n",
    "                       \"international\",\"sports\", \"harvard\", \"early_app\", \"alumni\"]]\n",
    "\n",
    "X_train_nonbi = pd.DataFrame(StandardScaler().fit_transform(X_train[[\"test\", \"avg_ap\", \"gpa\", \"ap\", \"sat_subjects\"]]), \n",
    "                             columns= [\"test\", \"avg_ap\", \"gpa\", \"ap\", \"sat_subjects\"]).reset_index()\n",
    "X_train_bi = X_train[[\"female\", \"minority\",\"international\",\"sports\", \"harvard\", \"early_app\", \"alumni\"]].reset_index()\n",
    "\n",
    "X_train = pd.concat([X_train_nonbi,X_train_bi], axis = 1)[[\"test\", \"avg_ap\", \"gpa\", \"ap\", \"sat_subjects\",\"female\", \"minority\",\n",
    "                         \"international\",\"sports\", \"harvard\", \"early_app\", \"alumni\"]]\n",
    "\n",
    "\n",
    "X_test_nonbi = pd.DataFrame(StandardScaler().fit_transform(X_test[[\"test\", \"avg_ap\", \"gpa\", \"ap\", \"sat_subjects\"]]), \n",
    "                             columns= [\"test\", \"avg_ap\", \"gpa\", \"ap\", \"sat_subjects\"]).reset_index()\n",
    "X_test_bi = X_test[[\"female\", \"minority\",\"international\",\"sports\", \"harvard\", \"early_app\", \"alumni\"]].reset_index()\n",
    "\n",
    "X_test = pd.concat([X_test_nonbi,X_test_bi], axis = 1)[[\"test\", \"avg_ap\", \"gpa\", \"ap\", \"sat_subjects\",\"female\", \"minority\",\n",
    "                         \"international\",\"sports\", \"harvard\", \"early_app\", \"alumni\"]]\n",
    "\n",
    "interactions = PolynomialFeatures(interaction_only=True,include_bias = False)\n",
    "\n",
    "X_train_inter = interactions.fit_transform(X_train)\n",
    "X_test_inter = interactions.transform(X_test)\n",
    "        \n",
    "# logit lasso\n",
    "Cs = [1e-4, 1e-3, 1e-2, 1e-1, 1e0, 1e1, 1e2, 1e3, 1e4]\n",
    "cv = 10\n",
    "accs_tr = []\n",
    "accs_ts = []\n",
    "for c in Cs:\n",
    "    logit_lasso_interact = LogisticRegression(penalty='l1', solver = \"liblinear\", C = c).fit(X_train_inter, y_train)\n",
    "    scores = cross_validate(logit_lasso_interact, X_train_inter, y_train, cv=cv, scoring=\"accuracy\", return_train_score=True)\n",
    "    accs_tr.append(scores['train_score'].mean())\n",
    "    accs_ts.append(scores['test_score'].mean())\n",
    "best_c = Cs[accs_ts.index(max(accs_ts))]\n",
    "print(f\"The best c (resulting in highest accuracy on testing data) is {best_c}.\")\n",
    "\n",
    "# final\n",
    "logit_lasso_interact = LogisticRegression(penalty='l1', solver = \"liblinear\", C = best_c).fit(X_train_inter, y_train)\n",
    "y_train_pred = logit_lasso_interact.predict(X_train_inter)\n",
    "y_test_pred = logit_lasso_interact.predict(X_test_inter)\n",
    "y_test_proba_logit_lasso_interact = logit_lasso_interact.predict_proba(X_test_inter)\n",
    "train_acc_logit_lasso_interact = accuracy_score(y_train, y_train_pred)*100\n",
    "test_acc_logit_lasso_interact = accuracy_score(y_test, y_test_pred)*100\n",
    "\n",
    "print(f\"The accuracy of logistic regression on training data is {train_acc_logit_lasso_interact:.2f}%.\")\n",
    "print(f\"The accuracy of logistic regression on test data is {test_acc_logit_lasso_interact:.2f}%.\")\n",
    "print(f\"The coefficients are: {logit_lasso_interact.coef_[0]}.\")"
   ]
  },
  {
   "cell_type": "code",
   "execution_count": 24,
   "metadata": {},
   "outputs": [],
   "source": [
    "# encode interactions\n",
    "cols = [\"test\", \"avg_ap\", \"gpa\", \"ap\", \"sat_subjects\",\"female\", \"minority\",\n",
    "                     \"international\",\"sports\", \"harvard\", \"early_app\", \"alumni\"]\n",
    "for i in range(len(cols)):\n",
    "    for j in range(i+1, len(cols)):\n",
    "        var_name = cols[i] + '_' + cols[j]\n",
    "        X_train[var_name] = X_train[cols[i]] * X_train[cols[j]]\n",
    "        X_test[var_name] = X_test[cols[i]] * X_test[cols[j]]"
   ]
  },
  {
   "cell_type": "markdown",
   "metadata": {
    "cell_id": "0a790850-87c6-4f46-b89e-048a2295c92b",
    "colab_type": "text",
    "id": "IGFtXJmQap2q"
   },
   "source": [
    "<div class='exercise-r'>\n",
    "\n",
    "**4.7** How many of the predictors in our `logit_lasso_interact` model were deemed important and unimportant? (Feel free to just report on the number of them found to be important and unimportant. There is no need to list them all here.)\n",
    "    \n",
    "</div>"
   ]
  },
  {
   "cell_type": "code",
   "execution_count": 25,
   "metadata": {},
   "outputs": [
    {
     "name": "stdout",
     "output_type": "stream",
     "text": [
      "The coefficients are: [ 0.56995861 -0.10431822  0.13602436  0.0703481  -0.00942526 -0.12080413\n",
      "  1.33326613  0.          1.45525756  0.07801242  0.3842038   0.02661948\n",
      "  0.00491917  0.12946745 -0.04900709 -0.06363385  0.08053999  0.09687589\n",
      "  0.17453122  0.          0.23551252 -0.36745541  1.0987086  -0.18514202\n",
      "  0.          0.13699988  0.05477081  0.2440511   0.16519229 -0.10074692\n",
      "  0.29883589  0.20943399  0.15934263  0.06551766  0.         -0.00423388\n",
      "  0.21979475  0.         -0.40007218  0.         -0.02008863  0.\n",
      " -0.06061714  0.0463466   0.         -0.54338517 -0.18525479 -0.32429987\n",
      " -0.19006856  0.05343817  0.00561478  0.          1.12793494  0.\n",
      " -0.24179736  0.01072416  0.02469472 -0.27810828  0.16344896 -0.70969232\n",
      "  0.34130537  0.24737727  0.         -0.13952656 -0.42370711 -0.42092698\n",
      "  0.          0.328511    0.          0.         -0.0949609   0.\n",
      "  0.          0.43827297  0.         -0.2005683   0.53019099  0.        ].\n",
      "18 predictors with 0 coefficients are considered unimportant. 60 predictors with non zero coefficients are considered important.\n"
     ]
    }
   ],
   "source": [
    "# your code here\n",
    "print(f\"The coefficients are: {logit_lasso_interact.coef_[0]}.\")\n",
    "print(f\"{sum(1*(logit_lasso_interact.coef_[0] == 0))} predictors with 0 coefficients are considered unimportant. {sum(1*(logit_lasso_interact.coef_[0] != 0))} predictors with non zero coefficients are considered important.\")"
   ]
  },
  {
   "cell_type": "markdown",
   "metadata": {},
   "source": [
    "---"
   ]
  },
  {
   "cell_type": "markdown",
   "metadata": {},
   "source": [
    "<a id=\"part5\"></a>\n",
    "\n",
    "## <div class='exercise'>Question 5: Evaluating results [12 pts]</div>\n",
    "\n",
    "[Return to contents](#contents)\n",
    "\n",
    "**5.1** Which of the 4 models in Question 4 performs the best based on classification accuracy?  Which performs the worst? Based on these accuracies, how do these models perform compared to your baseline \"naive\" model back in Question 1.1? What does this comparison to the \"naive\" model tell us?\n",
    "\n",
    "**5.2** Draw the four ROC curves on the same set of axes using the test data.  How do these ROC curves compare?  Do the ROC curves support that the best model identified in Question 5.1 is better than the worst model identified in 5.1?  How do you know?\n",
    "\n",
    "**5.3** Calculate and report AUC for all 4 models.  Do the rankings of these 4 models based on AUC match those for classification accuracy?  Why do you think this is the case?\n",
    "\n",
    "**5.4** If you were to use one of these 4 models to present as a prediction model for the website [collegedata.com](https://www.collegedata.com/), which would you use and why?  What may be the biggest issue if this was a publicly available tool for college applicants to use to determine their chances of getting into Harvard and/or Yale?\n"
   ]
  },
  {
   "cell_type": "markdown",
   "metadata": {},
   "source": [
    "<a id=\"part5solutions\"></a>\n",
    "\n",
    "## Question 5: Solutions\n",
    "\n",
    "[Return to contents](#contents)"
   ]
  },
  {
   "cell_type": "markdown",
   "metadata": {
    "cell_id": "0a790850-87c6-4f46-b89e-048a2295c92b",
    "colab_type": "text",
    "id": "IGFtXJmQap2q"
   },
   "source": [
    "<div class='exercise-r'>\n",
    "\n",
    "**5.1** Which of the 4 models in Question 4 performs the best based on classification accuracy?  Which performs the worst? Based on these accuracies, how do these models perform compared to your baseline \"naive\" model back in Question 1.1? What does this comparison to the \"naive\" model tell us?\n",
    "    \n",
    "</div>"
   ]
  },
  {
   "cell_type": "code",
   "execution_count": 26,
   "metadata": {},
   "outputs": [
    {
     "name": "stdout",
     "output_type": "stream",
     "text": [
      "The knn_model model with best k of 21 in Q4 performs the best based on classification accuracy on test data (71.20%).\n",
      "The logit_lasso and logit_lasso_interact models in Q4 perform the worst based on classification accuracy on test data (70.67% and 70.67%).\n"
     ]
    }
   ],
   "source": [
    "# your code here\n",
    "print(f\"The knn_model model with best k of {best_k} in Q4 performs the best based on classification accuracy on test data ({test_acc_knn_model:.2f}%).\")\n",
    "print(f\"The logit_lasso and logit_lasso_interact models in Q4 perform the worst based on classification accuracy on test data ({test_acc_logit_lasso:.2f}% and {test_acc_logit_lasso_interact:.2f}%).\")\n"
   ]
  },
  {
   "cell_type": "markdown",
   "metadata": {},
   "source": [
    "**INTERPRETATION:**"
   ]
  },
  {
   "cell_type": "markdown",
   "metadata": {},
   "source": [
    "**The knn_model model with best k of 21 in Q4 performs the best based on classification accuracy on test data (71.20%). The logit_lasso and logit_lasso_interact models in Q4 perform the worst based on classification accuracy on test data (70.67% and 70.67%). Compared to the baseline naive model in Q1.1, the models in Q4 perform better.**"
   ]
  },
  {
   "cell_type": "markdown",
   "metadata": {
    "cell_id": "0a790850-87c6-4f46-b89e-048a2295c92b",
    "colab_type": "text",
    "id": "IGFtXJmQap2q"
   },
   "source": [
    "<div class='exercise-r'>\n",
    "\n",
    "**5.2** Draw the four ROC curves on the same set of axes using the test data.  How do these ROC curves compare?  Do the ROC curves support that the best model identified in Question 5.1 is better than the worst model identified in 5.1?  How do you know?\n",
    "    \n",
    "</div>"
   ]
  },
  {
   "cell_type": "code",
   "execution_count": 27,
   "metadata": {},
   "outputs": [
    {
     "data": {
      "text/plain": [
       "Text(0, 0.5, 'TPR')"
      ]
     },
     "execution_count": 27,
     "metadata": {},
     "output_type": "execute_result"
    },
    {
     "data": {
      "image/png": "[encoded data removed]",
      "text/plain": [
       "<Figure size 864x720 with 4 Axes>"
      ]
     },
     "metadata": {
      "needs_background": "light"
     },
     "output_type": "display_data"
    }
   ],
   "source": [
    "# your code here\n",
    "lr_fpr, lr_tpr, _ = roc_curve(y_test, y_test_proba_knn_model[:,1])\n",
    "lr_fpr, lr_tpr, _ = roc_curve(y_test, y_test_proba_logit_full[:,1])\n",
    "lr_fpr, lr_tpr, _ = roc_curve(y_test, y_test_proba_logit_lasso[:,1])\n",
    "lr_fpr, lr_tpr, _ = roc_curve(y_test, y_test_proba_logit_lasso_interact[:,1])\n",
    "\n",
    "f, ax = plt.subplots(2, 2, figsize=(12, 10))\n",
    "lr_fpr, lr_tpr, _ = roc_curve(y_test, y_test_proba_knn_model[:,1])\n",
    "ax[0,0].plot(lr_fpr, lr_tpr, marker='.', label='knn_model')\n",
    "ax[0,0].legend()\n",
    "ax[0,0].set_title(\"ROC Curve of knn_model\")\n",
    "ax[0,0].set_xlabel('FPR')\n",
    "ax[0,0].set_ylabel('TPR')\n",
    "\n",
    "lr_fpr, lr_tpr, _ = roc_curve(y_test, y_test_proba_logit_full[:,1])\n",
    "ax[0,1].plot(lr_fpr, lr_tpr, marker='.', label='logit_full')\n",
    "ax[0,1].legend()\n",
    "ax[0,1].set_title(\"ROC Curve of logit_full\")\n",
    "ax[0,1].set_xlabel('FPR')\n",
    "ax[0,1].set_ylabel('TPR')\n",
    "\n",
    "lr_fpr, lr_tpr, _ = roc_curve(y_test, y_test_proba_logit_lasso[:,1])\n",
    "ax[1,0].plot(lr_fpr, lr_tpr, marker='.', label='logit_lasso')\n",
    "ax[1,0].legend()\n",
    "ax[1,0].set_title(\"ROC Curve of logit_lasso\")\n",
    "ax[1,0].set_xlabel('FPR')\n",
    "ax[1,0].set_ylabel('TPR')\n",
    "\n",
    "lr_fpr, lr_tpr, _ = roc_curve(y_test, y_test_proba_logit_lasso_interact[:,1])\n",
    "ax[1,1].plot(lr_fpr, lr_tpr, marker='.', label='logit_lasso_interact')\n",
    "ax[1,1].legend()\n",
    "ax[1,1].set_title(\"ROC Curve of logit_lasso_interact\")\n",
    "ax[1,1].set_xlabel('FPR')\n",
    "ax[1,1].set_ylabel('TPR')\n"
   ]
  },
  {
   "cell_type": "markdown",
   "metadata": {},
   "source": [
    "**INTERPRETATION:**"
   ]
  },
  {
   "cell_type": "markdown",
   "metadata": {},
   "source": [
    "**When we comparing these ROC curves, we want our best model's ROC curve to be far from the straight line y=x. By observing these four plots, I don't think I can differentiate which is better and which is worse. But these models are better than random guess because the area under the curve (AUC) is higher than 0.5.**"
   ]
  },
  {
   "cell_type": "markdown",
   "metadata": {
    "cell_id": "0a790850-87c6-4f46-b89e-048a2295c92b",
    "colab_type": "text",
    "id": "IGFtXJmQap2q"
   },
   "source": [
    "<div class='exercise-r'>\n",
    "\n",
    "**5.3** Calculate and report AUC for all 4 models.  Do the rankings of these 4 models based on AUC match those for classification accuracy?  Why do you think this is the case?\n",
    "    \n",
    "</div>"
   ]
  },
  {
   "cell_type": "code",
   "execution_count": 28,
   "metadata": {},
   "outputs": [
    {
     "name": "stdout",
     "output_type": "stream",
     "text": [
      "The AUC for knn_model model is 0.6793.\n",
      "The AUC for logit_full model is 0.6970.\n",
      "The AUC for logit_lasso model is 0.6970.\n",
      "The AUC for logit_lasso_interact model is 0.6796.\n"
     ]
    }
   ],
   "source": [
    "# your code here\n",
    "knn_model_auc = roc_auc_score(y_test, y_test_proba_knn_model[:,1])\n",
    "logit_full_auc = roc_auc_score(y_test, y_test_proba_logit_full[:,1])\n",
    "logit_lasso_auc = roc_auc_score(y_test, y_test_proba_logit_lasso[:,1])\n",
    "logit_lasso_interact_auc = roc_auc_score(y_test, y_test_proba_logit_lasso_interact[:,1])\n",
    "print(f\"The AUC for knn_model model is {knn_model_auc:.4f}.\")\n",
    "print(f\"The AUC for logit_full model is {logit_full_auc:.4f}.\")\n",
    "print(f\"The AUC for logit_lasso model is {logit_lasso_auc:.4f}.\")\n",
    "print(f\"The AUC for logit_lasso_interact model is {logit_lasso_interact_auc:.4f}.\")"
   ]
  },
  {
   "cell_type": "markdown",
   "metadata": {},
   "source": [
    "**INTERPRETATION:**"
   ]
  },
  {
   "cell_type": "markdown",
   "metadata": {},
   "source": [
    "**logit_full model and logit_lasso model achieve the highest AUC values. This is not consistent with classification accuracy. I think this is because AUC and accuracy are difference measurement focusing on measuring model perform from different perspective. For example, accuracy measures the proportion of accurate predictions among all prodictions, while AUC is calculated based on FPR and TPR.**"
   ]
  },
  {
   "cell_type": "markdown",
   "metadata": {
    "cell_id": "0a790850-87c6-4f46-b89e-048a2295c92b",
    "colab_type": "text",
    "id": "IGFtXJmQap2q"
   },
   "source": [
    "<div class='exercise-r'>\n",
    "\n",
    "**5.4** If you were to use one of these 4 models to present as a prediction model for the website [collegedata.com](https://www.collegedata.com/), which would you use and why?  What may be the biggest issue if this was a publicly available tool for college applicants to use to determine their chances of getting into Harvard and/or Yale?\n",
    "    \n",
    "</div>"
   ]
  },
  {
   "cell_type": "markdown",
   "metadata": {},
   "source": [
    "**I will use logit_full and I choose this model based on both accuracy and AUC. The accuracy of logit_full is mediate compared to other models. The AUC of logit_full is the highest. I think the biggest issue is that the data we used to build models are collected from volunteers so this procedure may introduce bias and make our model misleading. Therefore, it could give college applicants misleading information and they could make wrong decisions.**"
   ]
  },
  {
   "cell_type": "markdown",
   "metadata": {},
   "source": [
    "#### THE END\n",
    "\n",
    "[Return to contents](#contents)"
   ]
  }
 ],
 "metadata": {
  "interpreter": {
   "hash": "aee8b7b246df8f9039afb4144a1f6fd8d2ca17a180786b69acc140d282b71a49"
  },
  "kernelspec": {
   "display_name": "Python 3",
   "language": "python",
   "name": "python3"
  },
  "language_info": {
   "codemirror_mode": {
    "name": "ipython",
    "version": 3
   },
   "file_extension": ".py",
   "mimetype": "text/x-python",
   "name": "python",
   "nbconvert_exporter": "python",
   "pygments_lexer": "ipython3",
   "version": "3.8.8"
  }
 },
 "nbformat": 4,
 "nbformat_minor": 4
}
