{
 "cells": [
  {
   "cell_type": "markdown",
   "id": "cf426d3f",
   "metadata": {},
   "source": [
    "# <img style=\"float: left; padding-right: 10px; width: 45px\" src=\"https://raw.githubusercontent.com/Harvard-IACS/2018-CS109A/master/content/styles/iacs.png\"> CS109A Introduction to Data Science\n",
    "\n",
    "## Homework 4: Missing Data and Principal Component Analysis (PCA)\n",
    "\n",
    "\n",
    "**Harvard University**<br/>\n",
    "**Fall 2021**<br/>\n",
    "**Instructors**: Pavlos Protopapas, Natesh Pillai\n",
    "\n",
    "---"
   ]
  },
  {
   "cell_type": "code",
   "execution_count": 1,
   "id": "f31fc663",
   "metadata": {},
   "outputs": [
    {
     "data": {
      "text/html": [
       "<style>\n",
       "blockquote { background: #AEDE94; }\n",
       "h1 {\n",
       "    padding-top: 25px;\n",
       "    padding-bottom: 25px;\n",
       "    text-align: left;\n",
       "    padding-left: 10px;\n",
       "    background-color: #63ACBE;\n",
       "    color: black;\n",
       "}\n",
       "h2 {\n",
       "    padding-top: 10px;\n",
       "    padding-bottom: 10px;\n",
       "    text-align: left;\n",
       "    padding-left: 5px;\n",
       "    background-color: #EEEEEE;\n",
       "    color: black;\n",
       "}\n",
       "\n",
       "div.exercise {\n",
       "\tbackground-color: #f8b4ab;\n",
       "\tborder-color: #E9967A;\n",
       "\tborder-left: 5px solid #601A4A;\n",
       "\tpadding: 0.5em;\n",
       "}\n",
       "\n",
       "div.exercise-r {\n",
       "\tbackground-color: #ffd0d0;\n",
       "\tborder-color: #E9967A;\n",
       "\tborder-left: 5px solid #601A4A;\n",
       "\tpadding: 0.5em;\n",
       "}\n",
       "\n",
       "\n",
       "span.sub-q {\n",
       "\tfont-weight: bold;\n",
       "}\n",
       "div.theme {\n",
       "\tbackground-color: #63ACBE;\n",
       "\tborder-color: #E9967A;\n",
       "\tborder-left: 5px solid #601A4A;\n",
       "\tpadding: 0.5em;\n",
       "\tfont-size: 18pt;\n",
       "}\n",
       "div.gc {\n",
       "\tbackground-color: #AEDE94;\n",
       "\tborder-color: #E9967A;\n",
       "\tborder-left: 5px solid #601A4A;\n",
       "\tpadding: 0.5em;\n",
       "\tfont-size: 12pt;\n",
       "}\n",
       "p.q1 {\n",
       "    padding-top: 5px;\n",
       "    padding-bottom: 5px;\n",
       "    text-align: left;\n",
       "    padding-left: 5px;\n",
       "    background-color: #EEEEEE;\n",
       "    color: black;\n",
       "}\n",
       "header {\n",
       "   padding-top: 35px;\n",
       "    padding-bottom: 35px;\n",
       "    text-align: left;\n",
       "    padding-left: 10px;\n",
       "    background-color: #DDDDDD;\n",
       "    color: black;\n",
       "}\n",
       "span.emph {\n",
       "\tcolor: #601A4A;\n",
       "\tfont-weight: bold;\n",
       "}\n",
       "\n",
       "</style>\n"
      ],
      "text/plain": [
       "<IPython.core.display.HTML object>"
      ]
     },
     "execution_count": 1,
     "metadata": {},
     "output_type": "execute_result"
    }
   ],
   "source": [
    "# RUN THIS CELL \n",
    "import requests\n",
    "from IPython.core.display import HTML\n",
    "styles = requests.get(\n",
    "    \"https://raw.githubusercontent.com/Harvard-IACS/2021-CS109A/master/\"\n",
    "    \"themes/static/css/cs109.css\"\n",
    ").text\n",
    "HTML(styles)"
   ]
  },
  {
   "cell_type": "markdown",
   "id": "c5f6c829",
   "metadata": {},
   "source": [
    "<a id=\"instructions\"></a>\n",
    "\n",
    "<hr style=\"height:2pt\">\n",
    "\n",
    "### INSTRUCTIONS\n",
    "\n",
    "\n",
    "- To submit your assignment follow the instructions given in Canvas.\n",
    "\n",
    "- Please **restart the kernel and run the entire notebook again before you submit.**\n",
    "\n",
    "- Running cells out of order is a common pitfall in Jupyter Notebooks. To make sure your code continues to work, restart the kernel and rerun your notebook periodically while working through this assignment. \n",
    "\n",
    "- We have tried to include all the libraries you may need to do the assignment in the imports cell provided below. **Please use only the libraries provided in those imports.**\n",
    "\n",
    "- Please use `.head(...)` when viewing data. Do not submit a notebook that is **excessively long**. \n",
    "\n",
    "- In questions that require code to answer, such as \"calculate and report $R^2$\", do not just output the value from a cell. Write a `print(...)` function that clearly labels the output, includes a reference to the calculated value, and rounds it to a reasonable number of digits. **Do not hard code values in your printed output**. For example, this is an appropriate print statement:\n",
    "```python\n",
    "print(f'The R^2 is {R:.4f}')\n",
    "```\n",
    "- **Your plots MUST be clearly labeled and easy to read,** including clear labels for the $x$ and $y$ axes, a descriptive title (\"MSE plot\" is NOT a descriptive title; \"95% confidence interval of coefficients for degree-5 polynomial model\" on the other hand is descriptive), a legend when appropriate, and clearly formatted text and graphics.\n",
    "\n",
    "- **Your code may also be evaluated for efficiency and clarity.** As a result, correct output is not always sufficient for full credit.\n",
    "\n",
    "<hr style=\"height:2pt\">"
   ]
  },
  {
   "cell_type": "markdown",
   "id": "cac3fd6b",
   "metadata": {
    "cell_id": "3c67b69c-c35a-45ee-88ff-99c701edb0a0",
    "colab_type": "text",
    "id": "BlViDCbxVtbG"
   },
   "source": [
    "### Import Libraries"
   ]
  },
  {
   "cell_type": "code",
   "execution_count": 2,
   "id": "e24e9f02",
   "metadata": {},
   "outputs": [],
   "source": [
    "# RUN THIS CELL\n",
    "\n",
    "# Import libraries\n",
    "import seaborn as sns\n",
    "import matplotlib.pyplot as plt\n",
    "import pandas as pd\n",
    "import numpy as np\n",
    "from sklearn.model_selection import train_test_split\n",
    "from sklearn.linear_model import LinearRegression\n",
    "from sklearn.neighbors import KNeighborsRegressor\n",
    "from sklearn.decomposition import PCA\n",
    "from sklearn.model_selection import cross_validate\n",
    "from sklearn.preprocessing import StandardScaler\n",
    "from sklearn.metrics import r2_score\n",
    "from sklearn.impute import SimpleImputer, KNNImputer\n",
    "\n",
    "# pandas tricks for better display\n",
    "pd.options.display.max_columns = 50  \n",
    "pd.options.display.max_rows = 500     \n",
    "pd.options.display.max_colwidth = 100\n",
    "pd.options.display.precision = 3\n",
    "\n",
    "%matplotlib inline"
   ]
  },
  {
   "cell_type": "markdown",
   "id": "06793fbe",
   "metadata": {},
   "source": [
    "<a id=\"contents\"></a>\n",
    "\n",
    "## Notebook contents\n",
    "\n",
    "- [**PART 1 [55 pts]: Predicting the selling price of used cars**](#part1)\n",
    "  - [Overview and Data Description](#part1intro)\n",
    "  - [Question 1: Visualizing Missing Data [10 pts]](#part1q1)\n",
    "      - [Solutions](#part1q1solution)\n",
    "  - [Question 2: Imputation Methods [45 pts]](#part1q2)\n",
    "      - [Solutions](#part1q2solution)\n",
    "\n",
    "\n",
    "- [**PART 2 [45 pts]: Principal Componant Analysis**](#part2)\n",
    "  - [Question 3: PCA for Regression [35 pts]](#part2q3)\n",
    "      - [Solutions](#part2q3solution)\n",
    "  - [Question 4: Visualizing Transformed Data [10 pts]](#part2q4)\n",
    "      - [Solutions](#part2q4solution)\n"
   ]
  },
  {
   "cell_type": "markdown",
   "id": "2a9dec7c",
   "metadata": {},
   "source": [
    "<a id=\"part1\"></a>\n",
    "    \n",
    "# PART 1 [55 pts]: Predicting the selling price of used cars\n",
    "\n",
    "[Return to contents](#contents)"
   ]
  },
  {
   "cell_type": "markdown",
   "id": "0367822a",
   "metadata": {},
   "source": [
    "<a id=\"part1intro\"></a>\n",
    "\n",
    "## Overview and Data Description \n",
    "\n",
    "[Return to contents](#contents)\n",
    "\n",
    "In this part, we analyze the data about used cars from a [Kaggle project](https://www.kaggle.com/nehalbirla/vehicle-dataset-from-cardekho). The dataset is pre-processed and modified so that it contains missing values. The goal is to handle missing data and predict selling prices from the other features available in this dataset.\n",
    "\n",
    "### Dataset \n",
    "\n",
    "The training dataset is available as `data/vehicle_dataset_train.csv`. It contains the following columns:\n",
    "\n",
    "- `year` - year of the car when it was bought, \n",
    "- `mileage` - mileage of the car,\n",
    "- `max_power` - maximum power of the engine (in bhps),\n",
    "- `selling_price` - price at which the car is being sold (in lakh rupees)\n",
    "\n",
    "The testing dataset is available as `data/vehicle_dataset_test.csv`. It contains all columns mentioned above.\n",
    "\n",
    "\n",
    "### Objective\n",
    "\n",
    "We will handle missing data and predict `selling_price` from the other features available in this dataset."
   ]
  },
  {
   "cell_type": "markdown",
   "id": "2c848f75",
   "metadata": {},
   "source": [
    "<a id=\"part1q1\"></a>\n",
    "\n",
    "## <div class='exercise'><b>Question 1: Visualizing Missing Data [10 pts]</b></div>\n",
    "\n",
    "[Return to contents](#contents)\n",
    "\n",
    "\n",
    "**Load the dataset, inspect it, and answer the following questions:**\n",
    "\n",
    "\n",
    "**1.1** How many columns and which ones include missing data in **X_train**? In each of those columns, how many observations are missing?\n",
    "\n",
    "**1.2** Plot a boxplot of `year` for all samples that contain missing values. In the same plot, generate another boxplot of `year` for all samples that do not contain missing values. Do you see any pattern?  If so, what might be the implications of that pattern?\n",
    "    \n",
    "    \n",
    "**PLEASE NOTE:** In this course, you will be expected to ALWAYS label your axes, title your graphs, and produce visuals which clearly communicate the data (as described in the [Instructions](#instructions) at the start of this notebook). Visuals should often be accompanied by text identifying the key point of the visual and defending any choices you make as a data scientist regarding the visual to best communicate your data."
   ]
  },
  {
   "cell_type": "markdown",
   "id": "67a4c34d",
   "metadata": {},
   "source": [
    "<a id=\"part1q1solution\"></a>\n",
    "## Question 1: Solutions \n",
    "\n",
    "[Return to contents](#contents)"
   ]
  },
  {
   "cell_type": "code",
   "execution_count": 3,
   "id": "9e2fb73a",
   "metadata": {},
   "outputs": [
    {
     "data": {
      "text/html": [
       "<div>\n",
       "<style scoped>\n",
       "    .dataframe tbody tr th:only-of-type {\n",
       "        vertical-align: middle;\n",
       "    }\n",
       "\n",
       "    .dataframe tbody tr th {\n",
       "        vertical-align: top;\n",
       "    }\n",
       "\n",
       "    .dataframe thead th {\n",
       "        text-align: right;\n",
       "    }\n",
       "</style>\n",
       "<table border=\"1\" class=\"dataframe\">\n",
       "  <thead>\n",
       "    <tr style=\"text-align: right;\">\n",
       "      <th></th>\n",
       "      <th>year</th>\n",
       "      <th>mileage</th>\n",
       "      <th>max_power</th>\n",
       "      <th>selling_price</th>\n",
       "    </tr>\n",
       "  </thead>\n",
       "  <tbody>\n",
       "    <tr>\n",
       "      <th>6601</th>\n",
       "      <td>2015</td>\n",
       "      <td>17.40</td>\n",
       "      <td>117.30</td>\n",
       "      <td>70.0</td>\n",
       "    </tr>\n",
       "    <tr>\n",
       "      <th>504</th>\n",
       "      <td>2017</td>\n",
       "      <td>13.60</td>\n",
       "      <td>NaN</td>\n",
       "      <td>262.5</td>\n",
       "    </tr>\n",
       "    <tr>\n",
       "      <th>5812</th>\n",
       "      <td>2018</td>\n",
       "      <td>24.00</td>\n",
       "      <td>73.97</td>\n",
       "      <td>71.0</td>\n",
       "    </tr>\n",
       "    <tr>\n",
       "      <th>1443</th>\n",
       "      <td>2009</td>\n",
       "      <td>19.70</td>\n",
       "      <td>46.30</td>\n",
       "      <td>15.0</td>\n",
       "    </tr>\n",
       "    <tr>\n",
       "      <th>7453</th>\n",
       "      <td>2014</td>\n",
       "      <td>16.02</td>\n",
       "      <td>NaN</td>\n",
       "      <td>42.5</td>\n",
       "    </tr>\n",
       "  </tbody>\n",
       "</table>\n",
       "</div>"
      ],
      "text/plain": [
       "      year  mileage  max_power  selling_price\n",
       "6601  2015    17.40     117.30           70.0\n",
       "504   2017    13.60        NaN          262.5\n",
       "5812  2018    24.00      73.97           71.0\n",
       "1443  2009    19.70      46.30           15.0\n",
       "7453  2014    16.02        NaN           42.5"
      ]
     },
     "execution_count": 3,
     "metadata": {},
     "output_type": "execute_result"
    }
   ],
   "source": [
    "# Load the datasets\n",
    "df_train = pd.read_csv(\"data/vehicle_dataset_train.csv\", index_col=0)\n",
    "df_test = pd.read_csv(\"data/vehicle_dataset_test.csv\", index_col=0)\n",
    "df_train.head(5)"
   ]
  },
  {
   "cell_type": "code",
   "execution_count": 4,
   "id": "816a3b2e",
   "metadata": {},
   "outputs": [],
   "source": [
    "X_train, y_train = df_train.drop(columns=['selling_price']), df_train['selling_price']\n",
    "X_test, y_test = df_test.drop(columns=['selling_price']), df_test['selling_price']"
   ]
  },
  {
   "cell_type": "markdown",
   "id": "cb401e33",
   "metadata": {},
   "source": [
    "<div class='exercise-r'>\n",
    "\n",
    "**1.1** How many columns and which ones include missing data in **X_train**? In each of those columns, how many observations are missing?\n",
    "</div> "
   ]
  },
  {
   "cell_type": "code",
   "execution_count": 5,
   "id": "93e15653",
   "metadata": {},
   "outputs": [
    {
     "name": "stdout",
     "output_type": "stream",
     "text": [
      "1 column includes missing data in X_train.\n",
      "That column is max_power.\n",
      "44 observations are missing.\n"
     ]
    }
   ],
   "source": [
    "# your code here\n",
    "print(f\"{len(X_train.columns[X_train.isna().any(0)])} column includes missing data in X_train.\")\n",
    "print(f\"That column is {X_train.columns[X_train.isna().any(0)][0]}.\")\n",
    "print(f\"{X_train[X_train.columns[X_train.isna().any(0)]].isna().sum()[0]} observations are missing.\")"
   ]
  },
  {
   "cell_type": "markdown",
   "id": "b0edf702",
   "metadata": {},
   "source": [
    "<div class='exercise-r'>\n",
    "\n",
    "**1.2** Generate a boxplot of `year` for all samples that have missing values. In the same plot, generate another boxplot of `year` for all samples that do not have missing values. Do you see any pattern?  If so, what might be the implications of that pattern? \n",
    "\n",
    "</div> "
   ]
  },
  {
   "cell_type": "code",
   "execution_count": 6,
   "id": "345f0391",
   "metadata": {},
   "outputs": [
    {
     "data": {
      "text/plain": [
       "Text(0, 0.5, 'Year')"
      ]
     },
     "execution_count": 6,
     "metadata": {},
     "output_type": "execute_result"
    },
    {
     "data": {
      "image/png": "[encoded data removed]",
      "text/plain": [
       "<Figure size 432x288 with 1 Axes>"
      ]
     },
     "metadata": {
      "needs_background": "light"
     },
     "output_type": "display_data"
    }
   ],
   "source": [
    "# your code here\n",
    "Q12_na = X_train.loc[X_train.isna().any(1) == True,\"year\"].reset_index()\n",
    "Q12_na['type'] = \"missing\"\n",
    "Q12_nna = X_train.loc[X_train.isna().any(1) == False, \"year\"].reset_index()\n",
    "Q12_nna['type'] = \"nomissing\"\n",
    "Q12_new = pd.concat([Q12_na,Q12_nna])[['year','type']]\n",
    "sns.boxplot(data = Q12_new, x = \"type\", y = \"year\")\n",
    "plt.title(\"Boxplot of year for all samples with/without missing values\")\n",
    "plt.xlabel(\"\")\n",
    "plt.ylabel(\"Year\")"
   ]
  },
  {
   "cell_type": "markdown",
   "id": "1ea0d209",
   "metadata": {},
   "source": [
    "**INTERPRETATION:**"
   ]
  },
  {
   "cell_type": "markdown",
   "id": "6dcd928b",
   "metadata": {},
   "source": [
    "**The boxplot shows that the mean year for the sample with missing data is larger than the mean year for the sample without missing data. This suggests that cars sold in recent years are more likely to have missing values for maximum power of the engine (in bhps).**"
   ]
  },
  {
   "cell_type": "markdown",
   "id": "e4d912d0",
   "metadata": {},
   "source": [
    "<a id=\"part1q2\"></a>\n",
    "\n",
    "## <div class='exercise'><b> Question 2:   Imputation Methods [45 pts]</b></div>\n",
    "\n",
    "[Return to contents](#contents)\n",
    "\n",
    "We will try different ways of dealing with missing data.\n",
    "\n",
    "**2.1** First, we consider mean imputation:\n",
    "  - Use SimpleImputer to impute the mean of observed `max_power` values in the training dataset for both **X_train** and **X_test**. \n",
    "  - Fit a linear regression model and a k-NN regression model ($k$=2) on the training data. \n",
    "  - Report the $R^2$ values on the testing data for each of your two fitted models.\n",
    "\n",
    "**2.2** Now, we will impute the data using k-NN regression model and see how it works:\n",
    "  - Use KNNImputer ($k$=2) to impute both **X_train** and **X_test**.\n",
    "  - Fit a linear regression model and a k-NN regression model ($k$=2) on the training data. \n",
    "  - Report the $R^2$ values on the testing data for each of your two fitted models.\n",
    "\n",
    "**2.3** Now, let's examine the indicator method:\n",
    "  - For both the training and testing data, create an additional predictor called `has_missing_value` that indicates\n",
    "   whether each row has any missing value. Impute the mean of observed `max_power` values in the training dataset for both **X_train** and **X_test**.\n",
    "  - Fit a linear regression model and a k-NN regression model ($k$=2) on the training data. \n",
    "  - Report the $R^2$ values on the testing data for each of your two fitted models.\n",
    "\n",
    "\n",
    "**2.4** Discuss your results by answering the following questions.  You should answer the questions directly in the provided markdown cells of your notebook.\n",
    "\n",
    "- **2.4.1** Which method results in the largest $R^2$ value? Interpret your findings.\n",
    "\n",
    "- **2.4.2** Compare the $R^2$ values in **2.1** and **2.3**. Does adding an indicator variable help? Do these indicator method results provide any support **for** or **against** a claim that the data is missing completely at random?  Why or why not?\n"
   ]
  },
  {
   "cell_type": "markdown",
   "id": "498f145d",
   "metadata": {},
   "source": [
    "<a id=\"part1q2solution\"></a>\n",
    "## Question 2: Solutions \n",
    "\n",
    "[Return to contents](#contents)"
   ]
  },
  {
   "cell_type": "markdown",
   "id": "35501c12",
   "metadata": {},
   "source": [
    "<div class='exercise-r'>\n",
    "\n",
    "    \n",
    "\n",
    "**2.1** First, we consider mean imputation:\n",
    "  - Use SimpleImputer to impute the mean of observed `max_power` values in the training dataset for both **X_train** and **X_test**. \n",
    "  - Fit a linear regression model and a k-NN regression model ($k$=2) on the training data. \n",
    "  - Report the $R^2$ values on the testing data for each of your two fitted models.\n",
    "\n",
    "    \n",
    "</div>"
   ]
  },
  {
   "cell_type": "code",
   "execution_count": 7,
   "id": "e7340151",
   "metadata": {},
   "outputs": [
    {
     "name": "stdout",
     "output_type": "stream",
     "text": [
      "The R^2 value on the test data for linear regression is 0.3857.\n",
      "The R^2 value on the test data for kNN (k=2) regression is 0.6574.\n"
     ]
    }
   ],
   "source": [
    "# your code here\n",
    "X_train_scaled = StandardScaler().fit_transform(X_train)\n",
    "X_test_scaled = StandardScaler().fit_transform(X_test)\n",
    "\n",
    "imp_mean = SimpleImputer(missing_values=np.nan, strategy='mean')\n",
    "imp_mean.fit(X_train)\n",
    "X_train_simimp = imp_mean.transform(X_train_scaled)\n",
    "X_test_simimp = imp_mean.transform(X_test_scaled)\n",
    "\n",
    "lreg = LinearRegression().fit(X_train_simimp, y_train)\n",
    "knnreg = KNeighborsRegressor(n_neighbors=2).fit(X_train_simimp, y_train)\n",
    "\n",
    "print(f\"The R^2 value on the test data for linear regression is {r2_score(y_test,lreg.predict(X_test_simimp)):.4f}.\")\n",
    "print(f\"The R^2 value on the test data for kNN (k=2) regression is {r2_score(y_test,knnreg.predict(X_test_simimp)):.4f}.\")"
   ]
  },
  {
   "cell_type": "markdown",
   "id": "2f2968cb",
   "metadata": {},
   "source": [
    "<div class='exercise-r'>\n",
    "\n",
    "**2.2** Now, we will impute the data using k-NN regression model and see how it works:\n",
    "  - Use KNNImputer ($k$=2) to impute both **X_train** and **X_test**.\n",
    "  - Fit a linear regression model and a k-NN regression model ($k$=2) on the training data. \n",
    "  - Report the $R^2$ values on the testing data for each of your two fitted models.\n",
    "    \n",
    "</div>"
   ]
  },
  {
   "cell_type": "code",
   "execution_count": 8,
   "id": "2130bc6b",
   "metadata": {},
   "outputs": [
    {
     "name": "stdout",
     "output_type": "stream",
     "text": [
      "The R^2 value on the test data for linear regression is 0.2062.\n",
      "The R^2 value on the test data for kNN (k=2) regression is 0.5077.\n"
     ]
    }
   ],
   "source": [
    "# your code here\n",
    "imp_knn = KNNImputer(n_neighbors=2)\n",
    "imp_knn.fit(X_train_scaled)\n",
    "X_train_knnimp = imp_knn.transform(X_train_scaled)\n",
    "X_test_knnimp = imp_knn.transform(X_test_scaled)\n",
    "\n",
    "lreg = LinearRegression().fit(X_train_knnimp, y_train)\n",
    "knnreg = KNeighborsRegressor(n_neighbors=2).fit(X_train_knnimp, y_train)\n",
    "\n",
    "print(f\"The R^2 value on the test data for linear regression is {r2_score(y_test,lreg.predict(X_test_knnimp)):.4f}.\")\n",
    "print(f\"The R^2 value on the test data for kNN (k=2) regression is {r2_score(y_test,knnreg.predict(X_test_knnimp)):.4f}.\")"
   ]
  },
  {
   "cell_type": "markdown",
   "id": "bf4aef04",
   "metadata": {},
   "source": [
    "<div class='exercise-r'>\n",
    "\n",
    "    \n",
    "**2.3** Now, let's examine the indicator method:\n",
    "  - For both the training and testing data, create an additional predictor called `has_missing_value` that indicates\n",
    "   whether each row has any missing value. Impute the mean of observed `max_power` values in the training dataset for both **X_train** and **X_test**.\n",
    "  - Fit a linear regression model and a k-NN regression model ($k$=2) on the training data. \n",
    "  - Report the $R^2$ values on the testing data for each of your two fitted models.\n",
    "    \n",
    "</div>"
   ]
  },
  {
   "cell_type": "code",
   "execution_count": 9,
   "id": "5219585b",
   "metadata": {},
   "outputs": [
    {
     "name": "stdout",
     "output_type": "stream",
     "text": [
      "The R^2 value on the test data for linear regression is 0.4302.\n",
      "The R^2 value on the test data for kNN (k=2) regression is 0.6576.\n"
     ]
    }
   ],
   "source": [
    "# your code here\n",
    "\n",
    "X_train_ind = X_train.copy()\n",
    "X_test_ind = X_test.copy()\n",
    "\n",
    "X_train_ind['has_missing_value'] = X_train_ind['max_power'].isnull()\n",
    "X_train_ind['has_missing_value'].replace(True, 1, inplace = True)\n",
    "X_train_ind['has_missing_value'].replace(False, 0, inplace = True)\n",
    "X_test_ind['has_missing_value'] = X_test_ind['max_power'].isnull()\n",
    "X_test_ind['has_missing_value'].replace(True, 1, inplace = True)\n",
    "X_test_ind['has_missing_value'].replace(False, 0, inplace = True)\n",
    "\n",
    "X_train_ind_scaled = StandardScaler().fit_transform(X_train_ind)\n",
    "X_test_ind_scaled = StandardScaler().fit_transform(X_test_ind)\n",
    "\n",
    "imp_mean = SimpleImputer(missing_values=np.nan, strategy='mean')\n",
    "imp_mean.fit(X_train_ind_scaled)\n",
    "X_train_simimp_ind = imp_mean.transform(X_train_ind_scaled)\n",
    "X_test_simimp_ind = imp_mean.transform(X_test_ind_scaled)\n",
    "\n",
    "lreg = LinearRegression().fit(X_train_simimp_ind, y_train)\n",
    "knnreg = KNeighborsRegressor(n_neighbors=2).fit(X_train_simimp_ind, y_train)\n",
    "\n",
    "print(f\"The R^2 value on the test data for linear regression is {r2_score(y_test,lreg.predict(X_test_simimp_ind)):.4f}.\")\n",
    "print(f\"The R^2 value on the test data for kNN (k=2) regression is {r2_score(y_test,knnreg.predict(X_test_simimp_ind)):.4f}.\")\n"
   ]
  },
  {
   "cell_type": "markdown",
   "id": "a7a382fa",
   "metadata": {},
   "source": [
    "<div class='exercise-r'>\n",
    "    \n",
    "\n",
    "**2.4.1** Which method results in the largest $R^2$ value? Interpret your findings.\n",
    "\n",
    "</div>"
   ]
  },
  {
   "cell_type": "markdown",
   "id": "700b9334",
   "metadata": {},
   "source": [
    "**The 3rd method (Q2.3) achieved the largest R^2 for both linear regression and kNN regression - 0.4302 for linear regression and 0.6576 for kNN regression.**\n"
   ]
  },
  {
   "cell_type": "markdown",
   "id": "5a22a3b8",
   "metadata": {},
   "source": [
    "<div class='exercise-r'>\n",
    "\n",
    "**2.4.2** Compare the $R^2$ values in **2.1** and **2.3**. Does adding an indicator variable help? Do these indicator method results provide any support **for** or **against** a claim that the data is missing completely at random? Why or why not?\n",
    "    \n",
    "</div>"
   ]
  },
  {
   "cell_type": "markdown",
   "id": "d22555b6",
   "metadata": {},
   "source": [
    "**Adding an indicator variable helped to increase the R^2 for linear regression and kNN regression. The indicator variable method tells us that it is possible that the data is not missing completely at random, because by using indicator variable method, we actually improved the model's ability to explain the variability of the data.**"
   ]
  },
  {
   "cell_type": "markdown",
   "id": "f246eefb",
   "metadata": {},
   "source": [
    "<a id=\"part2\"></a>\n",
    "    \n",
    "# PART 2 [45 pts]: Principal Component Analysis\n",
    "\n",
    "[Return to contents](#contents)"
   ]
  },
  {
   "cell_type": "markdown",
   "id": "37626b6f",
   "metadata": {},
   "source": [
    "<a id=\"part2q3\"></a>\n",
    "\n",
    "## <div class='exercise'><b> Question 3: PCA for Regression [35 pts]</b></div>\n",
    "\n",
    "[Return to contents](#contents)\n",
    " \n",
    "\n",
    "In this question, we will be using a dataset called \"Communities and Crime\" adapted from [UC Irvine Machine Learning Repository](http://archive.ics.uci.edu/ml/datasets/Communities+and+Crime). The modified dataset contains 122 predictor variables and 1 response variable. All numeric data was normalized into the decimal range 0.00-1.00. Some of the predictor variables are:\n",
    "\n",
    "- `householdsize`: mean people per household\n",
    "- `medIncome`: median household income\n",
    "- `PctHousOccup`: percent of housing occupied\n",
    "- `RentMedian`: rental housing - median rent\n",
    "- `PolicReqPerOffic`: total requests for police per police officer\n",
    "\n",
    "And the response variable is \n",
    "\n",
    "- `ViolentCrimesPerPop`: total number of violent crimes per 100K popuation\n",
    "\n",
    "\n",
    "\n",
    "**Load the dataset, split it in training (80%) and test set (20%), inspect it, and answer the following questions:**\n",
    "\n",
    "\n",
    "**3.1**  Compute the correlation matrix for the predictor variables in the training data (DO NOT print the entire matrix). Which pairs of distinct predictor variables have correlation greater than 0.99 or less than -0.99? (Output only those pairs with the corresponding correlation.)\n",
    "\n",
    "**3.2** Fit a linear regression model on the training data **using all available predictors**. Report and interpret the $R^2$ value on the testing data.\n",
    "\n",
    "\n",
    "**3.3** Now let's consider PCA for regression:\n",
    "  - **3.3.1** Standardize both **X_train** and **X_test** and for each number of components $k$ in $k \\in \\{1,2,3,4,5,6,8,10,12,15,20\\}$: \n",
    "  \n",
    "      - Fit the PCA transformation with n_components = $k$ on the standardized **X_train**.\n",
    "     \n",
    "      - Apply the PCA transformation to the standardized **X_train**.   \n",
    "      \n",
    "     - Use scikit-learn's cross_validate(...) to perform a 10-fold cross validation for a linear regression model on the transformed training data. \n",
    "   \n",
    "    Plot the mean validation MSE for each $k$. Report the best $k$ based on the mean validation MSE.\n",
    "          \n",
    "        \n",
    "  - **3.3.2** Now let's compute the $R^2$ value on the testing data:\n",
    "    - Fit the PCA transformation with n_components equals the best $k$ on the standardized **X_train**.\n",
    "    - Apply the PCA transformation to both the standardized **X_train** and the standardized **X_test**. \n",
    "    - Fit a linear regression model to the PCA-transformed components and report the  test $R^2$.\n",
    "    \n",
    "**3.4** Compare the $R^2$ value obtained from **3.2** and **3.3.2**. Interpret the result."
   ]
  },
  {
   "cell_type": "code",
   "execution_count": 10,
   "id": "ff5c20c5",
   "metadata": {},
   "outputs": [
    {
     "data": {
      "text/html": [
       "<div>\n",
       "<style scoped>\n",
       "    .dataframe tbody tr th:only-of-type {\n",
       "        vertical-align: middle;\n",
       "    }\n",
       "\n",
       "    .dataframe tbody tr th {\n",
       "        vertical-align: top;\n",
       "    }\n",
       "\n",
       "    .dataframe thead th {\n",
       "        text-align: right;\n",
       "    }\n",
       "</style>\n",
       "<table border=\"1\" class=\"dataframe\">\n",
       "  <thead>\n",
       "    <tr style=\"text-align: right;\">\n",
       "      <th></th>\n",
       "      <th>population</th>\n",
       "      <th>householdsize</th>\n",
       "      <th>racepctblack</th>\n",
       "      <th>racePctWhite</th>\n",
       "      <th>racePctAsian</th>\n",
       "      <th>racePctHisp</th>\n",
       "      <th>agePct12t21</th>\n",
       "      <th>agePct12t29</th>\n",
       "      <th>agePct16t24</th>\n",
       "      <th>agePct65up</th>\n",
       "      <th>numbUrban</th>\n",
       "      <th>pctUrban</th>\n",
       "      <th>medIncome</th>\n",
       "      <th>pctWWage</th>\n",
       "      <th>pctWFarmSelf</th>\n",
       "      <th>pctWInvInc</th>\n",
       "      <th>pctWSocSec</th>\n",
       "      <th>pctWPubAsst</th>\n",
       "      <th>pctWRetire</th>\n",
       "      <th>medFamInc</th>\n",
       "      <th>perCapInc</th>\n",
       "      <th>whitePerCap</th>\n",
       "      <th>blackPerCap</th>\n",
       "      <th>indianPerCap</th>\n",
       "      <th>AsianPerCap</th>\n",
       "      <th>...</th>\n",
       "      <th>LemasSwFTFieldOps</th>\n",
       "      <th>LemasSwFTFieldPerPop</th>\n",
       "      <th>LemasTotalReq</th>\n",
       "      <th>LemasTotReqPerPop</th>\n",
       "      <th>PolicReqPerOffic</th>\n",
       "      <th>PolicPerPop</th>\n",
       "      <th>RacialMatchCommPol</th>\n",
       "      <th>PctPolicWhite</th>\n",
       "      <th>PctPolicBlack</th>\n",
       "      <th>PctPolicHisp</th>\n",
       "      <th>PctPolicAsian</th>\n",
       "      <th>PctPolicMinor</th>\n",
       "      <th>OfficAssgnDrugUnits</th>\n",
       "      <th>NumKindsDrugsSeiz</th>\n",
       "      <th>PolicAveOTWorked</th>\n",
       "      <th>LandArea</th>\n",
       "      <th>PopDens</th>\n",
       "      <th>PctUsePubTrans</th>\n",
       "      <th>PolicCars</th>\n",
       "      <th>PolicOperBudg</th>\n",
       "      <th>LemasPctPolicOnPatr</th>\n",
       "      <th>LemasGangUnitDeploy</th>\n",
       "      <th>LemasPctOfficDrugUn</th>\n",
       "      <th>PolicBudgPerPop</th>\n",
       "      <th>ViolentCrimesPerPop</th>\n",
       "    </tr>\n",
       "  </thead>\n",
       "  <tbody>\n",
       "    <tr>\n",
       "      <th>0</th>\n",
       "      <td>0.19</td>\n",
       "      <td>0.33</td>\n",
       "      <td>0.02</td>\n",
       "      <td>0.90</td>\n",
       "      <td>0.12</td>\n",
       "      <td>0.17</td>\n",
       "      <td>0.34</td>\n",
       "      <td>0.47</td>\n",
       "      <td>0.29</td>\n",
       "      <td>0.32</td>\n",
       "      <td>0.20</td>\n",
       "      <td>1.00</td>\n",
       "      <td>0.37</td>\n",
       "      <td>0.72</td>\n",
       "      <td>0.34</td>\n",
       "      <td>0.60</td>\n",
       "      <td>0.29</td>\n",
       "      <td>0.15</td>\n",
       "      <td>0.43</td>\n",
       "      <td>0.39</td>\n",
       "      <td>0.40</td>\n",
       "      <td>0.39</td>\n",
       "      <td>0.32</td>\n",
       "      <td>0.27</td>\n",
       "      <td>0.27</td>\n",
       "      <td>...</td>\n",
       "      <td>0.96</td>\n",
       "      <td>0.17</td>\n",
       "      <td>0.06</td>\n",
       "      <td>0.18</td>\n",
       "      <td>0.44</td>\n",
       "      <td>0.13</td>\n",
       "      <td>0.94</td>\n",
       "      <td>0.93</td>\n",
       "      <td>0.03</td>\n",
       "      <td>0.07</td>\n",
       "      <td>0.10</td>\n",
       "      <td>0.07</td>\n",
       "      <td>0.02</td>\n",
       "      <td>0.57</td>\n",
       "      <td>0.29</td>\n",
       "      <td>0.12</td>\n",
       "      <td>0.26</td>\n",
       "      <td>0.20</td>\n",
       "      <td>0.06</td>\n",
       "      <td>0.04</td>\n",
       "      <td>0.90</td>\n",
       "      <td>0.5</td>\n",
       "      <td>0.32</td>\n",
       "      <td>0.14</td>\n",
       "      <td>0.20</td>\n",
       "    </tr>\n",
       "    <tr>\n",
       "      <th>1</th>\n",
       "      <td>0.15</td>\n",
       "      <td>0.31</td>\n",
       "      <td>0.40</td>\n",
       "      <td>0.63</td>\n",
       "      <td>0.14</td>\n",
       "      <td>0.06</td>\n",
       "      <td>0.58</td>\n",
       "      <td>0.72</td>\n",
       "      <td>0.65</td>\n",
       "      <td>0.47</td>\n",
       "      <td>0.16</td>\n",
       "      <td>1.00</td>\n",
       "      <td>0.22</td>\n",
       "      <td>0.52</td>\n",
       "      <td>0.10</td>\n",
       "      <td>0.51</td>\n",
       "      <td>0.48</td>\n",
       "      <td>0.39</td>\n",
       "      <td>0.51</td>\n",
       "      <td>0.30</td>\n",
       "      <td>0.29</td>\n",
       "      <td>0.34</td>\n",
       "      <td>0.23</td>\n",
       "      <td>0.13</td>\n",
       "      <td>0.20</td>\n",
       "      <td>...</td>\n",
       "      <td>0.93</td>\n",
       "      <td>0.38</td>\n",
       "      <td>0.05</td>\n",
       "      <td>0.21</td>\n",
       "      <td>0.23</td>\n",
       "      <td>0.30</td>\n",
       "      <td>0.61</td>\n",
       "      <td>0.89</td>\n",
       "      <td>0.15</td>\n",
       "      <td>0.01</td>\n",
       "      <td>0.06</td>\n",
       "      <td>0.12</td>\n",
       "      <td>0.10</td>\n",
       "      <td>0.64</td>\n",
       "      <td>0.22</td>\n",
       "      <td>0.06</td>\n",
       "      <td>0.39</td>\n",
       "      <td>0.84</td>\n",
       "      <td>0.06</td>\n",
       "      <td>0.06</td>\n",
       "      <td>0.91</td>\n",
       "      <td>0.5</td>\n",
       "      <td>0.88</td>\n",
       "      <td>0.26</td>\n",
       "      <td>0.49</td>\n",
       "    </tr>\n",
       "    <tr>\n",
       "      <th>2</th>\n",
       "      <td>0.25</td>\n",
       "      <td>0.54</td>\n",
       "      <td>0.05</td>\n",
       "      <td>0.71</td>\n",
       "      <td>0.48</td>\n",
       "      <td>0.30</td>\n",
       "      <td>0.42</td>\n",
       "      <td>0.48</td>\n",
       "      <td>0.28</td>\n",
       "      <td>0.32</td>\n",
       "      <td>0.26</td>\n",
       "      <td>1.00</td>\n",
       "      <td>0.33</td>\n",
       "      <td>0.55</td>\n",
       "      <td>0.37</td>\n",
       "      <td>0.37</td>\n",
       "      <td>0.39</td>\n",
       "      <td>0.64</td>\n",
       "      <td>0.44</td>\n",
       "      <td>0.32</td>\n",
       "      <td>0.29</td>\n",
       "      <td>0.32</td>\n",
       "      <td>0.23</td>\n",
       "      <td>0.17</td>\n",
       "      <td>0.17</td>\n",
       "      <td>...</td>\n",
       "      <td>0.96</td>\n",
       "      <td>0.12</td>\n",
       "      <td>0.05</td>\n",
       "      <td>0.11</td>\n",
       "      <td>0.35</td>\n",
       "      <td>0.08</td>\n",
       "      <td>0.80</td>\n",
       "      <td>0.82</td>\n",
       "      <td>0.04</td>\n",
       "      <td>0.19</td>\n",
       "      <td>0.19</td>\n",
       "      <td>0.18</td>\n",
       "      <td>0.05</td>\n",
       "      <td>0.57</td>\n",
       "      <td>0.36</td>\n",
       "      <td>0.09</td>\n",
       "      <td>0.46</td>\n",
       "      <td>0.05</td>\n",
       "      <td>0.09</td>\n",
       "      <td>0.05</td>\n",
       "      <td>0.88</td>\n",
       "      <td>0.5</td>\n",
       "      <td>0.76</td>\n",
       "      <td>0.13</td>\n",
       "      <td>0.34</td>\n",
       "    </tr>\n",
       "    <tr>\n",
       "      <th>3</th>\n",
       "      <td>1.00</td>\n",
       "      <td>0.42</td>\n",
       "      <td>0.47</td>\n",
       "      <td>0.59</td>\n",
       "      <td>0.12</td>\n",
       "      <td>0.05</td>\n",
       "      <td>0.41</td>\n",
       "      <td>0.53</td>\n",
       "      <td>0.34</td>\n",
       "      <td>0.33</td>\n",
       "      <td>1.00</td>\n",
       "      <td>0.99</td>\n",
       "      <td>0.28</td>\n",
       "      <td>0.62</td>\n",
       "      <td>0.16</td>\n",
       "      <td>0.36</td>\n",
       "      <td>0.40</td>\n",
       "      <td>0.30</td>\n",
       "      <td>0.45</td>\n",
       "      <td>0.29</td>\n",
       "      <td>0.30</td>\n",
       "      <td>0.35</td>\n",
       "      <td>0.21</td>\n",
       "      <td>0.20</td>\n",
       "      <td>0.33</td>\n",
       "      <td>...</td>\n",
       "      <td>0.75</td>\n",
       "      <td>0.19</td>\n",
       "      <td>0.35</td>\n",
       "      <td>0.19</td>\n",
       "      <td>0.38</td>\n",
       "      <td>0.16</td>\n",
       "      <td>0.82</td>\n",
       "      <td>0.70</td>\n",
       "      <td>0.45</td>\n",
       "      <td>0.03</td>\n",
       "      <td>0.05</td>\n",
       "      <td>0.33</td>\n",
       "      <td>0.13</td>\n",
       "      <td>0.57</td>\n",
       "      <td>1.00</td>\n",
       "      <td>1.00</td>\n",
       "      <td>0.07</td>\n",
       "      <td>0.15</td>\n",
       "      <td>1.00</td>\n",
       "      <td>0.35</td>\n",
       "      <td>0.73</td>\n",
       "      <td>0.0</td>\n",
       "      <td>0.31</td>\n",
       "      <td>0.21</td>\n",
       "      <td>0.69</td>\n",
       "    </tr>\n",
       "    <tr>\n",
       "      <th>4</th>\n",
       "      <td>0.11</td>\n",
       "      <td>0.43</td>\n",
       "      <td>0.04</td>\n",
       "      <td>0.89</td>\n",
       "      <td>0.09</td>\n",
       "      <td>0.06</td>\n",
       "      <td>0.45</td>\n",
       "      <td>0.48</td>\n",
       "      <td>0.31</td>\n",
       "      <td>0.46</td>\n",
       "      <td>0.13</td>\n",
       "      <td>1.00</td>\n",
       "      <td>0.22</td>\n",
       "      <td>0.52</td>\n",
       "      <td>0.44</td>\n",
       "      <td>0.49</td>\n",
       "      <td>0.56</td>\n",
       "      <td>0.41</td>\n",
       "      <td>0.39</td>\n",
       "      <td>0.25</td>\n",
       "      <td>0.25</td>\n",
       "      <td>0.25</td>\n",
       "      <td>0.16</td>\n",
       "      <td>0.07</td>\n",
       "      <td>0.20</td>\n",
       "      <td>...</td>\n",
       "      <td>0.98</td>\n",
       "      <td>0.14</td>\n",
       "      <td>0.03</td>\n",
       "      <td>0.14</td>\n",
       "      <td>0.37</td>\n",
       "      <td>0.11</td>\n",
       "      <td>0.84</td>\n",
       "      <td>0.96</td>\n",
       "      <td>0.00</td>\n",
       "      <td>0.00</td>\n",
       "      <td>0.00</td>\n",
       "      <td>0.00</td>\n",
       "      <td>0.02</td>\n",
       "      <td>0.86</td>\n",
       "      <td>0.29</td>\n",
       "      <td>0.16</td>\n",
       "      <td>0.12</td>\n",
       "      <td>0.07</td>\n",
       "      <td>0.04</td>\n",
       "      <td>0.01</td>\n",
       "      <td>0.81</td>\n",
       "      <td>1.0</td>\n",
       "      <td>0.56</td>\n",
       "      <td>0.09</td>\n",
       "      <td>0.63</td>\n",
       "    </tr>\n",
       "  </tbody>\n",
       "</table>\n",
       "<p>5 rows × 123 columns</p>\n",
       "</div>"
      ],
      "text/plain": [
       "   population  householdsize  racepctblack  racePctWhite  racePctAsian  \\\n",
       "0        0.19           0.33          0.02          0.90          0.12   \n",
       "1        0.15           0.31          0.40          0.63          0.14   \n",
       "2        0.25           0.54          0.05          0.71          0.48   \n",
       "3        1.00           0.42          0.47          0.59          0.12   \n",
       "4        0.11           0.43          0.04          0.89          0.09   \n",
       "\n",
       "   racePctHisp  agePct12t21  agePct12t29  agePct16t24  agePct65up  numbUrban  \\\n",
       "0         0.17         0.34         0.47         0.29        0.32       0.20   \n",
       "1         0.06         0.58         0.72         0.65        0.47       0.16   \n",
       "2         0.30         0.42         0.48         0.28        0.32       0.26   \n",
       "3         0.05         0.41         0.53         0.34        0.33       1.00   \n",
       "4         0.06         0.45         0.48         0.31        0.46       0.13   \n",
       "\n",
       "   pctUrban  medIncome  pctWWage  pctWFarmSelf  pctWInvInc  pctWSocSec  \\\n",
       "0      1.00       0.37      0.72          0.34        0.60        0.29   \n",
       "1      1.00       0.22      0.52          0.10        0.51        0.48   \n",
       "2      1.00       0.33      0.55          0.37        0.37        0.39   \n",
       "3      0.99       0.28      0.62          0.16        0.36        0.40   \n",
       "4      1.00       0.22      0.52          0.44        0.49        0.56   \n",
       "\n",
       "   pctWPubAsst  pctWRetire  medFamInc  perCapInc  whitePerCap  blackPerCap  \\\n",
       "0         0.15        0.43       0.39       0.40         0.39         0.32   \n",
       "1         0.39        0.51       0.30       0.29         0.34         0.23   \n",
       "2         0.64        0.44       0.32       0.29         0.32         0.23   \n",
       "3         0.30        0.45       0.29       0.30         0.35         0.21   \n",
       "4         0.41        0.39       0.25       0.25         0.25         0.16   \n",
       "\n",
       "   indianPerCap  AsianPerCap  ...  LemasSwFTFieldOps  LemasSwFTFieldPerPop  \\\n",
       "0          0.27         0.27  ...               0.96                  0.17   \n",
       "1          0.13         0.20  ...               0.93                  0.38   \n",
       "2          0.17         0.17  ...               0.96                  0.12   \n",
       "3          0.20         0.33  ...               0.75                  0.19   \n",
       "4          0.07         0.20  ...               0.98                  0.14   \n",
       "\n",
       "   LemasTotalReq  LemasTotReqPerPop  PolicReqPerOffic  PolicPerPop  \\\n",
       "0           0.06               0.18              0.44         0.13   \n",
       "1           0.05               0.21              0.23         0.30   \n",
       "2           0.05               0.11              0.35         0.08   \n",
       "3           0.35               0.19              0.38         0.16   \n",
       "4           0.03               0.14              0.37         0.11   \n",
       "\n",
       "   RacialMatchCommPol  PctPolicWhite  PctPolicBlack  PctPolicHisp  \\\n",
       "0                0.94           0.93           0.03          0.07   \n",
       "1                0.61           0.89           0.15          0.01   \n",
       "2                0.80           0.82           0.04          0.19   \n",
       "3                0.82           0.70           0.45          0.03   \n",
       "4                0.84           0.96           0.00          0.00   \n",
       "\n",
       "   PctPolicAsian  PctPolicMinor  OfficAssgnDrugUnits  NumKindsDrugsSeiz  \\\n",
       "0           0.10           0.07                 0.02               0.57   \n",
       "1           0.06           0.12                 0.10               0.64   \n",
       "2           0.19           0.18                 0.05               0.57   \n",
       "3           0.05           0.33                 0.13               0.57   \n",
       "4           0.00           0.00                 0.02               0.86   \n",
       "\n",
       "   PolicAveOTWorked  LandArea  PopDens  PctUsePubTrans  PolicCars  \\\n",
       "0              0.29      0.12     0.26            0.20       0.06   \n",
       "1              0.22      0.06     0.39            0.84       0.06   \n",
       "2              0.36      0.09     0.46            0.05       0.09   \n",
       "3              1.00      1.00     0.07            0.15       1.00   \n",
       "4              0.29      0.16     0.12            0.07       0.04   \n",
       "\n",
       "   PolicOperBudg  LemasPctPolicOnPatr  LemasGangUnitDeploy  \\\n",
       "0           0.04                 0.90                  0.5   \n",
       "1           0.06                 0.91                  0.5   \n",
       "2           0.05                 0.88                  0.5   \n",
       "3           0.35                 0.73                  0.0   \n",
       "4           0.01                 0.81                  1.0   \n",
       "\n",
       "   LemasPctOfficDrugUn  PolicBudgPerPop  ViolentCrimesPerPop  \n",
       "0                 0.32             0.14                 0.20  \n",
       "1                 0.88             0.26                 0.49  \n",
       "2                 0.76             0.13                 0.34  \n",
       "3                 0.31             0.21                 0.69  \n",
       "4                 0.56             0.09                 0.63  \n",
       "\n",
       "[5 rows x 123 columns]"
      ]
     },
     "execution_count": 10,
     "metadata": {},
     "output_type": "execute_result"
    }
   ],
   "source": [
    "# Load the datasets\n",
    "df = pd.read_csv(\"data/communities_and_crime.csv\", index_col = 0)\n",
    "df.head()"
   ]
  },
  {
   "cell_type": "code",
   "execution_count": 11,
   "id": "1661528a",
   "metadata": {},
   "outputs": [],
   "source": [
    "# Split the data into training and testing data\n",
    "X,y = df.drop(columns=['ViolentCrimesPerPop']), df['ViolentCrimesPerPop']\n",
    "X_train, X_test, y_train, y_test = train_test_split(X, y, test_size=0.2, random_state=42)"
   ]
  },
  {
   "cell_type": "markdown",
   "id": "6aa78a47",
   "metadata": {},
   "source": [
    "<a id=\"part2q3solution\"></a>\n",
    "## Question 3: Solutions \n",
    "\n",
    "[Return to contents](#contents)"
   ]
  },
  {
   "cell_type": "markdown",
   "id": "32201d47",
   "metadata": {},
   "source": [
    "<div class='exercise-r'>\n",
    "\n",
    "**3.1** Compute the correlation matrix for the predictor variables in the training data (DO NOT print the entire matrix). Which pairs of distinct predictor variables have correlation greater than 0.99 or less than -0.99? (Output only those pairs with the corresponding correlation.)\n",
    "    \n",
    "</div>"
   ]
  },
  {
   "cell_type": "code",
   "execution_count": 12,
   "id": "d718e75b",
   "metadata": {},
   "outputs": [
    {
     "data": {
      "text/html": [
       "<div>\n",
       "<style scoped>\n",
       "    .dataframe tbody tr th:only-of-type {\n",
       "        vertical-align: middle;\n",
       "    }\n",
       "\n",
       "    .dataframe tbody tr th {\n",
       "        vertical-align: top;\n",
       "    }\n",
       "\n",
       "    .dataframe thead th {\n",
       "        text-align: right;\n",
       "    }\n",
       "</style>\n",
       "<table border=\"1\" class=\"dataframe\">\n",
       "  <thead>\n",
       "    <tr style=\"text-align: right;\">\n",
       "      <th></th>\n",
       "      <th></th>\n",
       "      <th>0</th>\n",
       "    </tr>\n",
       "  </thead>\n",
       "  <tbody>\n",
       "    <tr>\n",
       "      <th>PolicPerPop</th>\n",
       "      <th>LemasSwFTPerPop</th>\n",
       "      <td>1.000</td>\n",
       "    </tr>\n",
       "    <tr>\n",
       "      <th>LemasSwFTPerPop</th>\n",
       "      <th>PolicPerPop</th>\n",
       "      <td>1.000</td>\n",
       "    </tr>\n",
       "    <tr>\n",
       "      <th>numbUrban</th>\n",
       "      <th>population</th>\n",
       "      <td>1.000</td>\n",
       "    </tr>\n",
       "    <tr>\n",
       "      <th>population</th>\n",
       "      <th>numbUrban</th>\n",
       "      <td>1.000</td>\n",
       "    </tr>\n",
       "    <tr>\n",
       "      <th>PctRecImmig8</th>\n",
       "      <th>PctRecImmig10</th>\n",
       "      <td>0.997</td>\n",
       "    </tr>\n",
       "    <tr>\n",
       "      <th>PctRecImmig10</th>\n",
       "      <th>PctRecImmig8</th>\n",
       "      <td>0.997</td>\n",
       "    </tr>\n",
       "    <tr>\n",
       "      <th>PctRecImmig8</th>\n",
       "      <th>PctRecImmig5</th>\n",
       "      <td>0.996</td>\n",
       "    </tr>\n",
       "    <tr>\n",
       "      <th>PctRecImmig5</th>\n",
       "      <th>PctRecImmig8</th>\n",
       "      <td>0.996</td>\n",
       "    </tr>\n",
       "    <tr>\n",
       "      <th>MedRent</th>\n",
       "      <th>RentMedian</th>\n",
       "      <td>0.993</td>\n",
       "    </tr>\n",
       "    <tr>\n",
       "      <th>RentMedian</th>\n",
       "      <th>MedRent</th>\n",
       "      <td>0.993</td>\n",
       "    </tr>\n",
       "    <tr>\n",
       "      <th>PctRecentImmig</th>\n",
       "      <th>PctRecImmig5</th>\n",
       "      <td>0.992</td>\n",
       "    </tr>\n",
       "    <tr>\n",
       "      <th>PctRecImmig5</th>\n",
       "      <th>PctRecentImmig</th>\n",
       "      <td>0.992</td>\n",
       "    </tr>\n",
       "    <tr>\n",
       "      <th>OwnOccMedVal</th>\n",
       "      <th>OwnOccLowQuart</th>\n",
       "      <td>0.992</td>\n",
       "    </tr>\n",
       "    <tr>\n",
       "      <th>OwnOccLowQuart</th>\n",
       "      <th>OwnOccMedVal</th>\n",
       "      <td>0.992</td>\n",
       "    </tr>\n",
       "    <tr>\n",
       "      <th>LemasSwornFT</th>\n",
       "      <th>LemasSwFTFieldOps</th>\n",
       "      <td>0.990</td>\n",
       "    </tr>\n",
       "    <tr>\n",
       "      <th>LemasSwFTFieldOps</th>\n",
       "      <th>LemasSwornFT</th>\n",
       "      <td>0.990</td>\n",
       "    </tr>\n",
       "    <tr>\n",
       "      <th>PctRecImmig5</th>\n",
       "      <th>PctRecImmig10</th>\n",
       "      <td>0.990</td>\n",
       "    </tr>\n",
       "    <tr>\n",
       "      <th>PctRecImmig10</th>\n",
       "      <th>PctRecImmig5</th>\n",
       "      <td>0.990</td>\n",
       "    </tr>\n",
       "  </tbody>\n",
       "</table>\n",
       "</div>"
      ],
      "text/plain": [
       "                                         0\n",
       "PolicPerPop       LemasSwFTPerPop    1.000\n",
       "LemasSwFTPerPop   PolicPerPop        1.000\n",
       "numbUrban         population         1.000\n",
       "population        numbUrban          1.000\n",
       "PctRecImmig8      PctRecImmig10      0.997\n",
       "PctRecImmig10     PctRecImmig8       0.997\n",
       "PctRecImmig8      PctRecImmig5       0.996\n",
       "PctRecImmig5      PctRecImmig8       0.996\n",
       "MedRent           RentMedian         0.993\n",
       "RentMedian        MedRent            0.993\n",
       "PctRecentImmig    PctRecImmig5       0.992\n",
       "PctRecImmig5      PctRecentImmig     0.992\n",
       "OwnOccMedVal      OwnOccLowQuart     0.992\n",
       "OwnOccLowQuart    OwnOccMedVal       0.992\n",
       "LemasSwornFT      LemasSwFTFieldOps  0.990\n",
       "LemasSwFTFieldOps LemasSwornFT       0.990\n",
       "PctRecImmig5      PctRecImmig10      0.990\n",
       "PctRecImmig10     PctRecImmig5       0.990"
      ]
     },
     "execution_count": 12,
     "metadata": {},
     "output_type": "execute_result"
    }
   ],
   "source": [
    "# your code here\n",
    "new31= pd.DataFrame(X_train.corr().abs().unstack().sort_values(ascending = False)).iloc[122:,]\n",
    "new31[new31[0]>0.99]"
   ]
  },
  {
   "cell_type": "markdown",
   "id": "01cc2bee",
   "metadata": {},
   "source": [
    "<div class='exercise-r'>\n",
    "\n",
    "**3.2** Fit a linear regression model on the training data **using all available predictors**. Report and interpret the $R^2$ value on the testing data.\n",
    "    \n",
    "</div>"
   ]
  },
  {
   "cell_type": "code",
   "execution_count": 13,
   "id": "7b227067",
   "metadata": {},
   "outputs": [
    {
     "name": "stdout",
     "output_type": "stream",
     "text": [
      "The R^2 value on the test data for linear regression is 0.2186.\n"
     ]
    }
   ],
   "source": [
    "# your code here\n",
    "lreg = LinearRegression().fit(X_train, y_train)\n",
    "print(f\"The R^2 value on the test data for linear regression is {r2_score(y_test,lreg.predict(X_test)):.4f}.\")\n"
   ]
  },
  {
   "cell_type": "markdown",
   "id": "9565ecaa",
   "metadata": {},
   "source": [
    "**INTERPRETATION:**"
   ]
  },
  {
   "cell_type": "markdown",
   "id": "23add25e",
   "metadata": {},
   "source": [
    "**Including all available predictors, the model can explain 21.86% variability in the data.**\n"
   ]
  },
  {
   "cell_type": "markdown",
   "id": "a838d94d",
   "metadata": {},
   "source": [
    "<div class='exercise-r'>\n",
    "\n",
    "\n",
    "**3.3.1** Standardize both **X_train** and **X_test**,  and for each number of components $k$ in $k \\in \\{1,2,3,4,5,6,8,10,12,15,20\\}$: \n",
    "\n",
    "  - Fit the PCA transformation with n_components = $k$ on the standardized **X_train**.\n",
    "    \n",
    "  - Apply the PCA transformation to the standardized **X_train**.\n",
    "    \n",
    "  - Use scikit-learn's cross_validate(...) to perform a 10-fold cross validation for a linear regression model on the transformed training data. \n",
    "    \n",
    "  Plot the mean validation MSE for each $k$. Report the best $k$ based on the mean validation MSE.\n",
    "    \n",
    "</div>"
   ]
  },
  {
   "cell_type": "code",
   "execution_count": 14,
   "id": "43ada285",
   "metadata": {},
   "outputs": [
    {
     "name": "stdout",
     "output_type": "stream",
     "text": [
      "The best K is 8 based on the mean validation MSE.\n"
     ]
    },
    {
     "data": {
      "image/png": "[encoded data removed]",
      "text/plain": [
       "<Figure size 432x288 with 1 Axes>"
      ]
     },
     "metadata": {
      "needs_background": "light"
     },
     "output_type": "display_data"
    }
   ],
   "source": [
    "# your code here\n",
    "Ks = [1,2,3,4,5,6,8,10,12,15,20]\n",
    "MSEs = []\n",
    "for k in Ks:\n",
    "    X_train_scaled = StandardScaler().fit_transform(X_train)\n",
    "    pca = PCA(n_components = k).fit(X_train_scaled)\n",
    "    X_train_scaled_pca = pca.transform(X_train_scaled)\n",
    "    lreg = LinearRegression()\n",
    "    MSE = -cross_validate(lreg, X_train_scaled_pca, y_train,cv=10,\n",
    "                   scoring=('r2', 'neg_mean_squared_error'))['test_neg_mean_squared_error'].mean()\n",
    "    MSEs.append(MSE)\n",
    "    \n",
    "sns.scatterplot(x=Ks,y=MSEs)\n",
    "plt.title(\"Mean Validation MSE for Each K Components of PCA\")\n",
    "plt.xlabel(\"K\")\n",
    "plt.ylabel(\"MSE\")\n",
    "plt.xticks(Ks)\n",
    "\n",
    "bestK = Ks[MSEs.index(min(MSEs))]\n",
    "print(f\"The best K is {bestK} based on the mean validation MSE.\")"
   ]
  },
  {
   "cell_type": "markdown",
   "id": "32656492",
   "metadata": {},
   "source": [
    "<div class='exercise-r'>\n",
    "    \n",
    "\n",
    "**3.3.2** Now let's compute the $R^2$ value on the testing data:\n",
    "  - Fit the PCA transformation with n_components equals the best $k$ on the standardized **X_train**.\n",
    "  - Apply the PCA transformation to the standardized **X_train** and the standardized **X_test**. \n",
    "  - Fit a linear regression model to the PCA-transformed components and report the  test $R^2$.\n",
    "    \n",
    "</div>"
   ]
  },
  {
   "cell_type": "code",
   "execution_count": 15,
   "id": "55adf0dc",
   "metadata": {},
   "outputs": [
    {
     "name": "stdout",
     "output_type": "stream",
     "text": [
      "The R^2 value on the test data for PCA regression is 0.2015.\n"
     ]
    }
   ],
   "source": [
    "# your code here\n",
    "X_train_scaled = StandardScaler().fit_transform(X_train)\n",
    "X_test_scaled = StandardScaler().fit_transform(X_test)\n",
    "pca = PCA(n_components = bestK).fit(X_train_scaled)\n",
    "X_train_scaled_pca = pca.transform(X_train_scaled)\n",
    "X_test_scaled_pca = pca.transform(X_test_scaled)\n",
    "lreg = LinearRegression()\n",
    "lreg.fit(X_train_scaled, y_train)\n",
    "pca_R2 = r2_score(y_test,lreg.predict(X_test_scaled))\n",
    "print(f\"The R^2 value on the test data for PCA regression is {(pca_R2):.4f}.\")"
   ]
  },
  {
   "cell_type": "markdown",
   "id": "4cb4d61f",
   "metadata": {},
   "source": [
    "<div class='exercise-r'>\n",
    "\n",
    "**3.4** Compare the $R^2$ value obtained from **3.2** and **3.3.2**. Interpret the result.\n",
    "    \n",
    "</div>"
   ]
  },
  {
   "cell_type": "markdown",
   "id": "6308e86b",
   "metadata": {},
   "source": [
    "**The R^2 value obtained from 3.3.2 is lower than the R^2 value obtained from 3.2. In 3.3.2, the PCA regression model with k = 8 can explain 20.15% variability of the data.**\n"
   ]
  },
  {
   "cell_type": "markdown",
   "id": "f3d57069",
   "metadata": {},
   "source": [
    "<a id=\"part2q4\"></a>\n",
    "\n",
    "## <div class='exercise'><b> Question 4: Visualizing Transformed Data [10 pts]</b></div>\n",
    "\n",
    "[Return to contents](#contents)\n",
    "\n",
    "In this question, we will be using a dataset called \"Better Life Index\" adapted from [Organisation for Economic Co-operation and Development](https://stats.oecd.org/). The modified dataset contains 24 numerical variables and 1 categorical variable. The categorical variable `Country` is the name of the country. Some of the numerical variables include:\n",
    "\n",
    "- `Dwellings without basic facilities`\n",
    "- `Housing expenditure`\n",
    "- `Rooms per person`\n",
    "- `Household net adjusted disposable income`\n",
    "- `Household net financial wealth`\n",
    "- ...\n",
    "\n",
    "\n",
    "**Load the dataset, and answer the following questions:**\n",
    "\n",
    "\n",
    "**4.1** Standardize **X** and apply PCA transformation with n_components = 2 to your standardized data.\n",
    "\n",
    "**4.2** Make a scatter plot for the transformed data, where the x-axis corresponds to the first principal component, and the y-axis corresponds to the second principal component. Label each point by its corresponding country name. Do you observe any pattern in the scatter plot?\n",
    "\n",
    "**4.3** In Question 3, where we also used PCA, we had a training and a test set. Here we do not split the data. Explain why."
   ]
  },
  {
   "cell_type": "code",
   "execution_count": 16,
   "id": "eeaee739",
   "metadata": {},
   "outputs": [
    {
     "data": {
      "text/plain": [
       "(38, 24)"
      ]
     },
     "execution_count": 16,
     "metadata": {},
     "output_type": "execute_result"
    }
   ],
   "source": [
    "# Load the datasets\n",
    "df = pd.read_csv(\"data/OECD_well-being.csv\", index_col = 0)\n",
    "country, X = df['Country'], df.drop(columns='Country').values\n",
    "X.shape"
   ]
  },
  {
   "cell_type": "markdown",
   "id": "f52c3e09",
   "metadata": {},
   "source": [
    "<a id=\"part2q4solution\"></a>\n",
    "## Question 4: Solutions \n",
    "\n",
    "[Return to contents](#contents)"
   ]
  },
  {
   "cell_type": "markdown",
   "id": "f882b402",
   "metadata": {},
   "source": [
    "<div class='exercise-r'>\n",
    "\n",
    "**4.1** Standardize **X** and apply PCA transformation with n_components = 2 to your standardized data.\n",
    "    \n",
    "</div>\n"
   ]
  },
  {
   "cell_type": "code",
   "execution_count": 17,
   "id": "d99d7508",
   "metadata": {},
   "outputs": [],
   "source": [
    "# your code here\n",
    "X_scaled = StandardScaler().fit_transform(X)\n",
    "pca = PCA(n_components = 2).fit(X_scaled)\n",
    "X_scaled_pca = pca.transform(X_scaled)\n"
   ]
  },
  {
   "cell_type": "markdown",
   "id": "60b5ef5b",
   "metadata": {},
   "source": [
    "<div class='exercise-r'>\n",
    "\n",
    "**4.2** Make a scatter plot for the transformed data, where the x-axis corresponds to the first principal component, and the y-axis corresponds to the second principal component. Label each point by its corresponding country name. Do you observe any pattern in the scatter plot?\n",
    "    \n",
    "</div>"
   ]
  },
  {
   "cell_type": "code",
   "execution_count": 18,
   "id": "93c7fff2",
   "metadata": {},
   "outputs": [
    {
     "data": {
      "image/png": "[encoded data removed]",
      "text/plain": [
       "<Figure size 1152x648 with 1 Axes>"
      ]
     },
     "metadata": {
      "needs_background": "light"
     },
     "output_type": "display_data"
    }
   ],
   "source": [
    "# your code here\n",
    "plt.figure(figsize=(16, 9))\n",
    "sns.scatterplot(x = X_scaled_pca[:,0], y =X_scaled_pca[:,1])\n",
    "plt.title(\"PC1 vs. PC2\")\n",
    "plt.xlabel(\"PC1\")\n",
    "plt.ylabel(\"PC2\")\n",
    "for i, label in enumerate(country):\n",
    "    plt.annotate(label, (X_scaled_pca[:,0][i], X_scaled_pca[:,1][i]))"
   ]
  },
  {
   "cell_type": "markdown",
   "id": "9e13ee15",
   "metadata": {},
   "source": [
    "**INTERPRETATION:**"
   ]
  },
  {
   "cell_type": "markdown",
   "id": "59f1b988",
   "metadata": {},
   "source": [
    "**Most countries on the left are western countries. Most countries in the middle are Asian countries.**\n"
   ]
  },
  {
   "cell_type": "markdown",
   "id": "fe2fb8f8",
   "metadata": {},
   "source": [
    "<div class='exercise-r'>\n",
    "\n",
    "**4.3** In Question 3, where we also used PCA, we had a training and a test set. Here we do not split the data. Explain why.\n",
    "    \n",
    "</div>"
   ]
  },
  {
   "cell_type": "markdown",
   "id": "68c3758e",
   "metadata": {},
   "source": [
    "**INTERPRETATION:**"
   ]
  },
  {
   "cell_type": "markdown",
   "id": "0fbf623e",
   "metadata": {},
   "source": [
    "**In Question 3, we were doing PCA regression. The goal was to fit a better model, so we have to train the model on the training data and validate the model performance on the test data. Here in Q4, we are not going to fit a model, instead, we are going to find the first 2 principle components that can capture most of the variability in the data. By doing this, we are able to find patterns by visualization.**\n"
   ]
  }
 ],
 "metadata": {
  "interpreter": {
   "hash": "aee8b7b246df8f9039afb4144a1f6fd8d2ca17a180786b69acc140d282b71a49"
  },
  "kernelspec": {
   "display_name": "Python 3",
   "language": "python",
   "name": "python3"
  },
  "language_info": {
   "codemirror_mode": {
    "name": "ipython",
    "version": 3
   },
   "file_extension": ".py",
   "mimetype": "text/x-python",
   "name": "python",
   "nbconvert_exporter": "python",
   "pygments_lexer": "ipython3",
   "version": "3.8.8"
  }
 },
 "nbformat": 4,
 "nbformat_minor": 5
}
